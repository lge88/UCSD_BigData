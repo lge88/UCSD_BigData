{
 "metadata": {
  "name": "",
  "signature": "sha256:bc8c11e9b2e96080d5a0f39e085552ac6a2e6b5a7f4312c7cb23fd5cb3f5128b"
 },
 "nbformat": 3,
 "nbformat_minor": 0,
 "worksheets": [
  {
   "cells": [
    {
     "cell_type": "heading",
     "level": 3,
     "metadata": {},
     "source": [
      "Evaluation"
     ]
    },
    {
     "cell_type": "markdown",
     "metadata": {},
     "source": [
      "In this project, we employed PCA and Kolmogorov\u2013Smirnov test to explore global temperature patterns. To evaluate the performance of these two strategies, we made a gold standard of climate patterns, which we believe is consistent with the temperature patterns. \n",
      "\n",
      "<b>Background</b><br></br>\n",
      "Evaluation set\n",
      "Considering a majority of the stations are in US and very limited time, we decided only label stations and nodes in US continent, Alaska and Hawaii, and we focused on the performance of merging nodes of 9 digit node ID (i.e. the bottom level). Following this criterion, we identified 17356 stations in US. \n",
      "\n",
      "Climate patters\n",
      "We adopted this widely used climate zone map from NCDC (http://www.ncdc.noaa.gov/monitoring-references/maps/us-climate-regions.php). In this map the continental US is divided into 9 zones and we added two more Alaska and Hawaii. \n",
      "To label stations with zone names, we at first find the boundary of every state using this site http://econym.org.uk/gmap/states.xml. \n",
      "To simplify the task, we approximate each state with a rectangle of the maximum and minnum values of latitude and longitude of that state; all the stations within this range were labeled with that state. After this there is a manual check step to remove those incorrectly classified stations with help from an interative map http://itouchmap.com/latlong.html. This manual check is still incomplete but a part of stations have been corrected. Checked boundaries are stored at /home/ubuntu/UCSD_BigData/data/weather/boundary.pkl. \n",
      "\n",
      "Comparison of PCA results with gold standard and criteria\n",
      "PCA merges stations/nodes based on miminum description length(MDL). We found 200 merges across all levels and 120 megers at the bottom level. If a pair of merged stations/nodes were from the same climate zone, it is a true positive result; if a pair of merged stations/nodes were from different climate zone, it is a false positive; if two stations/nodes were from the same zone but not merged, it is a false negative result; finally, it two stations/nodes were from different zones and were not merged, it is a true negative result. \n",
      "\n",
      "Kolmogorov\u2013Smirnov test based merge\n",
      "To find temparature trends over the years we calculated the annual average TMAX and TMIN over the world. This results may be helpful for extreme temperature review. Actually we found similar results from http://www.ncdc.noaa.gov/extremes/. "
     ]
    },
    {
     "cell_type": "markdown",
     "metadata": {},
     "source": [
      "<b>Results</b><br></br>\n",
      "PCA result evaluation\n",
      "We started from Professor's prebuilt tree. "
     ]
    },
    {
     "cell_type": "code",
     "collapsed": false,
     "input": [
      "# this part of code get a pandas dataframe of partitioned stations, with node ID\n",
      "import pandas as pd\n",
      "import numpy as np\n",
      "import pickle\n",
      "import re\n",
      "# get all the stations\n",
      "treeDir = \"/home/ubuntu/UCSD_BigData/data/weather/tree.pkl\"\n",
      "tree = pickle.load(file(treeDir)) \n",
      "stns = tree['Partitioned_Stations']  # Partitioned_Stations"
     ],
     "language": "python",
     "metadata": {},
     "outputs": []
    },
    {
     "cell_type": "markdown",
     "metadata": {},
     "source": [
      "Then we mark boundaries of states."
     ]
    },
    {
     "cell_type": "code",
     "collapsed": false,
     "input": [
      "import re\n",
      "import pickle\n",
      "fin = file(\"/home/ubuntu/UCSD_BigData/data/weather/usmapcoord.txt\") # this is the boundary data mentioned in the first section.\n",
      "lines = fin.readlines()\n",
      "states=[]\n",
      "res={}\n",
      "lat=[]\n",
      "lon=[]\n",
      "for ln in lines:\n",
      "    if ln.startswith(\"<state name\"): #begining of a state\n",
      "        stateName = re.findall('name=\"([a-z A-Z]*)\" colour',ln)[0]\n",
      "        res[stateName]=[]\n",
      "    elif ln.startswith('</state>'): # end of a state\n",
      "        res[stateName]=[max(lat),min(lat),max(lon),min(lon)]\n",
      "        lat=[]\n",
      "        lon=[]        \n",
      "    else:\n",
      "        lalo=re.findall('\"([-.\\d]*)\"?',ln)\n",
      "        lalo=[float(x) for x in lalo]\n",
      "        lat.append(lalo[0])\n",
      "        lon.append(lalo[1])\n",
      "\n",
      "print res\n",
      "fout=file(\"/home/ubuntu/UCSD_BigData/data/weather/boundary.pkl\",\"w\") \n",
      "pickle.dump(res,fout)"
     ],
     "language": "python",
     "metadata": {},
     "outputs": [
      {
       "output_type": "stream",
       "stream": "stdout",
       "text": [
        "{'Mississippi': [35.0075, 30.0905, -88.0994, -91.6589], 'Oklahoma': [37.0015, 33.6386, -94.4357, -103.0064], 'Delaware': [39.8296, 38.4482, -74.8526, -75.7919], 'Minnesota': [49.3877, 43.5008, -89.4919, -97.2304], 'Illinois': [42.5116, 36.9894, -87.0213, -91.512], 'Arkansas': [36.4997, 33.0075, -89.6594, -94.6198], 'New Mexico': [36.9982, 31.3337, -103.0023, -109.0489], 'Indiana': [41.7611, 37.7718, -84.809, -88.098], 'Maryland': [39.722, 37.8889, -74.8581, -79.4861], 'Louisiana': [33.0225, 28.8832, -88.7421, -94.043], 'Idaho': [49.0018, 41.9871, -111.0471, -117.2372], 'Wyoming': [44.9998, 40.9986, -104.0556, -111.0539], 'Tennessee': [36.6871, 34.9884, -81.6518, -90.3131], 'Arizona': [37.0004, 31.3325, -109.0475, -114.8126], 'Iowa': [43.5008, 40.3622, -90.1538, -96.6357], 'Michigan': [48.3042, 41.6965, -82.1221, -90.4175], 'Kansas': [40.0087, 36.9927, -94.6046, -102.0506], 'Utah': [41.9993, 36.9982, -109.0462, -114.0504], 'Virginia': [39.4659, 36.5427, -74.9707, -83.6753], 'Oregon': [46.2891, 41.9952, -116.4606, -124.7305], 'Connecticut': [42.0511, 40.9509, -71.7874, -73.7272], 'Montana': [48.9991, 44.3563, -104.0186, -116.0458], 'California': [42.0126, 32.5121, -114.1315, -124.6509], 'Massachusetts': [42.889, 41.159, -69.7398, -73.5081], 'West Virginia': [40.6338, 37.1953, -77.731, -82.6392], 'South Carolina': [35.2075, 32.0453, -78.4836, -83.3588], 'New Hampshire': [45.3058, 42.6986, -70.5583, -72.5592], 'Wisconsin': [47.31, 42.4954, -86.2523, -92.8564], 'Vermont': [45.0153, 42.7289, -71.4949, -73.4381], 'Georgia': [34.9996, 30.3575, -80.696, -85.6082], 'North Dakota': [48.9982, 45.934, -96.5671, -104.0501], 'Pennsylvania': [42.5167, 39.7199, -74.707, -80.5243], 'Florida': [31.0035, 24.3959, -79.8198, -87.6256], 'Alaska': [71.5232, 52.5964, -129.993, -169.9146], 'Kentucky': [39.1439, 36.4931, -82.0308, -89.5372], 'Hawaii': [22.3386, 18.71, -154.6271, -160.3922], 'Nebraska': [43.0006, 39.9992, -95.3091, -104.0543], 'Missouri': [40.6181, 35.9958, -89.1005, -95.7527], 'Ohio': [42.321, 38.3761, -80.5188, -84.8172], 'Alabama': [35.0041, 30.1463, -84.8927, -88.4743], 'Rhode Island': [42.0156, 41.1849, -71.0541, -71.9041], 'South Dakota': [45.9435, 42.4772, -96.438, -104.0529], 'Colorado': [41.0006, 36.9949, -102.0424, -109.0489], 'New Jersey': [41.3593, 38.8472, -73.8885, -75.5708], 'Washington': [49.0027, 45.5439, -116.9165, -124.8679], 'North Carolina': [36.588, 33.7666, -75.4129, -84.3201], 'New York': [45.0153, 40.4772, -71.7517, -79.7624], 'Texas': [36.5008, 25.8419, -93.5074, -106.6168], 'Nevada': [42.0003, 35.003, -114.0436, -120.0037], 'Maine': [47.455, 42.9182, -66.8628, -71.0829]}\n"
       ]
      }
     ],
     "prompt_number": 2
    },
    {
     "cell_type": "markdown",
     "metadata": {},
     "source": [
      "Followed by manual correction. "
     ]
    },
    {
     "cell_type": "code",
     "collapsed": false,
     "input": [
      "Background: # stations, # nodes, regions, there are 17356 stations in US, \n",
      "created a labeled set of stations and nodes. Due to limited time, only stations and nodes of 9 digits in US continent, Alaska and Hawaii were labeled. Accordingly, we extracted pairs from all merged nodes that are from US to estimate the performance of this merging. \n",
      "MDL generates 200 merge nodes,\n",
      "Distribution comparison using Kolmogorov\u2013Smirnov test generates 20 merged nodes for TMAX and 6 merged nodes for TMIN.\n",
      "TP/FP/TN/FN, sensitivity and specificity\n",
      "\n",
      "In every region, each pair of stations are supposed to be merged. \n",
      "\n",
      "Among the 120 valid pairs, 92 merges are considered correct based on our gold standard; 28 are incorrect. "
     ],
     "language": "python",
     "metadata": {},
     "outputs": []
    }
   ],
   "metadata": {}
  }
 ]
}