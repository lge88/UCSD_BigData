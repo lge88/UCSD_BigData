{
 "metadata": {
  "name": "",
  "signature": "sha256:756e3c53419bee0ebd889e6cff1082f7c654dda086d23f09ff62a3d476fd8522"
 },
 "nbformat": 3,
 "nbformat_minor": 0,
 "worksheets": [
  {
   "cells": [
    {
     "cell_type": "markdown",
     "metadata": {},
     "source": [
      "This notebook analyzes the variances of features, and the correlation between each pair of features.\n",
      "\n",
      "Specific aims:\n",
      "Study the global weather trends in the past 100 years. If data available, we can extend this time span. \n",
      "1. Is the earth becoming warmer? We will analyze the trends of temperature across the world.\n",
      "2. Is extreme weather more frequent than before? We will analyze the trends of maximum and minimum values of availble attributes. \n",
      "3. Are weather trends predictable? We will experiment on a few models and examine their performance with ROC and AUROC.\n",
      "\n"
     ]
    },
    {
     "cell_type": "markdown",
     "metadata": {},
     "source": [
      "Use MRJob to sort all values"
     ]
    },
    {
     "cell_type": "code",
     "collapsed": false,
     "input": [
      "import pandas as pd\n",
      "import numpy as np\n",
      "import sklearn as sk\n",
      "import sys\n",
      "import pickle\n",
      "home_dir='/home/ubuntu/UCSD_BigData'\n",
      "dat_dir='/home/ubuntu/UCSD_BigData/data/weather'\n",
      "sys.path.append(home_dir+'/utils')\n",
      "from find_waiting_flow import *\n",
      "from AWS_keypair_management import *\n",
      "import re\n",
      "import os\n",
      "import random"
     ],
     "language": "python",
     "metadata": {},
     "outputs": [],
     "prompt_number": 1
    },
    {
     "cell_type": "code",
     "collapsed": false,
     "input": [
      "## AWS credentials\n",
      "Creds= pickle.load(open('/home/ubuntu/Vault/Creds.pkl','rb'))\n",
      "pair=Creds['mrjob']\n",
      "key_id=pair['key_id']\n",
      "secret_key=pair['secret_key']\n",
      "ID=pair['ID']\n",
      "job_flow_id=find_waiting_flow(key_id,secret_key)"
     ],
     "language": "python",
     "metadata": {},
     "outputs": [
      {
       "output_type": "stream",
       "stream": "stdout",
       "text": [
        "<boto.emr.emrobject.JobFlow object at 0x49b38d0> no_script.yoavfreund.20140611.181713.270989 j-3QZOHADZF9KY1 WAITING\n",
        "<boto.emr.emrobject.JobFlow object at 0x4b71e50> no_script.yoavfreund.20140611.181730.511103 j-2S5LTMBIWD2WB WAITING\n",
        "<boto.emr.emrobject.JobFlow object at 0x4dd5790> no_script.yoavfreund.20140611.181738.864430 j-3TFYHEIHI9VOY WAITING\n",
        "<boto.emr.emrobject.JobFlow object at 0x502bd10> no_script.yoavfreund.20140613.042333.580519 j-27Y940LIXXNSZ WAITING\n",
        "<boto.emr.emrobject.JobFlow object at 0x5039750> no_script.yoavfreund.20140613.042344.097071 j-3LP88IFUHBOHO WAITING\n",
        "<boto.emr.emrobject.JobFlow object at 0x50efa50> no_script.yoavfreund.20140613.042403.179810 j-2DMPRXAW49U58 WAITING\n",
        "<boto.emr.emrobject.JobFlow object at 0x51ab850> no_script.yoavfreund.20140613.154912.285351 j-1CV4WDLQKK3B6 WAITING\n",
        "<boto.emr.emrobject.JobFlow object at 0x51b3110> no_script.yoavfreund.20140613.154922.328252 j-1XMJYZ35TFPY8 WAITING\n"
       ]
      }
     ],
     "prompt_number": 2
    },
    {
     "cell_type": "code",
     "collapsed": false,
     "input": [
      "#List all features\n",
      "#list available datasets\n",
      "from boto.s3.connection import S3Connection,OrdinaryCallingFormat\n",
      "from boto.s3.key import Key\n",
      "conn = S3Connection(key_id, secret_key,calling_format = OrdinaryCallingFormat())\n",
      "# dat = conn.get_bucket(\"lge-bucket\")\n",
      "dat = conn.get_bucket('weather.raw_data')\n",
      "# # download a S3 file to local disk\n",
      "key = dat.get_key('ALL.csv_128')\n",
      "key.get_contents_to_filename('/home/ubuntu/UCSD_BigData/data/weather/ALL.csv_128')"
     ],
     "language": "python",
     "metadata": {},
     "outputs": [],
     "prompt_number": 3
    },
    {
     "cell_type": "markdown",
     "metadata": {},
     "source": [
      "Link to <a id='#featureStat.py'>featureStat.py</a><br></br>\n",
      "Run <a id='#run_featureStat.py'>featureStat.py</a>"
     ]
    },
    {
     "cell_type": "code",
     "collapsed": false,
     "input": [
      "%%writefile featureStat.py\n",
      "#!/usr/bin/python\n",
      "# get a list of available features from readme\n",
      "# take ALL.csv as an example, or any other sample sets.\n",
      "# Format:  ASN00054128,DAPR,1969,[365 records]\n",
      "# 5 core features: PRCP,SNOW,SNWD, TMAX, TMIN. Evaluate the variance of every feature, and correlation between each pair. \n",
      "# Variance of a feature(e.g. TMAX): Filter out years with very few records. Sum over all records and get the variance. \n",
      "# Assume stations are independent from each other?, Var(sigma(S_i)) = sigma(VAR(S_i))\n",
      "# http://stats.stackexchange.com/questions/31177/does-the-variance-of-a-sum-equal-the-sum-of-the-variances\n",
      "\n",
      "import sys\n",
      "sys.path.append('/usr/lib/python2.6/dist-packages')\n",
      "from mrjob.job import MRJob\n",
      "from sys import stderr\n",
      "import re,pickle,base64,zlib\n",
      "import numpy as np\n",
      "\n",
      "def decode(eVal):\n",
      "    \"\"\" Decode a string into a value \"\"\"\n",
      "    return pickle.loads(zlib.decompress(base64.b64decode(eVal)))\n",
      "\n",
      "def encode(Value):\n",
      "    \"\"\" Encode a value as a string \"\"\"\n",
      "    return base64.b64encode(zlib.compress(pickle.dumps(Value),9))\n",
      "\n",
      "def NN(vec):\n",
      "    \"\"\"nearest neighbor method to substitute missing values in record the nearest left neighbor\"\"\"\n",
      "    # if there is None\n",
      "    if not None in vec: # None is the only representation of missing value\n",
      "        return vec\n",
      "    else:\n",
      "        for i in xrange(len(vec)):\n",
      "            if vec[i]==None:\n",
      "                if i>0: # if vec[i] is not the first item, make it equal to its left neighbor\n",
      "                    vec[i]=vec[i-1]\n",
      "                else:  # if vec[i] is the first item, make it equal to the first valid value in this list\n",
      "                    vec[i]=filter(None,vec)[0]\n",
      "        return vec\n",
      "\n",
      "def str2flt(vec):\n",
      "    \"\"\"convert string elements to float; missing values are replaced with None\"\"\"\n",
      "    newvec=[]\n",
      "    for v in vec:\n",
      "        try:\n",
      "            newv=float(v)\n",
      "        except:\n",
      "            newv=None\n",
      "        finally:\n",
      "            newvec.append(newv)\n",
      "    return newvec\n",
      "\n",
      "\n",
      "class featureStat(MRJob):\n",
      "    \"\"\"\n",
      "    This class calculate the variance of TMAX across all stations all years\n",
      "    \"\"\"\n",
      "    def var_mapper(self,_,line):\n",
      "        try:\n",
      "            rec = line.split(\",\")\n",
      "            stn,meas,year = rec[:3]\n",
      "            if len(filter(None,rec[3:]))>300: # measurements > 300 days of the year\n",
      "#                 stderr.write(meas+\"\\t\"+str(rec[3:6])+\"\\n\")\n",
      "                yield meas,encode([stn,rec[3:]]) #stn+\":\"+\n",
      "        except Exception, e:\n",
      "            stderr.write('Error in line:\\n'+str(line[:5]))\n",
      "            stderr.write(str(e))\n",
      "            \n",
      "    def var_reducer(self,key,value):\n",
      "        try:\n",
      "            recs = list(value)\n",
      "            recs = [decode(r) for r in recs]\n",
      "            \n",
      "            dat = [rec[1] for rec in recs] #  if rec is not empty\n",
      "            dat = [NN(str2flt(d)) for d in dat]\n",
      "\n",
      "            mean = np.mean(dat) # mean of all values in list\n",
      "            var = np.var(dat) # var of all values in list\n",
      "            std = np.std(dat)\n",
      "            stderr.write(key+\"\\t\"+str(mean)+\"\\t\"+str(var)+\"\\t\"+str(std)+\"\\n\")\n",
      "            yield key,str(mean)+\" \"+str(var)+\" \"+str(std)\n",
      "        except Exception as e:\n",
      "            stderr.write('Error:')\n",
      "            stderr.write(str(e)+\"\\t\")\n",
      "            \n",
      "    def steps(self):\n",
      "        return [\n",
      "            self.mr(mapper=self.var_mapper,\n",
      "                    reducer=self.var_reducer)\n",
      "        ]\n",
      "\n",
      "if __name__ == '__main__':\n",
      "    featureStat.run()"
     ],
     "language": "python",
     "metadata": {},
     "outputs": [
      {
       "output_type": "stream",
       "stream": "stdout",
       "text": [
        "Overwriting featureStat.py\n"
       ]
      }
     ],
     "prompt_number": 4
    },
    {
     "cell_type": "code",
     "collapsed": false,
     "input": [
      "#run_featureStat.py\n",
      "# !python featureStat.py -r local /home/ubuntu/UCSD_BigData/data/weather/ALL.head.csv > featureStat.out\n",
      "!python featureStat.py -r emr --emr-job-flow-id  $job_flow_id /home/ubuntu/UCSD_BigData/data/weather/ALL.csv_128 > featureStat_128.csv"
     ],
     "language": "python",
     "metadata": {},
     "outputs": [
      {
       "output_type": "stream",
       "stream": "stdout",
       "text": [
        "using configs in /home/ubuntu/.mrjob.conf\r\n"
       ]
      },
      {
       "output_type": "stream",
       "stream": "stdout",
       "text": [
        "creating tmp directory /tmp/featureStat.ubuntu.20140610.200555.333450\r\n"
       ]
      },
      {
       "output_type": "stream",
       "stream": "stdout",
       "text": [
        "Copying non-input files into s3://weiwei.bucket/scratch/featureStat.ubuntu.20140610.200555.333450/files/\r\n"
       ]
      },
      {
       "output_type": "stream",
       "stream": "stdout",
       "text": [
        "Adding our job to existing job flow j-31PKW9W4C2YQK\r\n"
       ]
      },
      {
       "output_type": "stream",
       "stream": "stdout",
       "text": [
        "Job launched 30.3s ago, status RUNNING: Running step (featureStat.ubuntu.20140610.200555.333450: Step 1 of 1)\r\n"
       ]
      },
      {
       "output_type": "stream",
       "stream": "stdout",
       "text": [
        "Job launched 60.6s ago, status RUNNING: Running step (featureStat.ubuntu.20140610.200555.333450: Step 1 of 1)\r\n"
       ]
      },
      {
       "output_type": "stream",
       "stream": "stdout",
       "text": [
        "Job launched 91.0s ago, status RUNNING: Running step (featureStat.ubuntu.20140610.200555.333450: Step 1 of 1)\r\n"
       ]
      },
      {
       "output_type": "stream",
       "stream": "stdout",
       "text": [
        "Job launched 121.2s ago, status RUNNING: Running step (featureStat.ubuntu.20140610.200555.333450: Step 1 of 1)\r\n"
       ]
      },
      {
       "output_type": "stream",
       "stream": "stdout",
       "text": [
        "Job completed.\r\n",
        "Running time was 91.0s (not counting time spent waiting for the EC2 instances)\r\n",
        "ec2_key_pair_file not specified, going to S3\r\n",
        "Fetching counters from S3...\r\n",
        "Waiting 5.0s for S3 eventual consistency\r\n"
       ]
      },
      {
       "output_type": "stream",
       "stream": "stdout",
       "text": [
        "Counters from step 1:\r\n",
        "  File Input Format Counters :\r\n",
        "    Bytes Read: 61259997\r\n",
        "  File Output Format Counters :\r\n",
        "    Bytes Written: 2263\r\n",
        "  FileSystemCounters:\r\n",
        "    FILE_BYTES_READ: 41535019\r\n",
        "    FILE_BYTES_WRITTEN: 84948805\r\n",
        "    HDFS_BYTES_READ: 8340\r\n",
        "    S3_BYTES_READ: 61259997\r\n",
        "    S3_BYTES_WRITTEN: 2263\r\n",
        "  Job Counters :\r\n",
        "    Launched map tasks: 60\r\n",
        "    Launched reduce tasks: 9\r\n",
        "    Rack-local map tasks: 60\r\n",
        "    SLOTS_MILLIS_MAPS: 610498\r\n",
        "    SLOTS_MILLIS_REDUCES: 198680\r\n",
        "    Total time spent by all maps waiting after reserving slots (ms): 0\r\n",
        "    Total time spent by all reduces waiting after reserving slots (ms): 0\r\n",
        "  Map-Reduce Framework:\r\n",
        "    CPU time spent (ms): 133330\r\n",
        "    Combine input records: 0\r\n",
        "    Combine output records: 0\r\n",
        "    Map input bytes: 60718555\r\n",
        "    Map input records: 73112\r\n",
        "    Map output bytes: 41944495\r\n",
        "    Map output materialized bytes: 41542758\r\n",
        "    Map output records: 43943\r\n",
        "    Physical memory (bytes) snapshot: 27075719168\r\n",
        "    Reduce input groups: 48\r\n",
        "    Reduce input records: 43943\r\n",
        "    Reduce output records: 45\r\n",
        "    Reduce shuffle bytes: 41542758\r\n",
        "    SPLIT_RAW_BYTES: 8340\r\n",
        "    Spilled Records: 87886\r\n",
        "    Total committed heap usage (bytes): 27323793408\r\n",
        "    Virtual memory (bytes) snapshot: 127521787904\r\n",
        "Streaming final output from s3://weiwei.bucket/scratch/featureStat.ubuntu.20140610.200555.333450/output/\r\n"
       ]
      },
      {
       "output_type": "stream",
       "stream": "stdout",
       "text": [
        "removing tmp directory /tmp/featureStat.ubuntu.20140610.200555.333450\r\n",
        "Removing all files in s3://weiwei.bucket/scratch/featureStat.ubuntu.20140610.200555.333450/\r\n"
       ]
      }
     ],
     "prompt_number": 38
    },
    {
     "cell_type": "code",
     "collapsed": false,
     "input": [
      "!cat featureStat_128.csv"
     ],
     "language": "python",
     "metadata": {},
     "outputs": [
      {
       "output_type": "stream",
       "stream": "stdout",
       "text": [
        "\"SN31\"\t\"106.542465753 3502.03632451 59.1780054118\"\r\n",
        "\"SN53\"\t\"174.860469667 6478.46409293 80.4889066451\"\r\n",
        "\"WDF2\"\t\"183.240821918 10267.4011829 101.32818553\"\r\n",
        "\"WESF\"\t\"1.89931506849 133.28780775 11.5450338999\"\r\n",
        "\"EVAP\"\t\"81.698630137 2127.12013511 46.1207126475\"\r\n",
        "\"FMTM\"\t\"1384.2527332 414338.235461 643.691102518\"\r\n",
        "\"PGTM\"\t\"1322.1043379 373536.172713 611.176057052\"\r\n",
        "\"SN52\"\t\"143.179854956 7761.29400191 88.098206576\"\r\n",
        "\"SX03\"\t\"141.597576396 5833.77577916 76.3791580155\"\r\n",
        "\"SX36\"\t\"148.630136986 2047.58648902 45.2502650713\"\r\n",
        "\"TMAX\"\t\"169.960890421 17410.3328836 131.948220464\"\r\n",
        "\"TSUN\"\t\"421.285597927 75292.7538281 274.395251103\"\r\n",
        "\"WDF1\"\t\"176.751527924 10685.1060172 103.368786474\"\r\n",
        "\"WSF2\"\t\"83.5275890411 1004.8877046 31.6999637949\"\r\n",
        "\"ACSH\"\t\"56.7667674791 1069.65650812 32.7056036196\"\r\n",
        "\"SX02\"\t\"166.822655427 7978.49046671 89.3223962213\"\r\n",
        "\"SX35\"\t\"147.517808219 1789.16475136 42.2985194937\"\r\n",
        "\"WESD\"\t\"1223.91358503 6336621.18358 2517.26462327\"\r\n",
        "\"WSF1\"\t\"69.3948998946 489.664875991 22.1283726467\"\r\n",
        "\"SN03\"\t\"120.858482613 4294.49346071 65.5323848239\"\r\n",
        "\"SX01\"\t\"195.67597471 10995.9077579 104.861374003\"\r\n",
        "\"SX12\"\t\"131.132681018 8511.57835139 92.2582156309\"\r\n",
        "\"TMIN\"\t\"48.0410971416 14602.4974041 120.840793626\"\r\n",
        "\"WDFG\"\t\"182.784991066 11174.4630028 105.709332619\"\r\n",
        "\"WDMV\"\t\"169.07815429 80137.26599 283.085262757\"\r\n",
        "\"ACMH\"\t\"52.6731898239 912.274088188 30.2038753836\"\r\n",
        "\"SN02\"\t\"115.410221286 4018.90874695 63.3948637269\"\r\n",
        "\"SX33\"\t\"169.302497985 6495.60051753 80.5952884326\"\r\n",
        "\"WSFG\"\t\"99.4131427437 1118.56431407 33.4449445218\"\r\n",
        "\"year\"\t\"183.0 11102.0 105.366028681\"\r\n",
        "\"AWND\"\t\"38.97967838 300.065078396 17.3223866253\"\r\n",
        "\"PSUN\"\t\"68.0794520548 906.63262032 30.110340754\"\r\n",
        "\"SN01\"\t\"105.430031612 3624.92371349 60.2073393656\"\r\n",
        "\"SN12\"\t\"109.092367906 6767.32610613 82.2637593727\"\r\n",
        "\"SX32\"\t\"162.067837999 10569.130538 102.806276744\"\r\n",
        "\"TOBS\"\t\"117.693646736 14170.6100378 119.040371462\"\r\n",
        "\"WDF5\"\t\"182.871780822 10432.1528749 102.137911056\"\r\n",
        "\"WDFM\"\t\"159.601141553 11051.5895421 105.126540617\"\r\n",
        "\"SN33\"\t\"154.339887188 6065.92170474 77.8840272761\"\r\n",
        "\"SX31\"\t\"197.449315068 10594.8319059 102.931199866\"\r\n",
        "\"SX53\"\t\"190.668493151 6559.4830582 80.9906356204\"\r\n",
        "\"WSF5\"\t\"108.371452055 3317.85380419 57.6008142668\"\r\n",
        "\"WSFM\"\t\"80.0579908676 707.356454411 26.5961736799\"\r\n",
        "\"SN32\"\t\"117.343001787 7507.35304662 86.6449828127\"\r\n",
        "\"SX52\"\t\"176.034971797 8477.86485272 92.075321627\"\r\n"
       ]
      }
     ],
     "prompt_number": 39
    },
    {
     "cell_type": "code",
     "collapsed": false,
     "input": [
      "def NN(vec):\n",
      "    \"\"\"nearest neighbor method to substitute missing values in record the nearest left neighbor\"\"\"\n",
      "    # if there is None\n",
      "    if not None in vec: # None is the only representation of missing value\n",
      "        return vec\n",
      "    else:\n",
      "        for i in xrange(len(vec)):\n",
      "            if vec[i]==None:\n",
      "                if i>0: # if vec[i] is not the first item, make it equal to its left neighbor\n",
      "                    vec[i]=vec[i-1]\n",
      "                else:  # if vec[i] is the first item, make it equal to the first valid value in this list\n",
      "                    vec[i]=filter(None,vec)[0]\n",
      "        return vec\n",
      "\n",
      "def str2flt(vec):\n",
      "    \"\"\"convert string elements to float; missing values are replaced with None\"\"\"\n",
      "    newvec=[]\n",
      "    for v in vec:\n",
      "        try:\n",
      "            newv=float(v)\n",
      "        except:\n",
      "            newv=None\n",
      "        finally:\n",
      "            newvec.append(newv)\n",
      "    return newvec\n",
      "\n",
      "def decode(eVal):\n",
      "    \"\"\" Decode a string into a value \"\"\"\n",
      "    return pickle.loads(zlib.decompress(base64.b64decode(eVal)))\n",
      "\n",
      "def encode(Value):\n",
      "    \"\"\" Encode a value as a string \"\"\"\n",
      "    return base64.b64encode(zlib.compress(pickle.dumps(Value),9))"
     ],
     "language": "python",
     "metadata": {},
     "outputs": [],
     "prompt_number": 48
    },
    {
     "cell_type": "code",
     "collapsed": false,
     "input": [
      "%%writefile mergeStn.py\n",
      "#!/usr/bin/python\n",
      "# sort by station\n",
      "# aggregate by year\n",
      "# get mean and variance of every station\n",
      "# assume gaussian distribution, compare if two distributions are similar, k-s test\n",
      "# if two stations are similar, merge the data for PCA\n",
      "\n",
      "import sys\n",
      "sys.path.append('/usr/lib/python2.6/dist-packages')\n",
      "from mrjob.job import MRJob\n",
      "import mrjob\n",
      "from sys import stderr\n",
      "import re,pickle,base64,zlib\n",
      "import numpy as np\n",
      "from scipy import stats\n",
      "\n",
      "def NN(vec):\n",
      "    \"\"\"nearest neighbor method to substitute missing values in record the nearest left neighbor\"\"\"\n",
      "    # if there is None\n",
      "    if not None in vec: # None is the only representation of missing value\n",
      "        return vec\n",
      "    else:\n",
      "        for i in xrange(len(vec)):\n",
      "            if vec[i]==None:\n",
      "                if i>0: # if vec[i] is not the first item, make it equal to its left neighbor\n",
      "                    vec[i]=vec[i-1]\n",
      "                else:  # if vec[i] is the first item, make it equal to the first valid value in this list\n",
      "                    vec[i]=filter(None,vec)[0]\n",
      "        return vec\n",
      "\n",
      "def str2flt(vec):\n",
      "    \"\"\"convert string elements to float; missing values are replaced with None\"\"\"\n",
      "    newvec=[]\n",
      "    for v in vec:\n",
      "        try:\n",
      "            newv=float(v)\n",
      "        except:\n",
      "            newv=None\n",
      "        finally:\n",
      "            newvec.append(newv)\n",
      "    return newvec\n",
      "\n",
      "\n",
      "class BasicProtocolJob(MRJob):\n",
      "\n",
      "    # get input as raw strings\n",
      "    INPUT_PROTOCOL = mrjob.protocol.RawValueProtocol\n",
      "    # pass data internally with pickle\n",
      "    INTERNAL_PROTOCOL = mrjob.protocol.PickleProtocol\n",
      "    # write output as JSON\n",
      "    OUTPUT_PROTOCOL = mrjob.protocol.JSONProtocol\n",
      "\n",
      "class mergeStn(MRJob):\n",
      "    def sortbymeas_mapper(self,_,line):\n",
      "        try:\n",
      "            rec = line.split(\",\")\n",
      "            stn,meas,year = rec[:3]\n",
      "            if len(filter(None,rec[3:]))>300: # measurements > 300 days of the year\n",
      "#                 stderr.write(\"sortbymeas_mapper:\\t\"+meas+\"\\t\"+str(len(NN(str2flt(rec[3:]))))+\"\\n\")\n",
      "                yield meas,(stn,np.mean(str2flt(filter(None,rec[3:])))) #stn+\":\"+ # redo this mean\n",
      "        except Exception, e:\n",
      "            stderr.write('Error in line:\\n'+str(line[:5]))\n",
      "            stderr.write(str(e))\n",
      "    \n",
      "    def KStest_reducer(self, key, value):\n",
      "        try:\n",
      "            meas = key\n",
      "            rec = list(value)\n",
      "            stns = list(set([r[0] for r in rec]))\n",
      "            stnDict = {}\n",
      "            for r in rec:\n",
      "                if r[0] not in stnDict.keys():\n",
      "                    stnDict[r[0]]=[r[1]]\n",
      "                else:\n",
      "                    stnDict[r[0]].append(r[1])\n",
      "            for stn1 in stnDict.keys():\n",
      "                for stn2 in stnDict.keys():\n",
      "                    if stn2!=stn1:\n",
      "                        kst,p = stats.ks_2samp(stnDict[stn1],stnDict[stn2]) # Kolmogorov-Smirnov test, returns KS statistic and p-value\n",
      "                        if p>0.05: # if p>0.05, accept null hypothesis that two distributions are the same\n",
      "                            yield (meas,stn1,stn2),([kst,p],stnDict[stn1],stnDict[stn2])\n",
      "        except Exception as e:\n",
      "            stderr.write('Error:')\n",
      "            stderr.write(str(e)+\"\\t\")            \n",
      "    \n",
      "\n",
      "    def steps(self):\n",
      "        return [\n",
      "            self.mr(mapper=self.sortbymeas_mapper,\n",
      "                    reducer=self.KStest_reducer),\n",
      "#             self.mr(reducer=self.aggregateStn_reducer),\n",
      "#                     reducer=self.ksTest_reducer),\n",
      "#             self.mr(mapper=self.ksTest_mapper)\n",
      "        ]\n",
      "\n",
      "if __name__ == '__main__':\n",
      "    mergeStn.run()"
     ],
     "language": "python",
     "metadata": {},
     "outputs": [
      {
       "output_type": "stream",
       "stream": "stdout",
       "text": [
        "Overwriting mergeStn.py\n"
       ]
      }
     ],
     "prompt_number": 71
    },
    {
     "cell_type": "code",
     "collapsed": false,
     "input": [
      "#run_featureStat.py\n",
      "# !python mergeStn.py -r local /home/ubuntu/UCSD_BigData/data/weather/ALL.head.csv > mergeStn.out\n",
      "!python mergeStn.py -r emr --emr-job-flow-id  j-3QZOHADZF9KY1  hdfs:/weather.raw_data/ALL.csv --output-dir=s3://weiwei.bucket/data/mergeStnKStest_all/ --no-output  \n",
      "# s3://lge-bucket/weather-data/weather-1-of-1000-test.csv/    "
     ],
     "language": "python",
     "metadata": {},
     "outputs": [
      {
       "output_type": "stream",
       "stream": "stdout",
       "text": [
        "using configs in /home/ubuntu/.mrjob.conf\r\n"
       ]
      },
      {
       "output_type": "stream",
       "stream": "stdout",
       "text": [
        "creating tmp directory /tmp/mergeStn.ubuntu.20140611.230448.458988\r\n"
       ]
      },
      {
       "output_type": "stream",
       "stream": "stdout",
       "text": [
        "Copying non-input files into s3://weiwei.bucket/scratch/mergeStn.ubuntu.20140611.230448.458988/files/\r\n"
       ]
      },
      {
       "output_type": "stream",
       "stream": "stdout",
       "text": [
        "Adding our job to existing job flow j-3QZOHADZF9KY1\r\n"
       ]
      },
      {
       "output_type": "stream",
       "stream": "stdout",
       "text": [
        "Job launched 30.2s ago, status RUNNING: Running step (mergeStn.ubuntu.20140611.230448.458988: Step 1 of 1)\r\n"
       ]
      },
      {
       "output_type": "stream",
       "stream": "stdout",
       "text": [
        "Job launched 60.4s ago, status RUNNING: Running step (mergeStn.ubuntu.20140611.230448.458988: Step 1 of 1)\r\n"
       ]
      },
      {
       "output_type": "stream",
       "stream": "stdout",
       "text": [
        "Job launched 90.6s ago, status RUNNING: Running step (mergeStn.ubuntu.20140611.230448.458988: Step 1 of 1)\r\n"
       ]
      },
      {
       "output_type": "stream",
       "stream": "stdout",
       "text": [
        "Job launched 120.8s ago, status RUNNING: Running step (mergeStn.ubuntu.20140611.230448.458988: Step 1 of 1)\r\n"
       ]
      },
      {
       "output_type": "stream",
       "stream": "stdout",
       "text": [
        "Job launched 151.0s ago, status RUNNING: Running step (mergeStn.ubuntu.20140611.230448.458988: Step 1 of 1)\r\n"
       ]
      },
      {
       "output_type": "stream",
       "stream": "stdout",
       "text": [
        "Job launched 181.2s ago, status RUNNING: Running step (mergeStn.ubuntu.20140611.230448.458988: Step 1 of 1)\r\n"
       ]
      },
      {
       "output_type": "stream",
       "stream": "stdout",
       "text": [
        "Job launched 211.4s ago, status RUNNING: Running step (mergeStn.ubuntu.20140611.230448.458988: Step 1 of 1)\r\n"
       ]
      },
      {
       "output_type": "stream",
       "stream": "stdout",
       "text": [
        "Job launched 241.6s ago, status RUNNING: Running step (mergeStn.ubuntu.20140611.230448.458988: Step 1 of 1)\r\n"
       ]
      },
      {
       "output_type": "stream",
       "stream": "stdout",
       "text": [
        "Job launched 271.9s ago, status RUNNING: Running step (mergeStn.ubuntu.20140611.230448.458988: Step 1 of 1)\r\n"
       ]
      },
      {
       "output_type": "stream",
       "stream": "stdout",
       "text": [
        "Job launched 302.1s ago, status RUNNING: Running step (mergeStn.ubuntu.20140611.230448.458988: Step 1 of 1)\r\n"
       ]
      },
      {
       "output_type": "stream",
       "stream": "stdout",
       "text": [
        "Job launched 332.3s ago, status RUNNING: Running step (mergeStn.ubuntu.20140611.230448.458988: Step 1 of 1)\r\n"
       ]
      },
      {
       "output_type": "stream",
       "stream": "stdout",
       "text": [
        "Job launched 362.5s ago, status RUNNING: Running step (mergeStn.ubuntu.20140611.230448.458988: Step 1 of 1)\r\n"
       ]
      },
      {
       "output_type": "stream",
       "stream": "stdout",
       "text": [
        "Job launched 392.7s ago, status RUNNING: Running step (mergeStn.ubuntu.20140611.230448.458988: Step 1 of 1)\r\n"
       ]
      },
      {
       "output_type": "stream",
       "stream": "stdout",
       "text": [
        "Job launched 422.9s ago, status RUNNING: Running step (mergeStn.ubuntu.20140611.230448.458988: Step 1 of 1)\r\n"
       ]
      },
      {
       "output_type": "stream",
       "stream": "stdout",
       "text": [
        "Job launched 453.1s ago, status RUNNING: Running step (mergeStn.ubuntu.20140611.230448.458988: Step 1 of 1)\r\n"
       ]
      },
      {
       "output_type": "stream",
       "stream": "stdout",
       "text": [
        "Job launched 483.3s ago, status RUNNING: Running step (mergeStn.ubuntu.20140611.230448.458988: Step 1 of 1)\r\n"
       ]
      },
      {
       "output_type": "stream",
       "stream": "stdout",
       "text": [
        "Job launched 513.6s ago, status RUNNING: Running step (mergeStn.ubuntu.20140611.230448.458988: Step 1 of 1)\r\n"
       ]
      },
      {
       "output_type": "stream",
       "stream": "stdout",
       "text": [
        "Job launched 543.8s ago, status RUNNING: Running step (mergeStn.ubuntu.20140611.230448.458988: Step 1 of 1)\r\n"
       ]
      },
      {
       "output_type": "stream",
       "stream": "stdout",
       "text": [
        "Job launched 574.0s ago, status RUNNING: Running step (mergeStn.ubuntu.20140611.230448.458988: Step 1 of 1)\r\n"
       ]
      },
      {
       "output_type": "stream",
       "stream": "stdout",
       "text": [
        "Job launched 604.2s ago, status RUNNING: Running step (mergeStn.ubuntu.20140611.230448.458988: Step 1 of 1)\r\n"
       ]
      },
      {
       "output_type": "stream",
       "stream": "stdout",
       "text": [
        "Job launched 634.5s ago, status RUNNING: Running step (mergeStn.ubuntu.20140611.230448.458988: Step 1 of 1)\r\n"
       ]
      },
      {
       "output_type": "stream",
       "stream": "stdout",
       "text": [
        "Job launched 664.7s ago, status RUNNING: Running step (mergeStn.ubuntu.20140611.230448.458988: Step 1 of 1)\r\n"
       ]
      },
      {
       "output_type": "stream",
       "stream": "stdout",
       "text": [
        "Job launched 694.9s ago, status RUNNING: Running step (mergeStn.ubuntu.20140611.230448.458988: Step 1 of 1)\r\n"
       ]
      },
      {
       "output_type": "stream",
       "stream": "stdout",
       "text": [
        "Job launched 725.2s ago, status RUNNING: Running step (mergeStn.ubuntu.20140611.230448.458988: Step 1 of 1)\r\n"
       ]
      },
      {
       "output_type": "stream",
       "stream": "stdout",
       "text": [
        "Job launched 755.4s ago, status RUNNING: Running step (mergeStn.ubuntu.20140611.230448.458988: Step 1 of 1)\r\n"
       ]
      },
      {
       "output_type": "stream",
       "stream": "stdout",
       "text": [
        "Job launched 785.6s ago, status RUNNING: Running step (mergeStn.ubuntu.20140611.230448.458988: Step 1 of 1)\r\n"
       ]
      },
      {
       "output_type": "stream",
       "stream": "stdout",
       "text": [
        "Job launched 815.8s ago, status RUNNING: Running step (mergeStn.ubuntu.20140611.230448.458988: Step 1 of 1)\r\n"
       ]
      },
      {
       "output_type": "stream",
       "stream": "stdout",
       "text": [
        "Job launched 846.0s ago, status RUNNING: Running step (mergeStn.ubuntu.20140611.230448.458988: Step 1 of 1)\r\n"
       ]
      },
      {
       "output_type": "stream",
       "stream": "stdout",
       "text": [
        "Job launched 876.2s ago, status RUNNING: Running step (mergeStn.ubuntu.20140611.230448.458988: Step 1 of 1)\r\n"
       ]
      },
      {
       "output_type": "stream",
       "stream": "stdout",
       "text": [
        "Job launched 906.4s ago, status RUNNING: Running step (mergeStn.ubuntu.20140611.230448.458988: Step 1 of 1)\r\n"
       ]
      },
      {
       "output_type": "stream",
       "stream": "stdout",
       "text": [
        "Job launched 936.6s ago, status RUNNING: Running step (mergeStn.ubuntu.20140611.230448.458988: Step 1 of 1)\r\n"
       ]
      },
      {
       "output_type": "stream",
       "stream": "stdout",
       "text": [
        "Job launched 966.8s ago, status RUNNING: Running step (mergeStn.ubuntu.20140611.230448.458988: Step 1 of 1)\r\n"
       ]
      },
      {
       "output_type": "stream",
       "stream": "stdout",
       "text": [
        "Job launched 997.1s ago, status RUNNING: Running step (mergeStn.ubuntu.20140611.230448.458988: Step 1 of 1)\r\n"
       ]
      },
      {
       "output_type": "stream",
       "stream": "stdout",
       "text": [
        "Job launched 1027.3s ago, status RUNNING: Running step (mergeStn.ubuntu.20140611.230448.458988: Step 1 of 1)\r\n"
       ]
      },
      {
       "output_type": "stream",
       "stream": "stdout",
       "text": [
        "Job launched 1057.5s ago, status RUNNING: Running step (mergeStn.ubuntu.20140611.230448.458988: Step 1 of 1)\r\n"
       ]
      },
      {
       "output_type": "stream",
       "stream": "stdout",
       "text": [
        "Job launched 1087.7s ago, status RUNNING: Running step (mergeStn.ubuntu.20140611.230448.458988: Step 1 of 1)\r\n"
       ]
      },
      {
       "output_type": "stream",
       "stream": "stdout",
       "text": [
        "Job launched 1117.9s ago, status RUNNING: Running step (mergeStn.ubuntu.20140611.230448.458988: Step 1 of 1)\r\n"
       ]
      },
      {
       "output_type": "stream",
       "stream": "stdout",
       "text": [
        "Job launched 1148.1s ago, status RUNNING: Running step (mergeStn.ubuntu.20140611.230448.458988: Step 1 of 1)\r\n"
       ]
      },
      {
       "output_type": "stream",
       "stream": "stdout",
       "text": [
        "Job launched 1178.3s ago, status RUNNING: Running step (mergeStn.ubuntu.20140611.230448.458988: Step 1 of 1)\r\n"
       ]
      },
      {
       "output_type": "stream",
       "stream": "stdout",
       "text": [
        "Job launched 1208.5s ago, status RUNNING: Running step (mergeStn.ubuntu.20140611.230448.458988: Step 1 of 1)\r\n"
       ]
      },
      {
       "output_type": "stream",
       "stream": "stdout",
       "text": [
        "Job launched 1238.7s ago, status RUNNING: Running step (mergeStn.ubuntu.20140611.230448.458988: Step 1 of 1)\r\n"
       ]
      },
      {
       "output_type": "stream",
       "stream": "stdout",
       "text": [
        "Job launched 1268.9s ago, status RUNNING: Running step (mergeStn.ubuntu.20140611.230448.458988: Step 1 of 1)\r\n"
       ]
      },
      {
       "output_type": "stream",
       "stream": "stdout",
       "text": [
        "Job launched 1299.1s ago, status RUNNING: Running step (mergeStn.ubuntu.20140611.230448.458988: Step 1 of 1)\r\n"
       ]
      },
      {
       "output_type": "stream",
       "stream": "stdout",
       "text": [
        "Job launched 1329.3s ago, status RUNNING: Running step (mergeStn.ubuntu.20140611.230448.458988: Step 1 of 1)\r\n"
       ]
      },
      {
       "output_type": "stream",
       "stream": "stdout",
       "text": [
        "Job launched 1359.6s ago, status RUNNING: Running step (mergeStn.ubuntu.20140611.230448.458988: Step 1 of 1)\r\n"
       ]
      },
      {
       "output_type": "stream",
       "stream": "stdout",
       "text": [
        "Job launched 1389.9s ago, status RUNNING: Running step (mergeStn.ubuntu.20140611.230448.458988: Step 1 of 1)\r\n"
       ]
      },
      {
       "output_type": "stream",
       "stream": "stdout",
       "text": [
        "Job launched 1420.1s ago, status RUNNING: Running step (mergeStn.ubuntu.20140611.230448.458988: Step 1 of 1)\r\n"
       ]
      },
      {
       "output_type": "stream",
       "stream": "stdout",
       "text": [
        "Job launched 1450.3s ago, status RUNNING: Running step (mergeStn.ubuntu.20140611.230448.458988: Step 1 of 1)\r\n"
       ]
      },
      {
       "output_type": "stream",
       "stream": "stdout",
       "text": [
        "Job launched 1480.5s ago, status RUNNING: Running step (mergeStn.ubuntu.20140611.230448.458988: Step 1 of 1)\r\n"
       ]
      },
      {
       "output_type": "stream",
       "stream": "stdout",
       "text": [
        "Job launched 1510.7s ago, status RUNNING: Running step (mergeStn.ubuntu.20140611.230448.458988: Step 1 of 1)\r\n"
       ]
      },
      {
       "output_type": "stream",
       "stream": "stdout",
       "text": [
        "Job launched 1541.0s ago, status RUNNING: Running step (mergeStn.ubuntu.20140611.230448.458988: Step 1 of 1)\r\n"
       ]
      },
      {
       "output_type": "stream",
       "stream": "stdout",
       "text": [
        "Job launched 1571.2s ago, status RUNNING: Running step (mergeStn.ubuntu.20140611.230448.458988: Step 1 of 1)\r\n"
       ]
      },
      {
       "output_type": "stream",
       "stream": "stdout",
       "text": [
        "Job launched 1601.4s ago, status RUNNING: Running step (mergeStn.ubuntu.20140611.230448.458988: Step 1 of 1)\r\n"
       ]
      },
      {
       "output_type": "stream",
       "stream": "stdout",
       "text": [
        "Job launched 1631.6s ago, status RUNNING: Running step (mergeStn.ubuntu.20140611.230448.458988: Step 1 of 1)\r\n"
       ]
      },
      {
       "output_type": "stream",
       "stream": "stdout",
       "text": [
        "Job launched 1661.8s ago, status RUNNING: Running step (mergeStn.ubuntu.20140611.230448.458988: Step 1 of 1)\r\n"
       ]
      },
      {
       "output_type": "stream",
       "stream": "stdout",
       "text": [
        "Job launched 1692.0s ago, status RUNNING: Running step (mergeStn.ubuntu.20140611.230448.458988: Step 1 of 1)\r\n"
       ]
      },
      {
       "output_type": "stream",
       "stream": "stdout",
       "text": [
        "Job launched 1722.2s ago, status RUNNING: Running step (mergeStn.ubuntu.20140611.230448.458988: Step 1 of 1)\r\n"
       ]
      },
      {
       "output_type": "stream",
       "stream": "stdout",
       "text": [
        "Job launched 1752.4s ago, status RUNNING: Running step (mergeStn.ubuntu.20140611.230448.458988: Step 1 of 1)\r\n"
       ]
      },
      {
       "output_type": "stream",
       "stream": "stdout",
       "text": [
        "Job launched 1782.6s ago, status RUNNING: Running step (mergeStn.ubuntu.20140611.230448.458988: Step 1 of 1)\r\n"
       ]
      },
      {
       "output_type": "stream",
       "stream": "stdout",
       "text": [
        "Job launched 1812.9s ago, status RUNNING: Running step (mergeStn.ubuntu.20140611.230448.458988: Step 1 of 1)\r\n"
       ]
      },
      {
       "output_type": "stream",
       "stream": "stdout",
       "text": [
        "Job launched 1843.1s ago, status RUNNING: Running step (mergeStn.ubuntu.20140611.230448.458988: Step 1 of 1)\r\n"
       ]
      },
      {
       "output_type": "stream",
       "stream": "stdout",
       "text": [
        "Job launched 1873.3s ago, status RUNNING: Running step (mergeStn.ubuntu.20140611.230448.458988: Step 1 of 1)\r\n"
       ]
      },
      {
       "output_type": "stream",
       "stream": "stdout",
       "text": [
        "Job launched 1903.5s ago, status RUNNING: Running step (mergeStn.ubuntu.20140611.230448.458988: Step 1 of 1)\r\n"
       ]
      },
      {
       "output_type": "stream",
       "stream": "stdout",
       "text": [
        "Job launched 1933.7s ago, status RUNNING: Running step (mergeStn.ubuntu.20140611.230448.458988: Step 1 of 1)\r\n"
       ]
      },
      {
       "output_type": "stream",
       "stream": "stdout",
       "text": [
        "Job launched 1963.9s ago, status RUNNING: Running step (mergeStn.ubuntu.20140611.230448.458988: Step 1 of 1)\r\n"
       ]
      },
      {
       "output_type": "stream",
       "stream": "stdout",
       "text": [
        "Job launched 1994.1s ago, status RUNNING: Running step (mergeStn.ubuntu.20140611.230448.458988: Step 1 of 1)\r\n"
       ]
      },
      {
       "output_type": "stream",
       "stream": "stdout",
       "text": [
        "Job launched 2024.3s ago, status RUNNING: Running step (mergeStn.ubuntu.20140611.230448.458988: Step 1 of 1)\r\n"
       ]
      },
      {
       "output_type": "stream",
       "stream": "stdout",
       "text": [
        "Job launched 2054.5s ago, status RUNNING: Running step (mergeStn.ubuntu.20140611.230448.458988: Step 1 of 1)\r\n"
       ]
      },
      {
       "output_type": "stream",
       "stream": "stdout",
       "text": [
        "Job launched 2084.7s ago, status RUNNING: Running step (mergeStn.ubuntu.20140611.230448.458988: Step 1 of 1)\r\n"
       ]
      },
      {
       "output_type": "stream",
       "stream": "stdout",
       "text": [
        "Job launched 2115.0s ago, status RUNNING: Running step (mergeStn.ubuntu.20140611.230448.458988: Step 1 of 1)\r\n"
       ]
      },
      {
       "output_type": "stream",
       "stream": "stdout",
       "text": [
        "Job launched 2145.2s ago, status RUNNING: Running step (mergeStn.ubuntu.20140611.230448.458988: Step 1 of 1)\r\n"
       ]
      },
      {
       "output_type": "stream",
       "stream": "stdout",
       "text": [
        "Job launched 2175.4s ago, status RUNNING: Running step (mergeStn.ubuntu.20140611.230448.458988: Step 1 of 1)\r\n"
       ]
      },
      {
       "output_type": "stream",
       "stream": "stdout",
       "text": [
        "Job launched 2205.6s ago, status RUNNING: Running step (mergeStn.ubuntu.20140611.230448.458988: Step 1 of 1)\r\n"
       ]
      },
      {
       "output_type": "stream",
       "stream": "stdout",
       "text": [
        "Job launched 2235.8s ago, status RUNNING: Running step (mergeStn.ubuntu.20140611.230448.458988: Step 1 of 1)\r\n"
       ]
      },
      {
       "output_type": "stream",
       "stream": "stdout",
       "text": [
        "Job launched 2266.0s ago, status RUNNING: Running step (mergeStn.ubuntu.20140611.230448.458988: Step 1 of 1)\r\n"
       ]
      },
      {
       "output_type": "stream",
       "stream": "stdout",
       "text": [
        "Job launched 2296.2s ago, status RUNNING: Running step (mergeStn.ubuntu.20140611.230448.458988: Step 1 of 1)\r\n"
       ]
      },
      {
       "output_type": "stream",
       "stream": "stdout",
       "text": [
        "Job launched 2326.4s ago, status RUNNING: Running step (mergeStn.ubuntu.20140611.230448.458988: Step 1 of 1)\r\n"
       ]
      },
      {
       "output_type": "stream",
       "stream": "stdout",
       "text": [
        "Job launched 2356.6s ago, status RUNNING: Running step (mergeStn.ubuntu.20140611.230448.458988: Step 1 of 1)\r\n"
       ]
      },
      {
       "output_type": "stream",
       "stream": "stdout",
       "text": [
        "Job launched 2386.8s ago, status RUNNING: Running step (mergeStn.ubuntu.20140611.230448.458988: Step 1 of 1)\r\n"
       ]
      },
      {
       "output_type": "stream",
       "stream": "stdout",
       "text": [
        "Job launched 2417.0s ago, status RUNNING: Running step (mergeStn.ubuntu.20140611.230448.458988: Step 1 of 1)\r\n"
       ]
      },
      {
       "output_type": "stream",
       "stream": "stdout",
       "text": [
        "Job launched 2447.1s ago, status RUNNING: Running step (mergeStn.ubuntu.20140611.230448.458988: Step 1 of 1)\r\n"
       ]
      },
      {
       "output_type": "stream",
       "stream": "stdout",
       "text": [
        "Job launched 2477.4s ago, status RUNNING: Running step (mergeStn.ubuntu.20140611.230448.458988: Step 1 of 1)\r\n"
       ]
      },
      {
       "output_type": "stream",
       "stream": "stdout",
       "text": [
        "Job launched 2507.6s ago, status RUNNING: Running step (mergeStn.ubuntu.20140611.230448.458988: Step 1 of 1)\r\n"
       ]
      },
      {
       "output_type": "stream",
       "stream": "stdout",
       "text": [
        "Job launched 2537.8s ago, status RUNNING: Running step (mergeStn.ubuntu.20140611.230448.458988: Step 1 of 1)\r\n"
       ]
      },
      {
       "output_type": "stream",
       "stream": "stdout",
       "text": [
        "Job launched 2568.0s ago, status RUNNING: Running step (mergeStn.ubuntu.20140611.230448.458988: Step 1 of 1)\r\n"
       ]
      },
      {
       "output_type": "stream",
       "stream": "stdout",
       "text": [
        "Job launched 2598.1s ago, status RUNNING: Running step (mergeStn.ubuntu.20140611.230448.458988: Step 1 of 1)\r\n"
       ]
      },
      {
       "output_type": "stream",
       "stream": "stdout",
       "text": [
        "Job launched 2628.3s ago, status RUNNING: Running step (mergeStn.ubuntu.20140611.230448.458988: Step 1 of 1)\r\n"
       ]
      },
      {
       "output_type": "stream",
       "stream": "stdout",
       "text": [
        "Job launched 2658.5s ago, status RUNNING: Running step (mergeStn.ubuntu.20140611.230448.458988: Step 1 of 1)\r\n"
       ]
      },
      {
       "output_type": "stream",
       "stream": "stdout",
       "text": [
        "Job launched 2688.7s ago, status RUNNING: Running step (mergeStn.ubuntu.20140611.230448.458988: Step 1 of 1)\r\n"
       ]
      },
      {
       "output_type": "stream",
       "stream": "stdout",
       "text": [
        "Job launched 2719.0s ago, status RUNNING: Running step (mergeStn.ubuntu.20140611.230448.458988: Step 1 of 1)\r\n"
       ]
      },
      {
       "output_type": "stream",
       "stream": "stdout",
       "text": [
        "Job launched 2749.2s ago, status RUNNING: Running step (mergeStn.ubuntu.20140611.230448.458988: Step 1 of 1)\r\n"
       ]
      },
      {
       "output_type": "stream",
       "stream": "stdout",
       "text": [
        "Job launched 2779.4s ago, status RUNNING: Running step (mergeStn.ubuntu.20140611.230448.458988: Step 1 of 1)\r\n"
       ]
      },
      {
       "output_type": "stream",
       "stream": "stdout",
       "text": [
        "Job launched 2809.6s ago, status RUNNING: Running step (mergeStn.ubuntu.20140611.230448.458988: Step 1 of 1)\r\n"
       ]
      },
      {
       "output_type": "stream",
       "stream": "stdout",
       "text": [
        "Job launched 2839.8s ago, status RUNNING: Running step (mergeStn.ubuntu.20140611.230448.458988: Step 1 of 1)\r\n"
       ]
      },
      {
       "output_type": "stream",
       "stream": "stdout",
       "text": [
        "Job launched 2870.0s ago, status RUNNING: Running step (mergeStn.ubuntu.20140611.230448.458988: Step 1 of 1)\r\n"
       ]
      },
      {
       "output_type": "stream",
       "stream": "stdout",
       "text": [
        "Job launched 2900.2s ago, status RUNNING: Running step (mergeStn.ubuntu.20140611.230448.458988: Step 1 of 1)\r\n"
       ]
      },
      {
       "output_type": "stream",
       "stream": "stdout",
       "text": [
        "Job launched 2930.4s ago, status RUNNING: Running step (mergeStn.ubuntu.20140611.230448.458988: Step 1 of 1)\r\n"
       ]
      },
      {
       "output_type": "stream",
       "stream": "stdout",
       "text": [
        "Job launched 2960.6s ago, status RUNNING: Running step (mergeStn.ubuntu.20140611.230448.458988: Step 1 of 1)\r\n"
       ]
      },
      {
       "output_type": "stream",
       "stream": "stdout",
       "text": [
        "Job launched 2990.8s ago, status RUNNING: Running step (mergeStn.ubuntu.20140611.230448.458988: Step 1 of 1)\r\n"
       ]
      },
      {
       "output_type": "stream",
       "stream": "stdout",
       "text": [
        "Job launched 3021.0s ago, status RUNNING: Running step (mergeStn.ubuntu.20140611.230448.458988: Step 1 of 1)\r\n"
       ]
      },
      {
       "output_type": "stream",
       "stream": "stdout",
       "text": [
        "Job launched 3051.2s ago, status RUNNING: Running step (mergeStn.ubuntu.20140611.230448.458988: Step 1 of 1)\r\n"
       ]
      },
      {
       "output_type": "stream",
       "stream": "stdout",
       "text": [
        "Job launched 3081.5s ago, status RUNNING: Running step (mergeStn.ubuntu.20140611.230448.458988: Step 1 of 1)\r\n"
       ]
      },
      {
       "output_type": "stream",
       "stream": "stdout",
       "text": [
        "Job launched 3111.7s ago, status RUNNING: Running step (mergeStn.ubuntu.20140611.230448.458988: Step 1 of 1)\r\n"
       ]
      },
      {
       "output_type": "stream",
       "stream": "stdout",
       "text": [
        "Job launched 3142.0s ago, status RUNNING: Running step (mergeStn.ubuntu.20140611.230448.458988: Step 1 of 1)\r\n"
       ]
      },
      {
       "output_type": "stream",
       "stream": "stdout",
       "text": [
        "Job launched 3172.2s ago, status RUNNING: Running step (mergeStn.ubuntu.20140611.230448.458988: Step 1 of 1)\r\n"
       ]
      },
      {
       "output_type": "stream",
       "stream": "stdout",
       "text": [
        "Job launched 3202.5s ago, status RUNNING: Running step (mergeStn.ubuntu.20140611.230448.458988: Step 1 of 1)\r\n"
       ]
      },
      {
       "output_type": "stream",
       "stream": "stdout",
       "text": [
        "Job launched 3232.7s ago, status RUNNING: Running step (mergeStn.ubuntu.20140611.230448.458988: Step 1 of 1)\r\n"
       ]
      },
      {
       "output_type": "stream",
       "stream": "stdout",
       "text": [
        "Job launched 3262.9s ago, status RUNNING: Running step (mergeStn.ubuntu.20140611.230448.458988: Step 1 of 1)\r\n"
       ]
      },
      {
       "output_type": "stream",
       "stream": "stdout",
       "text": [
        "Job launched 3293.1s ago, status RUNNING: Running step (mergeStn.ubuntu.20140611.230448.458988: Step 1 of 1)\r\n"
       ]
      },
      {
       "output_type": "stream",
       "stream": "stdout",
       "text": [
        "Job launched 3323.3s ago, status RUNNING: Running step (mergeStn.ubuntu.20140611.230448.458988: Step 1 of 1)\r\n"
       ]
      },
      {
       "output_type": "stream",
       "stream": "stdout",
       "text": [
        "Job launched 3353.5s ago, status RUNNING: Running step (mergeStn.ubuntu.20140611.230448.458988: Step 1 of 1)\r\n"
       ]
      },
      {
       "output_type": "stream",
       "stream": "stdout",
       "text": [
        "Job launched 3383.7s ago, status RUNNING: Running step (mergeStn.ubuntu.20140611.230448.458988: Step 1 of 1)\r\n"
       ]
      },
      {
       "output_type": "stream",
       "stream": "stdout",
       "text": [
        "Job launched 3413.9s ago, status RUNNING: Running step (mergeStn.ubuntu.20140611.230448.458988: Step 1 of 1)\r\n"
       ]
      },
      {
       "output_type": "stream",
       "stream": "stdout",
       "text": [
        "Job launched 3444.1s ago, status RUNNING: Running step (mergeStn.ubuntu.20140611.230448.458988: Step 1 of 1)\r\n"
       ]
      },
      {
       "output_type": "stream",
       "stream": "stdout",
       "text": [
        "Job launched 3474.4s ago, status RUNNING: Running step (mergeStn.ubuntu.20140611.230448.458988: Step 1 of 1)\r\n"
       ]
      },
      {
       "output_type": "stream",
       "stream": "stdout",
       "text": [
        "Job launched 3504.6s ago, status RUNNING: Running step (mergeStn.ubuntu.20140611.230448.458988: Step 1 of 1)\r\n"
       ]
      },
      {
       "output_type": "stream",
       "stream": "stdout",
       "text": [
        "Job launched 3534.8s ago, status RUNNING: Running step (mergeStn.ubuntu.20140611.230448.458988: Step 1 of 1)\r\n"
       ]
      },
      {
       "output_type": "stream",
       "stream": "stdout",
       "text": [
        "Job launched 3565.0s ago, status RUNNING: Running step (mergeStn.ubuntu.20140611.230448.458988: Step 1 of 1)\r\n"
       ]
      },
      {
       "output_type": "stream",
       "stream": "stdout",
       "text": [
        "Job launched 3595.2s ago, status RUNNING: Running step (mergeStn.ubuntu.20140611.230448.458988: Step 1 of 1)\r\n"
       ]
      },
      {
       "output_type": "stream",
       "stream": "stdout",
       "text": [
        "Job launched 3625.4s ago, status RUNNING: Running step (mergeStn.ubuntu.20140611.230448.458988: Step 1 of 1)\r\n"
       ]
      },
      {
       "output_type": "stream",
       "stream": "stdout",
       "text": [
        "Job launched 3655.6s ago, status RUNNING: Running step (mergeStn.ubuntu.20140611.230448.458988: Step 1 of 1)\r\n"
       ]
      },
      {
       "output_type": "stream",
       "stream": "stdout",
       "text": [
        "Job launched 3685.9s ago, status RUNNING: Running step (mergeStn.ubuntu.20140611.230448.458988: Step 1 of 1)\r\n"
       ]
      },
      {
       "output_type": "stream",
       "stream": "stdout",
       "text": [
        "Job launched 3716.0s ago, status RUNNING: Running step (mergeStn.ubuntu.20140611.230448.458988: Step 1 of 1)\r\n"
       ]
      },
      {
       "output_type": "stream",
       "stream": "stdout",
       "text": [
        "Job launched 3746.3s ago, status RUNNING: Running step (mergeStn.ubuntu.20140611.230448.458988: Step 1 of 1)\r\n"
       ]
      },
      {
       "output_type": "stream",
       "stream": "stdout",
       "text": [
        "Job launched 3776.5s ago, status RUNNING: Running step (mergeStn.ubuntu.20140611.230448.458988: Step 1 of 1)\r\n"
       ]
      },
      {
       "output_type": "stream",
       "stream": "stdout",
       "text": [
        "Job launched 3806.7s ago, status RUNNING: Running step (mergeStn.ubuntu.20140611.230448.458988: Step 1 of 1)\r\n"
       ]
      },
      {
       "output_type": "stream",
       "stream": "stdout",
       "text": [
        "Job launched 3836.9s ago, status RUNNING: Running step (mergeStn.ubuntu.20140611.230448.458988: Step 1 of 1)\r\n"
       ]
      },
      {
       "output_type": "stream",
       "stream": "stdout",
       "text": [
        "Job launched 3867.1s ago, status RUNNING: Running step (mergeStn.ubuntu.20140611.230448.458988: Step 1 of 1)\r\n"
       ]
      },
      {
       "output_type": "stream",
       "stream": "stdout",
       "text": [
        "Job launched 3897.3s ago, status RUNNING: Running step (mergeStn.ubuntu.20140611.230448.458988: Step 1 of 1)\r\n"
       ]
      },
      {
       "output_type": "stream",
       "stream": "stdout",
       "text": [
        "Job launched 3927.5s ago, status RUNNING: Running step (mergeStn.ubuntu.20140611.230448.458988: Step 1 of 1)\r\n"
       ]
      },
      {
       "output_type": "stream",
       "stream": "stdout",
       "text": [
        "Job launched 3957.7s ago, status RUNNING: Running step (mergeStn.ubuntu.20140611.230448.458988: Step 1 of 1)\r\n"
       ]
      },
      {
       "output_type": "stream",
       "stream": "stdout",
       "text": [
        "Job launched 3987.9s ago, status RUNNING: Running step (mergeStn.ubuntu.20140611.230448.458988: Step 1 of 1)\r\n"
       ]
      },
      {
       "output_type": "stream",
       "stream": "stdout",
       "text": [
        "Job launched 4018.1s ago, status RUNNING: Running step (mergeStn.ubuntu.20140611.230448.458988: Step 1 of 1)\r\n"
       ]
      },
      {
       "output_type": "stream",
       "stream": "stdout",
       "text": [
        "Job launched 4048.3s ago, status RUNNING: Running step (mergeStn.ubuntu.20140611.230448.458988: Step 1 of 1)\r\n"
       ]
      },
      {
       "output_type": "stream",
       "stream": "stdout",
       "text": [
        "Job launched 4078.5s ago, status RUNNING: Running step (mergeStn.ubuntu.20140611.230448.458988: Step 1 of 1)\r\n"
       ]
      },
      {
       "output_type": "stream",
       "stream": "stdout",
       "text": [
        "Job launched 4108.7s ago, status RUNNING: Running step (mergeStn.ubuntu.20140611.230448.458988: Step 1 of 1)\r\n"
       ]
      },
      {
       "output_type": "stream",
       "stream": "stdout",
       "text": [
        "Job launched 4138.9s ago, status RUNNING: Running step (mergeStn.ubuntu.20140611.230448.458988: Step 1 of 1)\r\n"
       ]
      },
      {
       "output_type": "stream",
       "stream": "stdout",
       "text": [
        "Job launched 4169.2s ago, status RUNNING: Running step (mergeStn.ubuntu.20140611.230448.458988: Step 1 of 1)\r\n"
       ]
      },
      {
       "output_type": "stream",
       "stream": "stdout",
       "text": [
        "Job launched 4199.3s ago, status RUNNING: Running step (mergeStn.ubuntu.20140611.230448.458988: Step 1 of 1)\r\n"
       ]
      },
      {
       "output_type": "stream",
       "stream": "stdout",
       "text": [
        "Job launched 4229.6s ago, status RUNNING: Running step (mergeStn.ubuntu.20140611.230448.458988: Step 1 of 1)\r\n"
       ]
      },
      {
       "output_type": "stream",
       "stream": "stdout",
       "text": [
        "Job launched 4259.8s ago, status RUNNING: Running step (mergeStn.ubuntu.20140611.230448.458988: Step 1 of 1)\r\n"
       ]
      },
      {
       "output_type": "stream",
       "stream": "stdout",
       "text": [
        "Job launched 4290.0s ago, status RUNNING: Running step (mergeStn.ubuntu.20140611.230448.458988: Step 1 of 1)\r\n"
       ]
      },
      {
       "output_type": "stream",
       "stream": "stdout",
       "text": [
        "Job launched 4320.3s ago, status RUNNING: Running step (mergeStn.ubuntu.20140611.230448.458988: Step 1 of 1)\r\n"
       ]
      },
      {
       "output_type": "stream",
       "stream": "stdout",
       "text": [
        "Job launched 4350.5s ago, status RUNNING: Running step (mergeStn.ubuntu.20140611.230448.458988: Step 1 of 1)\r\n"
       ]
      },
      {
       "output_type": "stream",
       "stream": "stdout",
       "text": [
        "Job launched 4380.7s ago, status RUNNING: Running step (mergeStn.ubuntu.20140611.230448.458988: Step 1 of 1)\r\n"
       ]
      },
      {
       "output_type": "stream",
       "stream": "stdout",
       "text": [
        "Job launched 4410.9s ago, status RUNNING: Running step (mergeStn.ubuntu.20140611.230448.458988: Step 1 of 1)\r\n"
       ]
      },
      {
       "output_type": "stream",
       "stream": "stdout",
       "text": [
        "Job launched 4441.1s ago, status RUNNING: Running step (mergeStn.ubuntu.20140611.230448.458988: Step 1 of 1)\r\n"
       ]
      },
      {
       "output_type": "stream",
       "stream": "stdout",
       "text": [
        "Job launched 4471.3s ago, status RUNNING: Running step (mergeStn.ubuntu.20140611.230448.458988: Step 1 of 1)\r\n"
       ]
      },
      {
       "output_type": "stream",
       "stream": "stdout",
       "text": [
        "Job launched 4501.5s ago, status RUNNING: Running step (mergeStn.ubuntu.20140611.230448.458988: Step 1 of 1)\r\n"
       ]
      },
      {
       "output_type": "stream",
       "stream": "stdout",
       "text": [
        "Job launched 4531.7s ago, status RUNNING: Running step (mergeStn.ubuntu.20140611.230448.458988: Step 1 of 1)\r\n"
       ]
      },
      {
       "output_type": "stream",
       "stream": "stdout",
       "text": [
        "Job launched 4561.9s ago, status RUNNING: Running step (mergeStn.ubuntu.20140611.230448.458988: Step 1 of 1)\r\n"
       ]
      },
      {
       "output_type": "stream",
       "stream": "stdout",
       "text": [
        "Job launched 4592.1s ago, status RUNNING: Running step (mergeStn.ubuntu.20140611.230448.458988: Step 1 of 1)\r\n"
       ]
      },
      {
       "output_type": "stream",
       "stream": "stdout",
       "text": [
        "Job launched 4622.3s ago, status RUNNING: Running step (mergeStn.ubuntu.20140611.230448.458988: Step 1 of 1)\r\n"
       ]
      },
      {
       "output_type": "stream",
       "stream": "stdout",
       "text": [
        "Job launched 4652.5s ago, status RUNNING: Running step (mergeStn.ubuntu.20140611.230448.458988: Step 1 of 1)\r\n"
       ]
      },
      {
       "output_type": "stream",
       "stream": "stdout",
       "text": [
        "Job launched 4682.7s ago, status RUNNING: Running step (mergeStn.ubuntu.20140611.230448.458988: Step 1 of 1)\r\n"
       ]
      },
      {
       "output_type": "stream",
       "stream": "stdout",
       "text": [
        "Job launched 4712.9s ago, status RUNNING: Running step (mergeStn.ubuntu.20140611.230448.458988: Step 1 of 1)\r\n"
       ]
      },
      {
       "output_type": "stream",
       "stream": "stdout",
       "text": [
        "Job launched 4743.1s ago, status RUNNING: Running step (mergeStn.ubuntu.20140611.230448.458988: Step 1 of 1)\r\n"
       ]
      },
      {
       "output_type": "stream",
       "stream": "stdout",
       "text": [
        "Job launched 4773.3s ago, status RUNNING: Running step (mergeStn.ubuntu.20140611.230448.458988: Step 1 of 1)\r\n"
       ]
      },
      {
       "output_type": "stream",
       "stream": "stdout",
       "text": [
        "Job launched 4803.5s ago, status RUNNING: Running step (mergeStn.ubuntu.20140611.230448.458988: Step 1 of 1)\r\n"
       ]
      },
      {
       "output_type": "stream",
       "stream": "stdout",
       "text": [
        "Job launched 4833.7s ago, status RUNNING: Running step (mergeStn.ubuntu.20140611.230448.458988: Step 1 of 1)\r\n"
       ]
      },
      {
       "output_type": "stream",
       "stream": "stdout",
       "text": [
        "Job launched 4863.9s ago, status RUNNING: Running step (mergeStn.ubuntu.20140611.230448.458988: Step 1 of 1)\r\n"
       ]
      },
      {
       "output_type": "stream",
       "stream": "stdout",
       "text": [
        "Job launched 4894.1s ago, status RUNNING: Running step (mergeStn.ubuntu.20140611.230448.458988: Step 1 of 1)\r\n"
       ]
      },
      {
       "output_type": "stream",
       "stream": "stdout",
       "text": [
        "Job launched 4924.3s ago, status RUNNING: Running step (mergeStn.ubuntu.20140611.230448.458988: Step 1 of 1)\r\n"
       ]
      },
      {
       "output_type": "stream",
       "stream": "stdout",
       "text": [
        "Job launched 4954.5s ago, status RUNNING: Running step (mergeStn.ubuntu.20140611.230448.458988: Step 1 of 1)\r\n"
       ]
      },
      {
       "output_type": "stream",
       "stream": "stdout",
       "text": [
        "Job launched 4984.7s ago, status RUNNING: Running step (mergeStn.ubuntu.20140611.230448.458988: Step 1 of 1)\r\n"
       ]
      },
      {
       "output_type": "stream",
       "stream": "stdout",
       "text": [
        "Job launched 5015.0s ago, status RUNNING: Running step (mergeStn.ubuntu.20140611.230448.458988: Step 1 of 1)\r\n"
       ]
      },
      {
       "output_type": "stream",
       "stream": "stdout",
       "text": [
        "Job launched 5045.2s ago, status RUNNING: Running step (mergeStn.ubuntu.20140611.230448.458988: Step 1 of 1)\r\n"
       ]
      },
      {
       "output_type": "stream",
       "stream": "stdout",
       "text": [
        "Job launched 5075.4s ago, status RUNNING: Running step (mergeStn.ubuntu.20140611.230448.458988: Step 1 of 1)\r\n"
       ]
      },
      {
       "output_type": "stream",
       "stream": "stdout",
       "text": [
        "Job launched 5105.6s ago, status RUNNING: Running step (mergeStn.ubuntu.20140611.230448.458988: Step 1 of 1)\r\n"
       ]
      },
      {
       "output_type": "stream",
       "stream": "stdout",
       "text": [
        "Job launched 5135.8s ago, status RUNNING: Running step (mergeStn.ubuntu.20140611.230448.458988: Step 1 of 1)\r\n"
       ]
      },
      {
       "output_type": "stream",
       "stream": "stdout",
       "text": [
        "Job launched 5166.0s ago, status RUNNING: Running step (mergeStn.ubuntu.20140611.230448.458988: Step 1 of 1)\r\n"
       ]
      },
      {
       "output_type": "stream",
       "stream": "stdout",
       "text": [
        "Job launched 5196.2s ago, status RUNNING: Running step (mergeStn.ubuntu.20140611.230448.458988: Step 1 of 1)\r\n"
       ]
      },
      {
       "output_type": "stream",
       "stream": "stdout",
       "text": [
        "Job launched 5226.4s ago, status RUNNING: Running step (mergeStn.ubuntu.20140611.230448.458988: Step 1 of 1)\r\n"
       ]
      },
      {
       "output_type": "stream",
       "stream": "stdout",
       "text": [
        "Job launched 5256.6s ago, status RUNNING: Running step (mergeStn.ubuntu.20140611.230448.458988: Step 1 of 1)\r\n"
       ]
      },
      {
       "output_type": "stream",
       "stream": "stdout",
       "text": [
        "Job launched 5286.8s ago, status RUNNING: Running step (mergeStn.ubuntu.20140611.230448.458988: Step 1 of 1)\r\n"
       ]
      },
      {
       "output_type": "stream",
       "stream": "stdout",
       "text": [
        "Job launched 5317.0s ago, status RUNNING: Running step (mergeStn.ubuntu.20140611.230448.458988: Step 1 of 1)\r\n"
       ]
      },
      {
       "output_type": "stream",
       "stream": "stdout",
       "text": [
        "Job launched 5347.3s ago, status RUNNING: Running step (mergeStn.ubuntu.20140611.230448.458988: Step 1 of 1)\r\n"
       ]
      },
      {
       "output_type": "stream",
       "stream": "stdout",
       "text": [
        "Job launched 5377.5s ago, status RUNNING: Running step (mergeStn.ubuntu.20140611.230448.458988: Step 1 of 1)\r\n"
       ]
      },
      {
       "output_type": "stream",
       "stream": "stdout",
       "text": [
        "Job launched 5407.8s ago, status RUNNING: Running step (mergeStn.ubuntu.20140611.230448.458988: Step 1 of 1)\r\n"
       ]
      },
      {
       "output_type": "stream",
       "stream": "stdout",
       "text": [
        "Job launched 5438.0s ago, status RUNNING: Running step (mergeStn.ubuntu.20140611.230448.458988: Step 1 of 1)\r\n"
       ]
      },
      {
       "output_type": "stream",
       "stream": "stdout",
       "text": [
        "Job launched 5468.3s ago, status RUNNING: Running step (mergeStn.ubuntu.20140611.230448.458988: Step 1 of 1)\r\n"
       ]
      },
      {
       "output_type": "stream",
       "stream": "stdout",
       "text": [
        "Job launched 5498.5s ago, status RUNNING: Running step (mergeStn.ubuntu.20140611.230448.458988: Step 1 of 1)\r\n"
       ]
      },
      {
       "output_type": "stream",
       "stream": "stdout",
       "text": [
        "Job launched 5528.7s ago, status RUNNING: Running step (mergeStn.ubuntu.20140611.230448.458988: Step 1 of 1)\r\n"
       ]
      },
      {
       "output_type": "stream",
       "stream": "stdout",
       "text": [
        "Job launched 5558.9s ago, status RUNNING: Running step (mergeStn.ubuntu.20140611.230448.458988: Step 1 of 1)\r\n"
       ]
      },
      {
       "output_type": "stream",
       "stream": "stdout",
       "text": [
        "Job launched 5589.1s ago, status RUNNING: Running step (mergeStn.ubuntu.20140611.230448.458988: Step 1 of 1)\r\n"
       ]
      },
      {
       "output_type": "stream",
       "stream": "stdout",
       "text": [
        "Job launched 5619.3s ago, status RUNNING: Running step (mergeStn.ubuntu.20140611.230448.458988: Step 1 of 1)\r\n"
       ]
      },
      {
       "output_type": "stream",
       "stream": "stdout",
       "text": [
        "Job launched 5649.5s ago, status RUNNING: Running step (mergeStn.ubuntu.20140611.230448.458988: Step 1 of 1)\r\n"
       ]
      },
      {
       "output_type": "stream",
       "stream": "stdout",
       "text": [
        "Job launched 5679.7s ago, status RUNNING: Running step (mergeStn.ubuntu.20140611.230448.458988: Step 1 of 1)\r\n"
       ]
      },
      {
       "output_type": "stream",
       "stream": "stdout",
       "text": [
        "Job launched 5709.9s ago, status RUNNING: Running step (mergeStn.ubuntu.20140611.230448.458988: Step 1 of 1)\r\n"
       ]
      },
      {
       "output_type": "stream",
       "stream": "stdout",
       "text": [
        "Job launched 5740.1s ago, status RUNNING: Running step (mergeStn.ubuntu.20140611.230448.458988: Step 1 of 1)\r\n"
       ]
      },
      {
       "output_type": "stream",
       "stream": "stdout",
       "text": [
        "Job launched 5770.3s ago, status RUNNING: Running step (mergeStn.ubuntu.20140611.230448.458988: Step 1 of 1)\r\n"
       ]
      },
      {
       "output_type": "stream",
       "stream": "stdout",
       "text": [
        "Job launched 5800.5s ago, status RUNNING: Running step (mergeStn.ubuntu.20140611.230448.458988: Step 1 of 1)\r\n"
       ]
      },
      {
       "output_type": "stream",
       "stream": "stdout",
       "text": [
        "Job launched 5830.7s ago, status RUNNING: Running step (mergeStn.ubuntu.20140611.230448.458988: Step 1 of 1)\r\n"
       ]
      },
      {
       "output_type": "stream",
       "stream": "stdout",
       "text": [
        "Job launched 5860.9s ago, status RUNNING: Running step (mergeStn.ubuntu.20140611.230448.458988: Step 1 of 1)\r\n"
       ]
      },
      {
       "output_type": "stream",
       "stream": "stdout",
       "text": [
        "Job launched 5891.2s ago, status RUNNING: Running step (mergeStn.ubuntu.20140611.230448.458988: Step 1 of 1)\r\n"
       ]
      },
      {
       "output_type": "stream",
       "stream": "stdout",
       "text": [
        "Job launched 5921.4s ago, status RUNNING: Running step (mergeStn.ubuntu.20140611.230448.458988: Step 1 of 1)\r\n"
       ]
      },
      {
       "output_type": "stream",
       "stream": "stdout",
       "text": [
        "Job launched 5951.6s ago, status RUNNING: Running step (mergeStn.ubuntu.20140611.230448.458988: Step 1 of 1)\r\n"
       ]
      },
      {
       "output_type": "stream",
       "stream": "stdout",
       "text": [
        "Job launched 5981.9s ago, status RUNNING: Running step (mergeStn.ubuntu.20140611.230448.458988: Step 1 of 1)\r\n"
       ]
      },
      {
       "output_type": "stream",
       "stream": "stdout",
       "text": [
        "Job launched 6012.1s ago, status RUNNING: Running step (mergeStn.ubuntu.20140611.230448.458988: Step 1 of 1)\r\n"
       ]
      },
      {
       "output_type": "stream",
       "stream": "stdout",
       "text": [
        "Job launched 6042.3s ago, status RUNNING: Running step (mergeStn.ubuntu.20140611.230448.458988: Step 1 of 1)\r\n"
       ]
      },
      {
       "output_type": "stream",
       "stream": "stdout",
       "text": [
        "Job launched 6072.5s ago, status RUNNING: Running step (mergeStn.ubuntu.20140611.230448.458988: Step 1 of 1)\r\n"
       ]
      },
      {
       "output_type": "stream",
       "stream": "stdout",
       "text": [
        "Job launched 6102.7s ago, status RUNNING: Running step (mergeStn.ubuntu.20140611.230448.458988: Step 1 of 1)\r\n"
       ]
      },
      {
       "output_type": "stream",
       "stream": "stdout",
       "text": [
        "Job launched 6132.9s ago, status RUNNING: Running step (mergeStn.ubuntu.20140611.230448.458988: Step 1 of 1)\r\n"
       ]
      },
      {
       "output_type": "stream",
       "stream": "stdout",
       "text": [
        "Job launched 6163.2s ago, status RUNNING: Running step (mergeStn.ubuntu.20140611.230448.458988: Step 1 of 1)\r\n"
       ]
      },
      {
       "output_type": "stream",
       "stream": "stdout",
       "text": [
        "Job launched 6193.4s ago, status RUNNING: Running step (mergeStn.ubuntu.20140611.230448.458988: Step 1 of 1)\r\n"
       ]
      },
      {
       "output_type": "stream",
       "stream": "stdout",
       "text": [
        "Job launched 6223.6s ago, status RUNNING: Running step (mergeStn.ubuntu.20140611.230448.458988: Step 1 of 1)\r\n"
       ]
      },
      {
       "output_type": "stream",
       "stream": "stdout",
       "text": [
        "Job launched 6253.8s ago, status RUNNING: Running step (mergeStn.ubuntu.20140611.230448.458988: Step 1 of 1)\r\n"
       ]
      },
      {
       "output_type": "stream",
       "stream": "stdout",
       "text": [
        "Job launched 6284.0s ago, status RUNNING: Running step (mergeStn.ubuntu.20140611.230448.458988: Step 1 of 1)\r\n"
       ]
      },
      {
       "output_type": "stream",
       "stream": "stdout",
       "text": [
        "Job launched 6314.2s ago, status RUNNING: Running step (mergeStn.ubuntu.20140611.230448.458988: Step 1 of 1)\r\n"
       ]
      },
      {
       "output_type": "stream",
       "stream": "stdout",
       "text": [
        "Job launched 6344.4s ago, status RUNNING: Running step (mergeStn.ubuntu.20140611.230448.458988: Step 1 of 1)\r\n"
       ]
      },
      {
       "output_type": "stream",
       "stream": "stdout",
       "text": [
        "Job launched 6374.6s ago, status RUNNING: Running step (mergeStn.ubuntu.20140611.230448.458988: Step 1 of 1)\r\n"
       ]
      },
      {
       "output_type": "stream",
       "stream": "stdout",
       "text": [
        "Job launched 6404.8s ago, status RUNNING: Running step (mergeStn.ubuntu.20140611.230448.458988: Step 1 of 1)\r\n"
       ]
      },
      {
       "output_type": "stream",
       "stream": "stdout",
       "text": [
        "Job launched 6435.0s ago, status RUNNING: Running step (mergeStn.ubuntu.20140611.230448.458988: Step 1 of 1)\r\n"
       ]
      },
      {
       "output_type": "stream",
       "stream": "stdout",
       "text": [
        "Job launched 6465.3s ago, status RUNNING: Running step (mergeStn.ubuntu.20140611.230448.458988: Step 1 of 1)\r\n"
       ]
      },
      {
       "output_type": "stream",
       "stream": "stdout",
       "text": [
        "Job launched 6495.5s ago, status RUNNING: Running step (mergeStn.ubuntu.20140611.230448.458988: Step 1 of 1)\r\n"
       ]
      },
      {
       "output_type": "stream",
       "stream": "stdout",
       "text": [
        "Job launched 6525.7s ago, status RUNNING: Running step (mergeStn.ubuntu.20140611.230448.458988: Step 1 of 1)\r\n"
       ]
      },
      {
       "output_type": "stream",
       "stream": "stdout",
       "text": [
        "Job launched 6556.0s ago, status RUNNING: Running step (mergeStn.ubuntu.20140611.230448.458988: Step 1 of 1)\r\n"
       ]
      },
      {
       "output_type": "stream",
       "stream": "stdout",
       "text": [
        "Job launched 6586.2s ago, status RUNNING: Running step (mergeStn.ubuntu.20140611.230448.458988: Step 1 of 1)\r\n"
       ]
      },
      {
       "output_type": "stream",
       "stream": "stdout",
       "text": [
        "Job launched 6616.5s ago, status RUNNING: Running step (mergeStn.ubuntu.20140611.230448.458988: Step 1 of 1)\r\n"
       ]
      },
      {
       "output_type": "stream",
       "stream": "stdout",
       "text": [
        "Job launched 6646.7s ago, status RUNNING: Running step (mergeStn.ubuntu.20140611.230448.458988: Step 1 of 1)\r\n"
       ]
      },
      {
       "output_type": "stream",
       "stream": "stdout",
       "text": [
        "Job launched 6676.9s ago, status RUNNING: Running step (mergeStn.ubuntu.20140611.230448.458988: Step 1 of 1)\r\n"
       ]
      },
      {
       "output_type": "stream",
       "stream": "stdout",
       "text": [
        "Job launched 6707.1s ago, status RUNNING: Running step (mergeStn.ubuntu.20140611.230448.458988: Step 1 of 1)\r\n"
       ]
      },
      {
       "output_type": "stream",
       "stream": "stdout",
       "text": [
        "Job launched 6737.4s ago, status RUNNING: Running step (mergeStn.ubuntu.20140611.230448.458988: Step 1 of 1)\r\n"
       ]
      },
      {
       "output_type": "stream",
       "stream": "stdout",
       "text": [
        "Job launched 6767.6s ago, status RUNNING: Running step (mergeStn.ubuntu.20140611.230448.458988: Step 1 of 1)\r\n"
       ]
      },
      {
       "output_type": "stream",
       "stream": "stdout",
       "text": [
        "Job launched 6797.9s ago, status RUNNING: Running step (mergeStn.ubuntu.20140611.230448.458988: Step 1 of 1)\r\n"
       ]
      },
      {
       "output_type": "stream",
       "stream": "stdout",
       "text": [
        "Job launched 6828.1s ago, status RUNNING: Running step (mergeStn.ubuntu.20140611.230448.458988: Step 1 of 1)\r\n"
       ]
      },
      {
       "output_type": "stream",
       "stream": "stdout",
       "text": [
        "Job launched 6858.3s ago, status RUNNING: Running step (mergeStn.ubuntu.20140611.230448.458988: Step 1 of 1)\r\n"
       ]
      },
      {
       "output_type": "stream",
       "stream": "stdout",
       "text": [
        "Job launched 6888.6s ago, status RUNNING: Running step (mergeStn.ubuntu.20140611.230448.458988: Step 1 of 1)\r\n"
       ]
      },
      {
       "output_type": "stream",
       "stream": "stdout",
       "text": [
        "Job launched 6918.8s ago, status RUNNING: Running step (mergeStn.ubuntu.20140611.230448.458988: Step 1 of 1)\r\n"
       ]
      },
      {
       "output_type": "stream",
       "stream": "stdout",
       "text": [
        "Job launched 6949.0s ago, status RUNNING: Running step (mergeStn.ubuntu.20140611.230448.458988: Step 1 of 1)\r\n"
       ]
      },
      {
       "output_type": "stream",
       "stream": "stdout",
       "text": [
        "Job launched 6979.2s ago, status RUNNING: Running step (mergeStn.ubuntu.20140611.230448.458988: Step 1 of 1)\r\n"
       ]
      },
      {
       "output_type": "stream",
       "stream": "stdout",
       "text": [
        "Job launched 7009.5s ago, status RUNNING: Running step (mergeStn.ubuntu.20140611.230448.458988: Step 1 of 1)\r\n"
       ]
      },
      {
       "output_type": "stream",
       "stream": "stdout",
       "text": [
        "Job launched 7039.7s ago, status RUNNING: Running step (mergeStn.ubuntu.20140611.230448.458988: Step 1 of 1)\r\n"
       ]
      },
      {
       "output_type": "stream",
       "stream": "stdout",
       "text": [
        "Job launched 7069.9s ago, status RUNNING: Running step (mergeStn.ubuntu.20140611.230448.458988: Step 1 of 1)\r\n"
       ]
      },
      {
       "output_type": "stream",
       "stream": "stdout",
       "text": [
        "Job launched 7100.1s ago, status RUNNING: Running step (mergeStn.ubuntu.20140611.230448.458988: Step 1 of 1)\r\n"
       ]
      },
      {
       "output_type": "stream",
       "stream": "stdout",
       "text": [
        "Job launched 7130.3s ago, status RUNNING: Running step (mergeStn.ubuntu.20140611.230448.458988: Step 1 of 1)\r\n"
       ]
      },
      {
       "output_type": "stream",
       "stream": "stdout",
       "text": [
        "Job launched 7160.6s ago, status RUNNING: Running step (mergeStn.ubuntu.20140611.230448.458988: Step 1 of 1)\r\n"
       ]
      },
      {
       "output_type": "stream",
       "stream": "stdout",
       "text": [
        "Job launched 7190.8s ago, status RUNNING: Running step (mergeStn.ubuntu.20140611.230448.458988: Step 1 of 1)\r\n"
       ]
      },
      {
       "output_type": "stream",
       "stream": "stdout",
       "text": [
        "Job launched 7221.0s ago, status RUNNING: Running step (mergeStn.ubuntu.20140611.230448.458988: Step 1 of 1)\r\n"
       ]
      },
      {
       "output_type": "stream",
       "stream": "stdout",
       "text": [
        "Job launched 7251.2s ago, status RUNNING: Running step (mergeStn.ubuntu.20140611.230448.458988: Step 1 of 1)\r\n"
       ]
      },
      {
       "output_type": "stream",
       "stream": "stdout",
       "text": [
        "Job launched 7281.4s ago, status RUNNING: Running step (mergeStn.ubuntu.20140611.230448.458988: Step 1 of 1)\r\n"
       ]
      },
      {
       "output_type": "stream",
       "stream": "stdout",
       "text": [
        "Job launched 7311.6s ago, status RUNNING: Running step (mergeStn.ubuntu.20140611.230448.458988: Step 1 of 1)\r\n"
       ]
      },
      {
       "output_type": "stream",
       "stream": "stdout",
       "text": [
        "Job launched 7341.8s ago, status RUNNING: Running step (mergeStn.ubuntu.20140611.230448.458988: Step 1 of 1)\r\n"
       ]
      },
      {
       "output_type": "stream",
       "stream": "stdout",
       "text": [
        "Job launched 7372.1s ago, status RUNNING: Running step (mergeStn.ubuntu.20140611.230448.458988: Step 1 of 1)\r\n"
       ]
      },
      {
       "output_type": "stream",
       "stream": "stdout",
       "text": [
        "Job launched 7402.3s ago, status RUNNING: Running step (mergeStn.ubuntu.20140611.230448.458988: Step 1 of 1)\r\n"
       ]
      },
      {
       "output_type": "stream",
       "stream": "stdout",
       "text": [
        "Job launched 7432.5s ago, status RUNNING: Running step (mergeStn.ubuntu.20140611.230448.458988: Step 1 of 1)\r\n"
       ]
      },
      {
       "output_type": "stream",
       "stream": "stdout",
       "text": [
        "Job launched 7462.7s ago, status RUNNING: Running step (mergeStn.ubuntu.20140611.230448.458988: Step 1 of 1)\r\n"
       ]
      },
      {
       "output_type": "stream",
       "stream": "stdout",
       "text": [
        "Job launched 7492.9s ago, status RUNNING: Running step (mergeStn.ubuntu.20140611.230448.458988: Step 1 of 1)\r\n"
       ]
      },
      {
       "output_type": "stream",
       "stream": "stdout",
       "text": [
        "Job launched 7523.1s ago, status RUNNING: Running step (mergeStn.ubuntu.20140611.230448.458988: Step 1 of 1)\r\n"
       ]
      },
      {
       "output_type": "stream",
       "stream": "stdout",
       "text": [
        "Job launched 7553.3s ago, status RUNNING: Running step (mergeStn.ubuntu.20140611.230448.458988: Step 1 of 1)\r\n"
       ]
      },
      {
       "output_type": "stream",
       "stream": "stdout",
       "text": [
        "Job launched 7583.5s ago, status RUNNING: Running step (mergeStn.ubuntu.20140611.230448.458988: Step 1 of 1)\r\n"
       ]
      },
      {
       "output_type": "stream",
       "stream": "stdout",
       "text": [
        "Job launched 7613.7s ago, status RUNNING: Running step (mergeStn.ubuntu.20140611.230448.458988: Step 1 of 1)\r\n"
       ]
      },
      {
       "output_type": "stream",
       "stream": "stdout",
       "text": [
        "Job launched 7643.9s ago, status RUNNING: Running step (mergeStn.ubuntu.20140611.230448.458988: Step 1 of 1)\r\n"
       ]
      },
      {
       "output_type": "stream",
       "stream": "stdout",
       "text": [
        "Job launched 7674.1s ago, status RUNNING: Running step (mergeStn.ubuntu.20140611.230448.458988: Step 1 of 1)\r\n"
       ]
      },
      {
       "output_type": "stream",
       "stream": "stdout",
       "text": [
        "Job launched 7704.3s ago, status RUNNING: Running step (mergeStn.ubuntu.20140611.230448.458988: Step 1 of 1)\r\n"
       ]
      },
      {
       "output_type": "stream",
       "stream": "stdout",
       "text": [
        "Job launched 7734.6s ago, status RUNNING: Running step (mergeStn.ubuntu.20140611.230448.458988: Step 1 of 1)\r\n"
       ]
      },
      {
       "output_type": "stream",
       "stream": "stdout",
       "text": [
        "Job launched 7764.8s ago, status RUNNING: Running step (mergeStn.ubuntu.20140611.230448.458988: Step 1 of 1)\r\n"
       ]
      },
      {
       "output_type": "stream",
       "stream": "stdout",
       "text": [
        "Job launched 7795.1s ago, status RUNNING: Running step (mergeStn.ubuntu.20140611.230448.458988: Step 1 of 1)\r\n"
       ]
      },
      {
       "output_type": "stream",
       "stream": "stdout",
       "text": [
        "Job launched 7825.3s ago, status RUNNING: Running step (mergeStn.ubuntu.20140611.230448.458988: Step 1 of 1)\r\n"
       ]
      },
      {
       "output_type": "stream",
       "stream": "stdout",
       "text": [
        "Job launched 7855.5s ago, status RUNNING: Running step (mergeStn.ubuntu.20140611.230448.458988: Step 1 of 1)\r\n"
       ]
      },
      {
       "output_type": "stream",
       "stream": "stdout",
       "text": [
        "Job launched 7885.7s ago, status RUNNING: Running step (mergeStn.ubuntu.20140611.230448.458988: Step 1 of 1)\r\n"
       ]
      },
      {
       "output_type": "stream",
       "stream": "stdout",
       "text": [
        "Job launched 7916.1s ago, status RUNNING: Running step (mergeStn.ubuntu.20140611.230448.458988: Step 1 of 1)\r\n"
       ]
      },
      {
       "output_type": "stream",
       "stream": "stdout",
       "text": [
        "Job launched 7946.3s ago, status RUNNING: Running step (mergeStn.ubuntu.20140611.230448.458988: Step 1 of 1)\r\n"
       ]
      },
      {
       "output_type": "stream",
       "stream": "stdout",
       "text": [
        "Job launched 7976.5s ago, status RUNNING: Running step (mergeStn.ubuntu.20140611.230448.458988: Step 1 of 1)\r\n"
       ]
      },
      {
       "output_type": "stream",
       "stream": "stdout",
       "text": [
        "Job launched 8006.8s ago, status RUNNING: Running step (mergeStn.ubuntu.20140611.230448.458988: Step 1 of 1)\r\n"
       ]
      },
      {
       "output_type": "stream",
       "stream": "stdout",
       "text": [
        "Job launched 8037.0s ago, status RUNNING: Running step (mergeStn.ubuntu.20140611.230448.458988: Step 1 of 1)\r\n"
       ]
      },
      {
       "output_type": "stream",
       "stream": "stdout",
       "text": [
        "Job launched 8067.3s ago, status RUNNING: Running step (mergeStn.ubuntu.20140611.230448.458988: Step 1 of 1)\r\n"
       ]
      },
      {
       "output_type": "stream",
       "stream": "stdout",
       "text": [
        "Job launched 8097.5s ago, status RUNNING: Running step (mergeStn.ubuntu.20140611.230448.458988: Step 1 of 1)\r\n"
       ]
      },
      {
       "output_type": "stream",
       "stream": "stdout",
       "text": [
        "Job launched 8127.7s ago, status RUNNING: Running step (mergeStn.ubuntu.20140611.230448.458988: Step 1 of 1)\r\n"
       ]
      },
      {
       "output_type": "stream",
       "stream": "stdout",
       "text": [
        "Job launched 8157.9s ago, status RUNNING: Running step (mergeStn.ubuntu.20140611.230448.458988: Step 1 of 1)\r\n"
       ]
      },
      {
       "output_type": "stream",
       "stream": "stdout",
       "text": [
        "Job launched 8188.1s ago, status RUNNING: Running step (mergeStn.ubuntu.20140611.230448.458988: Step 1 of 1)\r\n"
       ]
      },
      {
       "output_type": "stream",
       "stream": "stdout",
       "text": [
        "Job launched 8218.3s ago, status RUNNING: Running step (mergeStn.ubuntu.20140611.230448.458988: Step 1 of 1)\r\n"
       ]
      },
      {
       "output_type": "stream",
       "stream": "stdout",
       "text": [
        "Job launched 8248.6s ago, status RUNNING: Running step (mergeStn.ubuntu.20140611.230448.458988: Step 1 of 1)\r\n"
       ]
      },
      {
       "output_type": "stream",
       "stream": "stdout",
       "text": [
        "Job launched 8278.8s ago, status RUNNING: Running step (mergeStn.ubuntu.20140611.230448.458988: Step 1 of 1)\r\n"
       ]
      },
      {
       "output_type": "stream",
       "stream": "stdout",
       "text": [
        "Job launched 8309.0s ago, status RUNNING: Running step (mergeStn.ubuntu.20140611.230448.458988: Step 1 of 1)\r\n"
       ]
      },
      {
       "output_type": "stream",
       "stream": "stdout",
       "text": [
        "Job launched 8339.2s ago, status RUNNING: Running step (mergeStn.ubuntu.20140611.230448.458988: Step 1 of 1)\r\n"
       ]
      },
      {
       "output_type": "stream",
       "stream": "stdout",
       "text": [
        "Job launched 8369.4s ago, status RUNNING: Running step (mergeStn.ubuntu.20140611.230448.458988: Step 1 of 1)\r\n"
       ]
      },
      {
       "output_type": "stream",
       "stream": "stdout",
       "text": [
        "Job launched 8399.6s ago, status RUNNING: Running step (mergeStn.ubuntu.20140611.230448.458988: Step 1 of 1)\r\n"
       ]
      },
      {
       "output_type": "stream",
       "stream": "stdout",
       "text": [
        "Job launched 8429.8s ago, status RUNNING: Running step (mergeStn.ubuntu.20140611.230448.458988: Step 1 of 1)\r\n"
       ]
      },
      {
       "output_type": "stream",
       "stream": "stdout",
       "text": [
        "Job launched 8460.0s ago, status RUNNING: Running step (mergeStn.ubuntu.20140611.230448.458988: Step 1 of 1)\r\n"
       ]
      },
      {
       "output_type": "stream",
       "stream": "stdout",
       "text": [
        "Job launched 8490.2s ago, status RUNNING: Running step (mergeStn.ubuntu.20140611.230448.458988: Step 1 of 1)\r\n"
       ]
      },
      {
       "output_type": "stream",
       "stream": "stdout",
       "text": [
        "Job launched 8520.5s ago, status RUNNING: Running step (mergeStn.ubuntu.20140611.230448.458988: Step 1 of 1)\r\n"
       ]
      },
      {
       "output_type": "stream",
       "stream": "stdout",
       "text": [
        "Job launched 8550.7s ago, status RUNNING: Running step (mergeStn.ubuntu.20140611.230448.458988: Step 1 of 1)\r\n"
       ]
      },
      {
       "output_type": "stream",
       "stream": "stdout",
       "text": [
        "Job launched 8580.9s ago, status RUNNING: Running step (mergeStn.ubuntu.20140611.230448.458988: Step 1 of 1)\r\n"
       ]
      },
      {
       "output_type": "stream",
       "stream": "stdout",
       "text": [
        "Job launched 8611.2s ago, status RUNNING: Running step (mergeStn.ubuntu.20140611.230448.458988: Step 1 of 1)\r\n"
       ]
      },
      {
       "output_type": "stream",
       "stream": "stdout",
       "text": [
        "Job launched 8641.4s ago, status RUNNING: Running step (mergeStn.ubuntu.20140611.230448.458988: Step 1 of 1)\r\n"
       ]
      },
      {
       "output_type": "stream",
       "stream": "stdout",
       "text": [
        "Job launched 8671.6s ago, status RUNNING: Running step (mergeStn.ubuntu.20140611.230448.458988: Step 1 of 1)\r\n"
       ]
      },
      {
       "output_type": "stream",
       "stream": "stdout",
       "text": [
        "Job launched 8701.8s ago, status RUNNING: Running step (mergeStn.ubuntu.20140611.230448.458988: Step 1 of 1)\r\n"
       ]
      },
      {
       "output_type": "stream",
       "stream": "stdout",
       "text": [
        "Job launched 8732.0s ago, status RUNNING: Running step (mergeStn.ubuntu.20140611.230448.458988: Step 1 of 1)\r\n"
       ]
      },
      {
       "output_type": "stream",
       "stream": "stdout",
       "text": [
        "Job launched 8762.3s ago, status RUNNING: Running step (mergeStn.ubuntu.20140611.230448.458988: Step 1 of 1)\r\n"
       ]
      },
      {
       "output_type": "stream",
       "stream": "stdout",
       "text": [
        "Job launched 8792.5s ago, status RUNNING: Running step (mergeStn.ubuntu.20140611.230448.458988: Step 1 of 1)\r\n"
       ]
      },
      {
       "output_type": "stream",
       "stream": "stdout",
       "text": [
        "Job launched 8822.8s ago, status RUNNING: Running step (mergeStn.ubuntu.20140611.230448.458988: Step 1 of 1)\r\n"
       ]
      },
      {
       "output_type": "stream",
       "stream": "stdout",
       "text": [
        "Job launched 8853.0s ago, status RUNNING: Running step (mergeStn.ubuntu.20140611.230448.458988: Step 1 of 1)\r\n"
       ]
      },
      {
       "output_type": "stream",
       "stream": "stdout",
       "text": [
        "Job launched 8883.1s ago, status RUNNING: Running step (mergeStn.ubuntu.20140611.230448.458988: Step 1 of 1)\r\n"
       ]
      },
      {
       "output_type": "stream",
       "stream": "stdout",
       "text": [
        "Job launched 8913.3s ago, status RUNNING: Running step (mergeStn.ubuntu.20140611.230448.458988: Step 1 of 1)\r\n"
       ]
      },
      {
       "output_type": "stream",
       "stream": "stdout",
       "text": [
        "Job launched 8943.6s ago, status RUNNING: Running step (mergeStn.ubuntu.20140611.230448.458988: Step 1 of 1)\r\n"
       ]
      },
      {
       "output_type": "stream",
       "stream": "stdout",
       "text": [
        "Job launched 8973.8s ago, status RUNNING: Running step (mergeStn.ubuntu.20140611.230448.458988: Step 1 of 1)\r\n"
       ]
      },
      {
       "output_type": "stream",
       "stream": "stdout",
       "text": [
        "Job launched 9004.0s ago, status RUNNING: Running step (mergeStn.ubuntu.20140611.230448.458988: Step 1 of 1)\r\n"
       ]
      },
      {
       "output_type": "stream",
       "stream": "stdout",
       "text": [
        "Job launched 9034.2s ago, status RUNNING: Running step (mergeStn.ubuntu.20140611.230448.458988: Step 1 of 1)\r\n"
       ]
      },
      {
       "output_type": "stream",
       "stream": "stdout",
       "text": [
        "Job launched 9064.4s ago, status RUNNING: Running step (mergeStn.ubuntu.20140611.230448.458988: Step 1 of 1)\r\n"
       ]
      },
      {
       "output_type": "stream",
       "stream": "stdout",
       "text": [
        "Job launched 9094.6s ago, status RUNNING: Running step (mergeStn.ubuntu.20140611.230448.458988: Step 1 of 1)\r\n"
       ]
      },
      {
       "output_type": "stream",
       "stream": "stdout",
       "text": [
        "Job launched 9124.8s ago, status RUNNING: Running step (mergeStn.ubuntu.20140611.230448.458988: Step 1 of 1)\r\n"
       ]
      },
      {
       "output_type": "stream",
       "stream": "stdout",
       "text": [
        "Job launched 9155.0s ago, status RUNNING: Running step (mergeStn.ubuntu.20140611.230448.458988: Step 1 of 1)\r\n"
       ]
      },
      {
       "output_type": "stream",
       "stream": "stdout",
       "text": [
        "Job launched 9185.2s ago, status RUNNING: Running step (mergeStn.ubuntu.20140611.230448.458988: Step 1 of 1)\r\n"
       ]
      },
      {
       "output_type": "stream",
       "stream": "stdout",
       "text": [
        "Job launched 9215.5s ago, status RUNNING: Running step (mergeStn.ubuntu.20140611.230448.458988: Step 1 of 1)\r\n"
       ]
      },
      {
       "output_type": "stream",
       "stream": "stdout",
       "text": [
        "Job launched 9245.7s ago, status RUNNING: Running step (mergeStn.ubuntu.20140611.230448.458988: Step 1 of 1)\r\n"
       ]
      },
      {
       "output_type": "stream",
       "stream": "stdout",
       "text": [
        "Job launched 9275.9s ago, status RUNNING: Running step (mergeStn.ubuntu.20140611.230448.458988: Step 1 of 1)\r\n"
       ]
      },
      {
       "output_type": "stream",
       "stream": "stdout",
       "text": [
        "Job launched 9306.1s ago, status RUNNING: Running step (mergeStn.ubuntu.20140611.230448.458988: Step 1 of 1)\r\n"
       ]
      },
      {
       "output_type": "stream",
       "stream": "stdout",
       "text": [
        "Job launched 9336.3s ago, status RUNNING: Running step (mergeStn.ubuntu.20140611.230448.458988: Step 1 of 1)\r\n"
       ]
      },
      {
       "output_type": "stream",
       "stream": "stdout",
       "text": [
        "Job launched 9366.5s ago, status RUNNING: Running step (mergeStn.ubuntu.20140611.230448.458988: Step 1 of 1)\r\n"
       ]
      },
      {
       "output_type": "stream",
       "stream": "stdout",
       "text": [
        "Job launched 9396.7s ago, status RUNNING: Running step (mergeStn.ubuntu.20140611.230448.458988: Step 1 of 1)\r\n"
       ]
      },
      {
       "output_type": "stream",
       "stream": "stdout",
       "text": [
        "Job launched 9426.9s ago, status RUNNING: Running step (mergeStn.ubuntu.20140611.230448.458988: Step 1 of 1)\r\n"
       ]
      },
      {
       "output_type": "stream",
       "stream": "stdout",
       "text": [
        "Job launched 9457.1s ago, status RUNNING: Running step (mergeStn.ubuntu.20140611.230448.458988: Step 1 of 1)\r\n"
       ]
      },
      {
       "output_type": "stream",
       "stream": "stdout",
       "text": [
        "Job launched 9487.4s ago, status RUNNING: Running step (mergeStn.ubuntu.20140611.230448.458988: Step 1 of 1)\r\n"
       ]
      },
      {
       "output_type": "stream",
       "stream": "stdout",
       "text": [
        "Job launched 9517.6s ago, status RUNNING: Running step (mergeStn.ubuntu.20140611.230448.458988: Step 1 of 1)\r\n"
       ]
      },
      {
       "output_type": "stream",
       "stream": "stdout",
       "text": [
        "Job launched 9547.8s ago, status RUNNING: Running step (mergeStn.ubuntu.20140611.230448.458988: Step 1 of 1)\r\n"
       ]
      },
      {
       "output_type": "stream",
       "stream": "stdout",
       "text": [
        "Job launched 9578.0s ago, status RUNNING: Running step (mergeStn.ubuntu.20140611.230448.458988: Step 1 of 1)\r\n"
       ]
      },
      {
       "output_type": "stream",
       "stream": "stdout",
       "text": [
        "Job launched 9608.2s ago, status RUNNING: Running step (mergeStn.ubuntu.20140611.230448.458988: Step 1 of 1)\r\n"
       ]
      },
      {
       "output_type": "stream",
       "stream": "stdout",
       "text": [
        "Job launched 9638.4s ago, status RUNNING: Running step (mergeStn.ubuntu.20140611.230448.458988: Step 1 of 1)\r\n"
       ]
      },
      {
       "output_type": "stream",
       "stream": "stdout",
       "text": [
        "Job launched 9668.6s ago, status RUNNING: Running step (mergeStn.ubuntu.20140611.230448.458988: Step 1 of 1)\r\n"
       ]
      },
      {
       "output_type": "stream",
       "stream": "stdout",
       "text": [
        "Job launched 9698.9s ago, status RUNNING: Running step (mergeStn.ubuntu.20140611.230448.458988: Step 1 of 1)\r\n"
       ]
      },
      {
       "output_type": "stream",
       "stream": "stdout",
       "text": [
        "Job launched 9729.1s ago, status RUNNING: Running step (mergeStn.ubuntu.20140611.230448.458988: Step 1 of 1)\r\n"
       ]
      },
      {
       "output_type": "stream",
       "stream": "stdout",
       "text": [
        "Job launched 9759.4s ago, status RUNNING: Running step (mergeStn.ubuntu.20140611.230448.458988: Step 1 of 1)\r\n"
       ]
      },
      {
       "output_type": "stream",
       "stream": "stdout",
       "text": [
        "Job launched 9789.6s ago, status RUNNING: Running step (mergeStn.ubuntu.20140611.230448.458988: Step 1 of 1)\r\n"
       ]
      },
      {
       "output_type": "stream",
       "stream": "stdout",
       "text": [
        "Job launched 9819.8s ago, status RUNNING: Running step (mergeStn.ubuntu.20140611.230448.458988: Step 1 of 1)\r\n"
       ]
      },
      {
       "output_type": "stream",
       "stream": "stdout",
       "text": [
        "Job launched 9850.1s ago, status RUNNING: Running step (mergeStn.ubuntu.20140611.230448.458988: Step 1 of 1)\r\n"
       ]
      },
      {
       "output_type": "stream",
       "stream": "stdout",
       "text": [
        "Job launched 9880.3s ago, status RUNNING: Running step (mergeStn.ubuntu.20140611.230448.458988: Step 1 of 1)\r\n"
       ]
      },
      {
       "output_type": "stream",
       "stream": "stdout",
       "text": [
        "Job launched 9910.5s ago, status RUNNING: Running step (mergeStn.ubuntu.20140611.230448.458988: Step 1 of 1)\r\n"
       ]
      },
      {
       "output_type": "stream",
       "stream": "stdout",
       "text": [
        "Job launched 9940.8s ago, status RUNNING: Running step (mergeStn.ubuntu.20140611.230448.458988: Step 1 of 1)\r\n"
       ]
      },
      {
       "output_type": "stream",
       "stream": "stdout",
       "text": [
        "Job launched 9971.0s ago, status RUNNING: Running step (mergeStn.ubuntu.20140611.230448.458988: Step 1 of 1)\r\n"
       ]
      },
      {
       "output_type": "stream",
       "stream": "stdout",
       "text": [
        "Job launched 10001.2s ago, status RUNNING: Running step (mergeStn.ubuntu.20140611.230448.458988: Step 1 of 1)\r\n"
       ]
      },
      {
       "output_type": "stream",
       "stream": "stdout",
       "text": [
        "Job launched 10031.4s ago, status RUNNING: Running step (mergeStn.ubuntu.20140611.230448.458988: Step 1 of 1)\r\n"
       ]
      },
      {
       "output_type": "stream",
       "stream": "stdout",
       "text": [
        "Job launched 10061.6s ago, status RUNNING: Running step (mergeStn.ubuntu.20140611.230448.458988: Step 1 of 1)\r\n"
       ]
      },
      {
       "output_type": "stream",
       "stream": "stdout",
       "text": [
        "Job launched 10091.8s ago, status RUNNING: Running step (mergeStn.ubuntu.20140611.230448.458988: Step 1 of 1)\r\n"
       ]
      },
      {
       "output_type": "stream",
       "stream": "stdout",
       "text": [
        "Job launched 10122.1s ago, status RUNNING: Running step (mergeStn.ubuntu.20140611.230448.458988: Step 1 of 1)\r\n"
       ]
      },
      {
       "output_type": "stream",
       "stream": "stdout",
       "text": [
        "Job launched 10152.3s ago, status RUNNING: Running step (mergeStn.ubuntu.20140611.230448.458988: Step 1 of 1)\r\n"
       ]
      },
      {
       "output_type": "stream",
       "stream": "stdout",
       "text": [
        "Job launched 10182.6s ago, status RUNNING: Running step (mergeStn.ubuntu.20140611.230448.458988: Step 1 of 1)\r\n"
       ]
      },
      {
       "output_type": "stream",
       "stream": "stdout",
       "text": [
        "Job launched 10212.8s ago, status RUNNING: Running step (mergeStn.ubuntu.20140611.230448.458988: Step 1 of 1)\r\n"
       ]
      },
      {
       "output_type": "stream",
       "stream": "stdout",
       "text": [
        "Job launched 10243.0s ago, status RUNNING: Running step (mergeStn.ubuntu.20140611.230448.458988: Step 1 of 1)\r\n"
       ]
      },
      {
       "output_type": "stream",
       "stream": "stdout",
       "text": [
        "Job launched 10273.2s ago, status RUNNING: Running step (mergeStn.ubuntu.20140611.230448.458988: Step 1 of 1)\r\n"
       ]
      },
      {
       "output_type": "stream",
       "stream": "stdout",
       "text": [
        "Job launched 10303.5s ago, status RUNNING: Running step (mergeStn.ubuntu.20140611.230448.458988: Step 1 of 1)\r\n"
       ]
      },
      {
       "output_type": "stream",
       "stream": "stdout",
       "text": [
        "Job launched 10333.6s ago, status RUNNING: Running step (mergeStn.ubuntu.20140611.230448.458988: Step 1 of 1)\r\n"
       ]
      },
      {
       "output_type": "stream",
       "stream": "stdout",
       "text": [
        "Job launched 10363.9s ago, status RUNNING: Running step (mergeStn.ubuntu.20140611.230448.458988: Step 1 of 1)\r\n"
       ]
      },
      {
       "output_type": "stream",
       "stream": "stdout",
       "text": [
        "Job launched 10394.1s ago, status RUNNING: Running step (mergeStn.ubuntu.20140611.230448.458988: Step 1 of 1)\r\n"
       ]
      },
      {
       "output_type": "stream",
       "stream": "stdout",
       "text": [
        "Job launched 10424.3s ago, status RUNNING: Running step (mergeStn.ubuntu.20140611.230448.458988: Step 1 of 1)\r\n"
       ]
      },
      {
       "output_type": "stream",
       "stream": "stdout",
       "text": [
        "Job launched 10454.5s ago, status RUNNING: Running step (mergeStn.ubuntu.20140611.230448.458988: Step 1 of 1)\r\n"
       ]
      },
      {
       "output_type": "stream",
       "stream": "stdout",
       "text": [
        "Job launched 10484.7s ago, status RUNNING: Running step (mergeStn.ubuntu.20140611.230448.458988: Step 1 of 1)\r\n"
       ]
      },
      {
       "output_type": "stream",
       "stream": "stdout",
       "text": [
        "Job launched 10514.9s ago, status RUNNING: Running step (mergeStn.ubuntu.20140611.230448.458988: Step 1 of 1)\r\n"
       ]
      },
      {
       "output_type": "stream",
       "stream": "stdout",
       "text": [
        "Job launched 10545.2s ago, status RUNNING: Running step (mergeStn.ubuntu.20140611.230448.458988: Step 1 of 1)\r\n"
       ]
      },
      {
       "output_type": "stream",
       "stream": "stdout",
       "text": [
        "Job launched 10575.4s ago, status RUNNING: Running step (mergeStn.ubuntu.20140611.230448.458988: Step 1 of 1)\r\n"
       ]
      },
      {
       "output_type": "stream",
       "stream": "stdout",
       "text": [
        "Job launched 10605.6s ago, status RUNNING: Running step (mergeStn.ubuntu.20140611.230448.458988: Step 1 of 1)\r\n"
       ]
      },
      {
       "output_type": "stream",
       "stream": "stdout",
       "text": [
        "Job launched 10635.9s ago, status RUNNING: Running step (mergeStn.ubuntu.20140611.230448.458988: Step 1 of 1)\r\n"
       ]
      },
      {
       "output_type": "stream",
       "stream": "stdout",
       "text": [
        "Job launched 10666.2s ago, status RUNNING: Running step (mergeStn.ubuntu.20140611.230448.458988: Step 1 of 1)\r\n"
       ]
      },
      {
       "output_type": "stream",
       "stream": "stdout",
       "text": [
        "Job launched 10696.4s ago, status RUNNING: Running step (mergeStn.ubuntu.20140611.230448.458988: Step 1 of 1)\r\n"
       ]
      },
      {
       "output_type": "stream",
       "stream": "stdout",
       "text": [
        "Job launched 10726.6s ago, status RUNNING: Running step (mergeStn.ubuntu.20140611.230448.458988: Step 1 of 1)\r\n"
       ]
      },
      {
       "output_type": "stream",
       "stream": "stdout",
       "text": [
        "Job launched 10756.8s ago, status RUNNING: Running step (mergeStn.ubuntu.20140611.230448.458988: Step 1 of 1)\r\n"
       ]
      },
      {
       "output_type": "stream",
       "stream": "stdout",
       "text": [
        "Job launched 10787.1s ago, status RUNNING: Running step (mergeStn.ubuntu.20140611.230448.458988: Step 1 of 1)\r\n"
       ]
      },
      {
       "output_type": "stream",
       "stream": "stdout",
       "text": [
        "Job launched 10817.3s ago, status RUNNING: Running step (mergeStn.ubuntu.20140611.230448.458988: Step 1 of 1)\r\n"
       ]
      },
      {
       "output_type": "stream",
       "stream": "stdout",
       "text": [
        "Job launched 10847.5s ago, status RUNNING: Running step (mergeStn.ubuntu.20140611.230448.458988: Step 1 of 1)\r\n"
       ]
      },
      {
       "output_type": "stream",
       "stream": "stdout",
       "text": [
        "Job launched 10877.7s ago, status RUNNING: Running step (mergeStn.ubuntu.20140611.230448.458988: Step 1 of 1)\r\n"
       ]
      },
      {
       "output_type": "stream",
       "stream": "stdout",
       "text": [
        "Job launched 10907.9s ago, status RUNNING: Running step (mergeStn.ubuntu.20140611.230448.458988: Step 1 of 1)\r\n"
       ]
      },
      {
       "output_type": "stream",
       "stream": "stdout",
       "text": [
        "Job launched 10938.1s ago, status RUNNING: Running step (mergeStn.ubuntu.20140611.230448.458988: Step 1 of 1)\r\n"
       ]
      },
      {
       "output_type": "stream",
       "stream": "stdout",
       "text": [
        "Job launched 10968.3s ago, status RUNNING: Running step (mergeStn.ubuntu.20140611.230448.458988: Step 1 of 1)\r\n"
       ]
      },
      {
       "output_type": "stream",
       "stream": "stdout",
       "text": [
        "Job launched 10998.6s ago, status RUNNING: Running step (mergeStn.ubuntu.20140611.230448.458988: Step 1 of 1)\r\n"
       ]
      },
      {
       "output_type": "stream",
       "stream": "stdout",
       "text": [
        "Job launched 11028.8s ago, status RUNNING: Running step (mergeStn.ubuntu.20140611.230448.458988: Step 1 of 1)\r\n"
       ]
      },
      {
       "output_type": "stream",
       "stream": "stdout",
       "text": [
        "Job launched 11059.0s ago, status RUNNING: Running step (mergeStn.ubuntu.20140611.230448.458988: Step 1 of 1)\r\n"
       ]
      },
      {
       "output_type": "stream",
       "stream": "stdout",
       "text": [
        "Job launched 11089.2s ago, status RUNNING: Running step (mergeStn.ubuntu.20140611.230448.458988: Step 1 of 1)\r\n"
       ]
      },
      {
       "output_type": "stream",
       "stream": "stdout",
       "text": [
        "Job launched 11119.4s ago, status RUNNING: Running step (mergeStn.ubuntu.20140611.230448.458988: Step 1 of 1)\r\n"
       ]
      },
      {
       "output_type": "stream",
       "stream": "stdout",
       "text": [
        "Job launched 11149.6s ago, status RUNNING: Running step (mergeStn.ubuntu.20140611.230448.458988: Step 1 of 1)\r\n"
       ]
      },
      {
       "output_type": "stream",
       "stream": "stdout",
       "text": [
        "Job launched 11179.8s ago, status RUNNING: Running step (mergeStn.ubuntu.20140611.230448.458988: Step 1 of 1)\r\n"
       ]
      },
      {
       "output_type": "stream",
       "stream": "stdout",
       "text": [
        "Job launched 11210.1s ago, status RUNNING: Running step (mergeStn.ubuntu.20140611.230448.458988: Step 1 of 1)\r\n"
       ]
      },
      {
       "output_type": "stream",
       "stream": "stdout",
       "text": [
        "Job launched 11240.3s ago, status RUNNING: Running step (mergeStn.ubuntu.20140611.230448.458988: Step 1 of 1)\r\n"
       ]
      },
      {
       "output_type": "stream",
       "stream": "stdout",
       "text": [
        "Job launched 11270.5s ago, status RUNNING: Running step (mergeStn.ubuntu.20140611.230448.458988: Step 1 of 1)\r\n"
       ]
      },
      {
       "output_type": "stream",
       "stream": "stdout",
       "text": [
        "Job launched 11300.7s ago, status RUNNING: Running step (mergeStn.ubuntu.20140611.230448.458988: Step 1 of 1)\r\n"
       ]
      },
      {
       "output_type": "stream",
       "stream": "stdout",
       "text": [
        "Job launched 11330.9s ago, status RUNNING: Running step (mergeStn.ubuntu.20140611.230448.458988: Step 1 of 1)\r\n"
       ]
      },
      {
       "output_type": "stream",
       "stream": "stdout",
       "text": [
        "Job launched 11361.1s ago, status RUNNING: Running step (mergeStn.ubuntu.20140611.230448.458988: Step 1 of 1)\r\n"
       ]
      },
      {
       "output_type": "stream",
       "stream": "stdout",
       "text": [
        "Job launched 11391.4s ago, status RUNNING: Running step (mergeStn.ubuntu.20140611.230448.458988: Step 1 of 1)\r\n"
       ]
      },
      {
       "output_type": "stream",
       "stream": "stdout",
       "text": [
        "Job launched 11421.6s ago, status RUNNING: Running step (mergeStn.ubuntu.20140611.230448.458988: Step 1 of 1)\r\n"
       ]
      },
      {
       "output_type": "stream",
       "stream": "stdout",
       "text": [
        "Job launched 11451.8s ago, status RUNNING: Running step (mergeStn.ubuntu.20140611.230448.458988: Step 1 of 1)\r\n"
       ]
      },
      {
       "output_type": "stream",
       "stream": "stdout",
       "text": [
        "Job launched 11482.1s ago, status RUNNING: Running step (mergeStn.ubuntu.20140611.230448.458988: Step 1 of 1)\r\n"
       ]
      },
      {
       "output_type": "stream",
       "stream": "stdout",
       "text": [
        "Job launched 11512.3s ago, status RUNNING: Running step (mergeStn.ubuntu.20140611.230448.458988: Step 1 of 1)\r\n"
       ]
      },
      {
       "output_type": "stream",
       "stream": "stdout",
       "text": [
        "Job launched 11542.5s ago, status RUNNING: Running step (mergeStn.ubuntu.20140611.230448.458988: Step 1 of 1)\r\n"
       ]
      },
      {
       "output_type": "stream",
       "stream": "stdout",
       "text": [
        "Job launched 11572.7s ago, status RUNNING: Running step (mergeStn.ubuntu.20140611.230448.458988: Step 1 of 1)\r\n"
       ]
      },
      {
       "output_type": "stream",
       "stream": "stdout",
       "text": [
        "Job launched 11603.0s ago, status RUNNING: Running step (mergeStn.ubuntu.20140611.230448.458988: Step 1 of 1)\r\n"
       ]
      },
      {
       "output_type": "stream",
       "stream": "stdout",
       "text": [
        "Job launched 11633.2s ago, status RUNNING: Running step (mergeStn.ubuntu.20140611.230448.458988: Step 1 of 1)\r\n"
       ]
      },
      {
       "output_type": "stream",
       "stream": "stdout",
       "text": [
        "Job launched 11663.5s ago, status RUNNING: Running step (mergeStn.ubuntu.20140611.230448.458988: Step 1 of 1)\r\n"
       ]
      },
      {
       "output_type": "stream",
       "stream": "stdout",
       "text": [
        "Job launched 11693.8s ago, status RUNNING: Running step (mergeStn.ubuntu.20140611.230448.458988: Step 1 of 1)\r\n"
       ]
      },
      {
       "output_type": "stream",
       "stream": "stdout",
       "text": [
        "Job launched 11724.0s ago, status RUNNING: Running step (mergeStn.ubuntu.20140611.230448.458988: Step 1 of 1)\r\n"
       ]
      },
      {
       "output_type": "stream",
       "stream": "stdout",
       "text": [
        "Job launched 11754.3s ago, status RUNNING: Running step (mergeStn.ubuntu.20140611.230448.458988: Step 1 of 1)\r\n"
       ]
      },
      {
       "output_type": "stream",
       "stream": "stdout",
       "text": [
        "Job launched 11784.5s ago, status RUNNING: Running step (mergeStn.ubuntu.20140611.230448.458988: Step 1 of 1)\r\n"
       ]
      },
      {
       "output_type": "stream",
       "stream": "stdout",
       "text": [
        "Job launched 11814.7s ago, status RUNNING: Running step (mergeStn.ubuntu.20140611.230448.458988: Step 1 of 1)\r\n"
       ]
      },
      {
       "output_type": "stream",
       "stream": "stdout",
       "text": [
        "Job launched 11844.9s ago, status RUNNING: Running step (mergeStn.ubuntu.20140611.230448.458988: Step 1 of 1)\r\n"
       ]
      },
      {
       "output_type": "stream",
       "stream": "stdout",
       "text": [
        "Job launched 11875.1s ago, status RUNNING: Running step (mergeStn.ubuntu.20140611.230448.458988: Step 1 of 1)\r\n"
       ]
      },
      {
       "output_type": "stream",
       "stream": "stdout",
       "text": [
        "Job launched 11905.4s ago, status RUNNING: Running step (mergeStn.ubuntu.20140611.230448.458988: Step 1 of 1)\r\n"
       ]
      },
      {
       "output_type": "stream",
       "stream": "stdout",
       "text": [
        "Job launched 11935.6s ago, status RUNNING: Running step (mergeStn.ubuntu.20140611.230448.458988: Step 1 of 1)\r\n"
       ]
      },
      {
       "output_type": "stream",
       "stream": "stdout",
       "text": [
        "Job launched 11965.8s ago, status RUNNING: Running step (mergeStn.ubuntu.20140611.230448.458988: Step 1 of 1)\r\n"
       ]
      },
      {
       "output_type": "stream",
       "stream": "stdout",
       "text": [
        "Job launched 11996.1s ago, status RUNNING: Running step (mergeStn.ubuntu.20140611.230448.458988: Step 1 of 1)\r\n"
       ]
      },
      {
       "output_type": "stream",
       "stream": "stdout",
       "text": [
        "Job launched 12026.3s ago, status RUNNING: Running step (mergeStn.ubuntu.20140611.230448.458988: Step 1 of 1)\r\n"
       ]
      },
      {
       "output_type": "stream",
       "stream": "stdout",
       "text": [
        "Job launched 12056.5s ago, status RUNNING: Running step (mergeStn.ubuntu.20140611.230448.458988: Step 1 of 1)\r\n"
       ]
      },
      {
       "output_type": "stream",
       "stream": "stdout",
       "text": [
        "Job launched 12086.7s ago, status RUNNING: Running step (mergeStn.ubuntu.20140611.230448.458988: Step 1 of 1)\r\n"
       ]
      },
      {
       "output_type": "stream",
       "stream": "stdout",
       "text": [
        "Job launched 12116.9s ago, status RUNNING: Running step (mergeStn.ubuntu.20140611.230448.458988: Step 1 of 1)\r\n"
       ]
      },
      {
       "output_type": "stream",
       "stream": "stdout",
       "text": [
        "Job launched 12147.2s ago, status RUNNING: Running step (mergeStn.ubuntu.20140611.230448.458988: Step 1 of 1)\r\n"
       ]
      },
      {
       "output_type": "stream",
       "stream": "stdout",
       "text": [
        "Job launched 12177.4s ago, status RUNNING: Running step (mergeStn.ubuntu.20140611.230448.458988: Step 1 of 1)\r\n"
       ]
      },
      {
       "output_type": "stream",
       "stream": "stdout",
       "text": [
        "Job launched 12207.6s ago, status RUNNING: Running step (mergeStn.ubuntu.20140611.230448.458988: Step 1 of 1)\r\n"
       ]
      },
      {
       "output_type": "stream",
       "stream": "stdout",
       "text": [
        "Job launched 12237.9s ago, status RUNNING: Running step (mergeStn.ubuntu.20140611.230448.458988: Step 1 of 1)\r\n"
       ]
      },
      {
       "output_type": "stream",
       "stream": "stdout",
       "text": [
        "Job launched 12268.1s ago, status RUNNING: Running step (mergeStn.ubuntu.20140611.230448.458988: Step 1 of 1)\r\n"
       ]
      },
      {
       "output_type": "stream",
       "stream": "stdout",
       "text": [
        "Job launched 12298.3s ago, status RUNNING: Running step (mergeStn.ubuntu.20140611.230448.458988: Step 1 of 1)\r\n"
       ]
      },
      {
       "output_type": "stream",
       "stream": "stdout",
       "text": [
        "Job launched 12328.5s ago, status RUNNING: Running step (mergeStn.ubuntu.20140611.230448.458988: Step 1 of 1)\r\n"
       ]
      },
      {
       "output_type": "stream",
       "stream": "stdout",
       "text": [
        "Job launched 12358.8s ago, status RUNNING: Running step (mergeStn.ubuntu.20140611.230448.458988: Step 1 of 1)\r\n"
       ]
      },
      {
       "output_type": "stream",
       "stream": "stdout",
       "text": [
        "Job launched 12389.0s ago, status RUNNING: Running step (mergeStn.ubuntu.20140611.230448.458988: Step 1 of 1)\r\n"
       ]
      },
      {
       "output_type": "stream",
       "stream": "stdout",
       "text": [
        "Job launched 12419.2s ago, status RUNNING: Running step (mergeStn.ubuntu.20140611.230448.458988: Step 1 of 1)\r\n"
       ]
      },
      {
       "output_type": "stream",
       "stream": "stdout",
       "text": [
        "Job launched 12449.4s ago, status RUNNING: Running step (mergeStn.ubuntu.20140611.230448.458988: Step 1 of 1)\r\n"
       ]
      },
      {
       "output_type": "stream",
       "stream": "stdout",
       "text": [
        "Job launched 12479.6s ago, status RUNNING: Running step (mergeStn.ubuntu.20140611.230448.458988: Step 1 of 1)\r\n"
       ]
      },
      {
       "output_type": "stream",
       "stream": "stdout",
       "text": [
        "Job launched 12509.8s ago, status RUNNING: Running step (mergeStn.ubuntu.20140611.230448.458988: Step 1 of 1)\r\n"
       ]
      },
      {
       "output_type": "stream",
       "stream": "stdout",
       "text": [
        "Job launched 12540.1s ago, status RUNNING: Running step (mergeStn.ubuntu.20140611.230448.458988: Step 1 of 1)\r\n"
       ]
      },
      {
       "output_type": "stream",
       "stream": "stdout",
       "text": [
        "Job launched 12570.3s ago, status RUNNING: Running step (mergeStn.ubuntu.20140611.230448.458988: Step 1 of 1)\r\n"
       ]
      },
      {
       "output_type": "stream",
       "stream": "stdout",
       "text": [
        "Job launched 12600.5s ago, status RUNNING: Running step (mergeStn.ubuntu.20140611.230448.458988: Step 1 of 1)\r\n"
       ]
      },
      {
       "output_type": "stream",
       "stream": "stdout",
       "text": [
        "Job launched 12630.7s ago, status RUNNING: Running step (mergeStn.ubuntu.20140611.230448.458988: Step 1 of 1)\r\n"
       ]
      },
      {
       "output_type": "stream",
       "stream": "stdout",
       "text": [
        "Job launched 12660.9s ago, status RUNNING: Running step (mergeStn.ubuntu.20140611.230448.458988: Step 1 of 1)\r\n"
       ]
      },
      {
       "output_type": "stream",
       "stream": "stdout",
       "text": [
        "Job launched 12691.2s ago, status RUNNING: Running step (mergeStn.ubuntu.20140611.230448.458988: Step 1 of 1)\r\n"
       ]
      },
      {
       "output_type": "stream",
       "stream": "stdout",
       "text": [
        "Job launched 12721.4s ago, status RUNNING: Running step (mergeStn.ubuntu.20140611.230448.458988: Step 1 of 1)\r\n"
       ]
      },
      {
       "output_type": "stream",
       "stream": "stdout",
       "text": [
        "Job launched 12751.6s ago, status RUNNING: Running step (mergeStn.ubuntu.20140611.230448.458988: Step 1 of 1)\r\n"
       ]
      },
      {
       "output_type": "stream",
       "stream": "stdout",
       "text": [
        "Job launched 12781.8s ago, status RUNNING: Running step (mergeStn.ubuntu.20140611.230448.458988: Step 1 of 1)\r\n"
       ]
      },
      {
       "output_type": "stream",
       "stream": "stdout",
       "text": [
        "Job launched 12812.0s ago, status RUNNING: Running step (mergeStn.ubuntu.20140611.230448.458988: Step 1 of 1)\r\n"
       ]
      },
      {
       "output_type": "stream",
       "stream": "stdout",
       "text": [
        "Job launched 12842.2s ago, status RUNNING: Running step (mergeStn.ubuntu.20140611.230448.458988: Step 1 of 1)\r\n"
       ]
      },
      {
       "output_type": "stream",
       "stream": "stdout",
       "text": [
        "Job launched 12872.4s ago, status RUNNING: Running step (mergeStn.ubuntu.20140611.230448.458988: Step 1 of 1)\r\n"
       ]
      },
      {
       "output_type": "stream",
       "stream": "stdout",
       "text": [
        "Job launched 12902.6s ago, status RUNNING: Running step (mergeStn.ubuntu.20140611.230448.458988: Step 1 of 1)\r\n"
       ]
      },
      {
       "output_type": "stream",
       "stream": "stdout",
       "text": [
        "Job launched 12932.9s ago, status RUNNING: Running step (mergeStn.ubuntu.20140611.230448.458988: Step 1 of 1)\r\n"
       ]
      },
      {
       "output_type": "stream",
       "stream": "stdout",
       "text": [
        "Job launched 12963.1s ago, status RUNNING: Running step (mergeStn.ubuntu.20140611.230448.458988: Step 1 of 1)\r\n"
       ]
      },
      {
       "output_type": "stream",
       "stream": "stdout",
       "text": [
        "Job launched 12993.3s ago, status RUNNING: Running step (mergeStn.ubuntu.20140611.230448.458988: Step 1 of 1)\r\n"
       ]
      },
      {
       "output_type": "stream",
       "stream": "stdout",
       "text": [
        "Job launched 13023.6s ago, status RUNNING: Running step (mergeStn.ubuntu.20140611.230448.458988: Step 1 of 1)\r\n"
       ]
      },
      {
       "output_type": "stream",
       "stream": "stdout",
       "text": [
        "Job launched 13053.8s ago, status RUNNING: Running step (mergeStn.ubuntu.20140611.230448.458988: Step 1 of 1)\r\n"
       ]
      },
      {
       "output_type": "stream",
       "stream": "stdout",
       "text": [
        "Job launched 13084.0s ago, status RUNNING: Running step (mergeStn.ubuntu.20140611.230448.458988: Step 1 of 1)\r\n"
       ]
      },
      {
       "output_type": "stream",
       "stream": "stdout",
       "text": [
        "Job launched 13114.3s ago, status RUNNING: Running step (mergeStn.ubuntu.20140611.230448.458988: Step 1 of 1)\r\n"
       ]
      },
      {
       "output_type": "stream",
       "stream": "stdout",
       "text": [
        "Job launched 13144.5s ago, status RUNNING: Running step (mergeStn.ubuntu.20140611.230448.458988: Step 1 of 1)\r\n"
       ]
      },
      {
       "output_type": "stream",
       "stream": "stdout",
       "text": [
        "Job launched 13174.6s ago, status RUNNING: Running step (mergeStn.ubuntu.20140611.230448.458988: Step 1 of 1)\r\n"
       ]
      },
      {
       "output_type": "stream",
       "stream": "stdout",
       "text": [
        "Job launched 13204.8s ago, status RUNNING: Running step (mergeStn.ubuntu.20140611.230448.458988: Step 1 of 1)\r\n"
       ]
      },
      {
       "output_type": "stream",
       "stream": "stdout",
       "text": [
        "Job launched 13235.1s ago, status RUNNING: Running step (mergeStn.ubuntu.20140611.230448.458988: Step 1 of 1)\r\n"
       ]
      },
      {
       "output_type": "stream",
       "stream": "stdout",
       "text": [
        "Job launched 13265.4s ago, status RUNNING: Running step (mergeStn.ubuntu.20140611.230448.458988: Step 1 of 1)\r\n"
       ]
      },
      {
       "output_type": "stream",
       "stream": "stdout",
       "text": [
        "Job launched 13295.6s ago, status RUNNING: Running step (mergeStn.ubuntu.20140611.230448.458988: Step 1 of 1)\r\n"
       ]
      },
      {
       "output_type": "stream",
       "stream": "stdout",
       "text": [
        "Job launched 13325.8s ago, status RUNNING: Running step (mergeStn.ubuntu.20140611.230448.458988: Step 1 of 1)\r\n"
       ]
      },
      {
       "output_type": "stream",
       "stream": "stdout",
       "text": [
        "Job launched 13356.0s ago, status RUNNING: Running step (mergeStn.ubuntu.20140611.230448.458988: Step 1 of 1)\r\n"
       ]
      },
      {
       "output_type": "stream",
       "stream": "stdout",
       "text": [
        "Job launched 13386.2s ago, status RUNNING: Running step (mergeStn.ubuntu.20140611.230448.458988: Step 1 of 1)\r\n"
       ]
      },
      {
       "output_type": "stream",
       "stream": "stdout",
       "text": [
        "Job launched 13416.4s ago, status RUNNING: Running step (mergeStn.ubuntu.20140611.230448.458988: Step 1 of 1)\r\n"
       ]
      },
      {
       "output_type": "stream",
       "stream": "stdout",
       "text": [
        "Job launched 13446.6s ago, status RUNNING: Running step (mergeStn.ubuntu.20140611.230448.458988: Step 1 of 1)\r\n"
       ]
      },
      {
       "output_type": "stream",
       "stream": "stdout",
       "text": [
        "Job launched 13476.9s ago, status RUNNING: Running step (mergeStn.ubuntu.20140611.230448.458988: Step 1 of 1)\r\n"
       ]
      },
      {
       "output_type": "stream",
       "stream": "stdout",
       "text": [
        "Job launched 13507.1s ago, status RUNNING: Running step (mergeStn.ubuntu.20140611.230448.458988: Step 1 of 1)\r\n"
       ]
      },
      {
       "output_type": "stream",
       "stream": "stdout",
       "text": [
        "Job launched 13537.2s ago, status RUNNING: Running step (mergeStn.ubuntu.20140611.230448.458988: Step 1 of 1)\r\n"
       ]
      },
      {
       "output_type": "stream",
       "stream": "stdout",
       "text": [
        "Job launched 13567.5s ago, status RUNNING: Running step (mergeStn.ubuntu.20140611.230448.458988: Step 1 of 1)\r\n"
       ]
      },
      {
       "output_type": "stream",
       "stream": "stdout",
       "text": [
        "Job launched 13597.7s ago, status RUNNING: Running step (mergeStn.ubuntu.20140611.230448.458988: Step 1 of 1)\r\n"
       ]
      },
      {
       "output_type": "stream",
       "stream": "stdout",
       "text": [
        "Job launched 13627.9s ago, status RUNNING: Running step (mergeStn.ubuntu.20140611.230448.458988: Step 1 of 1)\r\n"
       ]
      },
      {
       "output_type": "stream",
       "stream": "stdout",
       "text": [
        "Job launched 13658.1s ago, status RUNNING: Running step (mergeStn.ubuntu.20140611.230448.458988: Step 1 of 1)\r\n"
       ]
      },
      {
       "output_type": "stream",
       "stream": "stdout",
       "text": [
        "Job launched 13688.4s ago, status RUNNING: Running step (mergeStn.ubuntu.20140611.230448.458988: Step 1 of 1)\r\n"
       ]
      },
      {
       "output_type": "stream",
       "stream": "stdout",
       "text": [
        "Job launched 13718.6s ago, status RUNNING: Running step (mergeStn.ubuntu.20140611.230448.458988: Step 1 of 1)\r\n"
       ]
      },
      {
       "output_type": "stream",
       "stream": "stdout",
       "text": [
        "Job launched 13748.8s ago, status RUNNING: Running step (mergeStn.ubuntu.20140611.230448.458988: Step 1 of 1)\r\n"
       ]
      },
      {
       "output_type": "stream",
       "stream": "stdout",
       "text": [
        "Job launched 13779.0s ago, status RUNNING: Running step (mergeStn.ubuntu.20140611.230448.458988: Step 1 of 1)\r\n"
       ]
      },
      {
       "output_type": "stream",
       "stream": "stdout",
       "text": [
        "Job launched 13809.2s ago, status RUNNING: Running step (mergeStn.ubuntu.20140611.230448.458988: Step 1 of 1)\r\n"
       ]
      },
      {
       "output_type": "stream",
       "stream": "stdout",
       "text": [
        "Job launched 13839.4s ago, status RUNNING: Running step (mergeStn.ubuntu.20140611.230448.458988: Step 1 of 1)\r\n"
       ]
      },
      {
       "output_type": "stream",
       "stream": "stdout",
       "text": [
        "Job launched 13869.7s ago, status RUNNING: Running step (mergeStn.ubuntu.20140611.230448.458988: Step 1 of 1)\r\n"
       ]
      },
      {
       "output_type": "stream",
       "stream": "stdout",
       "text": [
        "Job launched 13899.9s ago, status RUNNING: Running step (mergeStn.ubuntu.20140611.230448.458988: Step 1 of 1)\r\n"
       ]
      },
      {
       "output_type": "stream",
       "stream": "stdout",
       "text": [
        "Job launched 13930.1s ago, status RUNNING: Running step (mergeStn.ubuntu.20140611.230448.458988: Step 1 of 1)\r\n"
       ]
      },
      {
       "output_type": "stream",
       "stream": "stdout",
       "text": [
        "Job launched 13960.3s ago, status RUNNING: Running step (mergeStn.ubuntu.20140611.230448.458988: Step 1 of 1)\r\n"
       ]
      },
      {
       "output_type": "stream",
       "stream": "stdout",
       "text": [
        "Job launched 13990.5s ago, status RUNNING: Running step (mergeStn.ubuntu.20140611.230448.458988: Step 1 of 1)\r\n"
       ]
      },
      {
       "output_type": "stream",
       "stream": "stdout",
       "text": [
        "Job launched 14020.7s ago, status RUNNING: Running step (mergeStn.ubuntu.20140611.230448.458988: Step 1 of 1)\r\n"
       ]
      },
      {
       "output_type": "stream",
       "stream": "stdout",
       "text": [
        "Job launched 14051.0s ago, status RUNNING: Running step (mergeStn.ubuntu.20140611.230448.458988: Step 1 of 1)\r\n"
       ]
      },
      {
       "output_type": "stream",
       "stream": "stdout",
       "text": [
        "Job launched 14081.2s ago, status RUNNING: Running step (mergeStn.ubuntu.20140611.230448.458988: Step 1 of 1)\r\n"
       ]
      },
      {
       "output_type": "stream",
       "stream": "stdout",
       "text": [
        "Job launched 14111.4s ago, status RUNNING: Running step (mergeStn.ubuntu.20140611.230448.458988: Step 1 of 1)\r\n"
       ]
      },
      {
       "output_type": "stream",
       "stream": "stdout",
       "text": [
        "Job launched 14141.6s ago, status RUNNING: Running step (mergeStn.ubuntu.20140611.230448.458988: Step 1 of 1)\r\n"
       ]
      },
      {
       "output_type": "stream",
       "stream": "stdout",
       "text": [
        "Job launched 14171.8s ago, status RUNNING: Running step (mergeStn.ubuntu.20140611.230448.458988: Step 1 of 1)\r\n"
       ]
      },
      {
       "output_type": "stream",
       "stream": "stdout",
       "text": [
        "Job launched 14202.0s ago, status RUNNING: Running step (mergeStn.ubuntu.20140611.230448.458988: Step 1 of 1)\r\n"
       ]
      },
      {
       "output_type": "stream",
       "stream": "stdout",
       "text": [
        "Job launched 14232.3s ago, status RUNNING: Running step (mergeStn.ubuntu.20140611.230448.458988: Step 1 of 1)\r\n"
       ]
      },
      {
       "output_type": "stream",
       "stream": "stdout",
       "text": [
        "Job launched 14262.5s ago, status RUNNING: Running step (mergeStn.ubuntu.20140611.230448.458988: Step 1 of 1)\r\n"
       ]
      },
      {
       "output_type": "stream",
       "stream": "stdout",
       "text": [
        "Job launched 14292.8s ago, status RUNNING: Running step (mergeStn.ubuntu.20140611.230448.458988: Step 1 of 1)\r\n"
       ]
      },
      {
       "output_type": "stream",
       "stream": "stdout",
       "text": [
        "Job launched 14323.0s ago, status RUNNING: Running step (mergeStn.ubuntu.20140611.230448.458988: Step 1 of 1)\r\n"
       ]
      },
      {
       "output_type": "stream",
       "stream": "stdout",
       "text": [
        "Job launched 14353.2s ago, status RUNNING: Running step (mergeStn.ubuntu.20140611.230448.458988: Step 1 of 1)\r\n"
       ]
      },
      {
       "output_type": "stream",
       "stream": "stdout",
       "text": [
        "Job launched 14383.4s ago, status RUNNING: Running step (mergeStn.ubuntu.20140611.230448.458988: Step 1 of 1)\r\n"
       ]
      },
      {
       "output_type": "stream",
       "stream": "stdout",
       "text": [
        "Job launched 14413.7s ago, status RUNNING: Running step (mergeStn.ubuntu.20140611.230448.458988: Step 1 of 1)\r\n"
       ]
      },
      {
       "output_type": "stream",
       "stream": "stdout",
       "text": [
        "Job launched 14443.9s ago, status RUNNING: Running step (mergeStn.ubuntu.20140611.230448.458988: Step 1 of 1)\r\n"
       ]
      },
      {
       "output_type": "stream",
       "stream": "stdout",
       "text": [
        "Job launched 14474.1s ago, status RUNNING: Running step (mergeStn.ubuntu.20140611.230448.458988: Step 1 of 1)\r\n"
       ]
      },
      {
       "output_type": "stream",
       "stream": "stdout",
       "text": [
        "Job launched 14504.3s ago, status RUNNING: Running step (mergeStn.ubuntu.20140611.230448.458988: Step 1 of 1)\r\n"
       ]
      },
      {
       "output_type": "stream",
       "stream": "stdout",
       "text": [
        "Job launched 14534.5s ago, status RUNNING: Running step (mergeStn.ubuntu.20140611.230448.458988: Step 1 of 1)\r\n"
       ]
      },
      {
       "output_type": "stream",
       "stream": "stdout",
       "text": [
        "Job launched 14564.7s ago, status RUNNING: Running step (mergeStn.ubuntu.20140611.230448.458988: Step 1 of 1)\r\n"
       ]
      },
      {
       "output_type": "stream",
       "stream": "stdout",
       "text": [
        "Job launched 14594.9s ago, status RUNNING: Running step (mergeStn.ubuntu.20140611.230448.458988: Step 1 of 1)\r\n"
       ]
      },
      {
       "output_type": "stream",
       "stream": "stdout",
       "text": [
        "Job launched 14625.1s ago, status RUNNING: Running step (mergeStn.ubuntu.20140611.230448.458988: Step 1 of 1)\r\n"
       ]
      },
      {
       "output_type": "stream",
       "stream": "stdout",
       "text": [
        "Job launched 14655.3s ago, status RUNNING: Running step (mergeStn.ubuntu.20140611.230448.458988: Step 1 of 1)\r\n"
       ]
      },
      {
       "output_type": "stream",
       "stream": "stdout",
       "text": [
        "Job launched 14685.6s ago, status RUNNING: Running step (mergeStn.ubuntu.20140611.230448.458988: Step 1 of 1)\r\n"
       ]
      },
      {
       "output_type": "stream",
       "stream": "stdout",
       "text": [
        "Job launched 14715.8s ago, status RUNNING: Running step (mergeStn.ubuntu.20140611.230448.458988: Step 1 of 1)\r\n"
       ]
      },
      {
       "output_type": "stream",
       "stream": "stdout",
       "text": [
        "Job launched 14746.0s ago, status RUNNING: Running step (mergeStn.ubuntu.20140611.230448.458988: Step 1 of 1)\r\n"
       ]
      },
      {
       "output_type": "stream",
       "stream": "stdout",
       "text": [
        "Job launched 14776.2s ago, status RUNNING: Running step (mergeStn.ubuntu.20140611.230448.458988: Step 1 of 1)\r\n"
       ]
      },
      {
       "output_type": "stream",
       "stream": "stdout",
       "text": [
        "Job launched 14806.5s ago, status RUNNING: Running step (mergeStn.ubuntu.20140611.230448.458988: Step 1 of 1)\r\n"
       ]
      },
      {
       "output_type": "stream",
       "stream": "stdout",
       "text": [
        "Job launched 14836.7s ago, status RUNNING: Running step (mergeStn.ubuntu.20140611.230448.458988: Step 1 of 1)\r\n"
       ]
      },
      {
       "output_type": "stream",
       "stream": "stdout",
       "text": [
        "Job launched 14866.9s ago, status RUNNING: Running step (mergeStn.ubuntu.20140611.230448.458988: Step 1 of 1)\r\n"
       ]
      },
      {
       "output_type": "stream",
       "stream": "stdout",
       "text": [
        "Job launched 14897.1s ago, status RUNNING: Running step (mergeStn.ubuntu.20140611.230448.458988: Step 1 of 1)\r\n"
       ]
      },
      {
       "output_type": "stream",
       "stream": "stdout",
       "text": [
        "Job launched 14927.3s ago, status RUNNING: Running step (mergeStn.ubuntu.20140611.230448.458988: Step 1 of 1)\r\n"
       ]
      },
      {
       "output_type": "stream",
       "stream": "stdout",
       "text": [
        "Job launched 14957.5s ago, status RUNNING: Running step (mergeStn.ubuntu.20140611.230448.458988: Step 1 of 1)\r\n"
       ]
      },
      {
       "output_type": "stream",
       "stream": "stdout",
       "text": [
        "Job launched 14987.7s ago, status RUNNING: Running step (mergeStn.ubuntu.20140611.230448.458988: Step 1 of 1)\r\n"
       ]
      },
      {
       "output_type": "stream",
       "stream": "stdout",
       "text": [
        "Job launched 15017.9s ago, status RUNNING: Running step (mergeStn.ubuntu.20140611.230448.458988: Step 1 of 1)\r\n"
       ]
      },
      {
       "output_type": "stream",
       "stream": "stdout",
       "text": [
        "Job launched 15048.1s ago, status RUNNING: Running step (mergeStn.ubuntu.20140611.230448.458988: Step 1 of 1)\r\n"
       ]
      },
      {
       "output_type": "stream",
       "stream": "stdout",
       "text": [
        "Job launched 15078.3s ago, status RUNNING: Running step (mergeStn.ubuntu.20140611.230448.458988: Step 1 of 1)\r\n"
       ]
      },
      {
       "output_type": "stream",
       "stream": "stdout",
       "text": [
        "Job launched 15108.5s ago, status RUNNING: Running step (mergeStn.ubuntu.20140611.230448.458988: Step 1 of 1)\r\n"
       ]
      },
      {
       "output_type": "stream",
       "stream": "stdout",
       "text": [
        "Job launched 15138.7s ago, status RUNNING: Running step (mergeStn.ubuntu.20140611.230448.458988: Step 1 of 1)\r\n"
       ]
      },
      {
       "output_type": "stream",
       "stream": "stdout",
       "text": [
        "Job launched 15169.0s ago, status RUNNING: Running step (mergeStn.ubuntu.20140611.230448.458988: Step 1 of 1)\r\n"
       ]
      },
      {
       "output_type": "stream",
       "stream": "stdout",
       "text": [
        "Job launched 15199.2s ago, status RUNNING: Running step (mergeStn.ubuntu.20140611.230448.458988: Step 1 of 1)\r\n"
       ]
      },
      {
       "output_type": "stream",
       "stream": "stdout",
       "text": [
        "Job launched 15229.4s ago, status RUNNING: Running step (mergeStn.ubuntu.20140611.230448.458988: Step 1 of 1)\r\n"
       ]
      },
      {
       "output_type": "stream",
       "stream": "stdout",
       "text": [
        "Job launched 15259.6s ago, status RUNNING: Running step (mergeStn.ubuntu.20140611.230448.458988: Step 1 of 1)\r\n"
       ]
      },
      {
       "output_type": "stream",
       "stream": "stdout",
       "text": [
        "Job launched 15289.8s ago, status RUNNING: Running step (mergeStn.ubuntu.20140611.230448.458988: Step 1 of 1)\r\n"
       ]
      },
      {
       "output_type": "stream",
       "stream": "stdout",
       "text": [
        "Job launched 15320.1s ago, status RUNNING: Running step (mergeStn.ubuntu.20140611.230448.458988: Step 1 of 1)\r\n"
       ]
      },
      {
       "output_type": "stream",
       "stream": "stdout",
       "text": [
        "Job launched 15350.3s ago, status RUNNING: Running step (mergeStn.ubuntu.20140611.230448.458988: Step 1 of 1)\r\n"
       ]
      },
      {
       "output_type": "stream",
       "stream": "stdout",
       "text": [
        "Job launched 15380.5s ago, status RUNNING: Running step (mergeStn.ubuntu.20140611.230448.458988: Step 1 of 1)\r\n"
       ]
      },
      {
       "output_type": "stream",
       "stream": "stdout",
       "text": [
        "Job launched 15410.7s ago, status RUNNING: Running step (mergeStn.ubuntu.20140611.230448.458988: Step 1 of 1)\r\n"
       ]
      },
      {
       "output_type": "stream",
       "stream": "stdout",
       "text": [
        "Job launched 15441.0s ago, status RUNNING: Running step (mergeStn.ubuntu.20140611.230448.458988: Step 1 of 1)\r\n"
       ]
      },
      {
       "output_type": "stream",
       "stream": "stdout",
       "text": [
        "Job launched 15471.2s ago, status RUNNING: Running step (mergeStn.ubuntu.20140611.230448.458988: Step 1 of 1)\r\n"
       ]
      },
      {
       "output_type": "stream",
       "stream": "stdout",
       "text": [
        "Job launched 15501.4s ago, status RUNNING: Running step (mergeStn.ubuntu.20140611.230448.458988: Step 1 of 1)\r\n"
       ]
      },
      {
       "output_type": "stream",
       "stream": "stdout",
       "text": [
        "Job launched 15531.6s ago, status RUNNING: Running step (mergeStn.ubuntu.20140611.230448.458988: Step 1 of 1)\r\n"
       ]
      },
      {
       "output_type": "stream",
       "stream": "stdout",
       "text": [
        "Job launched 15561.8s ago, status RUNNING: Running step (mergeStn.ubuntu.20140611.230448.458988: Step 1 of 1)\r\n"
       ]
      },
      {
       "output_type": "stream",
       "stream": "stdout",
       "text": [
        "Job launched 15592.1s ago, status RUNNING: Running step (mergeStn.ubuntu.20140611.230448.458988: Step 1 of 1)\r\n"
       ]
      },
      {
       "output_type": "stream",
       "stream": "stdout",
       "text": [
        "Job launched 15622.3s ago, status RUNNING: Running step (mergeStn.ubuntu.20140611.230448.458988: Step 1 of 1)\r\n"
       ]
      },
      {
       "output_type": "stream",
       "stream": "stdout",
       "text": [
        "Job launched 15652.5s ago, status RUNNING: Running step (mergeStn.ubuntu.20140611.230448.458988: Step 1 of 1)\r\n"
       ]
      },
      {
       "output_type": "stream",
       "stream": "stdout",
       "text": [
        "Job launched 15682.7s ago, status RUNNING: Running step (mergeStn.ubuntu.20140611.230448.458988: Step 1 of 1)\r\n"
       ]
      },
      {
       "output_type": "stream",
       "stream": "stdout",
       "text": [
        "Job launched 15712.9s ago, status RUNNING: Running step (mergeStn.ubuntu.20140611.230448.458988: Step 1 of 1)\r\n"
       ]
      },
      {
       "output_type": "stream",
       "stream": "stdout",
       "text": [
        "Job launched 15743.1s ago, status RUNNING: Running step (mergeStn.ubuntu.20140611.230448.458988: Step 1 of 1)\r\n"
       ]
      },
      {
       "output_type": "stream",
       "stream": "stdout",
       "text": [
        "Job launched 15773.4s ago, status RUNNING: Running step (mergeStn.ubuntu.20140611.230448.458988: Step 1 of 1)\r\n"
       ]
      },
      {
       "output_type": "stream",
       "stream": "stdout",
       "text": [
        "Job launched 15803.6s ago, status RUNNING: Running step (mergeStn.ubuntu.20140611.230448.458988: Step 1 of 1)\r\n"
       ]
      },
      {
       "output_type": "stream",
       "stream": "stdout",
       "text": [
        "Job launched 15833.9s ago, status RUNNING: Running step (mergeStn.ubuntu.20140611.230448.458988: Step 1 of 1)\r\n"
       ]
      },
      {
       "output_type": "stream",
       "stream": "stdout",
       "text": [
        "Job launched 15864.1s ago, status RUNNING: Running step (mergeStn.ubuntu.20140611.230448.458988: Step 1 of 1)\r\n"
       ]
      },
      {
       "output_type": "stream",
       "stream": "stdout",
       "text": [
        "Job launched 15894.3s ago, status RUNNING: Running step (mergeStn.ubuntu.20140611.230448.458988: Step 1 of 1)\r\n"
       ]
      },
      {
       "output_type": "stream",
       "stream": "stdout",
       "text": [
        "Job launched 15924.5s ago, status RUNNING: Running step (mergeStn.ubuntu.20140611.230448.458988: Step 1 of 1)\r\n"
       ]
      },
      {
       "output_type": "stream",
       "stream": "stdout",
       "text": [
        "Job launched 15954.8s ago, status RUNNING: Running step (mergeStn.ubuntu.20140611.230448.458988: Step 1 of 1)\r\n"
       ]
      },
      {
       "output_type": "stream",
       "stream": "stdout",
       "text": [
        "Job launched 15985.0s ago, status RUNNING: Running step (mergeStn.ubuntu.20140611.230448.458988: Step 1 of 1)\r\n"
       ]
      },
      {
       "output_type": "stream",
       "stream": "stdout",
       "text": [
        "Job launched 16015.2s ago, status RUNNING: Running step (mergeStn.ubuntu.20140611.230448.458988: Step 1 of 1)\r\n"
       ]
      },
      {
       "output_type": "stream",
       "stream": "stdout",
       "text": [
        "Job launched 16045.4s ago, status RUNNING: Running step (mergeStn.ubuntu.20140611.230448.458988: Step 1 of 1)\r\n"
       ]
      },
      {
       "output_type": "stream",
       "stream": "stdout",
       "text": [
        "Job launched 16075.6s ago, status RUNNING: Running step (mergeStn.ubuntu.20140611.230448.458988: Step 1 of 1)\r\n"
       ]
      },
      {
       "output_type": "stream",
       "stream": "stdout",
       "text": [
        "Job launched 16105.8s ago, status RUNNING: Running step (mergeStn.ubuntu.20140611.230448.458988: Step 1 of 1)\r\n"
       ]
      },
      {
       "output_type": "stream",
       "stream": "stdout",
       "text": [
        "Job launched 16136.0s ago, status RUNNING: Running step (mergeStn.ubuntu.20140611.230448.458988: Step 1 of 1)\r\n"
       ]
      },
      {
       "output_type": "stream",
       "stream": "stdout",
       "text": [
        "Job launched 16166.2s ago, status RUNNING: Running step (mergeStn.ubuntu.20140611.230448.458988: Step 1 of 1)\r\n"
       ]
      },
      {
       "output_type": "stream",
       "stream": "stdout",
       "text": [
        "Job launched 16196.4s ago, status RUNNING: Running step (mergeStn.ubuntu.20140611.230448.458988: Step 1 of 1)\r\n"
       ]
      },
      {
       "output_type": "stream",
       "stream": "stdout",
       "text": [
        "Job launched 16226.6s ago, status RUNNING: Running step (mergeStn.ubuntu.20140611.230448.458988: Step 1 of 1)\r\n"
       ]
      },
      {
       "output_type": "stream",
       "stream": "stdout",
       "text": [
        "Job launched 16256.8s ago, status RUNNING: Running step (mergeStn.ubuntu.20140611.230448.458988: Step 1 of 1)\r\n"
       ]
      },
      {
       "output_type": "stream",
       "stream": "stdout",
       "text": [
        "Job launched 16287.0s ago, status RUNNING: Running step (mergeStn.ubuntu.20140611.230448.458988: Step 1 of 1)\r\n"
       ]
      },
      {
       "output_type": "stream",
       "stream": "stdout",
       "text": [
        "Job launched 16317.3s ago, status RUNNING: Running step (mergeStn.ubuntu.20140611.230448.458988: Step 1 of 1)\r\n"
       ]
      },
      {
       "output_type": "stream",
       "stream": "stdout",
       "text": [
        "Job launched 16347.5s ago, status RUNNING: Running step (mergeStn.ubuntu.20140611.230448.458988: Step 1 of 1)\r\n"
       ]
      },
      {
       "output_type": "stream",
       "stream": "stdout",
       "text": [
        "Job launched 16377.7s ago, status RUNNING: Running step (mergeStn.ubuntu.20140611.230448.458988: Step 1 of 1)\r\n"
       ]
      },
      {
       "output_type": "stream",
       "stream": "stdout",
       "text": [
        "Job launched 16407.9s ago, status RUNNING: Running step (mergeStn.ubuntu.20140611.230448.458988: Step 1 of 1)\r\n"
       ]
      },
      {
       "output_type": "stream",
       "stream": "stdout",
       "text": [
        "Job launched 16438.1s ago, status RUNNING: Running step (mergeStn.ubuntu.20140611.230448.458988: Step 1 of 1)\r\n"
       ]
      },
      {
       "output_type": "stream",
       "stream": "stdout",
       "text": [
        "Job launched 16468.3s ago, status RUNNING: Running step (mergeStn.ubuntu.20140611.230448.458988: Step 1 of 1)\r\n"
       ]
      },
      {
       "output_type": "stream",
       "stream": "stdout",
       "text": [
        "Job launched 16498.5s ago, status RUNNING: Running step (mergeStn.ubuntu.20140611.230448.458988: Step 1 of 1)\r\n"
       ]
      },
      {
       "output_type": "stream",
       "stream": "stdout",
       "text": [
        "Job launched 16528.8s ago, status RUNNING: Running step (mergeStn.ubuntu.20140611.230448.458988: Step 1 of 1)\r\n"
       ]
      },
      {
       "output_type": "stream",
       "stream": "stdout",
       "text": [
        "Job launched 16559.0s ago, status RUNNING: Running step (mergeStn.ubuntu.20140611.230448.458988: Step 1 of 1)\r\n"
       ]
      },
      {
       "output_type": "stream",
       "stream": "stdout",
       "text": [
        "Job launched 16589.2s ago, status RUNNING: Running step (mergeStn.ubuntu.20140611.230448.458988: Step 1 of 1)\r\n"
       ]
      },
      {
       "output_type": "stream",
       "stream": "stdout",
       "text": [
        "Job launched 16619.4s ago, status RUNNING: Running step (mergeStn.ubuntu.20140611.230448.458988: Step 1 of 1)\r\n"
       ]
      },
      {
       "output_type": "stream",
       "stream": "stdout",
       "text": [
        "Job launched 16649.6s ago, status RUNNING: Running step (mergeStn.ubuntu.20140611.230448.458988: Step 1 of 1)\r\n"
       ]
      },
      {
       "output_type": "stream",
       "stream": "stdout",
       "text": [
        "Job launched 16679.8s ago, status RUNNING: Running step (mergeStn.ubuntu.20140611.230448.458988: Step 1 of 1)\r\n"
       ]
      },
      {
       "output_type": "stream",
       "stream": "stdout",
       "text": [
        "Job launched 16710.0s ago, status RUNNING: Running step (mergeStn.ubuntu.20140611.230448.458988: Step 1 of 1)\r\n"
       ]
      },
      {
       "output_type": "stream",
       "stream": "stdout",
       "text": [
        "Job launched 16740.2s ago, status RUNNING: Running step (mergeStn.ubuntu.20140611.230448.458988: Step 1 of 1)\r\n"
       ]
      },
      {
       "output_type": "stream",
       "stream": "stdout",
       "text": [
        "Job launched 16770.4s ago, status RUNNING: Running step (mergeStn.ubuntu.20140611.230448.458988: Step 1 of 1)\r\n"
       ]
      },
      {
       "output_type": "stream",
       "stream": "stdout",
       "text": [
        "Job launched 16800.6s ago, status RUNNING: Running step (mergeStn.ubuntu.20140611.230448.458988: Step 1 of 1)\r\n"
       ]
      },
      {
       "output_type": "stream",
       "stream": "stdout",
       "text": [
        "Job launched 16830.8s ago, status RUNNING: Running step (mergeStn.ubuntu.20140611.230448.458988: Step 1 of 1)\r\n"
       ]
      },
      {
       "output_type": "stream",
       "stream": "stdout",
       "text": [
        "Job launched 16861.0s ago, status RUNNING: Running step (mergeStn.ubuntu.20140611.230448.458988: Step 1 of 1)\r\n"
       ]
      },
      {
       "output_type": "stream",
       "stream": "stdout",
       "text": [
        "Job launched 16891.2s ago, status RUNNING: Running step (mergeStn.ubuntu.20140611.230448.458988: Step 1 of 1)\r\n"
       ]
      },
      {
       "output_type": "stream",
       "stream": "stdout",
       "text": [
        "Job launched 16921.5s ago, status RUNNING: Running step (mergeStn.ubuntu.20140611.230448.458988: Step 1 of 1)\r\n"
       ]
      },
      {
       "output_type": "stream",
       "stream": "stdout",
       "text": [
        "Job launched 16951.7s ago, status RUNNING: Running step (mergeStn.ubuntu.20140611.230448.458988: Step 1 of 1)\r\n"
       ]
      },
      {
       "output_type": "stream",
       "stream": "stdout",
       "text": [
        "Job launched 16981.9s ago, status RUNNING: Running step (mergeStn.ubuntu.20140611.230448.458988: Step 1 of 1)\r\n"
       ]
      },
      {
       "output_type": "stream",
       "stream": "stdout",
       "text": [
        "Job launched 17012.1s ago, status RUNNING: Running step (mergeStn.ubuntu.20140611.230448.458988: Step 1 of 1)\r\n"
       ]
      },
      {
       "output_type": "stream",
       "stream": "stdout",
       "text": [
        "Job launched 17042.3s ago, status RUNNING: Running step (mergeStn.ubuntu.20140611.230448.458988: Step 1 of 1)\r\n"
       ]
      },
      {
       "output_type": "stream",
       "stream": "stdout",
       "text": [
        "Job launched 17072.5s ago, status RUNNING: Running step (mergeStn.ubuntu.20140611.230448.458988: Step 1 of 1)\r\n"
       ]
      },
      {
       "output_type": "stream",
       "stream": "stdout",
       "text": [
        "Job launched 17102.7s ago, status RUNNING: Running step (mergeStn.ubuntu.20140611.230448.458988: Step 1 of 1)\r\n"
       ]
      },
      {
       "output_type": "stream",
       "stream": "stdout",
       "text": [
        "Job launched 17133.0s ago, status RUNNING: Running step (mergeStn.ubuntu.20140611.230448.458988: Step 1 of 1)\r\n"
       ]
      },
      {
       "output_type": "stream",
       "stream": "stdout",
       "text": [
        "Job launched 17163.2s ago, status RUNNING: Running step (mergeStn.ubuntu.20140611.230448.458988: Step 1 of 1)\r\n"
       ]
      },
      {
       "output_type": "stream",
       "stream": "stdout",
       "text": [
        "Job launched 17193.4s ago, status RUNNING: Running step (mergeStn.ubuntu.20140611.230448.458988: Step 1 of 1)\r\n"
       ]
      },
      {
       "output_type": "stream",
       "stream": "stdout",
       "text": [
        "Job launched 17223.6s ago, status RUNNING: Running step (mergeStn.ubuntu.20140611.230448.458988: Step 1 of 1)\r\n"
       ]
      },
      {
       "output_type": "stream",
       "stream": "stdout",
       "text": [
        "Job launched 17253.8s ago, status RUNNING: Running step (mergeStn.ubuntu.20140611.230448.458988: Step 1 of 1)\r\n"
       ]
      },
      {
       "output_type": "stream",
       "stream": "stdout",
       "text": [
        "Job launched 17284.0s ago, status RUNNING: Running step (mergeStn.ubuntu.20140611.230448.458988: Step 1 of 1)\r\n"
       ]
      },
      {
       "output_type": "stream",
       "stream": "stdout",
       "text": [
        "Job launched 17314.3s ago, status RUNNING: Running step (mergeStn.ubuntu.20140611.230448.458988: Step 1 of 1)\r\n"
       ]
      },
      {
       "output_type": "stream",
       "stream": "stdout",
       "text": [
        "Job launched 17344.5s ago, status RUNNING: Running step (mergeStn.ubuntu.20140611.230448.458988: Step 1 of 1)\r\n"
       ]
      },
      {
       "output_type": "stream",
       "stream": "stdout",
       "text": [
        "Job launched 17374.7s ago, status RUNNING: Running step (mergeStn.ubuntu.20140611.230448.458988: Step 1 of 1)\r\n"
       ]
      },
      {
       "output_type": "stream",
       "stream": "stdout",
       "text": [
        "Job launched 17404.9s ago, status RUNNING: Running step (mergeStn.ubuntu.20140611.230448.458988: Step 1 of 1)\r\n"
       ]
      },
      {
       "output_type": "stream",
       "stream": "stdout",
       "text": [
        "Job launched 17435.1s ago, status RUNNING: Running step (mergeStn.ubuntu.20140611.230448.458988: Step 1 of 1)\r\n"
       ]
      },
      {
       "output_type": "stream",
       "stream": "stdout",
       "text": [
        "Job launched 17465.3s ago, status RUNNING: Running step (mergeStn.ubuntu.20140611.230448.458988: Step 1 of 1)\r\n"
       ]
      },
      {
       "output_type": "stream",
       "stream": "stdout",
       "text": [
        "Job launched 17495.6s ago, status RUNNING: Running step (mergeStn.ubuntu.20140611.230448.458988: Step 1 of 1)\r\n"
       ]
      },
      {
       "output_type": "stream",
       "stream": "stdout",
       "text": [
        "Job launched 17525.8s ago, status RUNNING: Running step (mergeStn.ubuntu.20140611.230448.458988: Step 1 of 1)\r\n"
       ]
      },
      {
       "output_type": "stream",
       "stream": "stdout",
       "text": [
        "Job launched 17556.0s ago, status RUNNING: Running step (mergeStn.ubuntu.20140611.230448.458988: Step 1 of 1)\r\n"
       ]
      },
      {
       "output_type": "stream",
       "stream": "stdout",
       "text": [
        "Job launched 17586.2s ago, status RUNNING: Running step (mergeStn.ubuntu.20140611.230448.458988: Step 1 of 1)\r\n"
       ]
      },
      {
       "output_type": "stream",
       "stream": "stdout",
       "text": [
        "Job launched 17616.4s ago, status RUNNING: Running step (mergeStn.ubuntu.20140611.230448.458988: Step 1 of 1)\r\n"
       ]
      },
      {
       "output_type": "stream",
       "stream": "stdout",
       "text": [
        "Job launched 17646.6s ago, status RUNNING: Running step (mergeStn.ubuntu.20140611.230448.458988: Step 1 of 1)\r\n"
       ]
      },
      {
       "output_type": "stream",
       "stream": "stdout",
       "text": [
        "Job launched 17676.8s ago, status RUNNING: Running step (mergeStn.ubuntu.20140611.230448.458988: Step 1 of 1)\r\n"
       ]
      },
      {
       "output_type": "stream",
       "stream": "stdout",
       "text": [
        "Job launched 17707.0s ago, status RUNNING: Running step (mergeStn.ubuntu.20140611.230448.458988: Step 1 of 1)\r\n"
       ]
      },
      {
       "output_type": "stream",
       "stream": "stdout",
       "text": [
        "Job launched 17737.2s ago, status RUNNING: Running step (mergeStn.ubuntu.20140611.230448.458988: Step 1 of 1)\r\n"
       ]
      },
      {
       "output_type": "stream",
       "stream": "stdout",
       "text": [
        "Job launched 17767.4s ago, status RUNNING: Running step (mergeStn.ubuntu.20140611.230448.458988: Step 1 of 1)\r\n"
       ]
      },
      {
       "output_type": "stream",
       "stream": "stdout",
       "text": [
        "Job launched 17797.6s ago, status RUNNING: Running step (mergeStn.ubuntu.20140611.230448.458988: Step 1 of 1)\r\n"
       ]
      },
      {
       "output_type": "stream",
       "stream": "stdout",
       "text": [
        "Job launched 17827.8s ago, status RUNNING: Running step (mergeStn.ubuntu.20140611.230448.458988: Step 1 of 1)\r\n"
       ]
      },
      {
       "output_type": "stream",
       "stream": "stdout",
       "text": [
        "Job launched 17858.1s ago, status RUNNING: Running step (mergeStn.ubuntu.20140611.230448.458988: Step 1 of 1)\r\n"
       ]
      },
      {
       "output_type": "stream",
       "stream": "stdout",
       "text": [
        "Job launched 17888.3s ago, status RUNNING: Running step (mergeStn.ubuntu.20140611.230448.458988: Step 1 of 1)\r\n"
       ]
      },
      {
       "output_type": "stream",
       "stream": "stdout",
       "text": [
        "Job launched 17918.6s ago, status RUNNING: Running step (mergeStn.ubuntu.20140611.230448.458988: Step 1 of 1)\r\n"
       ]
      },
      {
       "output_type": "stream",
       "stream": "stdout",
       "text": [
        "Job launched 17948.8s ago, status RUNNING: Running step (mergeStn.ubuntu.20140611.230448.458988: Step 1 of 1)\r\n"
       ]
      },
      {
       "output_type": "stream",
       "stream": "stdout",
       "text": [
        "Job launched 17979.0s ago, status RUNNING: Running step (mergeStn.ubuntu.20140611.230448.458988: Step 1 of 1)\r\n"
       ]
      },
      {
       "output_type": "stream",
       "stream": "stdout",
       "text": [
        "Job launched 18009.2s ago, status RUNNING: Running step (mergeStn.ubuntu.20140611.230448.458988: Step 1 of 1)\r\n"
       ]
      },
      {
       "output_type": "stream",
       "stream": "stdout",
       "text": [
        "Job launched 18039.4s ago, status RUNNING: Running step (mergeStn.ubuntu.20140611.230448.458988: Step 1 of 1)\r\n"
       ]
      },
      {
       "output_type": "stream",
       "stream": "stdout",
       "text": [
        "Job launched 18069.5s ago, status RUNNING: Running step (mergeStn.ubuntu.20140611.230448.458988: Step 1 of 1)\r\n"
       ]
      },
      {
       "output_type": "stream",
       "stream": "stdout",
       "text": [
        "Job launched 18099.8s ago, status RUNNING: Running step (mergeStn.ubuntu.20140611.230448.458988: Step 1 of 1)\r\n"
       ]
      },
      {
       "output_type": "stream",
       "stream": "stdout",
       "text": [
        "Job launched 18130.0s ago, status RUNNING: Running step (mergeStn.ubuntu.20140611.230448.458988: Step 1 of 1)\r\n"
       ]
      },
      {
       "output_type": "stream",
       "stream": "stdout",
       "text": [
        "Job launched 18160.2s ago, status RUNNING: Running step (mergeStn.ubuntu.20140611.230448.458988: Step 1 of 1)\r\n"
       ]
      },
      {
       "output_type": "stream",
       "stream": "stdout",
       "text": [
        "Job launched 18190.3s ago, status RUNNING: Running step (mergeStn.ubuntu.20140611.230448.458988: Step 1 of 1)\r\n"
       ]
      },
      {
       "output_type": "stream",
       "stream": "stdout",
       "text": [
        "Job launched 18220.6s ago, status RUNNING: Running step (mergeStn.ubuntu.20140611.230448.458988: Step 1 of 1)\r\n"
       ]
      },
      {
       "output_type": "stream",
       "stream": "stdout",
       "text": [
        "Job launched 18250.8s ago, status RUNNING: Running step (mergeStn.ubuntu.20140611.230448.458988: Step 1 of 1)\r\n"
       ]
      },
      {
       "output_type": "stream",
       "stream": "stdout",
       "text": [
        "Job launched 18281.0s ago, status RUNNING: Running step (mergeStn.ubuntu.20140611.230448.458988: Step 1 of 1)\r\n"
       ]
      },
      {
       "output_type": "stream",
       "stream": "stdout",
       "text": [
        "Job launched 18311.2s ago, status RUNNING: Running step (mergeStn.ubuntu.20140611.230448.458988: Step 1 of 1)\r\n"
       ]
      },
      {
       "output_type": "stream",
       "stream": "stdout",
       "text": [
        "Job launched 18341.4s ago, status RUNNING: Running step (mergeStn.ubuntu.20140611.230448.458988: Step 1 of 1)\r\n"
       ]
      },
      {
       "output_type": "stream",
       "stream": "stdout",
       "text": [
        "Job launched 18371.7s ago, status RUNNING: Running step (mergeStn.ubuntu.20140611.230448.458988: Step 1 of 1)\r\n"
       ]
      },
      {
       "output_type": "stream",
       "stream": "stdout",
       "text": [
        "Job launched 18401.9s ago, status RUNNING: Running step (mergeStn.ubuntu.20140611.230448.458988: Step 1 of 1)\r\n"
       ]
      },
      {
       "output_type": "stream",
       "stream": "stdout",
       "text": [
        "Job launched 18432.1s ago, status RUNNING: Running step (mergeStn.ubuntu.20140611.230448.458988: Step 1 of 1)\r\n"
       ]
      },
      {
       "output_type": "stream",
       "stream": "stdout",
       "text": [
        "Job launched 18462.3s ago, status RUNNING: Running step (mergeStn.ubuntu.20140611.230448.458988: Step 1 of 1)\r\n"
       ]
      },
      {
       "output_type": "stream",
       "stream": "stdout",
       "text": [
        "Job launched 18492.5s ago, status RUNNING: Running step (mergeStn.ubuntu.20140611.230448.458988: Step 1 of 1)\r\n"
       ]
      },
      {
       "output_type": "stream",
       "stream": "stdout",
       "text": [
        "Job launched 18522.7s ago, status RUNNING: Running step (mergeStn.ubuntu.20140611.230448.458988: Step 1 of 1)\r\n"
       ]
      },
      {
       "output_type": "stream",
       "stream": "stdout",
       "text": [
        "Job launched 18552.9s ago, status RUNNING: Running step (mergeStn.ubuntu.20140611.230448.458988: Step 1 of 1)\r\n"
       ]
      },
      {
       "output_type": "stream",
       "stream": "stdout",
       "text": [
        "Job launched 18583.1s ago, status RUNNING: Running step (mergeStn.ubuntu.20140611.230448.458988: Step 1 of 1)\r\n"
       ]
      },
      {
       "output_type": "stream",
       "stream": "stdout",
       "text": [
        "Job launched 18613.3s ago, status RUNNING: Running step (mergeStn.ubuntu.20140611.230448.458988: Step 1 of 1)\r\n"
       ]
      },
      {
       "output_type": "stream",
       "stream": "stdout",
       "text": [
        "Job launched 18643.6s ago, status RUNNING: Running step (mergeStn.ubuntu.20140611.230448.458988: Step 1 of 1)\r\n"
       ]
      },
      {
       "output_type": "stream",
       "stream": "stdout",
       "text": [
        "Job launched 18673.8s ago, status RUNNING: Running step (mergeStn.ubuntu.20140611.230448.458988: Step 1 of 1)\r\n"
       ]
      },
      {
       "output_type": "stream",
       "stream": "stdout",
       "text": [
        "Job launched 18704.0s ago, status RUNNING: Running step (mergeStn.ubuntu.20140611.230448.458988: Step 1 of 1)\r\n"
       ]
      },
      {
       "output_type": "stream",
       "stream": "stdout",
       "text": [
        "Job launched 18734.2s ago, status RUNNING: Running step (mergeStn.ubuntu.20140611.230448.458988: Step 1 of 1)\r\n"
       ]
      },
      {
       "output_type": "stream",
       "stream": "stdout",
       "text": [
        "Job launched 18764.5s ago, status RUNNING: Running step (mergeStn.ubuntu.20140611.230448.458988: Step 1 of 1)\r\n"
       ]
      },
      {
       "output_type": "stream",
       "stream": "stdout",
       "text": [
        "Job launched 18794.7s ago, status RUNNING: Running step (mergeStn.ubuntu.20140611.230448.458988: Step 1 of 1)\r\n"
       ]
      },
      {
       "output_type": "stream",
       "stream": "stdout",
       "text": [
        "Job launched 18824.9s ago, status RUNNING: Running step (mergeStn.ubuntu.20140611.230448.458988: Step 1 of 1)\r\n"
       ]
      },
      {
       "output_type": "stream",
       "stream": "stdout",
       "text": [
        "Job launched 18855.1s ago, status RUNNING: Running step (mergeStn.ubuntu.20140611.230448.458988: Step 1 of 1)\r\n"
       ]
      },
      {
       "output_type": "stream",
       "stream": "stdout",
       "text": [
        "Job launched 18885.3s ago, status RUNNING: Running step (mergeStn.ubuntu.20140611.230448.458988: Step 1 of 1)\r\n"
       ]
      },
      {
       "output_type": "stream",
       "stream": "stdout",
       "text": [
        "Job launched 18915.5s ago, status RUNNING: Running step (mergeStn.ubuntu.20140611.230448.458988: Step 1 of 1)\r\n"
       ]
      },
      {
       "output_type": "stream",
       "stream": "stdout",
       "text": [
        "Job launched 18945.7s ago, status RUNNING: Running step (mergeStn.ubuntu.20140611.230448.458988: Step 1 of 1)\r\n"
       ]
      },
      {
       "output_type": "stream",
       "stream": "stdout",
       "text": [
        "Job launched 18975.9s ago, status RUNNING: Running step (mergeStn.ubuntu.20140611.230448.458988: Step 1 of 1)\r\n"
       ]
      },
      {
       "output_type": "stream",
       "stream": "stdout",
       "text": [
        "Job launched 19006.2s ago, status RUNNING: Running step (mergeStn.ubuntu.20140611.230448.458988: Step 1 of 1)\r\n"
       ]
      },
      {
       "output_type": "stream",
       "stream": "stdout",
       "text": [
        "Job launched 19036.4s ago, status RUNNING: Running step (mergeStn.ubuntu.20140611.230448.458988: Step 1 of 1)\r\n"
       ]
      },
      {
       "output_type": "stream",
       "stream": "stdout",
       "text": [
        "Job launched 19066.6s ago, status RUNNING: Running step (mergeStn.ubuntu.20140611.230448.458988: Step 1 of 1)\r\n"
       ]
      },
      {
       "output_type": "stream",
       "stream": "stdout",
       "text": [
        "Job launched 19096.8s ago, status RUNNING: Running step (mergeStn.ubuntu.20140611.230448.458988: Step 1 of 1)\r\n"
       ]
      },
      {
       "output_type": "stream",
       "stream": "stdout",
       "text": [
        "Job launched 19127.0s ago, status RUNNING: Running step (mergeStn.ubuntu.20140611.230448.458988: Step 1 of 1)\r\n"
       ]
      },
      {
       "output_type": "stream",
       "stream": "stdout",
       "text": [
        "Job launched 19157.3s ago, status RUNNING: Running step (mergeStn.ubuntu.20140611.230448.458988: Step 1 of 1)\r\n"
       ]
      },
      {
       "output_type": "stream",
       "stream": "stdout",
       "text": [
        "Job launched 19187.5s ago, status RUNNING: Running step (mergeStn.ubuntu.20140611.230448.458988: Step 1 of 1)\r\n"
       ]
      },
      {
       "output_type": "stream",
       "stream": "stdout",
       "text": [
        "Job launched 19217.7s ago, status RUNNING: Running step (mergeStn.ubuntu.20140611.230448.458988: Step 1 of 1)\r\n"
       ]
      },
      {
       "output_type": "stream",
       "stream": "stdout",
       "text": [
        "Job launched 19247.9s ago, status RUNNING: Running step (mergeStn.ubuntu.20140611.230448.458988: Step 1 of 1)\r\n"
       ]
      },
      {
       "output_type": "stream",
       "stream": "stdout",
       "text": [
        "Job launched 19278.1s ago, status RUNNING: Running step (mergeStn.ubuntu.20140611.230448.458988: Step 1 of 1)\r\n"
       ]
      },
      {
       "output_type": "stream",
       "stream": "stdout",
       "text": [
        "Job launched 19308.3s ago, status RUNNING: Running step (mergeStn.ubuntu.20140611.230448.458988: Step 1 of 1)\r\n"
       ]
      },
      {
       "output_type": "stream",
       "stream": "stdout",
       "text": [
        "Job launched 19338.6s ago, status RUNNING: Running step (mergeStn.ubuntu.20140611.230448.458988: Step 1 of 1)\r\n"
       ]
      },
      {
       "output_type": "stream",
       "stream": "stdout",
       "text": [
        "Job launched 19368.7s ago, status RUNNING: Running step (mergeStn.ubuntu.20140611.230448.458988: Step 1 of 1)\r\n"
       ]
      },
      {
       "output_type": "stream",
       "stream": "stdout",
       "text": [
        "Job launched 19398.9s ago, status RUNNING: Running step (mergeStn.ubuntu.20140611.230448.458988: Step 1 of 1)\r\n"
       ]
      },
      {
       "output_type": "stream",
       "stream": "stdout",
       "text": [
        "Job launched 19429.1s ago, status RUNNING: Running step (mergeStn.ubuntu.20140611.230448.458988: Step 1 of 1)\r\n"
       ]
      },
      {
       "output_type": "stream",
       "stream": "stdout",
       "text": [
        "Job launched 19459.3s ago, status RUNNING: Running step (mergeStn.ubuntu.20140611.230448.458988: Step 1 of 1)\r\n"
       ]
      },
      {
       "output_type": "stream",
       "stream": "stdout",
       "text": [
        "Job launched 19489.5s ago, status RUNNING: Running step (mergeStn.ubuntu.20140611.230448.458988: Step 1 of 1)\r\n"
       ]
      },
      {
       "output_type": "stream",
       "stream": "stdout",
       "text": [
        "Job launched 19519.8s ago, status RUNNING: Running step (mergeStn.ubuntu.20140611.230448.458988: Step 1 of 1)\r\n"
       ]
      },
      {
       "output_type": "stream",
       "stream": "stdout",
       "text": [
        "Job launched 19549.9s ago, status RUNNING: Running step (mergeStn.ubuntu.20140611.230448.458988: Step 1 of 1)\r\n"
       ]
      },
      {
       "output_type": "stream",
       "stream": "stdout",
       "text": [
        "Job launched 19580.2s ago, status RUNNING: Running step (mergeStn.ubuntu.20140611.230448.458988: Step 1 of 1)\r\n"
       ]
      },
      {
       "output_type": "stream",
       "stream": "stdout",
       "text": [
        "Job launched 19610.4s ago, status RUNNING: Running step (mergeStn.ubuntu.20140611.230448.458988: Step 1 of 1)\r\n"
       ]
      },
      {
       "output_type": "stream",
       "stream": "stdout",
       "text": [
        "Job launched 19640.6s ago, status RUNNING: Running step (mergeStn.ubuntu.20140611.230448.458988: Step 1 of 1)\r\n"
       ]
      },
      {
       "output_type": "stream",
       "stream": "stdout",
       "text": [
        "Job launched 19670.8s ago, status RUNNING: Running step (mergeStn.ubuntu.20140611.230448.458988: Step 1 of 1)\r\n"
       ]
      },
      {
       "output_type": "stream",
       "stream": "stdout",
       "text": [
        "Job launched 19701.1s ago, status RUNNING: Running step (mergeStn.ubuntu.20140611.230448.458988: Step 1 of 1)\r\n"
       ]
      },
      {
       "output_type": "stream",
       "stream": "stdout",
       "text": [
        "Job launched 19731.3s ago, status RUNNING: Running step (mergeStn.ubuntu.20140611.230448.458988: Step 1 of 1)\r\n"
       ]
      },
      {
       "output_type": "stream",
       "stream": "stdout",
       "text": [
        "Job launched 19761.5s ago, status RUNNING: Running step (mergeStn.ubuntu.20140611.230448.458988: Step 1 of 1)\r\n"
       ]
      },
      {
       "output_type": "stream",
       "stream": "stdout",
       "text": [
        "Job launched 19791.7s ago, status RUNNING: Running step (mergeStn.ubuntu.20140611.230448.458988: Step 1 of 1)\r\n"
       ]
      },
      {
       "output_type": "stream",
       "stream": "stdout",
       "text": [
        "Job launched 19821.9s ago, status RUNNING: Running step (mergeStn.ubuntu.20140611.230448.458988: Step 1 of 1)\r\n"
       ]
      },
      {
       "output_type": "stream",
       "stream": "stdout",
       "text": [
        "Job launched 19852.2s ago, status RUNNING: Running step (mergeStn.ubuntu.20140611.230448.458988: Step 1 of 1)\r\n"
       ]
      },
      {
       "output_type": "stream",
       "stream": "stdout",
       "text": [
        "Job launched 19882.4s ago, status RUNNING: Running step (mergeStn.ubuntu.20140611.230448.458988: Step 1 of 1)\r\n"
       ]
      },
      {
       "output_type": "stream",
       "stream": "stdout",
       "text": [
        "Job launched 19912.6s ago, status RUNNING: Running step (mergeStn.ubuntu.20140611.230448.458988: Step 1 of 1)\r\n"
       ]
      },
      {
       "output_type": "stream",
       "stream": "stdout",
       "text": [
        "Job launched 19942.8s ago, status RUNNING: Running step (mergeStn.ubuntu.20140611.230448.458988: Step 1 of 1)\r\n"
       ]
      },
      {
       "output_type": "stream",
       "stream": "stdout",
       "text": [
        "Job launched 19973.0s ago, status RUNNING: Running step (mergeStn.ubuntu.20140611.230448.458988: Step 1 of 1)\r\n"
       ]
      },
      {
       "output_type": "stream",
       "stream": "stdout",
       "text": [
        "Job launched 20003.2s ago, status RUNNING: Running step (mergeStn.ubuntu.20140611.230448.458988: Step 1 of 1)\r\n"
       ]
      },
      {
       "output_type": "stream",
       "stream": "stdout",
       "text": [
        "Job launched 20033.4s ago, status RUNNING: Running step (mergeStn.ubuntu.20140611.230448.458988: Step 1 of 1)\r\n"
       ]
      },
      {
       "output_type": "stream",
       "stream": "stdout",
       "text": [
        "Job launched 20063.6s ago, status RUNNING: Running step (mergeStn.ubuntu.20140611.230448.458988: Step 1 of 1)\r\n"
       ]
      },
      {
       "output_type": "stream",
       "stream": "stdout",
       "text": [
        "Job launched 20093.8s ago, status RUNNING: Running step (mergeStn.ubuntu.20140611.230448.458988: Step 1 of 1)\r\n"
       ]
      },
      {
       "output_type": "stream",
       "stream": "stdout",
       "text": [
        "Job launched 20124.1s ago, status RUNNING: Running step (mergeStn.ubuntu.20140611.230448.458988: Step 1 of 1)\r\n"
       ]
      },
      {
       "output_type": "stream",
       "stream": "stdout",
       "text": [
        "Job launched 20154.2s ago, status RUNNING: Running step (mergeStn.ubuntu.20140611.230448.458988: Step 1 of 1)\r\n"
       ]
      },
      {
       "output_type": "stream",
       "stream": "stdout",
       "text": [
        "Job launched 20184.4s ago, status RUNNING: Running step (mergeStn.ubuntu.20140611.230448.458988: Step 1 of 1)\r\n"
       ]
      },
      {
       "output_type": "stream",
       "stream": "stdout",
       "text": [
        "Job launched 20214.6s ago, status RUNNING: Running step (mergeStn.ubuntu.20140611.230448.458988: Step 1 of 1)\r\n"
       ]
      },
      {
       "output_type": "stream",
       "stream": "stdout",
       "text": [
        "Job launched 20244.9s ago, status RUNNING: Running step (mergeStn.ubuntu.20140611.230448.458988: Step 1 of 1)\r\n"
       ]
      },
      {
       "output_type": "stream",
       "stream": "stdout",
       "text": [
        "Job launched 20275.1s ago, status RUNNING: Running step (mergeStn.ubuntu.20140611.230448.458988: Step 1 of 1)\r\n"
       ]
      },
      {
       "output_type": "stream",
       "stream": "stdout",
       "text": [
        "Job launched 20305.3s ago, status RUNNING: Running step (mergeStn.ubuntu.20140611.230448.458988: Step 1 of 1)\r\n"
       ]
      },
      {
       "output_type": "stream",
       "stream": "stdout",
       "text": [
        "Job launched 20335.5s ago, status RUNNING: Running step (mergeStn.ubuntu.20140611.230448.458988: Step 1 of 1)\r\n"
       ]
      },
      {
       "output_type": "stream",
       "stream": "stdout",
       "text": [
        "Job launched 20365.7s ago, status RUNNING: Running step (mergeStn.ubuntu.20140611.230448.458988: Step 1 of 1)\r\n"
       ]
      },
      {
       "output_type": "stream",
       "stream": "stdout",
       "text": [
        "Job launched 20396.0s ago, status RUNNING: Running step (mergeStn.ubuntu.20140611.230448.458988: Step 1 of 1)\r\n"
       ]
      },
      {
       "output_type": "stream",
       "stream": "stdout",
       "text": [
        "Job launched 20426.2s ago, status RUNNING: Running step (mergeStn.ubuntu.20140611.230448.458988: Step 1 of 1)\r\n"
       ]
      },
      {
       "output_type": "stream",
       "stream": "stdout",
       "text": [
        "Job launched 20456.4s ago, status RUNNING: Running step (mergeStn.ubuntu.20140611.230448.458988: Step 1 of 1)\r\n"
       ]
      },
      {
       "output_type": "stream",
       "stream": "stdout",
       "text": [
        "Job launched 20486.6s ago, status RUNNING: Running step (mergeStn.ubuntu.20140611.230448.458988: Step 1 of 1)\r\n"
       ]
      },
      {
       "output_type": "stream",
       "stream": "stdout",
       "text": [
        "Job launched 20516.8s ago, status RUNNING: Running step (mergeStn.ubuntu.20140611.230448.458988: Step 1 of 1)\r\n"
       ]
      },
      {
       "output_type": "stream",
       "stream": "stdout",
       "text": [
        "Job launched 20547.0s ago, status RUNNING: Running step (mergeStn.ubuntu.20140611.230448.458988: Step 1 of 1)\r\n"
       ]
      },
      {
       "output_type": "stream",
       "stream": "stdout",
       "text": [
        "Job launched 20577.3s ago, status RUNNING: Running step (mergeStn.ubuntu.20140611.230448.458988: Step 1 of 1)\r\n"
       ]
      },
      {
       "output_type": "stream",
       "stream": "stdout",
       "text": [
        "Job launched 20607.5s ago, status RUNNING: Running step (mergeStn.ubuntu.20140611.230448.458988: Step 1 of 1)\r\n"
       ]
      },
      {
       "output_type": "stream",
       "stream": "stdout",
       "text": [
        "Job launched 20637.7s ago, status RUNNING: Running step (mergeStn.ubuntu.20140611.230448.458988: Step 1 of 1)\r\n"
       ]
      },
      {
       "output_type": "stream",
       "stream": "stdout",
       "text": [
        "Job launched 20667.9s ago, status RUNNING: Running step (mergeStn.ubuntu.20140611.230448.458988: Step 1 of 1)\r\n"
       ]
      },
      {
       "output_type": "stream",
       "stream": "stdout",
       "text": [
        "Job launched 20698.1s ago, status RUNNING: Running step (mergeStn.ubuntu.20140611.230448.458988: Step 1 of 1)\r\n"
       ]
      },
      {
       "output_type": "stream",
       "stream": "stdout",
       "text": [
        "Job launched 20728.3s ago, status RUNNING: Running step (mergeStn.ubuntu.20140611.230448.458988: Step 1 of 1)\r\n"
       ]
      },
      {
       "output_type": "stream",
       "stream": "stdout",
       "text": [
        "Job launched 20758.5s ago, status RUNNING: Running step (mergeStn.ubuntu.20140611.230448.458988: Step 1 of 1)\r\n"
       ]
      },
      {
       "output_type": "stream",
       "stream": "stdout",
       "text": [
        "Job launched 20788.7s ago, status RUNNING: Running step (mergeStn.ubuntu.20140611.230448.458988: Step 1 of 1)\r\n"
       ]
      },
      {
       "output_type": "stream",
       "stream": "stdout",
       "text": [
        "Job launched 20818.9s ago, status RUNNING: Running step (mergeStn.ubuntu.20140611.230448.458988: Step 1 of 1)\r\n"
       ]
      },
      {
       "output_type": "stream",
       "stream": "stdout",
       "text": [
        "Job launched 20849.1s ago, status RUNNING: Running step (mergeStn.ubuntu.20140611.230448.458988: Step 1 of 1)\r\n"
       ]
      },
      {
       "output_type": "stream",
       "stream": "stdout",
       "text": [
        "Job launched 20879.3s ago, status RUNNING: Running step (mergeStn.ubuntu.20140611.230448.458988: Step 1 of 1)\r\n"
       ]
      },
      {
       "output_type": "stream",
       "stream": "stdout",
       "text": [
        "Job launched 20909.5s ago, status RUNNING: Running step (mergeStn.ubuntu.20140611.230448.458988: Step 1 of 1)\r\n"
       ]
      },
      {
       "output_type": "stream",
       "stream": "stdout",
       "text": [
        "Job launched 20939.7s ago, status RUNNING: Running step (mergeStn.ubuntu.20140611.230448.458988: Step 1 of 1)\r\n"
       ]
      },
      {
       "output_type": "stream",
       "stream": "stdout",
       "text": [
        "Job launched 20970.0s ago, status RUNNING: Running step (mergeStn.ubuntu.20140611.230448.458988: Step 1 of 1)\r\n"
       ]
      },
      {
       "output_type": "stream",
       "stream": "stdout",
       "text": [
        "Job launched 21000.2s ago, status RUNNING: Running step (mergeStn.ubuntu.20140611.230448.458988: Step 1 of 1)\r\n"
       ]
      },
      {
       "output_type": "stream",
       "stream": "stdout",
       "text": [
        "Job launched 21030.4s ago, status RUNNING: Running step (mergeStn.ubuntu.20140611.230448.458988: Step 1 of 1)\r\n"
       ]
      },
      {
       "output_type": "stream",
       "stream": "stdout",
       "text": [
        "Job launched 21060.6s ago, status RUNNING: Running step (mergeStn.ubuntu.20140611.230448.458988: Step 1 of 1)\r\n"
       ]
      },
      {
       "output_type": "stream",
       "stream": "stdout",
       "text": [
        "Job launched 21090.8s ago, status RUNNING: Running step (mergeStn.ubuntu.20140611.230448.458988: Step 1 of 1)\r\n"
       ]
      },
      {
       "output_type": "stream",
       "stream": "stdout",
       "text": [
        "Job launched 21121.0s ago, status RUNNING: Running step (mergeStn.ubuntu.20140611.230448.458988: Step 1 of 1)\r\n"
       ]
      },
      {
       "output_type": "stream",
       "stream": "stdout",
       "text": [
        "Job launched 21151.2s ago, status RUNNING: Running step (mergeStn.ubuntu.20140611.230448.458988: Step 1 of 1)\r\n"
       ]
      },
      {
       "output_type": "stream",
       "stream": "stdout",
       "text": [
        "Job launched 21181.4s ago, status RUNNING: Running step (mergeStn.ubuntu.20140611.230448.458988: Step 1 of 1)\r\n"
       ]
      },
      {
       "output_type": "stream",
       "stream": "stdout",
       "text": [
        "Job launched 21211.6s ago, status RUNNING: Running step (mergeStn.ubuntu.20140611.230448.458988: Step 1 of 1)\r\n"
       ]
      },
      {
       "output_type": "stream",
       "stream": "stdout",
       "text": [
        "Job launched 21241.8s ago, status RUNNING: Running step (mergeStn.ubuntu.20140611.230448.458988: Step 1 of 1)\r\n"
       ]
      },
      {
       "output_type": "stream",
       "stream": "stdout",
       "text": [
        "Job launched 21272.0s ago, status RUNNING: Running step (mergeStn.ubuntu.20140611.230448.458988: Step 1 of 1)\r\n"
       ]
      },
      {
       "output_type": "stream",
       "stream": "stdout",
       "text": [
        "Job launched 21302.2s ago, status RUNNING: Running step (mergeStn.ubuntu.20140611.230448.458988: Step 1 of 1)\r\n"
       ]
      },
      {
       "output_type": "stream",
       "stream": "stdout",
       "text": [
        "Job launched 21332.4s ago, status RUNNING: Running step (mergeStn.ubuntu.20140611.230448.458988: Step 1 of 1)\r\n"
       ]
      },
      {
       "output_type": "stream",
       "stream": "stdout",
       "text": [
        "Job launched 21362.6s ago, status RUNNING: Running step (mergeStn.ubuntu.20140611.230448.458988: Step 1 of 1)\r\n"
       ]
      },
      {
       "output_type": "stream",
       "stream": "stdout",
       "text": [
        "Job launched 21392.8s ago, status RUNNING: Running step (mergeStn.ubuntu.20140611.230448.458988: Step 1 of 1)\r\n"
       ]
      },
      {
       "output_type": "stream",
       "stream": "stdout",
       "text": [
        "Job launched 21423.0s ago, status RUNNING: Running step (mergeStn.ubuntu.20140611.230448.458988: Step 1 of 1)\r\n"
       ]
      },
      {
       "output_type": "stream",
       "stream": "stdout",
       "text": [
        "Job launched 21453.2s ago, status RUNNING: Running step (mergeStn.ubuntu.20140611.230448.458988: Step 1 of 1)\r\n"
       ]
      },
      {
       "output_type": "stream",
       "stream": "stdout",
       "text": [
        "Job launched 21483.4s ago, status RUNNING: Running step (mergeStn.ubuntu.20140611.230448.458988: Step 1 of 1)\r\n"
       ]
      },
      {
       "output_type": "stream",
       "stream": "stdout",
       "text": [
        "Job launched 21513.6s ago, status RUNNING: Running step (mergeStn.ubuntu.20140611.230448.458988: Step 1 of 1)\r\n"
       ]
      },
      {
       "output_type": "stream",
       "stream": "stdout",
       "text": [
        "Job launched 21543.8s ago, status RUNNING: Running step (mergeStn.ubuntu.20140611.230448.458988: Step 1 of 1)\r\n"
       ]
      },
      {
       "output_type": "stream",
       "stream": "stdout",
       "text": [
        "Job launched 21574.1s ago, status RUNNING: Running step (mergeStn.ubuntu.20140611.230448.458988: Step 1 of 1)\r\n"
       ]
      },
      {
       "output_type": "stream",
       "stream": "stdout",
       "text": [
        "Job launched 21604.3s ago, status RUNNING: Running step (mergeStn.ubuntu.20140611.230448.458988: Step 1 of 1)\r\n"
       ]
      },
      {
       "output_type": "stream",
       "stream": "stdout",
       "text": [
        "Job launched 21634.5s ago, status RUNNING: Running step (mergeStn.ubuntu.20140611.230448.458988: Step 1 of 1)\r\n"
       ]
      },
      {
       "output_type": "stream",
       "stream": "stdout",
       "text": [
        "Job launched 21664.7s ago, status RUNNING: Running step (mergeStn.ubuntu.20140611.230448.458988: Step 1 of 1)\r\n"
       ]
      },
      {
       "output_type": "stream",
       "stream": "stdout",
       "text": [
        "Job launched 21694.9s ago, status RUNNING: Running step (mergeStn.ubuntu.20140611.230448.458988: Step 1 of 1)\r\n"
       ]
      },
      {
       "output_type": "stream",
       "stream": "stdout",
       "text": [
        "Job launched 21725.1s ago, status RUNNING: Running step (mergeStn.ubuntu.20140611.230448.458988: Step 1 of 1)\r\n"
       ]
      },
      {
       "output_type": "stream",
       "stream": "stdout",
       "text": [
        "Job launched 21755.3s ago, status RUNNING: Running step (mergeStn.ubuntu.20140611.230448.458988: Step 1 of 1)\r\n"
       ]
      },
      {
       "output_type": "stream",
       "stream": "stdout",
       "text": [
        "Job launched 21785.5s ago, status RUNNING: Running step (mergeStn.ubuntu.20140611.230448.458988: Step 1 of 1)\r\n"
       ]
      },
      {
       "output_type": "stream",
       "stream": "stdout",
       "text": [
        "Job launched 21815.7s ago, status RUNNING: Running step (mergeStn.ubuntu.20140611.230448.458988: Step 1 of 1)\r\n"
       ]
      },
      {
       "output_type": "stream",
       "stream": "stdout",
       "text": [
        "Job launched 21846.0s ago, status RUNNING: Running step (mergeStn.ubuntu.20140611.230448.458988: Step 1 of 1)\r\n"
       ]
      },
      {
       "output_type": "stream",
       "stream": "stdout",
       "text": [
        "Job launched 21876.2s ago, status RUNNING: Running step (mergeStn.ubuntu.20140611.230448.458988: Step 1 of 1)\r\n"
       ]
      },
      {
       "output_type": "stream",
       "stream": "stdout",
       "text": [
        "Job launched 21906.4s ago, status RUNNING: Running step (mergeStn.ubuntu.20140611.230448.458988: Step 1 of 1)\r\n"
       ]
      },
      {
       "output_type": "stream",
       "stream": "stdout",
       "text": [
        "Job launched 21936.6s ago, status RUNNING: Running step (mergeStn.ubuntu.20140611.230448.458988: Step 1 of 1)\r\n"
       ]
      },
      {
       "output_type": "stream",
       "stream": "stdout",
       "text": [
        "Job launched 21966.8s ago, status RUNNING: Running step (mergeStn.ubuntu.20140611.230448.458988: Step 1 of 1)\r\n"
       ]
      },
      {
       "output_type": "stream",
       "stream": "stdout",
       "text": [
        "Job launched 21997.1s ago, status RUNNING: Running step (mergeStn.ubuntu.20140611.230448.458988: Step 1 of 1)\r\n"
       ]
      },
      {
       "output_type": "stream",
       "stream": "stdout",
       "text": [
        "Job launched 22027.3s ago, status RUNNING: Running step (mergeStn.ubuntu.20140611.230448.458988: Step 1 of 1)\r\n"
       ]
      },
      {
       "output_type": "stream",
       "stream": "stdout",
       "text": [
        "Job launched 22057.5s ago, status RUNNING: Running step (mergeStn.ubuntu.20140611.230448.458988: Step 1 of 1)\r\n"
       ]
      },
      {
       "output_type": "stream",
       "stream": "stdout",
       "text": [
        "Job launched 22087.6s ago, status RUNNING: Running step (mergeStn.ubuntu.20140611.230448.458988: Step 1 of 1)\r\n"
       ]
      },
      {
       "output_type": "stream",
       "stream": "stdout",
       "text": [
        "Job launched 22117.8s ago, status RUNNING: Running step (mergeStn.ubuntu.20140611.230448.458988: Step 1 of 1)\r\n"
       ]
      },
      {
       "output_type": "stream",
       "stream": "stdout",
       "text": [
        "Job launched 22148.1s ago, status RUNNING: Running step (mergeStn.ubuntu.20140611.230448.458988: Step 1 of 1)\r\n"
       ]
      },
      {
       "output_type": "stream",
       "stream": "stdout",
       "text": [
        "Job launched 22178.3s ago, status RUNNING: Running step (mergeStn.ubuntu.20140611.230448.458988: Step 1 of 1)\r\n"
       ]
      },
      {
       "output_type": "stream",
       "stream": "stdout",
       "text": [
        "Job launched 22208.5s ago, status RUNNING: Running step (mergeStn.ubuntu.20140611.230448.458988: Step 1 of 1)\r\n"
       ]
      },
      {
       "output_type": "stream",
       "stream": "stdout",
       "text": [
        "Job launched 22238.7s ago, status RUNNING: Running step (mergeStn.ubuntu.20140611.230448.458988: Step 1 of 1)\r\n"
       ]
      },
      {
       "output_type": "stream",
       "stream": "stdout",
       "text": [
        "Job launched 22268.9s ago, status RUNNING: Running step (mergeStn.ubuntu.20140611.230448.458988: Step 1 of 1)\r\n"
       ]
      },
      {
       "output_type": "stream",
       "stream": "stdout",
       "text": [
        "Job launched 22299.1s ago, status RUNNING: Running step (mergeStn.ubuntu.20140611.230448.458988: Step 1 of 1)\r\n"
       ]
      },
      {
       "output_type": "stream",
       "stream": "stdout",
       "text": [
        "Job launched 22329.3s ago, status RUNNING: Running step (mergeStn.ubuntu.20140611.230448.458988: Step 1 of 1)\r\n"
       ]
      },
      {
       "output_type": "stream",
       "stream": "stdout",
       "text": [
        "Job launched 22359.5s ago, status RUNNING: Running step (mergeStn.ubuntu.20140611.230448.458988: Step 1 of 1)\r\n"
       ]
      },
      {
       "output_type": "stream",
       "stream": "stdout",
       "text": [
        "Job launched 22389.8s ago, status RUNNING: Running step (mergeStn.ubuntu.20140611.230448.458988: Step 1 of 1)\r\n"
       ]
      },
      {
       "output_type": "stream",
       "stream": "stdout",
       "text": [
        "Job launched 22420.0s ago, status RUNNING: Running step (mergeStn.ubuntu.20140611.230448.458988: Step 1 of 1)\r\n"
       ]
      },
      {
       "output_type": "stream",
       "stream": "stdout",
       "text": [
        "Job launched 22450.2s ago, status RUNNING: Running step (mergeStn.ubuntu.20140611.230448.458988: Step 1 of 1)\r\n"
       ]
      },
      {
       "output_type": "stream",
       "stream": "stdout",
       "text": [
        "Job launched 22480.5s ago, status RUNNING: Running step (mergeStn.ubuntu.20140611.230448.458988: Step 1 of 1)\r\n"
       ]
      },
      {
       "output_type": "stream",
       "stream": "stdout",
       "text": [
        "Job launched 22510.7s ago, status RUNNING: Running step (mergeStn.ubuntu.20140611.230448.458988: Step 1 of 1)\r\n"
       ]
      },
      {
       "output_type": "stream",
       "stream": "stdout",
       "text": [
        "Job launched 22540.9s ago, status RUNNING: Running step (mergeStn.ubuntu.20140611.230448.458988: Step 1 of 1)\r\n"
       ]
      },
      {
       "output_type": "stream",
       "stream": "stdout",
       "text": [
        "Job launched 22571.1s ago, status RUNNING: Running step (mergeStn.ubuntu.20140611.230448.458988: Step 1 of 1)\r\n"
       ]
      },
      {
       "output_type": "stream",
       "stream": "stdout",
       "text": [
        "Job launched 22601.3s ago, status RUNNING: Running step (mergeStn.ubuntu.20140611.230448.458988: Step 1 of 1)\r\n"
       ]
      },
      {
       "output_type": "stream",
       "stream": "stdout",
       "text": [
        "Job launched 22631.5s ago, status RUNNING: Running step (mergeStn.ubuntu.20140611.230448.458988: Step 1 of 1)\r\n"
       ]
      },
      {
       "output_type": "stream",
       "stream": "stdout",
       "text": [
        "Job launched 22661.7s ago, status RUNNING: Running step (mergeStn.ubuntu.20140611.230448.458988: Step 1 of 1)\r\n"
       ]
      },
      {
       "output_type": "stream",
       "stream": "stdout",
       "text": [
        "Job launched 22691.9s ago, status RUNNING: Running step (mergeStn.ubuntu.20140611.230448.458988: Step 1 of 1)\r\n"
       ]
      },
      {
       "output_type": "stream",
       "stream": "stdout",
       "text": [
        "Job launched 22722.1s ago, status RUNNING: Running step (mergeStn.ubuntu.20140611.230448.458988: Step 1 of 1)\r\n"
       ]
      },
      {
       "output_type": "stream",
       "stream": "stdout",
       "text": [
        "Job launched 22752.3s ago, status RUNNING: Running step (mergeStn.ubuntu.20140611.230448.458988: Step 1 of 1)\r\n"
       ]
      },
      {
       "output_type": "stream",
       "stream": "stdout",
       "text": [
        "Job launched 22782.6s ago, status RUNNING: Running step (mergeStn.ubuntu.20140611.230448.458988: Step 1 of 1)\r\n"
       ]
      },
      {
       "output_type": "stream",
       "stream": "stdout",
       "text": [
        "Job launched 22812.8s ago, status RUNNING: Running step (mergeStn.ubuntu.20140611.230448.458988: Step 1 of 1)\r\n"
       ]
      },
      {
       "output_type": "stream",
       "stream": "stdout",
       "text": [
        "Job launched 22843.0s ago, status RUNNING: Running step (mergeStn.ubuntu.20140611.230448.458988: Step 1 of 1)\r\n"
       ]
      },
      {
       "output_type": "stream",
       "stream": "stdout",
       "text": [
        "Job launched 22873.2s ago, status RUNNING: Running step (mergeStn.ubuntu.20140611.230448.458988: Step 1 of 1)\r\n"
       ]
      },
      {
       "output_type": "stream",
       "stream": "stdout",
       "text": [
        "Job launched 22903.5s ago, status RUNNING: Running step (mergeStn.ubuntu.20140611.230448.458988: Step 1 of 1)\r\n"
       ]
      },
      {
       "output_type": "stream",
       "stream": "stdout",
       "text": [
        "Job launched 22933.7s ago, status RUNNING: Running step (mergeStn.ubuntu.20140611.230448.458988: Step 1 of 1)\r\n"
       ]
      },
      {
       "output_type": "stream",
       "stream": "stdout",
       "text": [
        "Job launched 22963.9s ago, status RUNNING: Running step (mergeStn.ubuntu.20140611.230448.458988: Step 1 of 1)\r\n"
       ]
      },
      {
       "output_type": "stream",
       "stream": "stdout",
       "text": [
        "Job launched 22994.1s ago, status RUNNING: Running step (mergeStn.ubuntu.20140611.230448.458988: Step 1 of 1)\r\n"
       ]
      },
      {
       "output_type": "stream",
       "stream": "stdout",
       "text": [
        "Job launched 23024.4s ago, status RUNNING: Running step (mergeStn.ubuntu.20140611.230448.458988: Step 1 of 1)\r\n"
       ]
      },
      {
       "output_type": "stream",
       "stream": "stdout",
       "text": [
        "Job launched 23054.5s ago, status RUNNING: Running step (mergeStn.ubuntu.20140611.230448.458988: Step 1 of 1)\r\n"
       ]
      },
      {
       "output_type": "stream",
       "stream": "stdout",
       "text": [
        "Job launched 23084.7s ago, status RUNNING: Running step (mergeStn.ubuntu.20140611.230448.458988: Step 1 of 1)\r\n"
       ]
      },
      {
       "output_type": "stream",
       "stream": "stdout",
       "text": [
        "Job launched 23115.0s ago, status RUNNING: Running step (mergeStn.ubuntu.20140611.230448.458988: Step 1 of 1)\r\n"
       ]
      },
      {
       "output_type": "stream",
       "stream": "stdout",
       "text": [
        "Job launched 23145.2s ago, status RUNNING: Running step (mergeStn.ubuntu.20140611.230448.458988: Step 1 of 1)\r\n"
       ]
      },
      {
       "output_type": "stream",
       "stream": "stdout",
       "text": [
        "Job launched 23175.4s ago, status RUNNING: Running step (mergeStn.ubuntu.20140611.230448.458988: Step 1 of 1)\r\n"
       ]
      },
      {
       "output_type": "stream",
       "stream": "stdout",
       "text": [
        "Job launched 23205.6s ago, status RUNNING: Running step (mergeStn.ubuntu.20140611.230448.458988: Step 1 of 1)\r\n"
       ]
      },
      {
       "output_type": "stream",
       "stream": "stdout",
       "text": [
        "Job launched 23235.8s ago, status RUNNING: Running step (mergeStn.ubuntu.20140611.230448.458988: Step 1 of 1)\r\n"
       ]
      },
      {
       "output_type": "stream",
       "stream": "stdout",
       "text": [
        "Job launched 23266.1s ago, status RUNNING: Running step (mergeStn.ubuntu.20140611.230448.458988: Step 1 of 1)\r\n"
       ]
      },
      {
       "output_type": "stream",
       "stream": "stdout",
       "text": [
        "Job launched 23296.3s ago, status RUNNING: Running step (mergeStn.ubuntu.20140611.230448.458988: Step 1 of 1)\r\n"
       ]
      },
      {
       "output_type": "stream",
       "stream": "stdout",
       "text": [
        "Job launched 23326.5s ago, status RUNNING: Running step (mergeStn.ubuntu.20140611.230448.458988: Step 1 of 1)\r\n"
       ]
      },
      {
       "output_type": "stream",
       "stream": "stdout",
       "text": [
        "Job launched 23356.8s ago, status RUNNING: Running step (mergeStn.ubuntu.20140611.230448.458988: Step 1 of 1)\r\n"
       ]
      },
      {
       "output_type": "stream",
       "stream": "stdout",
       "text": [
        "Job launched 23387.0s ago, status RUNNING: Running step (mergeStn.ubuntu.20140611.230448.458988: Step 1 of 1)\r\n"
       ]
      },
      {
       "output_type": "stream",
       "stream": "stdout",
       "text": [
        "Job launched 23417.1s ago, status RUNNING: Running step (mergeStn.ubuntu.20140611.230448.458988: Step 1 of 1)\r\n"
       ]
      },
      {
       "output_type": "stream",
       "stream": "stdout",
       "text": [
        "Job launched 23447.4s ago, status RUNNING: Running step (mergeStn.ubuntu.20140611.230448.458988: Step 1 of 1)\r\n"
       ]
      },
      {
       "output_type": "stream",
       "stream": "stdout",
       "text": [
        "Job launched 23477.6s ago, status RUNNING: Running step (mergeStn.ubuntu.20140611.230448.458988: Step 1 of 1)\r\n"
       ]
      },
      {
       "output_type": "stream",
       "stream": "stdout",
       "text": [
        "Job launched 23507.9s ago, status RUNNING: Running step (mergeStn.ubuntu.20140611.230448.458988: Step 1 of 1)\r\n"
       ]
      },
      {
       "output_type": "stream",
       "stream": "stdout",
       "text": [
        "Job launched 23538.1s ago, status RUNNING: Running step (mergeStn.ubuntu.20140611.230448.458988: Step 1 of 1)\r\n"
       ]
      },
      {
       "output_type": "stream",
       "stream": "stdout",
       "text": [
        "Job launched 23568.3s ago, status RUNNING: Running step (mergeStn.ubuntu.20140611.230448.458988: Step 1 of 1)\r\n"
       ]
      },
      {
       "output_type": "stream",
       "stream": "stdout",
       "text": [
        "Job launched 23598.6s ago, status RUNNING: Running step (mergeStn.ubuntu.20140611.230448.458988: Step 1 of 1)\r\n"
       ]
      },
      {
       "output_type": "stream",
       "stream": "stdout",
       "text": [
        "Job launched 23628.8s ago, status RUNNING: Running step (mergeStn.ubuntu.20140611.230448.458988: Step 1 of 1)\r\n"
       ]
      },
      {
       "output_type": "stream",
       "stream": "stdout",
       "text": [
        "Job launched 23659.0s ago, status RUNNING: Running step (mergeStn.ubuntu.20140611.230448.458988: Step 1 of 1)\r\n"
       ]
      },
      {
       "output_type": "stream",
       "stream": "stdout",
       "text": [
        "Job launched 23689.1s ago, status RUNNING: Running step (mergeStn.ubuntu.20140611.230448.458988: Step 1 of 1)\r\n"
       ]
      },
      {
       "output_type": "stream",
       "stream": "stdout",
       "text": [
        "Job launched 23719.4s ago, status RUNNING: Running step (mergeStn.ubuntu.20140611.230448.458988: Step 1 of 1)\r\n"
       ]
      },
      {
       "output_type": "stream",
       "stream": "stdout",
       "text": [
        "Job launched 23749.6s ago, status RUNNING: Running step (mergeStn.ubuntu.20140611.230448.458988: Step 1 of 1)\r\n"
       ]
      },
      {
       "output_type": "stream",
       "stream": "stdout",
       "text": [
        "Job launched 23779.7s ago, status RUNNING: Running step (mergeStn.ubuntu.20140611.230448.458988: Step 1 of 1)\r\n"
       ]
      },
      {
       "output_type": "stream",
       "stream": "stdout",
       "text": [
        "Job launched 23809.9s ago, status RUNNING: Running step (mergeStn.ubuntu.20140611.230448.458988: Step 1 of 1)\r\n"
       ]
      },
      {
       "output_type": "stream",
       "stream": "stdout",
       "text": [
        "Job launched 23840.2s ago, status RUNNING: Running step (mergeStn.ubuntu.20140611.230448.458988: Step 1 of 1)\r\n"
       ]
      },
      {
       "output_type": "stream",
       "stream": "stdout",
       "text": [
        "Job launched 23870.4s ago, status RUNNING: Running step (mergeStn.ubuntu.20140611.230448.458988: Step 1 of 1)\r\n"
       ]
      },
      {
       "output_type": "stream",
       "stream": "stdout",
       "text": [
        "Job launched 23900.6s ago, status RUNNING: Running step (mergeStn.ubuntu.20140611.230448.458988: Step 1 of 1)\r\n"
       ]
      },
      {
       "output_type": "stream",
       "stream": "stdout",
       "text": [
        "Job launched 23930.8s ago, status RUNNING: Running step (mergeStn.ubuntu.20140611.230448.458988: Step 1 of 1)\r\n"
       ]
      },
      {
       "output_type": "stream",
       "stream": "stdout",
       "text": [
        "Job launched 23961.0s ago, status RUNNING: Running step (mergeStn.ubuntu.20140611.230448.458988: Step 1 of 1)\r\n"
       ]
      },
      {
       "output_type": "stream",
       "stream": "stdout",
       "text": [
        "Job launched 23991.2s ago, status RUNNING: Running step (mergeStn.ubuntu.20140611.230448.458988: Step 1 of 1)\r\n"
       ]
      },
      {
       "output_type": "stream",
       "stream": "stdout",
       "text": [
        "Job launched 24021.4s ago, status RUNNING: Running step (mergeStn.ubuntu.20140611.230448.458988: Step 1 of 1)\r\n"
       ]
      },
      {
       "output_type": "stream",
       "stream": "stdout",
       "text": [
        "Job launched 24051.6s ago, status RUNNING: Running step (mergeStn.ubuntu.20140611.230448.458988: Step 1 of 1)\r\n"
       ]
      },
      {
       "output_type": "stream",
       "stream": "stdout",
       "text": [
        "Job launched 24081.8s ago, status RUNNING: Running step (mergeStn.ubuntu.20140611.230448.458988: Step 1 of 1)\r\n"
       ]
      },
      {
       "output_type": "stream",
       "stream": "stdout",
       "text": [
        "Job launched 24112.0s ago, status RUNNING: Running step (mergeStn.ubuntu.20140611.230448.458988: Step 1 of 1)\r\n"
       ]
      },
      {
       "output_type": "stream",
       "stream": "stdout",
       "text": [
        "Job launched 24142.2s ago, status RUNNING: Running step (mergeStn.ubuntu.20140611.230448.458988: Step 1 of 1)\r\n"
       ]
      },
      {
       "output_type": "stream",
       "stream": "stdout",
       "text": [
        "Job launched 24172.4s ago, status RUNNING: Running step (mergeStn.ubuntu.20140611.230448.458988: Step 1 of 1)\r\n"
       ]
      },
      {
       "output_type": "stream",
       "stream": "stdout",
       "text": [
        "Job launched 24202.6s ago, status RUNNING: Running step (mergeStn.ubuntu.20140611.230448.458988: Step 1 of 1)\r\n"
       ]
      },
      {
       "output_type": "stream",
       "stream": "stdout",
       "text": [
        "Job launched 24232.9s ago, status RUNNING: Running step (mergeStn.ubuntu.20140611.230448.458988: Step 1 of 1)\r\n"
       ]
      },
      {
       "output_type": "stream",
       "stream": "stdout",
       "text": [
        "Job launched 24263.1s ago, status RUNNING: Running step (mergeStn.ubuntu.20140611.230448.458988: Step 1 of 1)\r\n"
       ]
      },
      {
       "output_type": "stream",
       "stream": "stdout",
       "text": [
        "Job launched 24293.3s ago, status RUNNING: Running step (mergeStn.ubuntu.20140611.230448.458988: Step 1 of 1)\r\n"
       ]
      },
      {
       "output_type": "stream",
       "stream": "stdout",
       "text": [
        "Job launched 24323.4s ago, status RUNNING: Running step (mergeStn.ubuntu.20140611.230448.458988: Step 1 of 1)\r\n"
       ]
      },
      {
       "output_type": "stream",
       "stream": "stdout",
       "text": [
        "Job launched 24353.7s ago, status RUNNING: Running step (mergeStn.ubuntu.20140611.230448.458988: Step 1 of 1)\r\n"
       ]
      },
      {
       "output_type": "stream",
       "stream": "stdout",
       "text": [
        "Job launched 24383.9s ago, status RUNNING: Running step (mergeStn.ubuntu.20140611.230448.458988: Step 1 of 1)\r\n"
       ]
      },
      {
       "output_type": "stream",
       "stream": "stdout",
       "text": [
        "Job launched 24414.2s ago, status RUNNING: Running step (mergeStn.ubuntu.20140611.230448.458988: Step 1 of 1)\r\n"
       ]
      },
      {
       "output_type": "stream",
       "stream": "stdout",
       "text": [
        "Job launched 24444.4s ago, status RUNNING: Running step (mergeStn.ubuntu.20140611.230448.458988: Step 1 of 1)\r\n"
       ]
      },
      {
       "output_type": "stream",
       "stream": "stdout",
       "text": [
        "Job launched 24474.7s ago, status RUNNING: Running step (mergeStn.ubuntu.20140611.230448.458988: Step 1 of 1)\r\n"
       ]
      },
      {
       "output_type": "stream",
       "stream": "stdout",
       "text": [
        "Job launched 24504.9s ago, status RUNNING: Running step (mergeStn.ubuntu.20140611.230448.458988: Step 1 of 1)\r\n"
       ]
      },
      {
       "output_type": "stream",
       "stream": "stdout",
       "text": [
        "Job launched 24535.1s ago, status RUNNING: Running step (mergeStn.ubuntu.20140611.230448.458988: Step 1 of 1)\r\n"
       ]
      },
      {
       "output_type": "stream",
       "stream": "stdout",
       "text": [
        "Job launched 24565.3s ago, status RUNNING: Running step (mergeStn.ubuntu.20140611.230448.458988: Step 1 of 1)\r\n"
       ]
      },
      {
       "output_type": "stream",
       "stream": "stdout",
       "text": [
        "Job launched 24595.5s ago, status RUNNING: Running step (mergeStn.ubuntu.20140611.230448.458988: Step 1 of 1)\r\n"
       ]
      },
      {
       "output_type": "stream",
       "stream": "stdout",
       "text": [
        "Job launched 24625.7s ago, status RUNNING: Running step (mergeStn.ubuntu.20140611.230448.458988: Step 1 of 1)\r\n"
       ]
      },
      {
       "output_type": "stream",
       "stream": "stdout",
       "text": [
        "Job launched 24655.9s ago, status RUNNING: Running step (mergeStn.ubuntu.20140611.230448.458988: Step 1 of 1)\r\n"
       ]
      },
      {
       "output_type": "stream",
       "stream": "stdout",
       "text": [
        "Job launched 24686.1s ago, status RUNNING: Running step (mergeStn.ubuntu.20140611.230448.458988: Step 1 of 1)\r\n"
       ]
      },
      {
       "output_type": "stream",
       "stream": "stdout",
       "text": [
        "Job launched 24716.3s ago, status RUNNING: Running step (mergeStn.ubuntu.20140611.230448.458988: Step 1 of 1)\r\n"
       ]
      },
      {
       "output_type": "stream",
       "stream": "stdout",
       "text": [
        "Job launched 24746.6s ago, status RUNNING: Running step (mergeStn.ubuntu.20140611.230448.458988: Step 1 of 1)\r\n"
       ]
      },
      {
       "output_type": "stream",
       "stream": "stdout",
       "text": [
        "Job launched 24776.8s ago, status RUNNING: Running step (mergeStn.ubuntu.20140611.230448.458988: Step 1 of 1)\r\n"
       ]
      },
      {
       "output_type": "stream",
       "stream": "stdout",
       "text": [
        "Job launched 24807.0s ago, status RUNNING: Running step (mergeStn.ubuntu.20140611.230448.458988: Step 1 of 1)\r\n"
       ]
      },
      {
       "output_type": "stream",
       "stream": "stdout",
       "text": [
        "Job launched 24837.2s ago, status RUNNING: Running step (mergeStn.ubuntu.20140611.230448.458988: Step 1 of 1)\r\n"
       ]
      },
      {
       "output_type": "stream",
       "stream": "stdout",
       "text": [
        "Job launched 24867.4s ago, status RUNNING: Running step (mergeStn.ubuntu.20140611.230448.458988: Step 1 of 1)\r\n"
       ]
      },
      {
       "output_type": "stream",
       "stream": "stdout",
       "text": [
        "Job launched 24897.6s ago, status RUNNING: Running step (mergeStn.ubuntu.20140611.230448.458988: Step 1 of 1)\r\n"
       ]
      },
      {
       "output_type": "stream",
       "stream": "stdout",
       "text": [
        "Job launched 24927.8s ago, status RUNNING: Running step (mergeStn.ubuntu.20140611.230448.458988: Step 1 of 1)\r\n"
       ]
      },
      {
       "output_type": "stream",
       "stream": "stdout",
       "text": [
        "Job launched 24958.0s ago, status RUNNING: Running step (mergeStn.ubuntu.20140611.230448.458988: Step 1 of 1)\r\n"
       ]
      },
      {
       "output_type": "stream",
       "stream": "stdout",
       "text": [
        "Job launched 24988.1s ago, status RUNNING: Running step (mergeStn.ubuntu.20140611.230448.458988: Step 1 of 1)\r\n"
       ]
      },
      {
       "output_type": "stream",
       "stream": "stdout",
       "text": [
        "Job launched 25018.3s ago, status RUNNING: Running step (mergeStn.ubuntu.20140611.230448.458988: Step 1 of 1)\r\n"
       ]
      },
      {
       "output_type": "stream",
       "stream": "stdout",
       "text": [
        "Job launched 25048.5s ago, status RUNNING: Running step (mergeStn.ubuntu.20140611.230448.458988: Step 1 of 1)\r\n"
       ]
      },
      {
       "output_type": "stream",
       "stream": "stdout",
       "text": [
        "Job launched 25078.7s ago, status RUNNING: Running step (mergeStn.ubuntu.20140611.230448.458988: Step 1 of 1)\r\n"
       ]
      },
      {
       "output_type": "stream",
       "stream": "stdout",
       "text": [
        "Job launched 25109.0s ago, status RUNNING: Running step (mergeStn.ubuntu.20140611.230448.458988: Step 1 of 1)\r\n"
       ]
      },
      {
       "output_type": "stream",
       "stream": "stdout",
       "text": [
        "Job launched 25139.2s ago, status RUNNING: Running step (mergeStn.ubuntu.20140611.230448.458988: Step 1 of 1)\r\n"
       ]
      },
      {
       "output_type": "stream",
       "stream": "stdout",
       "text": [
        "Job launched 25169.4s ago, status RUNNING: Running step (mergeStn.ubuntu.20140611.230448.458988: Step 1 of 1)\r\n"
       ]
      },
      {
       "output_type": "stream",
       "stream": "stdout",
       "text": [
        "Job launched 25199.7s ago, status RUNNING: Running step (mergeStn.ubuntu.20140611.230448.458988: Step 1 of 1)\r\n"
       ]
      },
      {
       "output_type": "stream",
       "stream": "stdout",
       "text": [
        "Job launched 25230.0s ago, status RUNNING: Running step (mergeStn.ubuntu.20140611.230448.458988: Step 1 of 1)\r\n"
       ]
      },
      {
       "output_type": "stream",
       "stream": "stdout",
       "text": [
        "Job launched 25260.2s ago, status RUNNING: Running step (mergeStn.ubuntu.20140611.230448.458988: Step 1 of 1)\r\n"
       ]
      },
      {
       "output_type": "stream",
       "stream": "stdout",
       "text": [
        "Job launched 25290.4s ago, status RUNNING: Running step (mergeStn.ubuntu.20140611.230448.458988: Step 1 of 1)\r\n"
       ]
      },
      {
       "output_type": "stream",
       "stream": "stdout",
       "text": [
        "Job launched 25320.6s ago, status RUNNING: Running step (mergeStn.ubuntu.20140611.230448.458988: Step 1 of 1)\r\n"
       ]
      },
      {
       "output_type": "stream",
       "stream": "stdout",
       "text": [
        "Job launched 25350.8s ago, status RUNNING: Running step (mergeStn.ubuntu.20140611.230448.458988: Step 1 of 1)\r\n"
       ]
      },
      {
       "output_type": "stream",
       "stream": "stdout",
       "text": [
        "Job launched 25381.0s ago, status RUNNING: Running step (mergeStn.ubuntu.20140611.230448.458988: Step 1 of 1)\r\n"
       ]
      },
      {
       "output_type": "stream",
       "stream": "stdout",
       "text": [
        "Job launched 25411.3s ago, status RUNNING: Running step (mergeStn.ubuntu.20140611.230448.458988: Step 1 of 1)\r\n"
       ]
      },
      {
       "output_type": "stream",
       "stream": "stdout",
       "text": [
        "Job launched 25441.5s ago, status RUNNING: Running step (mergeStn.ubuntu.20140611.230448.458988: Step 1 of 1)\r\n"
       ]
      },
      {
       "output_type": "stream",
       "stream": "stdout",
       "text": [
        "Job launched 25471.7s ago, status RUNNING: Running step (mergeStn.ubuntu.20140611.230448.458988: Step 1 of 1)\r\n"
       ]
      },
      {
       "output_type": "stream",
       "stream": "stdout",
       "text": [
        "Job launched 25501.9s ago, status RUNNING: Running step (mergeStn.ubuntu.20140611.230448.458988: Step 1 of 1)\r\n"
       ]
      },
      {
       "output_type": "stream",
       "stream": "stdout",
       "text": [
        "Job launched 25532.1s ago, status RUNNING: Running step (mergeStn.ubuntu.20140611.230448.458988: Step 1 of 1)\r\n"
       ]
      },
      {
       "output_type": "stream",
       "stream": "stdout",
       "text": [
        "Job launched 25562.4s ago, status RUNNING: Running step (mergeStn.ubuntu.20140611.230448.458988: Step 1 of 1)\r\n"
       ]
      },
      {
       "output_type": "stream",
       "stream": "stdout",
       "text": [
        "Job launched 25592.6s ago, status RUNNING: Running step (mergeStn.ubuntu.20140611.230448.458988: Step 1 of 1)\r\n"
       ]
      },
      {
       "output_type": "stream",
       "stream": "stdout",
       "text": [
        "Job launched 25622.8s ago, status RUNNING: Running step (mergeStn.ubuntu.20140611.230448.458988: Step 1 of 1)\r\n"
       ]
      },
      {
       "output_type": "stream",
       "stream": "stdout",
       "text": [
        "Job launched 25653.0s ago, status RUNNING: Running step (mergeStn.ubuntu.20140611.230448.458988: Step 1 of 1)\r\n"
       ]
      },
      {
       "output_type": "stream",
       "stream": "stdout",
       "text": [
        "Job launched 25683.2s ago, status RUNNING: Running step (mergeStn.ubuntu.20140611.230448.458988: Step 1 of 1)\r\n"
       ]
      },
      {
       "output_type": "stream",
       "stream": "stdout",
       "text": [
        "Job launched 25713.4s ago, status RUNNING: Running step (mergeStn.ubuntu.20140611.230448.458988: Step 1 of 1)\r\n"
       ]
      },
      {
       "output_type": "stream",
       "stream": "stdout",
       "text": [
        "Job launched 25743.6s ago, status RUNNING: Running step (mergeStn.ubuntu.20140611.230448.458988: Step 1 of 1)\r\n"
       ]
      },
      {
       "output_type": "stream",
       "stream": "stdout",
       "text": [
        "Job launched 25773.8s ago, status RUNNING: Running step (mergeStn.ubuntu.20140611.230448.458988: Step 1 of 1)\r\n"
       ]
      },
      {
       "output_type": "stream",
       "stream": "stdout",
       "text": [
        "Job launched 25804.0s ago, status RUNNING: Running step (mergeStn.ubuntu.20140611.230448.458988: Step 1 of 1)\r\n"
       ]
      },
      {
       "output_type": "stream",
       "stream": "stdout",
       "text": [
        "Job launched 25834.2s ago, status RUNNING: Running step (mergeStn.ubuntu.20140611.230448.458988: Step 1 of 1)\r\n"
       ]
      },
      {
       "output_type": "stream",
       "stream": "stdout",
       "text": [
        "Job launched 25864.4s ago, status RUNNING: Running step (mergeStn.ubuntu.20140611.230448.458988: Step 1 of 1)\r\n"
       ]
      },
      {
       "output_type": "stream",
       "stream": "stdout",
       "text": [
        "Job launched 25894.6s ago, status RUNNING: Running step (mergeStn.ubuntu.20140611.230448.458988: Step 1 of 1)\r\n"
       ]
      },
      {
       "output_type": "stream",
       "stream": "stdout",
       "text": [
        "Job launched 25924.9s ago, status RUNNING: Running step (mergeStn.ubuntu.20140611.230448.458988: Step 1 of 1)\r\n"
       ]
      },
      {
       "output_type": "stream",
       "stream": "stdout",
       "text": [
        "Job launched 25955.1s ago, status RUNNING: Running step (mergeStn.ubuntu.20140611.230448.458988: Step 1 of 1)\r\n"
       ]
      },
      {
       "output_type": "stream",
       "stream": "stdout",
       "text": [
        "Job launched 25985.3s ago, status RUNNING: Running step (mergeStn.ubuntu.20140611.230448.458988: Step 1 of 1)\r\n"
       ]
      },
      {
       "output_type": "stream",
       "stream": "stdout",
       "text": [
        "Job launched 26015.5s ago, status RUNNING: Running step (mergeStn.ubuntu.20140611.230448.458988: Step 1 of 1)\r\n"
       ]
      },
      {
       "output_type": "stream",
       "stream": "stdout",
       "text": [
        "Job launched 26045.7s ago, status RUNNING: Running step (mergeStn.ubuntu.20140611.230448.458988: Step 1 of 1)\r\n"
       ]
      },
      {
       "output_type": "stream",
       "stream": "stdout",
       "text": [
        "Job launched 26075.9s ago, status RUNNING: Running step (mergeStn.ubuntu.20140611.230448.458988: Step 1 of 1)\r\n"
       ]
      },
      {
       "output_type": "stream",
       "stream": "stdout",
       "text": [
        "Job launched 26106.1s ago, status RUNNING: Running step (mergeStn.ubuntu.20140611.230448.458988: Step 1 of 1)\r\n"
       ]
      },
      {
       "output_type": "stream",
       "stream": "stdout",
       "text": [
        "Job launched 26136.3s ago, status RUNNING: Running step (mergeStn.ubuntu.20140611.230448.458988: Step 1 of 1)\r\n"
       ]
      },
      {
       "output_type": "stream",
       "stream": "stdout",
       "text": [
        "Job launched 26166.5s ago, status RUNNING: Running step (mergeStn.ubuntu.20140611.230448.458988: Step 1 of 1)\r\n"
       ]
      },
      {
       "output_type": "stream",
       "stream": "stdout",
       "text": [
        "Job launched 26196.8s ago, status RUNNING: Running step (mergeStn.ubuntu.20140611.230448.458988: Step 1 of 1)\r\n"
       ]
      },
      {
       "output_type": "stream",
       "stream": "stdout",
       "text": [
        "Job launched 26227.0s ago, status RUNNING: Running step (mergeStn.ubuntu.20140611.230448.458988: Step 1 of 1)\r\n"
       ]
      },
      {
       "output_type": "stream",
       "stream": "stdout",
       "text": [
        "Job launched 26257.2s ago, status RUNNING: Running step (mergeStn.ubuntu.20140611.230448.458988: Step 1 of 1)\r\n"
       ]
      },
      {
       "output_type": "stream",
       "stream": "stdout",
       "text": [
        "Job launched 26287.4s ago, status RUNNING: Running step (mergeStn.ubuntu.20140611.230448.458988: Step 1 of 1)\r\n"
       ]
      },
      {
       "output_type": "stream",
       "stream": "stdout",
       "text": [
        "Job launched 26317.6s ago, status RUNNING: Running step (mergeStn.ubuntu.20140611.230448.458988: Step 1 of 1)\r\n"
       ]
      },
      {
       "output_type": "stream",
       "stream": "stdout",
       "text": [
        "Job launched 26347.9s ago, status RUNNING: Running step (mergeStn.ubuntu.20140611.230448.458988: Step 1 of 1)\r\n"
       ]
      },
      {
       "output_type": "stream",
       "stream": "stdout",
       "text": [
        "Job launched 26378.1s ago, status RUNNING: Running step (mergeStn.ubuntu.20140611.230448.458988: Step 1 of 1)\r\n"
       ]
      },
      {
       "output_type": "stream",
       "stream": "stdout",
       "text": [
        "Job launched 26408.3s ago, status RUNNING: Running step (mergeStn.ubuntu.20140611.230448.458988: Step 1 of 1)\r\n"
       ]
      },
      {
       "output_type": "stream",
       "stream": "stdout",
       "text": [
        "Job launched 26438.5s ago, status RUNNING: Running step (mergeStn.ubuntu.20140611.230448.458988: Step 1 of 1)\r\n"
       ]
      },
      {
       "output_type": "stream",
       "stream": "stdout",
       "text": [
        "Job launched 26468.7s ago, status RUNNING: Running step (mergeStn.ubuntu.20140611.230448.458988: Step 1 of 1)\r\n"
       ]
      },
      {
       "output_type": "stream",
       "stream": "stdout",
       "text": [
        "Job launched 26498.9s ago, status RUNNING: Running step (mergeStn.ubuntu.20140611.230448.458988: Step 1 of 1)\r\n"
       ]
      },
      {
       "output_type": "stream",
       "stream": "stdout",
       "text": [
        "Job launched 26529.1s ago, status RUNNING: Running step (mergeStn.ubuntu.20140611.230448.458988: Step 1 of 1)\r\n"
       ]
      },
      {
       "output_type": "stream",
       "stream": "stdout",
       "text": [
        "Job launched 26559.3s ago, status RUNNING: Running step (mergeStn.ubuntu.20140611.230448.458988: Step 1 of 1)\r\n"
       ]
      },
      {
       "output_type": "stream",
       "stream": "stdout",
       "text": [
        "Job launched 26589.5s ago, status RUNNING: Running step (mergeStn.ubuntu.20140611.230448.458988: Step 1 of 1)\r\n"
       ]
      },
      {
       "output_type": "stream",
       "stream": "stdout",
       "text": [
        "Job launched 26619.8s ago, status RUNNING: Running step (mergeStn.ubuntu.20140611.230448.458988: Step 1 of 1)\r\n"
       ]
      },
      {
       "output_type": "stream",
       "stream": "stdout",
       "text": [
        "Job launched 26650.0s ago, status RUNNING: Running step (mergeStn.ubuntu.20140611.230448.458988: Step 1 of 1)\r\n"
       ]
      },
      {
       "output_type": "stream",
       "stream": "stdout",
       "text": [
        "Job launched 26680.2s ago, status RUNNING: Running step (mergeStn.ubuntu.20140611.230448.458988: Step 1 of 1)\r\n"
       ]
      },
      {
       "output_type": "stream",
       "stream": "stdout",
       "text": [
        "Job launched 26710.4s ago, status RUNNING: Running step (mergeStn.ubuntu.20140611.230448.458988: Step 1 of 1)\r\n"
       ]
      },
      {
       "output_type": "stream",
       "stream": "stdout",
       "text": [
        "Job launched 26740.6s ago, status RUNNING: Running step (mergeStn.ubuntu.20140611.230448.458988: Step 1 of 1)\r\n"
       ]
      },
      {
       "output_type": "stream",
       "stream": "stdout",
       "text": [
        "Job launched 26770.8s ago, status RUNNING: Running step (mergeStn.ubuntu.20140611.230448.458988: Step 1 of 1)\r\n"
       ]
      },
      {
       "output_type": "stream",
       "stream": "stdout",
       "text": [
        "Job launched 26801.1s ago, status RUNNING: Running step (mergeStn.ubuntu.20140611.230448.458988: Step 1 of 1)\r\n"
       ]
      },
      {
       "output_type": "stream",
       "stream": "stdout",
       "text": [
        "Job launched 26831.3s ago, status RUNNING: Running step (mergeStn.ubuntu.20140611.230448.458988: Step 1 of 1)\r\n"
       ]
      },
      {
       "output_type": "stream",
       "stream": "stdout",
       "text": [
        "Job launched 26861.5s ago, status RUNNING: Running step (mergeStn.ubuntu.20140611.230448.458988: Step 1 of 1)\r\n"
       ]
      },
      {
       "output_type": "stream",
       "stream": "stdout",
       "text": [
        "Job launched 26891.7s ago, status RUNNING: Running step (mergeStn.ubuntu.20140611.230448.458988: Step 1 of 1)\r\n"
       ]
      },
      {
       "output_type": "stream",
       "stream": "stdout",
       "text": [
        "Job launched 26921.9s ago, status RUNNING: Running step (mergeStn.ubuntu.20140611.230448.458988: Step 1 of 1)\r\n"
       ]
      },
      {
       "output_type": "stream",
       "stream": "stdout",
       "text": [
        "Job launched 26952.3s ago, status RUNNING: Running step (mergeStn.ubuntu.20140611.230448.458988: Step 1 of 1)\r\n"
       ]
      },
      {
       "output_type": "stream",
       "stream": "stdout",
       "text": [
        "Job launched 26982.5s ago, status RUNNING: Running step (mergeStn.ubuntu.20140611.230448.458988: Step 1 of 1)\r\n"
       ]
      },
      {
       "output_type": "stream",
       "stream": "stdout",
       "text": [
        "Job launched 27012.7s ago, status RUNNING: Running step (mergeStn.ubuntu.20140611.230448.458988: Step 1 of 1)\r\n"
       ]
      },
      {
       "output_type": "stream",
       "stream": "stdout",
       "text": [
        "Job launched 27042.9s ago, status RUNNING: Running step (mergeStn.ubuntu.20140611.230448.458988: Step 1 of 1)\r\n"
       ]
      },
      {
       "output_type": "stream",
       "stream": "stdout",
       "text": [
        "Job launched 27073.1s ago, status RUNNING: Running step (mergeStn.ubuntu.20140611.230448.458988: Step 1 of 1)\r\n"
       ]
      },
      {
       "output_type": "stream",
       "stream": "stdout",
       "text": [
        "Job launched 27103.3s ago, status RUNNING: Running step (mergeStn.ubuntu.20140611.230448.458988: Step 1 of 1)\r\n"
       ]
      },
      {
       "output_type": "stream",
       "stream": "stdout",
       "text": [
        "Job launched 27133.6s ago, status RUNNING: Running step (mergeStn.ubuntu.20140611.230448.458988: Step 1 of 1)\r\n"
       ]
      },
      {
       "output_type": "stream",
       "stream": "stdout",
       "text": [
        "Job launched 27163.8s ago, status RUNNING: Running step (mergeStn.ubuntu.20140611.230448.458988: Step 1 of 1)\r\n"
       ]
      },
      {
       "output_type": "stream",
       "stream": "stdout",
       "text": [
        "Job launched 27194.0s ago, status RUNNING: Running step (mergeStn.ubuntu.20140611.230448.458988: Step 1 of 1)\r\n"
       ]
      },
      {
       "output_type": "stream",
       "stream": "stdout",
       "text": [
        "Job launched 27224.3s ago, status RUNNING: Running step (mergeStn.ubuntu.20140611.230448.458988: Step 1 of 1)\r\n"
       ]
      },
      {
       "output_type": "stream",
       "stream": "stdout",
       "text": [
        "Job launched 27254.5s ago, status RUNNING: Running step (mergeStn.ubuntu.20140611.230448.458988: Step 1 of 1)\r\n"
       ]
      },
      {
       "output_type": "stream",
       "stream": "stdout",
       "text": [
        "Job launched 27284.9s ago, status RUNNING: Running step (mergeStn.ubuntu.20140611.230448.458988: Step 1 of 1)\r\n"
       ]
      },
      {
       "output_type": "stream",
       "stream": "stdout",
       "text": [
        "Job launched 27315.1s ago, status RUNNING: Running step (mergeStn.ubuntu.20140611.230448.458988: Step 1 of 1)\r\n"
       ]
      },
      {
       "output_type": "stream",
       "stream": "stdout",
       "text": [
        "Job launched 27345.3s ago, status RUNNING: Running step (mergeStn.ubuntu.20140611.230448.458988: Step 1 of 1)\r\n"
       ]
      },
      {
       "output_type": "stream",
       "stream": "stdout",
       "text": [
        "Job launched 27375.5s ago, status RUNNING: Running step (mergeStn.ubuntu.20140611.230448.458988: Step 1 of 1)\r\n"
       ]
      },
      {
       "output_type": "stream",
       "stream": "stdout",
       "text": [
        "Job launched 27405.7s ago, status RUNNING: Running step (mergeStn.ubuntu.20140611.230448.458988: Step 1 of 1)\r\n"
       ]
      },
      {
       "output_type": "stream",
       "stream": "stdout",
       "text": [
        "Job launched 27435.9s ago, status RUNNING: Running step (mergeStn.ubuntu.20140611.230448.458988: Step 1 of 1)\r\n"
       ]
      },
      {
       "output_type": "stream",
       "stream": "stdout",
       "text": [
        "Job launched 27466.2s ago, status RUNNING: Running step (mergeStn.ubuntu.20140611.230448.458988: Step 1 of 1)\r\n"
       ]
      },
      {
       "output_type": "stream",
       "stream": "stdout",
       "text": [
        "Job launched 27496.4s ago, status RUNNING: Running step (mergeStn.ubuntu.20140611.230448.458988: Step 1 of 1)\r\n"
       ]
      },
      {
       "output_type": "stream",
       "stream": "stdout",
       "text": [
        "Job launched 27526.6s ago, status RUNNING: Running step (mergeStn.ubuntu.20140611.230448.458988: Step 1 of 1)\r\n"
       ]
      },
      {
       "output_type": "stream",
       "stream": "stdout",
       "text": [
        "Job launched 27556.8s ago, status RUNNING: Running step (mergeStn.ubuntu.20140611.230448.458988: Step 1 of 1)\r\n"
       ]
      },
      {
       "output_type": "stream",
       "stream": "stdout",
       "text": [
        "Job launched 27587.0s ago, status RUNNING: Running step (mergeStn.ubuntu.20140611.230448.458988: Step 1 of 1)\r\n"
       ]
      },
      {
       "output_type": "stream",
       "stream": "stdout",
       "text": [
        "Job launched 27617.2s ago, status RUNNING: Running step (mergeStn.ubuntu.20140611.230448.458988: Step 1 of 1)\r\n"
       ]
      },
      {
       "output_type": "stream",
       "stream": "stdout",
       "text": [
        "Job launched 27647.4s ago, status RUNNING: Running step (mergeStn.ubuntu.20140611.230448.458988: Step 1 of 1)\r\n"
       ]
      },
      {
       "output_type": "stream",
       "stream": "stdout",
       "text": [
        "Job launched 27677.6s ago, status RUNNING: Running step (mergeStn.ubuntu.20140611.230448.458988: Step 1 of 1)\r\n"
       ]
      },
      {
       "output_type": "stream",
       "stream": "stdout",
       "text": [
        "Job launched 27707.8s ago, status RUNNING: Running step (mergeStn.ubuntu.20140611.230448.458988: Step 1 of 1)\r\n"
       ]
      },
      {
       "output_type": "stream",
       "stream": "stdout",
       "text": [
        "Job launched 27738.0s ago, status RUNNING: Running step (mergeStn.ubuntu.20140611.230448.458988: Step 1 of 1)\r\n"
       ]
      },
      {
       "output_type": "stream",
       "stream": "stdout",
       "text": [
        "Job launched 27768.2s ago, status RUNNING: Running step (mergeStn.ubuntu.20140611.230448.458988: Step 1 of 1)\r\n"
       ]
      },
      {
       "output_type": "stream",
       "stream": "stdout",
       "text": [
        "Job launched 27798.4s ago, status RUNNING: Running step (mergeStn.ubuntu.20140611.230448.458988: Step 1 of 1)\r\n"
       ]
      },
      {
       "output_type": "stream",
       "stream": "stdout",
       "text": [
        "Job launched 27828.6s ago, status RUNNING: Running step (mergeStn.ubuntu.20140611.230448.458988: Step 1 of 1)\r\n"
       ]
      },
      {
       "output_type": "stream",
       "stream": "stdout",
       "text": [
        "Job launched 27858.9s ago, status RUNNING: Running step (mergeStn.ubuntu.20140611.230448.458988: Step 1 of 1)\r\n"
       ]
      },
      {
       "output_type": "stream",
       "stream": "stdout",
       "text": [
        "Job launched 27889.1s ago, status RUNNING: Running step (mergeStn.ubuntu.20140611.230448.458988: Step 1 of 1)\r\n"
       ]
      },
      {
       "output_type": "stream",
       "stream": "stdout",
       "text": [
        "Job launched 27919.3s ago, status RUNNING: Running step (mergeStn.ubuntu.20140611.230448.458988: Step 1 of 1)\r\n"
       ]
      },
      {
       "output_type": "stream",
       "stream": "stdout",
       "text": [
        "Job launched 27949.5s ago, status RUNNING: Running step (mergeStn.ubuntu.20140611.230448.458988: Step 1 of 1)\r\n"
       ]
      },
      {
       "output_type": "stream",
       "stream": "stdout",
       "text": [
        "Job launched 27979.7s ago, status RUNNING: Running step (mergeStn.ubuntu.20140611.230448.458988: Step 1 of 1)\r\n"
       ]
      },
      {
       "output_type": "stream",
       "stream": "stdout",
       "text": [
        "Job launched 28009.9s ago, status RUNNING: Running step (mergeStn.ubuntu.20140611.230448.458988: Step 1 of 1)\r\n"
       ]
      },
      {
       "output_type": "stream",
       "stream": "stdout",
       "text": [
        "Job launched 28040.3s ago, status RUNNING: Running step (mergeStn.ubuntu.20140611.230448.458988: Step 1 of 1)\r\n"
       ]
      },
      {
       "output_type": "stream",
       "stream": "stdout",
       "text": [
        "Job launched 28070.6s ago, status RUNNING: Running step (mergeStn.ubuntu.20140611.230448.458988: Step 1 of 1)\r\n"
       ]
      },
      {
       "output_type": "stream",
       "stream": "stdout",
       "text": [
        "Job launched 28100.9s ago, status RUNNING: Running step (mergeStn.ubuntu.20140611.230448.458988: Step 1 of 1)\r\n"
       ]
      },
      {
       "output_type": "stream",
       "stream": "stdout",
       "text": [
        "Job launched 28131.1s ago, status RUNNING: Running step (mergeStn.ubuntu.20140611.230448.458988: Step 1 of 1)\r\n"
       ]
      },
      {
       "output_type": "stream",
       "stream": "stdout",
       "text": [
        "Job launched 28161.3s ago, status RUNNING: Running step (mergeStn.ubuntu.20140611.230448.458988: Step 1 of 1)\r\n"
       ]
      },
      {
       "output_type": "stream",
       "stream": "stdout",
       "text": [
        "Job launched 28191.5s ago, status RUNNING: Running step (mergeStn.ubuntu.20140611.230448.458988: Step 1 of 1)\r\n"
       ]
      },
      {
       "output_type": "stream",
       "stream": "stdout",
       "text": [
        "Job launched 28221.7s ago, status RUNNING: Running step (mergeStn.ubuntu.20140611.230448.458988: Step 1 of 1)\r\n"
       ]
      },
      {
       "output_type": "stream",
       "stream": "stdout",
       "text": [
        "Job launched 28251.9s ago, status RUNNING: Running step (mergeStn.ubuntu.20140611.230448.458988: Step 1 of 1)\r\n"
       ]
      },
      {
       "output_type": "stream",
       "stream": "stdout",
       "text": [
        "Job launched 28282.1s ago, status RUNNING: Running step (mergeStn.ubuntu.20140611.230448.458988: Step 1 of 1)\r\n"
       ]
      },
      {
       "output_type": "stream",
       "stream": "stdout",
       "text": [
        "Job launched 28312.4s ago, status RUNNING: Running step (mergeStn.ubuntu.20140611.230448.458988: Step 1 of 1)\r\n"
       ]
      },
      {
       "output_type": "stream",
       "stream": "stdout",
       "text": [
        "Job launched 28342.6s ago, status RUNNING: Running step (mergeStn.ubuntu.20140611.230448.458988: Step 1 of 1)\r\n"
       ]
      },
      {
       "output_type": "stream",
       "stream": "stdout",
       "text": [
        "Job launched 28372.8s ago, status RUNNING: Running step (mergeStn.ubuntu.20140611.230448.458988: Step 1 of 1)\r\n"
       ]
      },
      {
       "output_type": "stream",
       "stream": "stdout",
       "text": [
        "Job launched 28403.1s ago, status RUNNING: Running step (mergeStn.ubuntu.20140611.230448.458988: Step 1 of 1)\r\n"
       ]
      },
      {
       "output_type": "stream",
       "stream": "stdout",
       "text": [
        "Job launched 28433.3s ago, status RUNNING: Running step (mergeStn.ubuntu.20140611.230448.458988: Step 1 of 1)\r\n"
       ]
      },
      {
       "output_type": "stream",
       "stream": "stdout",
       "text": [
        "Job launched 28463.5s ago, status RUNNING: Running step (mergeStn.ubuntu.20140611.230448.458988: Step 1 of 1)\r\n"
       ]
      },
      {
       "output_type": "stream",
       "stream": "stdout",
       "text": [
        "Job launched 28493.7s ago, status RUNNING: Running step (mergeStn.ubuntu.20140611.230448.458988: Step 1 of 1)\r\n"
       ]
      },
      {
       "output_type": "stream",
       "stream": "stdout",
       "text": [
        "Job launched 28523.9s ago, status RUNNING: Running step (mergeStn.ubuntu.20140611.230448.458988: Step 1 of 1)\r\n"
       ]
      },
      {
       "output_type": "stream",
       "stream": "stdout",
       "text": [
        "Job launched 28554.1s ago, status RUNNING: Running step (mergeStn.ubuntu.20140611.230448.458988: Step 1 of 1)\r\n"
       ]
      },
      {
       "output_type": "stream",
       "stream": "stdout",
       "text": [
        "Job launched 28584.3s ago, status RUNNING: Running step (mergeStn.ubuntu.20140611.230448.458988: Step 1 of 1)\r\n"
       ]
      },
      {
       "output_type": "stream",
       "stream": "stdout",
       "text": [
        "Job launched 28614.6s ago, status RUNNING: Running step (mergeStn.ubuntu.20140611.230448.458988: Step 1 of 1)\r\n"
       ]
      },
      {
       "output_type": "stream",
       "stream": "stdout",
       "text": [
        "Job launched 28644.8s ago, status RUNNING: Running step (mergeStn.ubuntu.20140611.230448.458988: Step 1 of 1)\r\n"
       ]
      },
      {
       "output_type": "stream",
       "stream": "stdout",
       "text": [
        "Job launched 28675.0s ago, status RUNNING: Running step (mergeStn.ubuntu.20140611.230448.458988: Step 1 of 1)\r\n"
       ]
      },
      {
       "output_type": "stream",
       "stream": "stdout",
       "text": [
        "Job launched 28705.2s ago, status RUNNING: Running step (mergeStn.ubuntu.20140611.230448.458988: Step 1 of 1)\r\n"
       ]
      },
      {
       "output_type": "stream",
       "stream": "stdout",
       "text": [
        "Job launched 28735.4s ago, status RUNNING: Running step (mergeStn.ubuntu.20140611.230448.458988: Step 1 of 1)\r\n"
       ]
      },
      {
       "output_type": "stream",
       "stream": "stdout",
       "text": [
        "Job launched 28765.6s ago, status RUNNING: Running step (mergeStn.ubuntu.20140611.230448.458988: Step 1 of 1)\r\n"
       ]
      },
      {
       "output_type": "stream",
       "stream": "stdout",
       "text": [
        "Job launched 28795.8s ago, status RUNNING: Running step (mergeStn.ubuntu.20140611.230448.458988: Step 1 of 1)\r\n"
       ]
      },
      {
       "output_type": "stream",
       "stream": "stdout",
       "text": [
        "Job launched 28826.0s ago, status RUNNING: Running step (mergeStn.ubuntu.20140611.230448.458988: Step 1 of 1)\r\n"
       ]
      },
      {
       "output_type": "stream",
       "stream": "stdout",
       "text": [
        "Job launched 28856.2s ago, status RUNNING: Running step (mergeStn.ubuntu.20140611.230448.458988: Step 1 of 1)\r\n"
       ]
      },
      {
       "output_type": "stream",
       "stream": "stdout",
       "text": [
        "Job launched 28886.6s ago, status RUNNING: Running step (mergeStn.ubuntu.20140611.230448.458988: Step 1 of 1)\r\n"
       ]
      },
      {
       "output_type": "stream",
       "stream": "stdout",
       "text": [
        "Job launched 28916.8s ago, status RUNNING: Running step (mergeStn.ubuntu.20140611.230448.458988: Step 1 of 1)\r\n"
       ]
      },
      {
       "output_type": "stream",
       "stream": "stdout",
       "text": [
        "Job launched 28947.0s ago, status RUNNING: Running step (mergeStn.ubuntu.20140611.230448.458988: Step 1 of 1)\r\n"
       ]
      },
      {
       "output_type": "stream",
       "stream": "stdout",
       "text": [
        "Job launched 28977.3s ago, status RUNNING: Running step (mergeStn.ubuntu.20140611.230448.458988: Step 1 of 1)\r\n"
       ]
      },
      {
       "output_type": "stream",
       "stream": "stdout",
       "text": [
        "Job launched 29007.5s ago, status RUNNING: Running step (mergeStn.ubuntu.20140611.230448.458988: Step 1 of 1)\r\n"
       ]
      },
      {
       "output_type": "stream",
       "stream": "stdout",
       "text": [
        "Job launched 29037.7s ago, status RUNNING: Running step (mergeStn.ubuntu.20140611.230448.458988: Step 1 of 1)\r\n"
       ]
      },
      {
       "output_type": "stream",
       "stream": "stdout",
       "text": [
        "Job launched 29067.9s ago, status RUNNING: Running step (mergeStn.ubuntu.20140611.230448.458988: Step 1 of 1)\r\n"
       ]
      },
      {
       "output_type": "stream",
       "stream": "stdout",
       "text": [
        "Job launched 29098.1s ago, status RUNNING: Running step (mergeStn.ubuntu.20140611.230448.458988: Step 1 of 1)\r\n"
       ]
      },
      {
       "output_type": "stream",
       "stream": "stdout",
       "text": [
        "Job launched 29128.3s ago, status RUNNING: Running step (mergeStn.ubuntu.20140611.230448.458988: Step 1 of 1)\r\n"
       ]
      },
      {
       "output_type": "stream",
       "stream": "stdout",
       "text": [
        "Job launched 29158.6s ago, status RUNNING: Running step (mergeStn.ubuntu.20140611.230448.458988: Step 1 of 1)\r\n"
       ]
      },
      {
       "output_type": "stream",
       "stream": "stdout",
       "text": [
        "Job launched 29188.8s ago, status RUNNING: Running step (mergeStn.ubuntu.20140611.230448.458988: Step 1 of 1)\r\n"
       ]
      },
      {
       "output_type": "stream",
       "stream": "stdout",
       "text": [
        "Job launched 29219.0s ago, status RUNNING: Running step (mergeStn.ubuntu.20140611.230448.458988: Step 1 of 1)\r\n"
       ]
      },
      {
       "output_type": "stream",
       "stream": "stdout",
       "text": [
        "Job launched 29249.2s ago, status RUNNING: Running step (mergeStn.ubuntu.20140611.230448.458988: Step 1 of 1)\r\n"
       ]
      },
      {
       "output_type": "stream",
       "stream": "stdout",
       "text": [
        "Job launched 29279.4s ago, status RUNNING: Running step (mergeStn.ubuntu.20140611.230448.458988: Step 1 of 1)\r\n"
       ]
      },
      {
       "output_type": "stream",
       "stream": "stdout",
       "text": [
        "Job launched 29309.6s ago, status RUNNING: Running step (mergeStn.ubuntu.20140611.230448.458988: Step 1 of 1)\r\n"
       ]
      },
      {
       "output_type": "stream",
       "stream": "stdout",
       "text": [
        "Job launched 29339.9s ago, status RUNNING: Running step (mergeStn.ubuntu.20140611.230448.458988: Step 1 of 1)\r\n"
       ]
      },
      {
       "output_type": "stream",
       "stream": "stdout",
       "text": [
        "Job launched 29370.1s ago, status RUNNING: Running step (mergeStn.ubuntu.20140611.230448.458988: Step 1 of 1)\r\n"
       ]
      },
      {
       "output_type": "stream",
       "stream": "stdout",
       "text": [
        "Job launched 29400.3s ago, status RUNNING: Running step (mergeStn.ubuntu.20140611.230448.458988: Step 1 of 1)\r\n"
       ]
      },
      {
       "output_type": "stream",
       "stream": "stdout",
       "text": [
        "Job launched 29430.5s ago, status RUNNING: Running step (mergeStn.ubuntu.20140611.230448.458988: Step 1 of 1)\r\n"
       ]
      },
      {
       "output_type": "stream",
       "stream": "stdout",
       "text": [
        "Job launched 29460.8s ago, status RUNNING: Running step (mergeStn.ubuntu.20140611.230448.458988: Step 1 of 1)\r\n"
       ]
      },
      {
       "output_type": "stream",
       "stream": "stdout",
       "text": [
        "Job launched 29491.0s ago, status RUNNING: Running step (mergeStn.ubuntu.20140611.230448.458988: Step 1 of 1)\r\n"
       ]
      },
      {
       "output_type": "stream",
       "stream": "stdout",
       "text": [
        "Job launched 29521.2s ago, status RUNNING: Running step (mergeStn.ubuntu.20140611.230448.458988: Step 1 of 1)\r\n"
       ]
      },
      {
       "output_type": "stream",
       "stream": "stdout",
       "text": [
        "Job launched 29551.4s ago, status RUNNING: Running step (mergeStn.ubuntu.20140611.230448.458988: Step 1 of 1)\r\n"
       ]
      },
      {
       "output_type": "stream",
       "stream": "stdout",
       "text": [
        "Job launched 29581.6s ago, status RUNNING: Running step (mergeStn.ubuntu.20140611.230448.458988: Step 1 of 1)\r\n"
       ]
      },
      {
       "output_type": "stream",
       "stream": "stdout",
       "text": [
        "Job launched 29611.8s ago, status RUNNING: Running step (mergeStn.ubuntu.20140611.230448.458988: Step 1 of 1)\r\n"
       ]
      },
      {
       "output_type": "stream",
       "stream": "stdout",
       "text": [
        "Job launched 29642.0s ago, status RUNNING: Running step (mergeStn.ubuntu.20140611.230448.458988: Step 1 of 1)\r\n"
       ]
      },
      {
       "output_type": "stream",
       "stream": "stdout",
       "text": [
        "Job launched 29672.2s ago, status RUNNING: Running step (mergeStn.ubuntu.20140611.230448.458988: Step 1 of 1)\r\n"
       ]
      },
      {
       "output_type": "stream",
       "stream": "stdout",
       "text": [
        "Job launched 29702.4s ago, status RUNNING: Running step (mergeStn.ubuntu.20140611.230448.458988: Step 1 of 1)\r\n"
       ]
      },
      {
       "output_type": "stream",
       "stream": "stdout",
       "text": [
        "Job launched 29732.6s ago, status RUNNING: Running step (mergeStn.ubuntu.20140611.230448.458988: Step 1 of 1)\r\n"
       ]
      },
      {
       "output_type": "stream",
       "stream": "stdout",
       "text": [
        "Job launched 29762.9s ago, status RUNNING: Running step (mergeStn.ubuntu.20140611.230448.458988: Step 1 of 1)\r\n"
       ]
      },
      {
       "output_type": "stream",
       "stream": "stdout",
       "text": [
        "Job launched 29793.0s ago, status RUNNING: Running step (mergeStn.ubuntu.20140611.230448.458988: Step 1 of 1)\r\n"
       ]
      },
      {
       "output_type": "stream",
       "stream": "stdout",
       "text": [
        "Job launched 29823.2s ago, status RUNNING: Running step (mergeStn.ubuntu.20140611.230448.458988: Step 1 of 1)\r\n"
       ]
      },
      {
       "output_type": "stream",
       "stream": "stdout",
       "text": [
        "Job launched 29853.4s ago, status RUNNING: Running step (mergeStn.ubuntu.20140611.230448.458988: Step 1 of 1)\r\n"
       ]
      },
      {
       "output_type": "stream",
       "stream": "stdout",
       "text": [
        "Job launched 29883.6s ago, status RUNNING: Running step (mergeStn.ubuntu.20140611.230448.458988: Step 1 of 1)\r\n"
       ]
      },
      {
       "output_type": "stream",
       "stream": "stdout",
       "text": [
        "Job launched 29913.9s ago, status RUNNING: Running step (mergeStn.ubuntu.20140611.230448.458988: Step 1 of 1)\r\n"
       ]
      },
      {
       "output_type": "stream",
       "stream": "stdout",
       "text": [
        "Job launched 29944.1s ago, status RUNNING: Running step (mergeStn.ubuntu.20140611.230448.458988: Step 1 of 1)\r\n"
       ]
      },
      {
       "output_type": "stream",
       "stream": "stdout",
       "text": [
        "Job launched 29974.3s ago, status RUNNING: Running step (mergeStn.ubuntu.20140611.230448.458988: Step 1 of 1)\r\n"
       ]
      },
      {
       "output_type": "stream",
       "stream": "stdout",
       "text": [
        "Job launched 30004.6s ago, status RUNNING: Running step (mergeStn.ubuntu.20140611.230448.458988: Step 1 of 1)\r\n"
       ]
      },
      {
       "output_type": "stream",
       "stream": "stdout",
       "text": [
        "Job launched 30034.8s ago, status RUNNING: Running step (mergeStn.ubuntu.20140611.230448.458988: Step 1 of 1)\r\n"
       ]
      },
      {
       "output_type": "stream",
       "stream": "stdout",
       "text": [
        "Job launched 30065.0s ago, status RUNNING: Running step (mergeStn.ubuntu.20140611.230448.458988: Step 1 of 1)\r\n"
       ]
      },
      {
       "output_type": "stream",
       "stream": "stdout",
       "text": [
        "Job launched 30095.2s ago, status RUNNING: Running step (mergeStn.ubuntu.20140611.230448.458988: Step 1 of 1)\r\n"
       ]
      },
      {
       "output_type": "stream",
       "stream": "stdout",
       "text": [
        "Job launched 30125.4s ago, status RUNNING: Running step (mergeStn.ubuntu.20140611.230448.458988: Step 1 of 1)\r\n"
       ]
      },
      {
       "output_type": "stream",
       "stream": "stdout",
       "text": [
        "Job launched 30155.6s ago, status RUNNING: Running step (mergeStn.ubuntu.20140611.230448.458988: Step 1 of 1)\r\n"
       ]
      },
      {
       "output_type": "stream",
       "stream": "stdout",
       "text": [
        "Job launched 30185.8s ago, status RUNNING: Running step (mergeStn.ubuntu.20140611.230448.458988: Step 1 of 1)\r\n"
       ]
      },
      {
       "output_type": "stream",
       "stream": "stdout",
       "text": [
        "Job launched 30216.1s ago, status RUNNING: Running step (mergeStn.ubuntu.20140611.230448.458988: Step 1 of 1)\r\n"
       ]
      },
      {
       "output_type": "stream",
       "stream": "stdout",
       "text": [
        "Job launched 30246.3s ago, status RUNNING: Running step (mergeStn.ubuntu.20140611.230448.458988: Step 1 of 1)\r\n"
       ]
      },
      {
       "output_type": "stream",
       "stream": "stdout",
       "text": [
        "Job launched 30276.5s ago, status RUNNING: Running step (mergeStn.ubuntu.20140611.230448.458988: Step 1 of 1)\r\n"
       ]
      },
      {
       "output_type": "stream",
       "stream": "stdout",
       "text": [
        "Job launched 30306.7s ago, status RUNNING: Running step (mergeStn.ubuntu.20140611.230448.458988: Step 1 of 1)\r\n"
       ]
      },
      {
       "output_type": "stream",
       "stream": "stdout",
       "text": [
        "Job launched 30336.9s ago, status RUNNING: Running step (mergeStn.ubuntu.20140611.230448.458988: Step 1 of 1)\r\n"
       ]
      },
      {
       "output_type": "stream",
       "stream": "stdout",
       "text": [
        "Job launched 30367.1s ago, status RUNNING: Running step (mergeStn.ubuntu.20140611.230448.458988: Step 1 of 1)\r\n"
       ]
      },
      {
       "output_type": "stream",
       "stream": "stdout",
       "text": [
        "Job launched 30397.3s ago, status RUNNING: Running step (mergeStn.ubuntu.20140611.230448.458988: Step 1 of 1)\r\n"
       ]
      },
      {
       "output_type": "stream",
       "stream": "stdout",
       "text": [
        "Job launched 30427.5s ago, status RUNNING: Running step (mergeStn.ubuntu.20140611.230448.458988: Step 1 of 1)\r\n"
       ]
      },
      {
       "output_type": "stream",
       "stream": "stdout",
       "text": [
        "Job launched 30457.7s ago, status RUNNING: Running step (mergeStn.ubuntu.20140611.230448.458988: Step 1 of 1)\r\n"
       ]
      },
      {
       "output_type": "stream",
       "stream": "stdout",
       "text": [
        "Job launched 30487.9s ago, status RUNNING: Running step (mergeStn.ubuntu.20140611.230448.458988: Step 1 of 1)\r\n"
       ]
      },
      {
       "output_type": "stream",
       "stream": "stdout",
       "text": [
        "Job launched 30518.1s ago, status RUNNING: Running step (mergeStn.ubuntu.20140611.230448.458988: Step 1 of 1)\r\n"
       ]
      },
      {
       "output_type": "stream",
       "stream": "stdout",
       "text": [
        "Job launched 30548.3s ago, status RUNNING: Running step (mergeStn.ubuntu.20140611.230448.458988: Step 1 of 1)\r\n"
       ]
      },
      {
       "output_type": "stream",
       "stream": "stdout",
       "text": [
        "Job launched 30578.5s ago, status RUNNING: Running step (mergeStn.ubuntu.20140611.230448.458988: Step 1 of 1)\r\n"
       ]
      },
      {
       "output_type": "stream",
       "stream": "stdout",
       "text": [
        "Job launched 30608.8s ago, status RUNNING: Running step (mergeStn.ubuntu.20140611.230448.458988: Step 1 of 1)\r\n"
       ]
      },
      {
       "output_type": "stream",
       "stream": "stdout",
       "text": [
        "Job launched 30639.0s ago, status RUNNING: Running step (mergeStn.ubuntu.20140611.230448.458988: Step 1 of 1)\r\n"
       ]
      },
      {
       "output_type": "stream",
       "stream": "stdout",
       "text": [
        "Job launched 30669.2s ago, status RUNNING: Running step (mergeStn.ubuntu.20140611.230448.458988: Step 1 of 1)\r\n"
       ]
      },
      {
       "output_type": "stream",
       "stream": "stdout",
       "text": [
        "Job launched 30699.4s ago, status RUNNING: Running step (mergeStn.ubuntu.20140611.230448.458988: Step 1 of 1)\r\n"
       ]
      },
      {
       "output_type": "stream",
       "stream": "stdout",
       "text": [
        "Job launched 30729.6s ago, status RUNNING: Running step (mergeStn.ubuntu.20140611.230448.458988: Step 1 of 1)\r\n"
       ]
      },
      {
       "output_type": "stream",
       "stream": "stdout",
       "text": [
        "Job launched 30759.9s ago, status RUNNING: Running step (mergeStn.ubuntu.20140611.230448.458988: Step 1 of 1)\r\n"
       ]
      },
      {
       "output_type": "stream",
       "stream": "stdout",
       "text": [
        "Job launched 30790.1s ago, status RUNNING: Running step (mergeStn.ubuntu.20140611.230448.458988: Step 1 of 1)\r\n"
       ]
      },
      {
       "output_type": "stream",
       "stream": "stdout",
       "text": [
        "Job launched 30820.3s ago, status RUNNING: Running step (mergeStn.ubuntu.20140611.230448.458988: Step 1 of 1)\r\n"
       ]
      },
      {
       "output_type": "stream",
       "stream": "stdout",
       "text": [
        "Job launched 30850.5s ago, status RUNNING: Running step (mergeStn.ubuntu.20140611.230448.458988: Step 1 of 1)\r\n"
       ]
      },
      {
       "output_type": "stream",
       "stream": "stdout",
       "text": [
        "Job launched 30880.7s ago, status RUNNING: Running step (mergeStn.ubuntu.20140611.230448.458988: Step 1 of 1)\r\n"
       ]
      },
      {
       "output_type": "stream",
       "stream": "stdout",
       "text": [
        "Job launched 30911.0s ago, status RUNNING: Running step (mergeStn.ubuntu.20140611.230448.458988: Step 1 of 1)\r\n"
       ]
      },
      {
       "output_type": "stream",
       "stream": "stdout",
       "text": [
        "Job launched 30941.2s ago, status RUNNING: Running step (mergeStn.ubuntu.20140611.230448.458988: Step 1 of 1)\r\n"
       ]
      },
      {
       "output_type": "stream",
       "stream": "stdout",
       "text": [
        "Job launched 30971.4s ago, status RUNNING: Running step (mergeStn.ubuntu.20140611.230448.458988: Step 1 of 1)\r\n"
       ]
      },
      {
       "output_type": "stream",
       "stream": "stdout",
       "text": [
        "Job launched 31001.7s ago, status RUNNING: Running step (mergeStn.ubuntu.20140611.230448.458988: Step 1 of 1)\r\n"
       ]
      },
      {
       "output_type": "stream",
       "stream": "stdout",
       "text": [
        "Job launched 31031.9s ago, status RUNNING: Running step (mergeStn.ubuntu.20140611.230448.458988: Step 1 of 1)\r\n"
       ]
      },
      {
       "output_type": "stream",
       "stream": "stdout",
       "text": [
        "Job launched 31062.1s ago, status RUNNING: Running step (mergeStn.ubuntu.20140611.230448.458988: Step 1 of 1)\r\n"
       ]
      },
      {
       "output_type": "stream",
       "stream": "stdout",
       "text": [
        "Job launched 31092.3s ago, status RUNNING: Running step (mergeStn.ubuntu.20140611.230448.458988: Step 1 of 1)\r\n"
       ]
      },
      {
       "output_type": "stream",
       "stream": "stdout",
       "text": [
        "Job launched 31122.6s ago, status RUNNING: Running step (mergeStn.ubuntu.20140611.230448.458988: Step 1 of 1)\r\n"
       ]
      },
      {
       "output_type": "stream",
       "stream": "stdout",
       "text": [
        "Job launched 31152.8s ago, status RUNNING: Running step (mergeStn.ubuntu.20140611.230448.458988: Step 1 of 1)\r\n"
       ]
      },
      {
       "output_type": "stream",
       "stream": "stdout",
       "text": [
        "Job launched 31183.0s ago, status RUNNING: Running step (mergeStn.ubuntu.20140611.230448.458988: Step 1 of 1)\r\n"
       ]
      },
      {
       "output_type": "stream",
       "stream": "stdout",
       "text": [
        "Job launched 31213.2s ago, status RUNNING: Running step (mergeStn.ubuntu.20140611.230448.458988: Step 1 of 1)\r\n"
       ]
      },
      {
       "output_type": "stream",
       "stream": "stdout",
       "text": [
        "Job launched 31243.5s ago, status RUNNING: Running step (mergeStn.ubuntu.20140611.230448.458988: Step 1 of 1)\r\n"
       ]
      },
      {
       "output_type": "stream",
       "stream": "stdout",
       "text": [
        "Job launched 31273.7s ago, status RUNNING: Running step (mergeStn.ubuntu.20140611.230448.458988: Step 1 of 1)\r\n"
       ]
      },
      {
       "output_type": "stream",
       "stream": "stdout",
       "text": [
        "Job launched 31303.9s ago, status RUNNING: Running step (mergeStn.ubuntu.20140611.230448.458988: Step 1 of 1)\r\n"
       ]
      },
      {
       "output_type": "stream",
       "stream": "stdout",
       "text": [
        "Job launched 31334.1s ago, status RUNNING: Running step (mergeStn.ubuntu.20140611.230448.458988: Step 1 of 1)\r\n"
       ]
      },
      {
       "output_type": "stream",
       "stream": "stdout",
       "text": [
        "Job launched 31364.3s ago, status RUNNING: Running step (mergeStn.ubuntu.20140611.230448.458988: Step 1 of 1)\r\n"
       ]
      },
      {
       "output_type": "stream",
       "stream": "stdout",
       "text": [
        "Job launched 31394.5s ago, status RUNNING: Running step (mergeStn.ubuntu.20140611.230448.458988: Step 1 of 1)\r\n"
       ]
      },
      {
       "output_type": "stream",
       "stream": "stdout",
       "text": [
        "Job launched 31424.7s ago, status RUNNING: Running step (mergeStn.ubuntu.20140611.230448.458988: Step 1 of 1)\r\n"
       ]
      },
      {
       "output_type": "stream",
       "stream": "stdout",
       "text": [
        "Job launched 31454.9s ago, status RUNNING: Running step (mergeStn.ubuntu.20140611.230448.458988: Step 1 of 1)\r\n"
       ]
      },
      {
       "output_type": "stream",
       "stream": "stdout",
       "text": [
        "Job launched 31485.1s ago, status RUNNING: Running step (mergeStn.ubuntu.20140611.230448.458988: Step 1 of 1)\r\n"
       ]
      },
      {
       "output_type": "stream",
       "stream": "stdout",
       "text": [
        "Job launched 31515.4s ago, status RUNNING: Running step (mergeStn.ubuntu.20140611.230448.458988: Step 1 of 1)\r\n"
       ]
      },
      {
       "output_type": "stream",
       "stream": "stdout",
       "text": [
        "Job launched 31545.6s ago, status RUNNING: Running step (mergeStn.ubuntu.20140611.230448.458988: Step 1 of 1)\r\n"
       ]
      },
      {
       "output_type": "stream",
       "stream": "stdout",
       "text": [
        "Job launched 31575.8s ago, status RUNNING: Running step (mergeStn.ubuntu.20140611.230448.458988: Step 1 of 1)\r\n"
       ]
      },
      {
       "output_type": "stream",
       "stream": "stdout",
       "text": [
        "Job launched 31606.0s ago, status RUNNING: Running step (mergeStn.ubuntu.20140611.230448.458988: Step 1 of 1)\r\n"
       ]
      },
      {
       "output_type": "stream",
       "stream": "stdout",
       "text": [
        "Job launched 31636.2s ago, status RUNNING: Running step (mergeStn.ubuntu.20140611.230448.458988: Step 1 of 1)\r\n"
       ]
      },
      {
       "output_type": "stream",
       "stream": "stdout",
       "text": [
        "Job launched 31666.4s ago, status RUNNING: Running step (mergeStn.ubuntu.20140611.230448.458988: Step 1 of 1)\r\n"
       ]
      },
      {
       "output_type": "stream",
       "stream": "stdout",
       "text": [
        "Job launched 31696.6s ago, status RUNNING: Running step (mergeStn.ubuntu.20140611.230448.458988: Step 1 of 1)\r\n"
       ]
      },
      {
       "output_type": "stream",
       "stream": "stdout",
       "text": [
        "Job launched 31726.9s ago, status RUNNING: Running step (mergeStn.ubuntu.20140611.230448.458988: Step 1 of 1)\r\n"
       ]
      },
      {
       "output_type": "stream",
       "stream": "stdout",
       "text": [
        "Job launched 31757.1s ago, status RUNNING: Running step (mergeStn.ubuntu.20140611.230448.458988: Step 1 of 1)\r\n"
       ]
      },
      {
       "output_type": "stream",
       "stream": "stdout",
       "text": [
        "Job launched 31787.3s ago, status RUNNING: Running step (mergeStn.ubuntu.20140611.230448.458988: Step 1 of 1)\r\n"
       ]
      },
      {
       "output_type": "stream",
       "stream": "stdout",
       "text": [
        "Job launched 31817.5s ago, status RUNNING: Running step (mergeStn.ubuntu.20140611.230448.458988: Step 1 of 1)\r\n"
       ]
      },
      {
       "output_type": "stream",
       "stream": "stdout",
       "text": [
        "Job launched 31847.7s ago, status RUNNING: Running step (mergeStn.ubuntu.20140611.230448.458988: Step 1 of 1)\r\n"
       ]
      },
      {
       "output_type": "stream",
       "stream": "stdout",
       "text": [
        "Job launched 31878.0s ago, status RUNNING: Running step (mergeStn.ubuntu.20140611.230448.458988: Step 1 of 1)\r\n"
       ]
      },
      {
       "output_type": "stream",
       "stream": "stdout",
       "text": [
        "Job launched 31908.2s ago, status RUNNING: Running step (mergeStn.ubuntu.20140611.230448.458988: Step 1 of 1)\r\n"
       ]
      },
      {
       "output_type": "stream",
       "stream": "stdout",
       "text": [
        "Job launched 31938.4s ago, status RUNNING: Running step (mergeStn.ubuntu.20140611.230448.458988: Step 1 of 1)\r\n"
       ]
      },
      {
       "output_type": "stream",
       "stream": "stdout",
       "text": [
        "Job launched 31968.6s ago, status RUNNING: Running step (mergeStn.ubuntu.20140611.230448.458988: Step 1 of 1)\r\n"
       ]
      },
      {
       "output_type": "stream",
       "stream": "stdout",
       "text": [
        "Job launched 31998.9s ago, status RUNNING: Running step (mergeStn.ubuntu.20140611.230448.458988: Step 1 of 1)\r\n"
       ]
      },
      {
       "output_type": "stream",
       "stream": "stdout",
       "text": [
        "Job launched 32029.1s ago, status RUNNING: Running step (mergeStn.ubuntu.20140611.230448.458988: Step 1 of 1)\r\n"
       ]
      },
      {
       "output_type": "stream",
       "stream": "stdout",
       "text": [
        "Job launched 32059.3s ago, status RUNNING: Running step (mergeStn.ubuntu.20140611.230448.458988: Step 1 of 1)\r\n"
       ]
      },
      {
       "output_type": "stream",
       "stream": "stdout",
       "text": [
        "Job launched 32089.5s ago, status RUNNING: Running step (mergeStn.ubuntu.20140611.230448.458988: Step 1 of 1)\r\n"
       ]
      },
      {
       "output_type": "stream",
       "stream": "stdout",
       "text": [
        "Job launched 32119.8s ago, status RUNNING: Running step (mergeStn.ubuntu.20140611.230448.458988: Step 1 of 1)\r\n"
       ]
      },
      {
       "output_type": "stream",
       "stream": "stdout",
       "text": [
        "Job launched 32150.0s ago, status RUNNING: Running step (mergeStn.ubuntu.20140611.230448.458988: Step 1 of 1)\r\n"
       ]
      },
      {
       "output_type": "stream",
       "stream": "stdout",
       "text": [
        "Job launched 32180.1s ago, status RUNNING: Running step (mergeStn.ubuntu.20140611.230448.458988: Step 1 of 1)\r\n"
       ]
      },
      {
       "output_type": "stream",
       "stream": "stdout",
       "text": [
        "Job launched 32210.4s ago, status RUNNING: Running step (mergeStn.ubuntu.20140611.230448.458988: Step 1 of 1)\r\n"
       ]
      },
      {
       "output_type": "stream",
       "stream": "stdout",
       "text": [
        "Job launched 32240.6s ago, status RUNNING: Running step (mergeStn.ubuntu.20140611.230448.458988: Step 1 of 1)\r\n"
       ]
      },
      {
       "output_type": "stream",
       "stream": "stdout",
       "text": [
        "Job launched 32270.8s ago, status RUNNING: Running step (mergeStn.ubuntu.20140611.230448.458988: Step 1 of 1)\r\n"
       ]
      },
      {
       "output_type": "stream",
       "stream": "stdout",
       "text": [
        "Job launched 32301.0s ago, status RUNNING: Running step (mergeStn.ubuntu.20140611.230448.458988: Step 1 of 1)\r\n"
       ]
      },
      {
       "output_type": "stream",
       "stream": "stdout",
       "text": [
        "Job launched 32331.2s ago, status RUNNING: Running step (mergeStn.ubuntu.20140611.230448.458988: Step 1 of 1)\r\n"
       ]
      },
      {
       "output_type": "stream",
       "stream": "stdout",
       "text": [
        "Job launched 32361.4s ago, status RUNNING: Running step (mergeStn.ubuntu.20140611.230448.458988: Step 1 of 1)\r\n"
       ]
      },
      {
       "output_type": "stream",
       "stream": "stdout",
       "text": [
        "Job launched 32391.7s ago, status RUNNING: Running step (mergeStn.ubuntu.20140611.230448.458988: Step 1 of 1)\r\n"
       ]
      },
      {
       "output_type": "stream",
       "stream": "stdout",
       "text": [
        "Job launched 32421.9s ago, status RUNNING: Running step (mergeStn.ubuntu.20140611.230448.458988: Step 1 of 1)\r\n"
       ]
      },
      {
       "output_type": "stream",
       "stream": "stdout",
       "text": [
        "Job launched 32452.1s ago, status RUNNING: Running step (mergeStn.ubuntu.20140611.230448.458988: Step 1 of 1)\r\n"
       ]
      },
      {
       "output_type": "stream",
       "stream": "stdout",
       "text": [
        "Job launched 32482.4s ago, status RUNNING: Running step (mergeStn.ubuntu.20140611.230448.458988: Step 1 of 1)\r\n"
       ]
      },
      {
       "output_type": "stream",
       "stream": "stdout",
       "text": [
        "Job launched 32512.7s ago, status RUNNING: Running step (mergeStn.ubuntu.20140611.230448.458988: Step 1 of 1)\r\n"
       ]
      },
      {
       "output_type": "stream",
       "stream": "stdout",
       "text": [
        "Job launched 32542.8s ago, status RUNNING: Running step (mergeStn.ubuntu.20140611.230448.458988: Step 1 of 1)\r\n"
       ]
      },
      {
       "output_type": "stream",
       "stream": "stdout",
       "text": [
        "Job launched 32573.1s ago, status RUNNING: Running step (mergeStn.ubuntu.20140611.230448.458988: Step 1 of 1)\r\n"
       ]
      },
      {
       "output_type": "stream",
       "stream": "stdout",
       "text": [
        "Job launched 32603.3s ago, status RUNNING: Running step (mergeStn.ubuntu.20140611.230448.458988: Step 1 of 1)\r\n"
       ]
      },
      {
       "output_type": "stream",
       "stream": "stdout",
       "text": [
        "Job launched 32633.5s ago, status RUNNING: Running step (mergeStn.ubuntu.20140611.230448.458988: Step 1 of 1)\r\n"
       ]
      },
      {
       "output_type": "stream",
       "stream": "stdout",
       "text": [
        "Job launched 32663.7s ago, status RUNNING: Running step (mergeStn.ubuntu.20140611.230448.458988: Step 1 of 1)\r\n"
       ]
      },
      {
       "output_type": "stream",
       "stream": "stdout",
       "text": [
        "Job launched 32693.9s ago, status RUNNING: Running step (mergeStn.ubuntu.20140611.230448.458988: Step 1 of 1)\r\n"
       ]
      },
      {
       "output_type": "stream",
       "stream": "stdout",
       "text": [
        "Job launched 32724.1s ago, status RUNNING: Running step (mergeStn.ubuntu.20140611.230448.458988: Step 1 of 1)\r\n"
       ]
      },
      {
       "output_type": "stream",
       "stream": "stdout",
       "text": [
        "Job launched 32754.3s ago, status RUNNING: Running step (mergeStn.ubuntu.20140611.230448.458988: Step 1 of 1)\r\n"
       ]
      },
      {
       "output_type": "stream",
       "stream": "stdout",
       "text": [
        "Job launched 32784.5s ago, status RUNNING: Running step (mergeStn.ubuntu.20140611.230448.458988: Step 1 of 1)\r\n"
       ]
      },
      {
       "output_type": "stream",
       "stream": "stdout",
       "text": [
        "Job launched 32814.7s ago, status RUNNING: Running step (mergeStn.ubuntu.20140611.230448.458988: Step 1 of 1)\r\n"
       ]
      },
      {
       "output_type": "stream",
       "stream": "stdout",
       "text": [
        "Job launched 32844.9s ago, status RUNNING: Running step (mergeStn.ubuntu.20140611.230448.458988: Step 1 of 1)\r\n"
       ]
      },
      {
       "output_type": "stream",
       "stream": "stdout",
       "text": [
        "Job launched 32875.1s ago, status RUNNING: Running step (mergeStn.ubuntu.20140611.230448.458988: Step 1 of 1)\r\n"
       ]
      },
      {
       "output_type": "stream",
       "stream": "stdout",
       "text": [
        "Job launched 32905.3s ago, status RUNNING: Running step (mergeStn.ubuntu.20140611.230448.458988: Step 1 of 1)\r\n"
       ]
      },
      {
       "output_type": "stream",
       "stream": "stdout",
       "text": [
        "Job launched 32935.6s ago, status RUNNING: Running step (mergeStn.ubuntu.20140611.230448.458988: Step 1 of 1)\r\n"
       ]
      },
      {
       "output_type": "stream",
       "stream": "stdout",
       "text": [
        "Job launched 32965.8s ago, status RUNNING: Running step (mergeStn.ubuntu.20140611.230448.458988: Step 1 of 1)\r\n"
       ]
      },
      {
       "output_type": "stream",
       "stream": "stdout",
       "text": [
        "Job launched 32996.0s ago, status RUNNING: Running step (mergeStn.ubuntu.20140611.230448.458988: Step 1 of 1)\r\n"
       ]
      },
      {
       "output_type": "stream",
       "stream": "stdout",
       "text": [
        "Job launched 33026.2s ago, status RUNNING: Running step (mergeStn.ubuntu.20140611.230448.458988: Step 1 of 1)\r\n"
       ]
      },
      {
       "output_type": "stream",
       "stream": "stdout",
       "text": [
        "Job launched 33056.4s ago, status RUNNING: Running step (mergeStn.ubuntu.20140611.230448.458988: Step 1 of 1)\r\n"
       ]
      },
      {
       "output_type": "stream",
       "stream": "stdout",
       "text": [
        "Job launched 33086.6s ago, status RUNNING: Running step (mergeStn.ubuntu.20140611.230448.458988: Step 1 of 1)\r\n"
       ]
      },
      {
       "output_type": "stream",
       "stream": "stdout",
       "text": [
        "Job launched 33116.9s ago, status RUNNING: Running step (mergeStn.ubuntu.20140611.230448.458988: Step 1 of 1)\r\n"
       ]
      },
      {
       "output_type": "stream",
       "stream": "stdout",
       "text": [
        "Job launched 33147.1s ago, status RUNNING: Running step (mergeStn.ubuntu.20140611.230448.458988: Step 1 of 1)\r\n"
       ]
      },
      {
       "output_type": "stream",
       "stream": "stdout",
       "text": [
        "Job launched 33177.3s ago, status RUNNING: Running step (mergeStn.ubuntu.20140611.230448.458988: Step 1 of 1)\r\n"
       ]
      },
      {
       "output_type": "stream",
       "stream": "stdout",
       "text": [
        "Job launched 33207.4s ago, status RUNNING: Running step (mergeStn.ubuntu.20140611.230448.458988: Step 1 of 1)\r\n"
       ]
      },
      {
       "output_type": "stream",
       "stream": "stdout",
       "text": [
        "Job launched 33237.7s ago, status RUNNING: Running step (mergeStn.ubuntu.20140611.230448.458988: Step 1 of 1)\r\n"
       ]
      },
      {
       "output_type": "stream",
       "stream": "stdout",
       "text": [
        "Job launched 33267.9s ago, status RUNNING: Running step (mergeStn.ubuntu.20140611.230448.458988: Step 1 of 1)\r\n"
       ]
      },
      {
       "output_type": "stream",
       "stream": "stdout",
       "text": [
        "Job launched 33298.1s ago, status RUNNING: Running step (mergeStn.ubuntu.20140611.230448.458988: Step 1 of 1)\r\n"
       ]
      },
      {
       "output_type": "stream",
       "stream": "stdout",
       "text": [
        "Job launched 33328.3s ago, status RUNNING: Running step (mergeStn.ubuntu.20140611.230448.458988: Step 1 of 1)\r\n"
       ]
      },
      {
       "output_type": "stream",
       "stream": "stdout",
       "text": [
        "Job launched 33358.5s ago, status RUNNING: Running step (mergeStn.ubuntu.20140611.230448.458988: Step 1 of 1)\r\n"
       ]
      },
      {
       "output_type": "stream",
       "stream": "stdout",
       "text": [
        "Job launched 33388.7s ago, status RUNNING: Running step (mergeStn.ubuntu.20140611.230448.458988: Step 1 of 1)\r\n"
       ]
      },
      {
       "output_type": "stream",
       "stream": "stdout",
       "text": [
        "Job launched 33418.9s ago, status RUNNING: Running step (mergeStn.ubuntu.20140611.230448.458988: Step 1 of 1)\r\n"
       ]
      },
      {
       "output_type": "stream",
       "stream": "stdout",
       "text": [
        "Job launched 33449.1s ago, status RUNNING: Running step (mergeStn.ubuntu.20140611.230448.458988: Step 1 of 1)\r\n"
       ]
      },
      {
       "output_type": "stream",
       "stream": "stdout",
       "text": [
        "Job launched 33479.3s ago, status RUNNING: Running step (mergeStn.ubuntu.20140611.230448.458988: Step 1 of 1)\r\n"
       ]
      },
      {
       "output_type": "stream",
       "stream": "stdout",
       "text": [
        "Job launched 33509.5s ago, status RUNNING: Running step (mergeStn.ubuntu.20140611.230448.458988: Step 1 of 1)\r\n"
       ]
      },
      {
       "output_type": "stream",
       "stream": "stdout",
       "text": [
        "Job launched 33539.7s ago, status RUNNING: Running step (mergeStn.ubuntu.20140611.230448.458988: Step 1 of 1)\r\n"
       ]
      },
      {
       "output_type": "stream",
       "stream": "stdout",
       "text": [
        "Job launched 33569.9s ago, status RUNNING: Running step (mergeStn.ubuntu.20140611.230448.458988: Step 1 of 1)\r\n"
       ]
      },
      {
       "output_type": "stream",
       "stream": "stdout",
       "text": [
        "Job launched 33600.1s ago, status RUNNING: Running step (mergeStn.ubuntu.20140611.230448.458988: Step 1 of 1)\r\n"
       ]
      },
      {
       "output_type": "stream",
       "stream": "stdout",
       "text": [
        "Job launched 33630.3s ago, status RUNNING: Running step (mergeStn.ubuntu.20140611.230448.458988: Step 1 of 1)\r\n"
       ]
      },
      {
       "output_type": "stream",
       "stream": "stdout",
       "text": [
        "Job launched 33660.6s ago, status RUNNING: Running step (mergeStn.ubuntu.20140611.230448.458988: Step 1 of 1)\r\n"
       ]
      },
      {
       "output_type": "stream",
       "stream": "stdout",
       "text": [
        "Job launched 33690.8s ago, status RUNNING: Running step (mergeStn.ubuntu.20140611.230448.458988: Step 1 of 1)\r\n"
       ]
      },
      {
       "output_type": "stream",
       "stream": "stdout",
       "text": [
        "Job launched 33721.0s ago, status RUNNING: Running step (mergeStn.ubuntu.20140611.230448.458988: Step 1 of 1)\r\n"
       ]
      },
      {
       "output_type": "stream",
       "stream": "stdout",
       "text": [
        "Job launched 33751.2s ago, status RUNNING: Running step (mergeStn.ubuntu.20140611.230448.458988: Step 1 of 1)\r\n"
       ]
      },
      {
       "output_type": "stream",
       "stream": "stdout",
       "text": [
        "Job launched 33781.4s ago, status RUNNING: Running step (mergeStn.ubuntu.20140611.230448.458988: Step 1 of 1)\r\n"
       ]
      },
      {
       "output_type": "stream",
       "stream": "stdout",
       "text": [
        "Job launched 33811.6s ago, status RUNNING: Running step (mergeStn.ubuntu.20140611.230448.458988: Step 1 of 1)\r\n"
       ]
      },
      {
       "output_type": "stream",
       "stream": "stdout",
       "text": [
        "Job launched 33841.8s ago, status RUNNING: Running step (mergeStn.ubuntu.20140611.230448.458988: Step 1 of 1)\r\n"
       ]
      },
      {
       "output_type": "stream",
       "stream": "stdout",
       "text": [
        "Job launched 33872.0s ago, status RUNNING: Running step (mergeStn.ubuntu.20140611.230448.458988: Step 1 of 1)\r\n"
       ]
      },
      {
       "output_type": "stream",
       "stream": "stdout",
       "text": [
        "Job launched 33902.2s ago, status RUNNING: Running step (mergeStn.ubuntu.20140611.230448.458988: Step 1 of 1)\r\n"
       ]
      },
      {
       "output_type": "stream",
       "stream": "stdout",
       "text": [
        "Job launched 33932.4s ago, status RUNNING: Running step (mergeStn.ubuntu.20140611.230448.458988: Step 1 of 1)\r\n"
       ]
      },
      {
       "output_type": "stream",
       "stream": "stdout",
       "text": [
        "Job launched 33962.7s ago, status RUNNING: Running step (mergeStn.ubuntu.20140611.230448.458988: Step 1 of 1)\r\n"
       ]
      },
      {
       "output_type": "stream",
       "stream": "stdout",
       "text": [
        "Job launched 33992.9s ago, status RUNNING: Running step (mergeStn.ubuntu.20140611.230448.458988: Step 1 of 1)\r\n"
       ]
      },
      {
       "output_type": "stream",
       "stream": "stdout",
       "text": [
        "Job launched 34023.1s ago, status RUNNING: Running step (mergeStn.ubuntu.20140611.230448.458988: Step 1 of 1)\r\n"
       ]
      },
      {
       "output_type": "stream",
       "stream": "stdout",
       "text": [
        "Job launched 34053.3s ago, status RUNNING: Running step (mergeStn.ubuntu.20140611.230448.458988: Step 1 of 1)\r\n"
       ]
      },
      {
       "output_type": "stream",
       "stream": "stdout",
       "text": [
        "Job launched 34083.5s ago, status RUNNING: Running step (mergeStn.ubuntu.20140611.230448.458988: Step 1 of 1)\r\n"
       ]
      },
      {
       "output_type": "stream",
       "stream": "stdout",
       "text": [
        "Job launched 34113.7s ago, status RUNNING: Running step (mergeStn.ubuntu.20140611.230448.458988: Step 1 of 1)\r\n"
       ]
      },
      {
       "output_type": "stream",
       "stream": "stdout",
       "text": [
        "Job launched 34143.9s ago, status RUNNING: Running step (mergeStn.ubuntu.20140611.230448.458988: Step 1 of 1)\r\n"
       ]
      },
      {
       "output_type": "stream",
       "stream": "stdout",
       "text": [
        "Job launched 34174.2s ago, status RUNNING: Running step (mergeStn.ubuntu.20140611.230448.458988: Step 1 of 1)\r\n"
       ]
      },
      {
       "output_type": "stream",
       "stream": "stdout",
       "text": [
        "Job launched 34204.4s ago, status RUNNING: Running step (mergeStn.ubuntu.20140611.230448.458988: Step 1 of 1)\r\n"
       ]
      },
      {
       "output_type": "stream",
       "stream": "stdout",
       "text": [
        "Job launched 34234.7s ago, status RUNNING: Running step (mergeStn.ubuntu.20140611.230448.458988: Step 1 of 1)\r\n"
       ]
      },
      {
       "output_type": "stream",
       "stream": "stdout",
       "text": [
        "Job launched 34264.9s ago, status RUNNING: Running step (mergeStn.ubuntu.20140611.230448.458988: Step 1 of 1)\r\n"
       ]
      },
      {
       "output_type": "stream",
       "stream": "stdout",
       "text": [
        "Job launched 34295.1s ago, status RUNNING: Running step (mergeStn.ubuntu.20140611.230448.458988: Step 1 of 1)\r\n"
       ]
      },
      {
       "output_type": "stream",
       "stream": "stdout",
       "text": [
        "Job launched 34325.4s ago, status RUNNING: Running step (mergeStn.ubuntu.20140611.230448.458988: Step 1 of 1)\r\n"
       ]
      },
      {
       "output_type": "stream",
       "stream": "stdout",
       "text": [
        "Job launched 34355.6s ago, status RUNNING: Running step (mergeStn.ubuntu.20140611.230448.458988: Step 1 of 1)\r\n"
       ]
      },
      {
       "output_type": "stream",
       "stream": "stdout",
       "text": [
        "Job launched 34385.8s ago, status RUNNING: Running step (mergeStn.ubuntu.20140611.230448.458988: Step 1 of 1)\r\n"
       ]
      },
      {
       "output_type": "stream",
       "stream": "stdout",
       "text": [
        "Job launched 34416.0s ago, status RUNNING: Running step (mergeStn.ubuntu.20140611.230448.458988: Step 1 of 1)\r\n"
       ]
      },
      {
       "output_type": "stream",
       "stream": "stdout",
       "text": [
        "Job launched 34446.2s ago, status RUNNING: Running step (mergeStn.ubuntu.20140611.230448.458988: Step 1 of 1)\r\n"
       ]
      },
      {
       "output_type": "stream",
       "stream": "stdout",
       "text": [
        "Job launched 34476.5s ago, status RUNNING: Running step (mergeStn.ubuntu.20140611.230448.458988: Step 1 of 1)\r\n"
       ]
      },
      {
       "output_type": "stream",
       "stream": "stdout",
       "text": [
        "Job launched 34506.7s ago, status RUNNING: Running step (mergeStn.ubuntu.20140611.230448.458988: Step 1 of 1)\r\n"
       ]
      },
      {
       "output_type": "stream",
       "stream": "stdout",
       "text": [
        "Job launched 34536.9s ago, status RUNNING: Running step (mergeStn.ubuntu.20140611.230448.458988: Step 1 of 1)\r\n"
       ]
      },
      {
       "output_type": "stream",
       "stream": "stdout",
       "text": [
        "Job launched 34567.1s ago, status RUNNING: Running step (mergeStn.ubuntu.20140611.230448.458988: Step 1 of 1)\r\n"
       ]
      },
      {
       "output_type": "stream",
       "stream": "stdout",
       "text": [
        "Job launched 34597.3s ago, status RUNNING: Running step (mergeStn.ubuntu.20140611.230448.458988: Step 1 of 1)\r\n"
       ]
      },
      {
       "output_type": "stream",
       "stream": "stdout",
       "text": [
        "Job launched 34627.5s ago, status RUNNING: Running step (mergeStn.ubuntu.20140611.230448.458988: Step 1 of 1)\r\n"
       ]
      },
      {
       "output_type": "stream",
       "stream": "stdout",
       "text": [
        "Job launched 34657.7s ago, status RUNNING: Running step (mergeStn.ubuntu.20140611.230448.458988: Step 1 of 1)\r\n"
       ]
      },
      {
       "output_type": "stream",
       "stream": "stdout",
       "text": [
        "Job launched 34687.9s ago, status RUNNING: Running step (mergeStn.ubuntu.20140611.230448.458988: Step 1 of 1)\r\n"
       ]
      },
      {
       "output_type": "stream",
       "stream": "stdout",
       "text": [
        "Job launched 34718.1s ago, status RUNNING: Running step (mergeStn.ubuntu.20140611.230448.458988: Step 1 of 1)\r\n"
       ]
      },
      {
       "output_type": "stream",
       "stream": "stdout",
       "text": [
        "Job launched 34748.3s ago, status RUNNING: Running step (mergeStn.ubuntu.20140611.230448.458988: Step 1 of 1)\r\n"
       ]
      },
      {
       "output_type": "stream",
       "stream": "stdout",
       "text": [
        "Job launched 34778.5s ago, status RUNNING: Running step (mergeStn.ubuntu.20140611.230448.458988: Step 1 of 1)\r\n"
       ]
      },
      {
       "output_type": "stream",
       "stream": "stdout",
       "text": [
        "Job launched 34808.8s ago, status RUNNING: Running step (mergeStn.ubuntu.20140611.230448.458988: Step 1 of 1)\r\n"
       ]
      },
      {
       "output_type": "stream",
       "stream": "stdout",
       "text": [
        "Job launched 34839.0s ago, status RUNNING: Running step (mergeStn.ubuntu.20140611.230448.458988: Step 1 of 1)\r\n"
       ]
      },
      {
       "output_type": "stream",
       "stream": "stdout",
       "text": [
        "Job launched 34869.2s ago, status RUNNING: Running step (mergeStn.ubuntu.20140611.230448.458988: Step 1 of 1)\r\n"
       ]
      },
      {
       "output_type": "stream",
       "stream": "stdout",
       "text": [
        "Job launched 34899.5s ago, status RUNNING: Running step (mergeStn.ubuntu.20140611.230448.458988: Step 1 of 1)\r\n"
       ]
      },
      {
       "output_type": "stream",
       "stream": "stdout",
       "text": [
        "Job launched 34929.7s ago, status RUNNING: Running step (mergeStn.ubuntu.20140611.230448.458988: Step 1 of 1)\r\n"
       ]
      },
      {
       "output_type": "stream",
       "stream": "stdout",
       "text": [
        "Job launched 34959.9s ago, status RUNNING: Running step (mergeStn.ubuntu.20140611.230448.458988: Step 1 of 1)\r\n"
       ]
      },
      {
       "output_type": "stream",
       "stream": "stdout",
       "text": [
        "Job launched 34990.1s ago, status RUNNING: Running step (mergeStn.ubuntu.20140611.230448.458988: Step 1 of 1)\r\n"
       ]
      },
      {
       "output_type": "stream",
       "stream": "stdout",
       "text": [
        "Job launched 35020.3s ago, status RUNNING: Running step (mergeStn.ubuntu.20140611.230448.458988: Step 1 of 1)\r\n"
       ]
      },
      {
       "output_type": "stream",
       "stream": "stdout",
       "text": [
        "Job launched 35050.6s ago, status RUNNING: Running step (mergeStn.ubuntu.20140611.230448.458988: Step 1 of 1)\r\n"
       ]
      },
      {
       "output_type": "stream",
       "stream": "stdout",
       "text": [
        "Job launched 35080.8s ago, status RUNNING: Running step (mergeStn.ubuntu.20140611.230448.458988: Step 1 of 1)\r\n"
       ]
      },
      {
       "output_type": "stream",
       "stream": "stdout",
       "text": [
        "Job launched 35111.0s ago, status RUNNING: Running step (mergeStn.ubuntu.20140611.230448.458988: Step 1 of 1)\r\n"
       ]
      },
      {
       "output_type": "stream",
       "stream": "stdout",
       "text": [
        "Job launched 35141.2s ago, status RUNNING: Running step (mergeStn.ubuntu.20140611.230448.458988: Step 1 of 1)\r\n"
       ]
      },
      {
       "output_type": "stream",
       "stream": "stdout",
       "text": [
        "Job launched 35171.5s ago, status RUNNING: Running step (mergeStn.ubuntu.20140611.230448.458988: Step 1 of 1)\r\n"
       ]
      },
      {
       "output_type": "stream",
       "stream": "stdout",
       "text": [
        "Job launched 35201.7s ago, status RUNNING: Running step (mergeStn.ubuntu.20140611.230448.458988: Step 1 of 1)\r\n"
       ]
      },
      {
       "output_type": "stream",
       "stream": "stdout",
       "text": [
        "Job launched 35231.9s ago, status RUNNING: Running step (mergeStn.ubuntu.20140611.230448.458988: Step 1 of 1)\r\n"
       ]
      },
      {
       "output_type": "stream",
       "stream": "stdout",
       "text": [
        "Job launched 35262.1s ago, status RUNNING: Running step (mergeStn.ubuntu.20140611.230448.458988: Step 1 of 1)\r\n"
       ]
      },
      {
       "output_type": "stream",
       "stream": "stdout",
       "text": [
        "Job launched 35292.3s ago, status RUNNING: Running step (mergeStn.ubuntu.20140611.230448.458988: Step 1 of 1)\r\n"
       ]
      },
      {
       "output_type": "stream",
       "stream": "stdout",
       "text": [
        "Job launched 35322.6s ago, status RUNNING: Running step (mergeStn.ubuntu.20140611.230448.458988: Step 1 of 1)\r\n"
       ]
      },
      {
       "output_type": "stream",
       "stream": "stdout",
       "text": [
        "Job launched 35352.8s ago, status RUNNING: Running step (mergeStn.ubuntu.20140611.230448.458988: Step 1 of 1)\r\n"
       ]
      },
      {
       "output_type": "stream",
       "stream": "stdout",
       "text": [
        "Job launched 35383.0s ago, status RUNNING: Running step (mergeStn.ubuntu.20140611.230448.458988: Step 1 of 1)\r\n"
       ]
      },
      {
       "output_type": "stream",
       "stream": "stdout",
       "text": [
        "Job launched 35413.2s ago, status RUNNING: Running step (mergeStn.ubuntu.20140611.230448.458988: Step 1 of 1)\r\n"
       ]
      },
      {
       "output_type": "stream",
       "stream": "stdout",
       "text": [
        "Job launched 35443.4s ago, status RUNNING: Running step (mergeStn.ubuntu.20140611.230448.458988: Step 1 of 1)\r\n"
       ]
      },
      {
       "output_type": "stream",
       "stream": "stdout",
       "text": [
        "Job launched 35473.6s ago, status RUNNING: Running step (mergeStn.ubuntu.20140611.230448.458988: Step 1 of 1)\r\n"
       ]
      },
      {
       "output_type": "stream",
       "stream": "stdout",
       "text": [
        "Job launched 35503.8s ago, status RUNNING: Running step (mergeStn.ubuntu.20140611.230448.458988: Step 1 of 1)\r\n"
       ]
      },
      {
       "output_type": "stream",
       "stream": "stdout",
       "text": [
        "Job launched 35534.1s ago, status RUNNING: Running step (mergeStn.ubuntu.20140611.230448.458988: Step 1 of 1)\r\n"
       ]
      },
      {
       "output_type": "stream",
       "stream": "stdout",
       "text": [
        "Job launched 35564.3s ago, status RUNNING: Running step (mergeStn.ubuntu.20140611.230448.458988: Step 1 of 1)\r\n"
       ]
      },
      {
       "output_type": "stream",
       "stream": "stdout",
       "text": [
        "Job launched 35594.4s ago, status RUNNING: Running step (mergeStn.ubuntu.20140611.230448.458988: Step 1 of 1)\r\n"
       ]
      },
      {
       "output_type": "stream",
       "stream": "stdout",
       "text": [
        "Job launched 35624.7s ago, status RUNNING: Running step (mergeStn.ubuntu.20140611.230448.458988: Step 1 of 1)\r\n"
       ]
      },
      {
       "output_type": "stream",
       "stream": "stdout",
       "text": [
        "Job launched 35654.9s ago, status RUNNING: Running step (mergeStn.ubuntu.20140611.230448.458988: Step 1 of 1)\r\n"
       ]
      },
      {
       "output_type": "stream",
       "stream": "stdout",
       "text": [
        "Job launched 35685.2s ago, status RUNNING: Running step (mergeStn.ubuntu.20140611.230448.458988: Step 1 of 1)\r\n"
       ]
      },
      {
       "output_type": "stream",
       "stream": "stdout",
       "text": [
        "Job launched 35715.4s ago, status RUNNING: Running step (mergeStn.ubuntu.20140611.230448.458988: Step 1 of 1)\r\n"
       ]
      },
      {
       "output_type": "stream",
       "stream": "stdout",
       "text": [
        "Job launched 35745.6s ago, status RUNNING: Running step (mergeStn.ubuntu.20140611.230448.458988: Step 1 of 1)\r\n"
       ]
      },
      {
       "output_type": "stream",
       "stream": "stdout",
       "text": [
        "Job launched 35775.8s ago, status RUNNING: Running step (mergeStn.ubuntu.20140611.230448.458988: Step 1 of 1)\r\n"
       ]
      },
      {
       "output_type": "stream",
       "stream": "stdout",
       "text": [
        "Job launched 35806.0s ago, status RUNNING: Running step (mergeStn.ubuntu.20140611.230448.458988: Step 1 of 1)\r\n"
       ]
      },
      {
       "output_type": "stream",
       "stream": "stdout",
       "text": [
        "Job launched 35836.2s ago, status RUNNING: Running step (mergeStn.ubuntu.20140611.230448.458988: Step 1 of 1)\r\n"
       ]
      },
      {
       "output_type": "stream",
       "stream": "stdout",
       "text": [
        "Job launched 35866.4s ago, status RUNNING: Running step (mergeStn.ubuntu.20140611.230448.458988: Step 1 of 1)\r\n"
       ]
      },
      {
       "output_type": "stream",
       "stream": "stdout",
       "text": [
        "Job launched 35896.6s ago, status RUNNING: Running step (mergeStn.ubuntu.20140611.230448.458988: Step 1 of 1)\r\n"
       ]
      },
      {
       "output_type": "stream",
       "stream": "stdout",
       "text": [
        "Job launched 35926.8s ago, status RUNNING: Running step (mergeStn.ubuntu.20140611.230448.458988: Step 1 of 1)\r\n"
       ]
      },
      {
       "output_type": "stream",
       "stream": "stdout",
       "text": [
        "Job launched 35957.1s ago, status RUNNING: Running step (mergeStn.ubuntu.20140611.230448.458988: Step 1 of 1)\r\n"
       ]
      },
      {
       "output_type": "stream",
       "stream": "stdout",
       "text": [
        "Job launched 35987.3s ago, status RUNNING: Running step (mergeStn.ubuntu.20140611.230448.458988: Step 1 of 1)\r\n"
       ]
      },
      {
       "output_type": "stream",
       "stream": "stdout",
       "text": [
        "Job launched 36017.5s ago, status RUNNING: Running step (mergeStn.ubuntu.20140611.230448.458988: Step 1 of 1)\r\n"
       ]
      },
      {
       "output_type": "stream",
       "stream": "stdout",
       "text": [
        "Job launched 36047.7s ago, status RUNNING: Running step (mergeStn.ubuntu.20140611.230448.458988: Step 1 of 1)\r\n"
       ]
      },
      {
       "output_type": "stream",
       "stream": "stdout",
       "text": [
        "Job launched 36077.9s ago, status RUNNING: Running step (mergeStn.ubuntu.20140611.230448.458988: Step 1 of 1)\r\n"
       ]
      },
      {
       "output_type": "stream",
       "stream": "stdout",
       "text": [
        "Job launched 36108.1s ago, status RUNNING: Running step (mergeStn.ubuntu.20140611.230448.458988: Step 1 of 1)\r\n"
       ]
      },
      {
       "output_type": "stream",
       "stream": "stdout",
       "text": [
        "Job launched 36138.3s ago, status RUNNING: Running step (mergeStn.ubuntu.20140611.230448.458988: Step 1 of 1)\r\n"
       ]
      },
      {
       "output_type": "stream",
       "stream": "stdout",
       "text": [
        "Job launched 36168.6s ago, status RUNNING: Running step (mergeStn.ubuntu.20140611.230448.458988: Step 1 of 1)\r\n"
       ]
      },
      {
       "output_type": "stream",
       "stream": "stdout",
       "text": [
        "Job launched 36198.8s ago, status RUNNING: Running step (mergeStn.ubuntu.20140611.230448.458988: Step 1 of 1)\r\n"
       ]
      },
      {
       "output_type": "stream",
       "stream": "stdout",
       "text": [
        "Job launched 36229.0s ago, status RUNNING: Running step (mergeStn.ubuntu.20140611.230448.458988: Step 1 of 1)\r\n"
       ]
      },
      {
       "output_type": "stream",
       "stream": "stdout",
       "text": [
        "Job launched 36259.2s ago, status RUNNING: Running step (mergeStn.ubuntu.20140611.230448.458988: Step 1 of 1)\r\n"
       ]
      },
      {
       "output_type": "stream",
       "stream": "stdout",
       "text": [
        "Job launched 36289.4s ago, status RUNNING: Running step (mergeStn.ubuntu.20140611.230448.458988: Step 1 of 1)\r\n"
       ]
      },
      {
       "output_type": "stream",
       "stream": "stdout",
       "text": [
        "Job launched 36319.6s ago, status RUNNING: Running step (mergeStn.ubuntu.20140611.230448.458988: Step 1 of 1)\r\n"
       ]
      },
      {
       "output_type": "stream",
       "stream": "stdout",
       "text": [
        "Job launched 36349.8s ago, status RUNNING: Running step (mergeStn.ubuntu.20140611.230448.458988: Step 1 of 1)\r\n"
       ]
      },
      {
       "output_type": "stream",
       "stream": "stdout",
       "text": [
        "Job launched 36380.0s ago, status RUNNING: Running step (mergeStn.ubuntu.20140611.230448.458988: Step 1 of 1)\r\n"
       ]
      },
      {
       "output_type": "stream",
       "stream": "stdout",
       "text": [
        "Job launched 36410.2s ago, status RUNNING: Running step (mergeStn.ubuntu.20140611.230448.458988: Step 1 of 1)\r\n"
       ]
      },
      {
       "output_type": "stream",
       "stream": "stdout",
       "text": [
        "Job launched 36440.5s ago, status RUNNING: Running step (mergeStn.ubuntu.20140611.230448.458988: Step 1 of 1)\r\n"
       ]
      },
      {
       "output_type": "stream",
       "stream": "stdout",
       "text": [
        "Job launched 36470.7s ago, status RUNNING: Running step (mergeStn.ubuntu.20140611.230448.458988: Step 1 of 1)\r\n"
       ]
      },
      {
       "output_type": "stream",
       "stream": "stdout",
       "text": [
        "Job launched 36500.9s ago, status RUNNING: Running step (mergeStn.ubuntu.20140611.230448.458988: Step 1 of 1)\r\n"
       ]
      },
      {
       "output_type": "stream",
       "stream": "stdout",
       "text": [
        "Job launched 36531.1s ago, status RUNNING: Running step (mergeStn.ubuntu.20140611.230448.458988: Step 1 of 1)\r\n"
       ]
      },
      {
       "output_type": "stream",
       "stream": "stdout",
       "text": [
        "Job launched 36561.3s ago, status RUNNING: Running step (mergeStn.ubuntu.20140611.230448.458988: Step 1 of 1)\r\n"
       ]
      },
      {
       "output_type": "stream",
       "stream": "stdout",
       "text": [
        "Job launched 36591.5s ago, status RUNNING: Running step (mergeStn.ubuntu.20140611.230448.458988: Step 1 of 1)\r\n"
       ]
      },
      {
       "output_type": "stream",
       "stream": "stdout",
       "text": [
        "Job launched 36621.8s ago, status RUNNING: Running step (mergeStn.ubuntu.20140611.230448.458988: Step 1 of 1)\r\n"
       ]
      },
      {
       "output_type": "stream",
       "stream": "stdout",
       "text": [
        "Job launched 36652.0s ago, status RUNNING: Running step (mergeStn.ubuntu.20140611.230448.458988: Step 1 of 1)\r\n"
       ]
      },
      {
       "output_type": "stream",
       "stream": "stdout",
       "text": [
        "Job launched 36682.2s ago, status RUNNING: Running step (mergeStn.ubuntu.20140611.230448.458988: Step 1 of 1)\r\n"
       ]
      },
      {
       "output_type": "stream",
       "stream": "stdout",
       "text": [
        "Job launched 36712.4s ago, status RUNNING: Running step (mergeStn.ubuntu.20140611.230448.458988: Step 1 of 1)\r\n"
       ]
      },
      {
       "output_type": "stream",
       "stream": "stdout",
       "text": [
        "Job launched 36742.6s ago, status RUNNING: Running step (mergeStn.ubuntu.20140611.230448.458988: Step 1 of 1)\r\n"
       ]
      },
      {
       "output_type": "stream",
       "stream": "stdout",
       "text": [
        "Job launched 36772.8s ago, status RUNNING: Running step (mergeStn.ubuntu.20140611.230448.458988: Step 1 of 1)\r\n"
       ]
      },
      {
       "output_type": "stream",
       "stream": "stdout",
       "text": [
        "Job launched 36803.0s ago, status RUNNING: Running step (mergeStn.ubuntu.20140611.230448.458988: Step 1 of 1)\r\n"
       ]
      },
      {
       "output_type": "stream",
       "stream": "stdout",
       "text": [
        "Job launched 36833.2s ago, status RUNNING: Running step (mergeStn.ubuntu.20140611.230448.458988: Step 1 of 1)\r\n"
       ]
      },
      {
       "output_type": "stream",
       "stream": "stdout",
       "text": [
        "Job launched 36863.5s ago, status RUNNING: Running step (mergeStn.ubuntu.20140611.230448.458988: Step 1 of 1)\r\n"
       ]
      },
      {
       "output_type": "stream",
       "stream": "stdout",
       "text": [
        "Job launched 36893.7s ago, status RUNNING: Running step (mergeStn.ubuntu.20140611.230448.458988: Step 1 of 1)\r\n"
       ]
      },
      {
       "output_type": "stream",
       "stream": "stdout",
       "text": [
        "Job launched 36923.9s ago, status RUNNING: Running step (mergeStn.ubuntu.20140611.230448.458988: Step 1 of 1)\r\n"
       ]
      },
      {
       "output_type": "stream",
       "stream": "stdout",
       "text": [
        "Job launched 36954.2s ago, status RUNNING: Running step (mergeStn.ubuntu.20140611.230448.458988: Step 1 of 1)\r\n"
       ]
      },
      {
       "output_type": "stream",
       "stream": "stdout",
       "text": [
        "Job launched 36984.4s ago, status RUNNING: Running step (mergeStn.ubuntu.20140611.230448.458988: Step 1 of 1)\r\n"
       ]
      },
      {
       "output_type": "stream",
       "stream": "stdout",
       "text": [
        "Job launched 37014.6s ago, status RUNNING: Running step (mergeStn.ubuntu.20140611.230448.458988: Step 1 of 1)\r\n"
       ]
      },
      {
       "output_type": "stream",
       "stream": "stdout",
       "text": [
        "Job launched 37044.8s ago, status RUNNING: Running step (mergeStn.ubuntu.20140611.230448.458988: Step 1 of 1)\r\n"
       ]
      },
      {
       "output_type": "stream",
       "stream": "stdout",
       "text": [
        "Job launched 37075.0s ago, status RUNNING: Running step (mergeStn.ubuntu.20140611.230448.458988: Step 1 of 1)\r\n"
       ]
      },
      {
       "output_type": "stream",
       "stream": "stdout",
       "text": [
        "Job launched 37105.2s ago, status RUNNING: Running step (mergeStn.ubuntu.20140611.230448.458988: Step 1 of 1)\r\n"
       ]
      },
      {
       "output_type": "stream",
       "stream": "stdout",
       "text": [
        "Job launched 37135.4s ago, status RUNNING: Running step (mergeStn.ubuntu.20140611.230448.458988: Step 1 of 1)\r\n"
       ]
      },
      {
       "output_type": "stream",
       "stream": "stdout",
       "text": [
        "Job launched 37165.6s ago, status RUNNING: Running step (mergeStn.ubuntu.20140611.230448.458988: Step 1 of 1)\r\n"
       ]
      },
      {
       "output_type": "stream",
       "stream": "stdout",
       "text": [
        "Job launched 37195.9s ago, status RUNNING: Running step (mergeStn.ubuntu.20140611.230448.458988: Step 1 of 1)\r\n"
       ]
      },
      {
       "output_type": "stream",
       "stream": "stdout",
       "text": [
        "Job launched 37226.1s ago, status RUNNING: Running step (mergeStn.ubuntu.20140611.230448.458988: Step 1 of 1)\r\n"
       ]
      },
      {
       "output_type": "stream",
       "stream": "stdout",
       "text": [
        "Job launched 37256.3s ago, status RUNNING: Running step (mergeStn.ubuntu.20140611.230448.458988: Step 1 of 1)\r\n"
       ]
      },
      {
       "output_type": "stream",
       "stream": "stdout",
       "text": [
        "Job launched 37286.5s ago, status RUNNING: Running step (mergeStn.ubuntu.20140611.230448.458988: Step 1 of 1)\r\n"
       ]
      },
      {
       "output_type": "stream",
       "stream": "stdout",
       "text": [
        "Job launched 37316.7s ago, status RUNNING: Running step (mergeStn.ubuntu.20140611.230448.458988: Step 1 of 1)\r\n"
       ]
      },
      {
       "output_type": "stream",
       "stream": "stdout",
       "text": [
        "Job launched 37347.0s ago, status RUNNING: Running step (mergeStn.ubuntu.20140611.230448.458988: Step 1 of 1)\r\n"
       ]
      },
      {
       "output_type": "stream",
       "stream": "stdout",
       "text": [
        "Job launched 37377.2s ago, status RUNNING: Running step (mergeStn.ubuntu.20140611.230448.458988: Step 1 of 1)\r\n"
       ]
      },
      {
       "output_type": "stream",
       "stream": "stdout",
       "text": [
        "Job launched 37407.4s ago, status RUNNING: Running step (mergeStn.ubuntu.20140611.230448.458988: Step 1 of 1)\r\n"
       ]
      },
      {
       "output_type": "stream",
       "stream": "stdout",
       "text": [
        "Job launched 37437.6s ago, status RUNNING: Running step (mergeStn.ubuntu.20140611.230448.458988: Step 1 of 1)\r\n"
       ]
      },
      {
       "output_type": "stream",
       "stream": "stdout",
       "text": [
        "Job launched 37467.8s ago, status RUNNING: Running step (mergeStn.ubuntu.20140611.230448.458988: Step 1 of 1)\r\n"
       ]
      },
      {
       "output_type": "stream",
       "stream": "stdout",
       "text": [
        "Job launched 37498.0s ago, status RUNNING: Running step (mergeStn.ubuntu.20140611.230448.458988: Step 1 of 1)\r\n"
       ]
      },
      {
       "output_type": "stream",
       "stream": "stdout",
       "text": [
        "Job launched 37528.3s ago, status RUNNING: Running step (mergeStn.ubuntu.20140611.230448.458988: Step 1 of 1)\r\n"
       ]
      },
      {
       "output_type": "stream",
       "stream": "stdout",
       "text": [
        "Job launched 37558.5s ago, status RUNNING: Running step (mergeStn.ubuntu.20140611.230448.458988: Step 1 of 1)\r\n"
       ]
      },
      {
       "output_type": "stream",
       "stream": "stdout",
       "text": [
        "Job launched 37588.7s ago, status RUNNING: Running step (mergeStn.ubuntu.20140611.230448.458988: Step 1 of 1)\r\n"
       ]
      },
      {
       "output_type": "stream",
       "stream": "stdout",
       "text": [
        "Job launched 37618.9s ago, status RUNNING: Running step (mergeStn.ubuntu.20140611.230448.458988: Step 1 of 1)\r\n"
       ]
      },
      {
       "output_type": "stream",
       "stream": "stdout",
       "text": [
        "Job launched 37649.2s ago, status RUNNING: Running step (mergeStn.ubuntu.20140611.230448.458988: Step 1 of 1)\r\n"
       ]
      },
      {
       "output_type": "stream",
       "stream": "stdout",
       "text": [
        "Job launched 37679.3s ago, status RUNNING: Running step (mergeStn.ubuntu.20140611.230448.458988: Step 1 of 1)\r\n"
       ]
      },
      {
       "output_type": "stream",
       "stream": "stdout",
       "text": [
        "Job launched 37709.5s ago, status RUNNING: Running step (mergeStn.ubuntu.20140611.230448.458988: Step 1 of 1)\r\n"
       ]
      },
      {
       "output_type": "stream",
       "stream": "stdout",
       "text": [
        "Job launched 37739.7s ago, status RUNNING: Running step (mergeStn.ubuntu.20140611.230448.458988: Step 1 of 1)\r\n"
       ]
      },
      {
       "output_type": "stream",
       "stream": "stdout",
       "text": [
        "Job launched 37769.9s ago, status RUNNING: Running step (mergeStn.ubuntu.20140611.230448.458988: Step 1 of 1)\r\n"
       ]
      },
      {
       "output_type": "stream",
       "stream": "stdout",
       "text": [
        "Job launched 37800.2s ago, status RUNNING: Running step (mergeStn.ubuntu.20140611.230448.458988: Step 1 of 1)\r\n"
       ]
      },
      {
       "output_type": "stream",
       "stream": "stdout",
       "text": [
        "Job launched 37830.4s ago, status RUNNING: Running step (mergeStn.ubuntu.20140611.230448.458988: Step 1 of 1)\r\n"
       ]
      },
      {
       "output_type": "stream",
       "stream": "stdout",
       "text": [
        "Job launched 37860.6s ago, status RUNNING: Running step (mergeStn.ubuntu.20140611.230448.458988: Step 1 of 1)\r\n"
       ]
      },
      {
       "output_type": "stream",
       "stream": "stdout",
       "text": [
        "Job launched 37890.8s ago, status RUNNING: Running step (mergeStn.ubuntu.20140611.230448.458988: Step 1 of 1)\r\n"
       ]
      },
      {
       "output_type": "stream",
       "stream": "stdout",
       "text": [
        "Job launched 37921.0s ago, status RUNNING: Running step (mergeStn.ubuntu.20140611.230448.458988: Step 1 of 1)\r\n"
       ]
      },
      {
       "output_type": "stream",
       "stream": "stdout",
       "text": [
        "Job launched 37951.2s ago, status RUNNING: Running step (mergeStn.ubuntu.20140611.230448.458988: Step 1 of 1)\r\n"
       ]
      },
      {
       "output_type": "stream",
       "stream": "stdout",
       "text": [
        "Job launched 37981.4s ago, status RUNNING: Running step (mergeStn.ubuntu.20140611.230448.458988: Step 1 of 1)\r\n"
       ]
      },
      {
       "output_type": "stream",
       "stream": "stdout",
       "text": [
        "Job launched 38011.6s ago, status RUNNING: Running step (mergeStn.ubuntu.20140611.230448.458988: Step 1 of 1)\r\n"
       ]
      },
      {
       "output_type": "stream",
       "stream": "stdout",
       "text": [
        "Job launched 38041.8s ago, status RUNNING: Running step (mergeStn.ubuntu.20140611.230448.458988: Step 1 of 1)\r\n"
       ]
      },
      {
       "output_type": "stream",
       "stream": "stdout",
       "text": [
        "Job launched 38072.0s ago, status RUNNING: Running step (mergeStn.ubuntu.20140611.230448.458988: Step 1 of 1)\r\n"
       ]
      },
      {
       "output_type": "stream",
       "stream": "stdout",
       "text": [
        "Job launched 38102.2s ago, status RUNNING: Running step (mergeStn.ubuntu.20140611.230448.458988: Step 1 of 1)\r\n"
       ]
      },
      {
       "output_type": "stream",
       "stream": "stdout",
       "text": [
        "Job launched 38132.4s ago, status RUNNING: Running step (mergeStn.ubuntu.20140611.230448.458988: Step 1 of 1)\r\n"
       ]
      },
      {
       "output_type": "stream",
       "stream": "stdout",
       "text": [
        "Job launched 38162.6s ago, status RUNNING: Running step (mergeStn.ubuntu.20140611.230448.458988: Step 1 of 1)\r\n"
       ]
      },
      {
       "output_type": "stream",
       "stream": "stdout",
       "text": [
        "Job launched 38192.8s ago, status RUNNING: Running step (mergeStn.ubuntu.20140611.230448.458988: Step 1 of 1)\r\n"
       ]
      },
      {
       "output_type": "stream",
       "stream": "stdout",
       "text": [
        "Job launched 38223.1s ago, status RUNNING: Running step (mergeStn.ubuntu.20140611.230448.458988: Step 1 of 1)\r\n"
       ]
      },
      {
       "output_type": "stream",
       "stream": "stdout",
       "text": [
        "Job launched 38253.3s ago, status RUNNING: Running step (mergeStn.ubuntu.20140611.230448.458988: Step 1 of 1)\r\n"
       ]
      },
      {
       "output_type": "stream",
       "stream": "stdout",
       "text": [
        "Job launched 38283.6s ago, status RUNNING: Running step (mergeStn.ubuntu.20140611.230448.458988: Step 1 of 1)\r\n"
       ]
      },
      {
       "output_type": "stream",
       "stream": "stdout",
       "text": [
        "Job launched 38313.8s ago, status RUNNING: Running step (mergeStn.ubuntu.20140611.230448.458988: Step 1 of 1)\r\n"
       ]
      },
      {
       "output_type": "stream",
       "stream": "stdout",
       "text": [
        "Job launched 38344.1s ago, status RUNNING: Running step (mergeStn.ubuntu.20140611.230448.458988: Step 1 of 1)\r\n"
       ]
      },
      {
       "output_type": "stream",
       "stream": "stdout",
       "text": [
        "Job launched 38374.3s ago, status RUNNING: Running step (mergeStn.ubuntu.20140611.230448.458988: Step 1 of 1)\r\n"
       ]
      },
      {
       "output_type": "stream",
       "stream": "stdout",
       "text": [
        "Job launched 38404.5s ago, status RUNNING: Running step (mergeStn.ubuntu.20140611.230448.458988: Step 1 of 1)\r\n"
       ]
      },
      {
       "output_type": "stream",
       "stream": "stdout",
       "text": [
        "Job launched 38434.7s ago, status RUNNING: Running step (mergeStn.ubuntu.20140611.230448.458988: Step 1 of 1)\r\n"
       ]
      },
      {
       "output_type": "stream",
       "stream": "stdout",
       "text": [
        "Job launched 38464.9s ago, status RUNNING: Running step (mergeStn.ubuntu.20140611.230448.458988: Step 1 of 1)\r\n"
       ]
      },
      {
       "output_type": "stream",
       "stream": "stdout",
       "text": [
        "Job launched 38495.1s ago, status RUNNING: Running step (mergeStn.ubuntu.20140611.230448.458988: Step 1 of 1)\r\n"
       ]
      },
      {
       "output_type": "stream",
       "stream": "stdout",
       "text": [
        "Job launched 38525.4s ago, status RUNNING: Running step (mergeStn.ubuntu.20140611.230448.458988: Step 1 of 1)\r\n"
       ]
      },
      {
       "output_type": "stream",
       "stream": "stdout",
       "text": [
        "Job launched 38555.6s ago, status RUNNING: Running step (mergeStn.ubuntu.20140611.230448.458988: Step 1 of 1)\r\n"
       ]
      },
      {
       "output_type": "stream",
       "stream": "stdout",
       "text": [
        "Job launched 38585.8s ago, status RUNNING: Running step (mergeStn.ubuntu.20140611.230448.458988: Step 1 of 1)\r\n"
       ]
      },
      {
       "output_type": "stream",
       "stream": "stdout",
       "text": [
        "Job launched 38616.0s ago, status RUNNING: Running step (mergeStn.ubuntu.20140611.230448.458988: Step 1 of 1)\r\n"
       ]
      },
      {
       "output_type": "stream",
       "stream": "stdout",
       "text": [
        "Job launched 38646.3s ago, status RUNNING: Running step (mergeStn.ubuntu.20140611.230448.458988: Step 1 of 1)\r\n"
       ]
      },
      {
       "output_type": "stream",
       "stream": "stdout",
       "text": [
        "Job launched 38676.5s ago, status RUNNING: Running step (mergeStn.ubuntu.20140611.230448.458988: Step 1 of 1)\r\n"
       ]
      },
      {
       "output_type": "stream",
       "stream": "stdout",
       "text": [
        "Job launched 38706.7s ago, status RUNNING: Running step (mergeStn.ubuntu.20140611.230448.458988: Step 1 of 1)\r\n"
       ]
      },
      {
       "output_type": "stream",
       "stream": "stdout",
       "text": [
        "Job launched 38736.9s ago, status RUNNING: Running step (mergeStn.ubuntu.20140611.230448.458988: Step 1 of 1)\r\n"
       ]
      },
      {
       "output_type": "stream",
       "stream": "stdout",
       "text": [
        "Job launched 38767.1s ago, status RUNNING: Running step (mergeStn.ubuntu.20140611.230448.458988: Step 1 of 1)\r\n"
       ]
      },
      {
       "output_type": "stream",
       "stream": "stdout",
       "text": [
        "Job launched 38797.3s ago, status RUNNING: Running step (mergeStn.ubuntu.20140611.230448.458988: Step 1 of 1)\r\n"
       ]
      },
      {
       "output_type": "stream",
       "stream": "stdout",
       "text": [
        "Job launched 38827.5s ago, status RUNNING: Running step (mergeStn.ubuntu.20140611.230448.458988: Step 1 of 1)\r\n"
       ]
      },
      {
       "output_type": "stream",
       "stream": "stdout",
       "text": [
        "Job launched 38857.7s ago, status RUNNING: Running step (mergeStn.ubuntu.20140611.230448.458988: Step 1 of 1)\r\n"
       ]
      },
      {
       "output_type": "stream",
       "stream": "stdout",
       "text": [
        "Job launched 38887.9s ago, status RUNNING: Running step (mergeStn.ubuntu.20140611.230448.458988: Step 1 of 1)\r\n"
       ]
      },
      {
       "output_type": "stream",
       "stream": "stdout",
       "text": [
        "Job launched 38918.2s ago, status RUNNING: Running step (mergeStn.ubuntu.20140611.230448.458988: Step 1 of 1)\r\n"
       ]
      },
      {
       "output_type": "stream",
       "stream": "stdout",
       "text": [
        "Job launched 38948.4s ago, status RUNNING: Running step (mergeStn.ubuntu.20140611.230448.458988: Step 1 of 1)\r\n"
       ]
      },
      {
       "output_type": "stream",
       "stream": "stdout",
       "text": [
        "Job launched 38978.6s ago, status RUNNING: Running step (mergeStn.ubuntu.20140611.230448.458988: Step 1 of 1)\r\n"
       ]
      },
      {
       "output_type": "stream",
       "stream": "stdout",
       "text": [
        "Job launched 39008.8s ago, status RUNNING: Running step (mergeStn.ubuntu.20140611.230448.458988: Step 1 of 1)\r\n"
       ]
      },
      {
       "output_type": "stream",
       "stream": "stdout",
       "text": [
        "Job launched 39039.0s ago, status RUNNING: Running step (mergeStn.ubuntu.20140611.230448.458988: Step 1 of 1)\r\n"
       ]
      },
      {
       "output_type": "stream",
       "stream": "stdout",
       "text": [
        "Job launched 39069.2s ago, status RUNNING: Running step (mergeStn.ubuntu.20140611.230448.458988: Step 1 of 1)\r\n"
       ]
      },
      {
       "output_type": "stream",
       "stream": "stdout",
       "text": [
        "Job launched 39099.4s ago, status RUNNING: Running step (mergeStn.ubuntu.20140611.230448.458988: Step 1 of 1)\r\n"
       ]
      },
      {
       "output_type": "stream",
       "stream": "stdout",
       "text": [
        "Job launched 39129.6s ago, status RUNNING: Running step (mergeStn.ubuntu.20140611.230448.458988: Step 1 of 1)\r\n"
       ]
      },
      {
       "output_type": "stream",
       "stream": "stdout",
       "text": [
        "Job launched 39159.8s ago, status RUNNING: Running step (mergeStn.ubuntu.20140611.230448.458988: Step 1 of 1)\r\n"
       ]
      },
      {
       "output_type": "stream",
       "stream": "stdout",
       "text": [
        "Job launched 39190.1s ago, status RUNNING: Running step (mergeStn.ubuntu.20140611.230448.458988: Step 1 of 1)\r\n"
       ]
      },
      {
       "output_type": "stream",
       "stream": "stdout",
       "text": [
        "Job launched 39220.3s ago, status RUNNING: Running step (mergeStn.ubuntu.20140611.230448.458988: Step 1 of 1)\r\n"
       ]
      },
      {
       "output_type": "stream",
       "stream": "stdout",
       "text": [
        "Job launched 39250.5s ago, status RUNNING: Running step (mergeStn.ubuntu.20140611.230448.458988: Step 1 of 1)\r\n"
       ]
      },
      {
       "output_type": "stream",
       "stream": "stdout",
       "text": [
        "Job launched 39280.7s ago, status RUNNING: Running step (mergeStn.ubuntu.20140611.230448.458988: Step 1 of 1)\r\n"
       ]
      },
      {
       "output_type": "stream",
       "stream": "stdout",
       "text": [
        "Job launched 39311.0s ago, status RUNNING: Running step (mergeStn.ubuntu.20140611.230448.458988: Step 1 of 1)\r\n"
       ]
      },
      {
       "output_type": "stream",
       "stream": "stdout",
       "text": [
        "Job launched 39341.2s ago, status RUNNING: Running step (mergeStn.ubuntu.20140611.230448.458988: Step 1 of 1)\r\n"
       ]
      },
      {
       "output_type": "stream",
       "stream": "stdout",
       "text": [
        "Job launched 39371.4s ago, status RUNNING: Running step (mergeStn.ubuntu.20140611.230448.458988: Step 1 of 1)\r\n"
       ]
      },
      {
       "output_type": "stream",
       "stream": "stdout",
       "text": [
        "Job launched 39401.6s ago, status RUNNING: Running step (mergeStn.ubuntu.20140611.230448.458988: Step 1 of 1)\r\n"
       ]
      },
      {
       "output_type": "stream",
       "stream": "stdout",
       "text": [
        "Job launched 39431.8s ago, status RUNNING: Running step (mergeStn.ubuntu.20140611.230448.458988: Step 1 of 1)\r\n"
       ]
      },
      {
       "output_type": "stream",
       "stream": "stdout",
       "text": [
        "Job launched 39462.0s ago, status RUNNING: Running step (mergeStn.ubuntu.20140611.230448.458988: Step 1 of 1)\r\n"
       ]
      },
      {
       "output_type": "stream",
       "stream": "stdout",
       "text": [
        "Job launched 39492.2s ago, status RUNNING: Running step (mergeStn.ubuntu.20140611.230448.458988: Step 1 of 1)\r\n"
       ]
      },
      {
       "output_type": "stream",
       "stream": "stdout",
       "text": [
        "Job launched 39522.5s ago, status RUNNING: Running step (mergeStn.ubuntu.20140611.230448.458988: Step 1 of 1)\r\n"
       ]
      },
      {
       "output_type": "stream",
       "stream": "stdout",
       "text": [
        "Job launched 39552.7s ago, status RUNNING: Running step (mergeStn.ubuntu.20140611.230448.458988: Step 1 of 1)\r\n"
       ]
      },
      {
       "output_type": "stream",
       "stream": "stdout",
       "text": [
        "Job launched 39582.9s ago, status RUNNING: Running step (mergeStn.ubuntu.20140611.230448.458988: Step 1 of 1)\r\n"
       ]
      },
      {
       "output_type": "stream",
       "stream": "stdout",
       "text": [
        "Job launched 39613.1s ago, status RUNNING: Running step (mergeStn.ubuntu.20140611.230448.458988: Step 1 of 1)\r\n"
       ]
      },
      {
       "output_type": "stream",
       "stream": "stdout",
       "text": [
        "Job launched 39643.4s ago, status RUNNING: Running step (mergeStn.ubuntu.20140611.230448.458988: Step 1 of 1)\r\n"
       ]
      },
      {
       "output_type": "stream",
       "stream": "stdout",
       "text": [
        "Job launched 39673.6s ago, status RUNNING: Running step (mergeStn.ubuntu.20140611.230448.458988: Step 1 of 1)\r\n"
       ]
      },
      {
       "output_type": "stream",
       "stream": "stdout",
       "text": [
        "Job launched 39703.8s ago, status RUNNING: Running step (mergeStn.ubuntu.20140611.230448.458988: Step 1 of 1)\r\n"
       ]
      },
      {
       "output_type": "stream",
       "stream": "stdout",
       "text": [
        "Job launched 39734.0s ago, status RUNNING: Running step (mergeStn.ubuntu.20140611.230448.458988: Step 1 of 1)\r\n"
       ]
      },
      {
       "output_type": "stream",
       "stream": "stdout",
       "text": [
        "Job launched 39764.3s ago, status RUNNING: Running step (mergeStn.ubuntu.20140611.230448.458988: Step 1 of 1)\r\n"
       ]
      },
      {
       "output_type": "stream",
       "stream": "stdout",
       "text": [
        "Job launched 39794.5s ago, status RUNNING: Running step (mergeStn.ubuntu.20140611.230448.458988: Step 1 of 1)\r\n"
       ]
      },
      {
       "output_type": "stream",
       "stream": "stdout",
       "text": [
        "Job launched 39824.8s ago, status RUNNING: Running step (mergeStn.ubuntu.20140611.230448.458988: Step 1 of 1)\r\n"
       ]
      },
      {
       "output_type": "stream",
       "stream": "stdout",
       "text": [
        "Job launched 39855.0s ago, status RUNNING: Running step (mergeStn.ubuntu.20140611.230448.458988: Step 1 of 1)\r\n"
       ]
      },
      {
       "output_type": "stream",
       "stream": "stdout",
       "text": [
        "Job launched 39885.3s ago, status RUNNING: Running step (mergeStn.ubuntu.20140611.230448.458988: Step 1 of 1)\r\n"
       ]
      },
      {
       "output_type": "stream",
       "stream": "stdout",
       "text": [
        "Job launched 39915.4s ago, status RUNNING: Running step (mergeStn.ubuntu.20140611.230448.458988: Step 1 of 1)\r\n"
       ]
      },
      {
       "output_type": "stream",
       "stream": "stdout",
       "text": [
        "Job launched 39945.6s ago, status RUNNING: Running step (mergeStn.ubuntu.20140611.230448.458988: Step 1 of 1)\r\n"
       ]
      },
      {
       "output_type": "stream",
       "stream": "stdout",
       "text": [
        "Job launched 39975.8s ago, status RUNNING: Running step (mergeStn.ubuntu.20140611.230448.458988: Step 1 of 1)\r\n"
       ]
      },
      {
       "output_type": "stream",
       "stream": "stdout",
       "text": [
        "Job launched 40006.0s ago, status RUNNING: Running step (mergeStn.ubuntu.20140611.230448.458988: Step 1 of 1)\r\n"
       ]
      },
      {
       "output_type": "stream",
       "stream": "stdout",
       "text": [
        "Job launched 40036.3s ago, status RUNNING: Running step (mergeStn.ubuntu.20140611.230448.458988: Step 1 of 1)\r\n"
       ]
      },
      {
       "output_type": "stream",
       "stream": "stdout",
       "text": [
        "Job launched 40066.5s ago, status RUNNING: Running step (mergeStn.ubuntu.20140611.230448.458988: Step 1 of 1)\r\n"
       ]
      },
      {
       "output_type": "stream",
       "stream": "stdout",
       "text": [
        "Job launched 40096.7s ago, status RUNNING: Running step (mergeStn.ubuntu.20140611.230448.458988: Step 1 of 1)\r\n"
       ]
      },
      {
       "output_type": "stream",
       "stream": "stdout",
       "text": [
        "Job launched 40126.9s ago, status RUNNING: Running step (mergeStn.ubuntu.20140611.230448.458988: Step 1 of 1)\r\n"
       ]
      },
      {
       "output_type": "stream",
       "stream": "stdout",
       "text": [
        "Job launched 40157.2s ago, status RUNNING: Running step (mergeStn.ubuntu.20140611.230448.458988: Step 1 of 1)\r\n"
       ]
      },
      {
       "output_type": "stream",
       "stream": "stdout",
       "text": [
        "Job launched 40187.4s ago, status RUNNING: Running step (mergeStn.ubuntu.20140611.230448.458988: Step 1 of 1)\r\n"
       ]
      },
      {
       "output_type": "stream",
       "stream": "stdout",
       "text": [
        "Job launched 40217.6s ago, status RUNNING: Running step (mergeStn.ubuntu.20140611.230448.458988: Step 1 of 1)\r\n"
       ]
      },
      {
       "output_type": "stream",
       "stream": "stdout",
       "text": [
        "Job launched 40247.8s ago, status RUNNING: Running step (mergeStn.ubuntu.20140611.230448.458988: Step 1 of 1)\r\n"
       ]
      },
      {
       "output_type": "stream",
       "stream": "stdout",
       "text": [
        "Job launched 40278.0s ago, status RUNNING: Running step (mergeStn.ubuntu.20140611.230448.458988: Step 1 of 1)\r\n"
       ]
      },
      {
       "output_type": "stream",
       "stream": "stdout",
       "text": [
        "Job launched 40308.2s ago, status RUNNING: Running step (mergeStn.ubuntu.20140611.230448.458988: Step 1 of 1)\r\n"
       ]
      },
      {
       "output_type": "stream",
       "stream": "stdout",
       "text": [
        "Job launched 40338.4s ago, status RUNNING: Running step (mergeStn.ubuntu.20140611.230448.458988: Step 1 of 1)\r\n"
       ]
      },
      {
       "output_type": "stream",
       "stream": "stdout",
       "text": [
        "Job launched 40368.7s ago, status RUNNING: Running step (mergeStn.ubuntu.20140611.230448.458988: Step 1 of 1)\r\n"
       ]
      },
      {
       "output_type": "stream",
       "stream": "stdout",
       "text": [
        "Job launched 40398.9s ago, status RUNNING: Running step (mergeStn.ubuntu.20140611.230448.458988: Step 1 of 1)\r\n"
       ]
      },
      {
       "output_type": "stream",
       "stream": "stdout",
       "text": [
        "Job launched 40429.1s ago, status RUNNING: Running step (mergeStn.ubuntu.20140611.230448.458988: Step 1 of 1)\r\n"
       ]
      },
      {
       "output_type": "stream",
       "stream": "stdout",
       "text": [
        "Job launched 40459.3s ago, status RUNNING: Running step (mergeStn.ubuntu.20140611.230448.458988: Step 1 of 1)\r\n"
       ]
      },
      {
       "output_type": "stream",
       "stream": "stdout",
       "text": [
        "Job launched 40489.5s ago, status RUNNING: Running step (mergeStn.ubuntu.20140611.230448.458988: Step 1 of 1)\r\n"
       ]
      },
      {
       "output_type": "stream",
       "stream": "stdout",
       "text": [
        "Job launched 40519.7s ago, status RUNNING: Running step (mergeStn.ubuntu.20140611.230448.458988: Step 1 of 1)\r\n"
       ]
      },
      {
       "output_type": "stream",
       "stream": "stdout",
       "text": [
        "Job launched 40549.9s ago, status RUNNING: Running step (mergeStn.ubuntu.20140611.230448.458988: Step 1 of 1)\r\n"
       ]
      },
      {
       "output_type": "stream",
       "stream": "stdout",
       "text": [
        "Job launched 40580.1s ago, status RUNNING: Running step (mergeStn.ubuntu.20140611.230448.458988: Step 1 of 1)\r\n"
       ]
      },
      {
       "output_type": "stream",
       "stream": "stdout",
       "text": [
        "Job launched 40610.3s ago, status RUNNING: Running step (mergeStn.ubuntu.20140611.230448.458988: Step 1 of 1)\r\n"
       ]
      },
      {
       "output_type": "stream",
       "stream": "stdout",
       "text": [
        "Job launched 40640.5s ago, status RUNNING: Running step (mergeStn.ubuntu.20140611.230448.458988: Step 1 of 1)\r\n"
       ]
      },
      {
       "output_type": "stream",
       "stream": "stdout",
       "text": [
        "Job launched 40670.8s ago, status RUNNING: Running step (mergeStn.ubuntu.20140611.230448.458988: Step 1 of 1)\r\n"
       ]
      },
      {
       "output_type": "stream",
       "stream": "stdout",
       "text": [
        "Job launched 40701.0s ago, status RUNNING: Running step (mergeStn.ubuntu.20140611.230448.458988: Step 1 of 1)\r\n"
       ]
      },
      {
       "output_type": "stream",
       "stream": "stdout",
       "text": [
        "Job launched 40731.3s ago, status RUNNING: Running step (mergeStn.ubuntu.20140611.230448.458988: Step 1 of 1)\r\n"
       ]
      },
      {
       "output_type": "stream",
       "stream": "stdout",
       "text": [
        "Job launched 40761.5s ago, status RUNNING: Running step (mergeStn.ubuntu.20140611.230448.458988: Step 1 of 1)\r\n"
       ]
      },
      {
       "output_type": "stream",
       "stream": "stdout",
       "text": [
        "Job launched 40791.7s ago, status RUNNING: Running step (mergeStn.ubuntu.20140611.230448.458988: Step 1 of 1)\r\n"
       ]
      },
      {
       "output_type": "stream",
       "stream": "stdout",
       "text": [
        "Job launched 40821.9s ago, status RUNNING: Running step (mergeStn.ubuntu.20140611.230448.458988: Step 1 of 1)\r\n"
       ]
      },
      {
       "output_type": "stream",
       "stream": "stdout",
       "text": [
        "Job launched 40852.1s ago, status RUNNING: Running step (mergeStn.ubuntu.20140611.230448.458988: Step 1 of 1)\r\n"
       ]
      },
      {
       "output_type": "stream",
       "stream": "stdout",
       "text": [
        "Job launched 40882.3s ago, status RUNNING: Running step (mergeStn.ubuntu.20140611.230448.458988: Step 1 of 1)\r\n"
       ]
      },
      {
       "output_type": "stream",
       "stream": "stdout",
       "text": [
        "Job launched 40912.5s ago, status RUNNING: Running step (mergeStn.ubuntu.20140611.230448.458988: Step 1 of 1)\r\n"
       ]
      },
      {
       "output_type": "stream",
       "stream": "stdout",
       "text": [
        "Job launched 40942.7s ago, status RUNNING: Running step (mergeStn.ubuntu.20140611.230448.458988: Step 1 of 1)\r\n"
       ]
      },
      {
       "output_type": "stream",
       "stream": "stdout",
       "text": [
        "Job launched 40973.0s ago, status RUNNING: Running step (mergeStn.ubuntu.20140611.230448.458988: Step 1 of 1)\r\n"
       ]
      },
      {
       "output_type": "stream",
       "stream": "stdout",
       "text": [
        "Job launched 41003.2s ago, status RUNNING: Running step (mergeStn.ubuntu.20140611.230448.458988: Step 1 of 1)\r\n"
       ]
      },
      {
       "output_type": "stream",
       "stream": "stdout",
       "text": [
        "Job launched 41033.5s ago, status RUNNING: Running step (mergeStn.ubuntu.20140611.230448.458988: Step 1 of 1)\r\n"
       ]
      },
      {
       "output_type": "stream",
       "stream": "stdout",
       "text": [
        "Job launched 41063.6s ago, status RUNNING: Running step (mergeStn.ubuntu.20140611.230448.458988: Step 1 of 1)\r\n"
       ]
      },
      {
       "output_type": "stream",
       "stream": "stdout",
       "text": [
        "Job launched 41093.8s ago, status RUNNING: Running step (mergeStn.ubuntu.20140611.230448.458988: Step 1 of 1)\r\n"
       ]
      },
      {
       "output_type": "stream",
       "stream": "stdout",
       "text": [
        "Job launched 41124.1s ago, status RUNNING: Running step (mergeStn.ubuntu.20140611.230448.458988: Step 1 of 1)\r\n"
       ]
      },
      {
       "output_type": "stream",
       "stream": "stdout",
       "text": [
        "Job launched 41154.3s ago, status RUNNING: Running step (mergeStn.ubuntu.20140611.230448.458988: Step 1 of 1)\r\n"
       ]
      },
      {
       "output_type": "stream",
       "stream": "stdout",
       "text": [
        "Job launched 41184.5s ago, status RUNNING: Running step (mergeStn.ubuntu.20140611.230448.458988: Step 1 of 1)\r\n"
       ]
      },
      {
       "output_type": "stream",
       "stream": "stdout",
       "text": [
        "Job launched 41214.7s ago, status RUNNING: Running step (mergeStn.ubuntu.20140611.230448.458988: Step 1 of 1)\r\n"
       ]
      },
      {
       "output_type": "stream",
       "stream": "stdout",
       "text": [
        "Job launched 41245.0s ago, status RUNNING: Running step (mergeStn.ubuntu.20140611.230448.458988: Step 1 of 1)\r\n"
       ]
      },
      {
       "output_type": "stream",
       "stream": "stdout",
       "text": [
        "Job launched 41275.2s ago, status RUNNING: Running step (mergeStn.ubuntu.20140611.230448.458988: Step 1 of 1)\r\n"
       ]
      },
      {
       "output_type": "stream",
       "stream": "stdout",
       "text": [
        "Job launched 41305.4s ago, status RUNNING: Running step (mergeStn.ubuntu.20140611.230448.458988: Step 1 of 1)\r\n"
       ]
      },
      {
       "output_type": "stream",
       "stream": "stdout",
       "text": [
        "Job launched 41335.6s ago, status RUNNING: Running step (mergeStn.ubuntu.20140611.230448.458988: Step 1 of 1)\r\n"
       ]
      },
      {
       "output_type": "stream",
       "stream": "stdout",
       "text": [
        "Job launched 41365.8s ago, status RUNNING: Running step (mergeStn.ubuntu.20140611.230448.458988: Step 1 of 1)\r\n"
       ]
      },
      {
       "output_type": "stream",
       "stream": "stdout",
       "text": [
        "Job launched 41396.1s ago, status RUNNING: Running step (mergeStn.ubuntu.20140611.230448.458988: Step 1 of 1)\r\n"
       ]
      },
      {
       "output_type": "stream",
       "stream": "stdout",
       "text": [
        "Job launched 41426.3s ago, status RUNNING: Running step (mergeStn.ubuntu.20140611.230448.458988: Step 1 of 1)\r\n"
       ]
      },
      {
       "output_type": "stream",
       "stream": "stdout",
       "text": [
        "Job launched 41456.5s ago, status RUNNING: Running step (mergeStn.ubuntu.20140611.230448.458988: Step 1 of 1)\r\n"
       ]
      },
      {
       "output_type": "stream",
       "stream": "stdout",
       "text": [
        "Job launched 41486.7s ago, status RUNNING: Running step (mergeStn.ubuntu.20140611.230448.458988: Step 1 of 1)\r\n"
       ]
      },
      {
       "output_type": "stream",
       "stream": "stdout",
       "text": [
        "Job launched 41517.0s ago, status RUNNING: Running step (mergeStn.ubuntu.20140611.230448.458988: Step 1 of 1)\r\n"
       ]
      },
      {
       "output_type": "stream",
       "stream": "stdout",
       "text": [
        "Job launched 41547.2s ago, status RUNNING: Running step (mergeStn.ubuntu.20140611.230448.458988: Step 1 of 1)\r\n"
       ]
      },
      {
       "output_type": "stream",
       "stream": "stdout",
       "text": [
        "Job launched 41577.4s ago, status RUNNING: Running step (mergeStn.ubuntu.20140611.230448.458988: Step 1 of 1)\r\n"
       ]
      },
      {
       "output_type": "stream",
       "stream": "stdout",
       "text": [
        "Job launched 41607.5s ago, status RUNNING: Running step (mergeStn.ubuntu.20140611.230448.458988: Step 1 of 1)\r\n"
       ]
      },
      {
       "output_type": "stream",
       "stream": "stdout",
       "text": [
        "Job launched 41637.8s ago, status RUNNING: Running step (mergeStn.ubuntu.20140611.230448.458988: Step 1 of 1)\r\n"
       ]
      },
      {
       "output_type": "stream",
       "stream": "stdout",
       "text": [
        "Job launched 41668.0s ago, status RUNNING: Running step (mergeStn.ubuntu.20140611.230448.458988: Step 1 of 1)\r\n"
       ]
      },
      {
       "output_type": "stream",
       "stream": "stdout",
       "text": [
        "Job launched 41698.2s ago, status RUNNING: Running step (mergeStn.ubuntu.20140611.230448.458988: Step 1 of 1)\r\n"
       ]
      },
      {
       "output_type": "stream",
       "stream": "stdout",
       "text": [
        "Job launched 41728.4s ago, status RUNNING: Running step (mergeStn.ubuntu.20140611.230448.458988: Step 1 of 1)\r\n"
       ]
      },
      {
       "output_type": "stream",
       "stream": "stdout",
       "text": [
        "Job launched 41758.6s ago, status RUNNING: Running step (mergeStn.ubuntu.20140611.230448.458988: Step 1 of 1)\r\n"
       ]
      },
      {
       "output_type": "stream",
       "stream": "stdout",
       "text": [
        "Job launched 41788.7s ago, status RUNNING: Running step (mergeStn.ubuntu.20140611.230448.458988: Step 1 of 1)\r\n"
       ]
      },
      {
       "output_type": "stream",
       "stream": "stdout",
       "text": [
        "Job launched 41818.9s ago, status RUNNING: Running step (mergeStn.ubuntu.20140611.230448.458988: Step 1 of 1)\r\n"
       ]
      },
      {
       "output_type": "stream",
       "stream": "stdout",
       "text": [
        "Job launched 41849.1s ago, status RUNNING: Running step (mergeStn.ubuntu.20140611.230448.458988: Step 1 of 1)\r\n"
       ]
      },
      {
       "output_type": "stream",
       "stream": "stdout",
       "text": [
        "Job launched 41879.3s ago, status RUNNING: Running step (mergeStn.ubuntu.20140611.230448.458988: Step 1 of 1)\r\n"
       ]
      },
      {
       "output_type": "stream",
       "stream": "stdout",
       "text": [
        "Job launched 41909.6s ago, status RUNNING: Running step (mergeStn.ubuntu.20140611.230448.458988: Step 1 of 1)\r\n"
       ]
      },
      {
       "output_type": "stream",
       "stream": "stdout",
       "text": [
        "Job launched 41939.8s ago, status RUNNING: Running step (mergeStn.ubuntu.20140611.230448.458988: Step 1 of 1)\r\n"
       ]
      },
      {
       "output_type": "stream",
       "stream": "stdout",
       "text": [
        "Job launched 41970.0s ago, status RUNNING: Running step (mergeStn.ubuntu.20140611.230448.458988: Step 1 of 1)\r\n"
       ]
      },
      {
       "output_type": "stream",
       "stream": "stdout",
       "text": [
        "Job launched 42000.2s ago, status RUNNING: Running step (mergeStn.ubuntu.20140611.230448.458988: Step 1 of 1)\r\n"
       ]
      },
      {
       "output_type": "stream",
       "stream": "stdout",
       "text": [
        "Job launched 42030.4s ago, status RUNNING: Running step (mergeStn.ubuntu.20140611.230448.458988: Step 1 of 1)\r\n"
       ]
      },
      {
       "output_type": "stream",
       "stream": "stdout",
       "text": [
        "Job launched 42060.7s ago, status RUNNING: Running step (mergeStn.ubuntu.20140611.230448.458988: Step 1 of 1)\r\n"
       ]
      },
      {
       "output_type": "stream",
       "stream": "stdout",
       "text": [
        "Job launched 42090.9s ago, status RUNNING: Running step (mergeStn.ubuntu.20140611.230448.458988: Step 1 of 1)\r\n"
       ]
      },
      {
       "output_type": "stream",
       "stream": "stdout",
       "text": [
        "Job launched 42121.1s ago, status RUNNING: Running step (mergeStn.ubuntu.20140611.230448.458988: Step 1 of 1)\r\n"
       ]
      },
      {
       "output_type": "stream",
       "stream": "stdout",
       "text": [
        "Job launched 42151.3s ago, status RUNNING: Running step (mergeStn.ubuntu.20140611.230448.458988: Step 1 of 1)\r\n"
       ]
      },
      {
       "output_type": "stream",
       "stream": "stdout",
       "text": [
        "Job launched 42181.5s ago, status RUNNING: Running step (mergeStn.ubuntu.20140611.230448.458988: Step 1 of 1)\r\n"
       ]
      },
      {
       "output_type": "stream",
       "stream": "stdout",
       "text": [
        "Job launched 42211.7s ago, status RUNNING: Running step (mergeStn.ubuntu.20140611.230448.458988: Step 1 of 1)\r\n"
       ]
      },
      {
       "output_type": "stream",
       "stream": "stdout",
       "text": [
        "Job launched 42241.9s ago, status RUNNING: Running step (mergeStn.ubuntu.20140611.230448.458988: Step 1 of 1)\r\n"
       ]
      },
      {
       "output_type": "stream",
       "stream": "stdout",
       "text": [
        "Job launched 42272.1s ago, status RUNNING: Running step (mergeStn.ubuntu.20140611.230448.458988: Step 1 of 1)\r\n"
       ]
      },
      {
       "output_type": "stream",
       "stream": "stdout",
       "text": [
        "Job launched 42302.3s ago, status RUNNING: Running step (mergeStn.ubuntu.20140611.230448.458988: Step 1 of 1)\r\n"
       ]
      },
      {
       "output_type": "stream",
       "stream": "stdout",
       "text": [
        "Job launched 42332.5s ago, status RUNNING: Running step (mergeStn.ubuntu.20140611.230448.458988: Step 1 of 1)\r\n"
       ]
      },
      {
       "output_type": "stream",
       "stream": "stdout",
       "text": [
        "Job launched 42362.7s ago, status RUNNING: Running step (mergeStn.ubuntu.20140611.230448.458988: Step 1 of 1)\r\n"
       ]
      },
      {
       "output_type": "stream",
       "stream": "stdout",
       "text": [
        "Job launched 42392.9s ago, status RUNNING: Running step (mergeStn.ubuntu.20140611.230448.458988: Step 1 of 1)\r\n"
       ]
      },
      {
       "output_type": "stream",
       "stream": "stdout",
       "text": [
        "Job launched 42423.1s ago, status RUNNING: Running step (mergeStn.ubuntu.20140611.230448.458988: Step 1 of 1)\r\n"
       ]
      },
      {
       "output_type": "stream",
       "stream": "stdout",
       "text": [
        "Job launched 42453.3s ago, status RUNNING: Running step (mergeStn.ubuntu.20140611.230448.458988: Step 1 of 1)\r\n"
       ]
      },
      {
       "output_type": "stream",
       "stream": "stdout",
       "text": [
        "Job launched 42483.5s ago, status RUNNING: Running step (mergeStn.ubuntu.20140611.230448.458988: Step 1 of 1)\r\n"
       ]
      },
      {
       "output_type": "stream",
       "stream": "stdout",
       "text": [
        "Job launched 42513.7s ago, status RUNNING: Running step (mergeStn.ubuntu.20140611.230448.458988: Step 1 of 1)\r\n"
       ]
      },
      {
       "output_type": "stream",
       "stream": "stdout",
       "text": [
        "Job launched 42544.0s ago, status RUNNING: Running step (mergeStn.ubuntu.20140611.230448.458988: Step 1 of 1)\r\n"
       ]
      },
      {
       "output_type": "stream",
       "stream": "stdout",
       "text": [
        "Job launched 42574.1s ago, status RUNNING: Running step (mergeStn.ubuntu.20140611.230448.458988: Step 1 of 1)\r\n"
       ]
      },
      {
       "output_type": "stream",
       "stream": "stdout",
       "text": [
        "Job launched 42604.3s ago, status RUNNING: Running step (mergeStn.ubuntu.20140611.230448.458988: Step 1 of 1)\r\n"
       ]
      },
      {
       "output_type": "stream",
       "stream": "stdout",
       "text": [
        "Job launched 42634.5s ago, status RUNNING: Running step (mergeStn.ubuntu.20140611.230448.458988: Step 1 of 1)\r\n"
       ]
      },
      {
       "output_type": "stream",
       "stream": "stdout",
       "text": [
        "Job launched 42664.7s ago, status RUNNING: Running step (mergeStn.ubuntu.20140611.230448.458988: Step 1 of 1)\r\n"
       ]
      },
      {
       "output_type": "stream",
       "stream": "stdout",
       "text": [
        "Job launched 42694.9s ago, status RUNNING: Running step (mergeStn.ubuntu.20140611.230448.458988: Step 1 of 1)\r\n"
       ]
      },
      {
       "output_type": "stream",
       "stream": "stdout",
       "text": [
        "Job launched 42725.1s ago, status RUNNING: Running step (mergeStn.ubuntu.20140611.230448.458988: Step 1 of 1)\r\n"
       ]
      },
      {
       "output_type": "stream",
       "stream": "stdout",
       "text": [
        "Job launched 42755.3s ago, status RUNNING: Running step (mergeStn.ubuntu.20140611.230448.458988: Step 1 of 1)\r\n"
       ]
      },
      {
       "output_type": "stream",
       "stream": "stdout",
       "text": [
        "Job launched 42785.5s ago, status RUNNING: Running step (mergeStn.ubuntu.20140611.230448.458988: Step 1 of 1)\r\n"
       ]
      },
      {
       "output_type": "stream",
       "stream": "stdout",
       "text": [
        "Job launched 42815.7s ago, status RUNNING: Running step (mergeStn.ubuntu.20140611.230448.458988: Step 1 of 1)\r\n"
       ]
      },
      {
       "output_type": "stream",
       "stream": "stdout",
       "text": [
        "Job launched 42846.0s ago, status RUNNING: Running step (mergeStn.ubuntu.20140611.230448.458988: Step 1 of 1)\r\n"
       ]
      },
      {
       "output_type": "stream",
       "stream": "stdout",
       "text": [
        "Job launched 42876.1s ago, status RUNNING: Running step (mergeStn.ubuntu.20140611.230448.458988: Step 1 of 1)\r\n"
       ]
      },
      {
       "output_type": "stream",
       "stream": "stdout",
       "text": [
        "Job launched 42906.4s ago, status RUNNING: Running step (mergeStn.ubuntu.20140611.230448.458988: Step 1 of 1)\r\n"
       ]
      },
      {
       "output_type": "stream",
       "stream": "stdout",
       "text": [
        "Job launched 42936.6s ago, status RUNNING: Running step (mergeStn.ubuntu.20140611.230448.458988: Step 1 of 1)\r\n"
       ]
      },
      {
       "output_type": "stream",
       "stream": "stdout",
       "text": [
        "Job launched 42966.8s ago, status RUNNING: Running step (mergeStn.ubuntu.20140611.230448.458988: Step 1 of 1)\r\n"
       ]
      },
      {
       "output_type": "stream",
       "stream": "stdout",
       "text": [
        "Job launched 42997.1s ago, status RUNNING: Running step (mergeStn.ubuntu.20140611.230448.458988: Step 1 of 1)\r\n"
       ]
      },
      {
       "output_type": "stream",
       "stream": "stdout",
       "text": [
        "Job launched 43027.3s ago, status RUNNING: Running step (mergeStn.ubuntu.20140611.230448.458988: Step 1 of 1)\r\n"
       ]
      },
      {
       "output_type": "stream",
       "stream": "stdout",
       "text": [
        "Job launched 43057.5s ago, status RUNNING: Running step (mergeStn.ubuntu.20140611.230448.458988: Step 1 of 1)\r\n"
       ]
      },
      {
       "output_type": "stream",
       "stream": "stdout",
       "text": [
        "Job launched 43087.8s ago, status RUNNING: Running step (mergeStn.ubuntu.20140611.230448.458988: Step 1 of 1)\r\n"
       ]
      },
      {
       "output_type": "stream",
       "stream": "stdout",
       "text": [
        "Job launched 43118.0s ago, status RUNNING: Running step (mergeStn.ubuntu.20140611.230448.458988: Step 1 of 1)\r\n"
       ]
      },
      {
       "output_type": "stream",
       "stream": "stdout",
       "text": [
        "Job launched 43148.2s ago, status RUNNING: Running step (mergeStn.ubuntu.20140611.230448.458988: Step 1 of 1)\r\n"
       ]
      },
      {
       "output_type": "stream",
       "stream": "stdout",
       "text": [
        "Job launched 43178.4s ago, status RUNNING: Running step (mergeStn.ubuntu.20140611.230448.458988: Step 1 of 1)\r\n"
       ]
      },
      {
       "output_type": "stream",
       "stream": "stdout",
       "text": [
        "Job launched 43208.7s ago, status RUNNING: Running step (mergeStn.ubuntu.20140611.230448.458988: Step 1 of 1)\r\n"
       ]
      },
      {
       "output_type": "stream",
       "stream": "stdout",
       "text": [
        "Job launched 43238.9s ago, status RUNNING: Running step (mergeStn.ubuntu.20140611.230448.458988: Step 1 of 1)\r\n"
       ]
      },
      {
       "output_type": "stream",
       "stream": "stdout",
       "text": [
        "Job launched 43269.1s ago, status RUNNING: Running step (mergeStn.ubuntu.20140611.230448.458988: Step 1 of 1)\r\n"
       ]
      },
      {
       "output_type": "stream",
       "stream": "stdout",
       "text": [
        "Job launched 43299.4s ago, status RUNNING: Running step (mergeStn.ubuntu.20140611.230448.458988: Step 1 of 1)\r\n"
       ]
      },
      {
       "output_type": "stream",
       "stream": "stdout",
       "text": [
        "Job launched 43329.6s ago, status RUNNING: Running step (mergeStn.ubuntu.20140611.230448.458988: Step 1 of 1)\r\n"
       ]
      },
      {
       "output_type": "stream",
       "stream": "stdout",
       "text": [
        "Job launched 43359.9s ago, status RUNNING: Running step (mergeStn.ubuntu.20140611.230448.458988: Step 1 of 1)\r\n"
       ]
      },
      {
       "output_type": "stream",
       "stream": "stdout",
       "text": [
        "Job launched 43390.1s ago, status RUNNING: Running step (mergeStn.ubuntu.20140611.230448.458988: Step 1 of 1)\r\n"
       ]
      },
      {
       "output_type": "stream",
       "stream": "stdout",
       "text": [
        "Job launched 43420.4s ago, status RUNNING: Running step (mergeStn.ubuntu.20140611.230448.458988: Step 1 of 1)\r\n"
       ]
      },
      {
       "output_type": "stream",
       "stream": "stdout",
       "text": [
        "Job launched 43450.5s ago, status RUNNING: Running step (mergeStn.ubuntu.20140611.230448.458988: Step 1 of 1)\r\n"
       ]
      },
      {
       "output_type": "stream",
       "stream": "stdout",
       "text": [
        "Job launched 43480.8s ago, status RUNNING: Running step (mergeStn.ubuntu.20140611.230448.458988: Step 1 of 1)\r\n"
       ]
      },
      {
       "output_type": "stream",
       "stream": "stdout",
       "text": [
        "Job launched 43511.0s ago, status RUNNING: Running step (mergeStn.ubuntu.20140611.230448.458988: Step 1 of 1)\r\n"
       ]
      },
      {
       "output_type": "stream",
       "stream": "stdout",
       "text": [
        "Job launched 43541.2s ago, status RUNNING: Running step (mergeStn.ubuntu.20140611.230448.458988: Step 1 of 1)\r\n"
       ]
      },
      {
       "output_type": "stream",
       "stream": "stdout",
       "text": [
        "Job launched 43571.4s ago, status RUNNING: Running step (mergeStn.ubuntu.20140611.230448.458988: Step 1 of 1)\r\n"
       ]
      },
      {
       "output_type": "stream",
       "stream": "stdout",
       "text": [
        "Job launched 43601.6s ago, status RUNNING: Running step (mergeStn.ubuntu.20140611.230448.458988: Step 1 of 1)\r\n"
       ]
      },
      {
       "output_type": "stream",
       "stream": "stdout",
       "text": [
        "Job launched 43631.9s ago, status RUNNING: Running step (mergeStn.ubuntu.20140611.230448.458988: Step 1 of 1)\r\n"
       ]
      },
      {
       "output_type": "stream",
       "stream": "stdout",
       "text": [
        "Job launched 43662.1s ago, status RUNNING: Running step (mergeStn.ubuntu.20140611.230448.458988: Step 1 of 1)\r\n"
       ]
      },
      {
       "output_type": "stream",
       "stream": "stdout",
       "text": [
        "Job launched 43692.4s ago, status RUNNING: Running step (mergeStn.ubuntu.20140611.230448.458988: Step 1 of 1)\r\n"
       ]
      },
      {
       "output_type": "stream",
       "stream": "stdout",
       "text": [
        "Job launched 43722.6s ago, status RUNNING: Running step (mergeStn.ubuntu.20140611.230448.458988: Step 1 of 1)\r\n"
       ]
      },
      {
       "output_type": "stream",
       "stream": "stdout",
       "text": [
        "Job launched 43752.9s ago, status RUNNING: Running step (mergeStn.ubuntu.20140611.230448.458988: Step 1 of 1)\r\n"
       ]
      },
      {
       "output_type": "stream",
       "stream": "stdout",
       "text": [
        "Job launched 43783.1s ago, status RUNNING: Running step (mergeStn.ubuntu.20140611.230448.458988: Step 1 of 1)\r\n"
       ]
      },
      {
       "output_type": "stream",
       "stream": "stdout",
       "text": [
        "Job launched 43813.3s ago, status RUNNING: Running step (mergeStn.ubuntu.20140611.230448.458988: Step 1 of 1)\r\n"
       ]
      },
      {
       "output_type": "stream",
       "stream": "stdout",
       "text": [
        "Job launched 43843.5s ago, status RUNNING: Running step (mergeStn.ubuntu.20140611.230448.458988: Step 1 of 1)\r\n"
       ]
      },
      {
       "output_type": "stream",
       "stream": "stdout",
       "text": [
        "Job launched 43873.8s ago, status RUNNING: Running step (mergeStn.ubuntu.20140611.230448.458988: Step 1 of 1)\r\n"
       ]
      },
      {
       "output_type": "stream",
       "stream": "stdout",
       "text": [
        "Job launched 43904.0s ago, status RUNNING: Running step (mergeStn.ubuntu.20140611.230448.458988: Step 1 of 1)\r\n"
       ]
      },
      {
       "output_type": "stream",
       "stream": "stdout",
       "text": [
        "Job launched 43934.1s ago, status RUNNING: Running step (mergeStn.ubuntu.20140611.230448.458988: Step 1 of 1)\r\n"
       ]
      },
      {
       "output_type": "stream",
       "stream": "stdout",
       "text": [
        "Job launched 43964.4s ago, status RUNNING: Running step (mergeStn.ubuntu.20140611.230448.458988: Step 1 of 1)\r\n"
       ]
      },
      {
       "output_type": "stream",
       "stream": "stdout",
       "text": [
        "Job launched 43994.6s ago, status RUNNING: Running step (mergeStn.ubuntu.20140611.230448.458988: Step 1 of 1)\r\n"
       ]
      },
      {
       "output_type": "stream",
       "stream": "stdout",
       "text": [
        "Job launched 44024.8s ago, status RUNNING: Running step (mergeStn.ubuntu.20140611.230448.458988: Step 1 of 1)\r\n"
       ]
      },
      {
       "output_type": "stream",
       "stream": "stdout",
       "text": [
        "Job launched 44055.0s ago, status RUNNING: Running step (mergeStn.ubuntu.20140611.230448.458988: Step 1 of 1)\r\n"
       ]
      },
      {
       "output_type": "stream",
       "stream": "stdout",
       "text": [
        "Job launched 44085.2s ago, status RUNNING: Running step (mergeStn.ubuntu.20140611.230448.458988: Step 1 of 1)\r\n"
       ]
      },
      {
       "output_type": "stream",
       "stream": "stdout",
       "text": [
        "Job launched 44115.4s ago, status RUNNING: Running step (mergeStn.ubuntu.20140611.230448.458988: Step 1 of 1)\r\n"
       ]
      },
      {
       "output_type": "stream",
       "stream": "stdout",
       "text": [
        "Job launched 44145.6s ago, status RUNNING: Running step (mergeStn.ubuntu.20140611.230448.458988: Step 1 of 1)\r\n"
       ]
      },
      {
       "output_type": "stream",
       "stream": "stdout",
       "text": [
        "Job launched 44175.8s ago, status RUNNING: Running step (mergeStn.ubuntu.20140611.230448.458988: Step 1 of 1)\r\n"
       ]
      },
      {
       "output_type": "stream",
       "stream": "stdout",
       "text": [
        "Job launched 44206.0s ago, status RUNNING: Running step (mergeStn.ubuntu.20140611.230448.458988: Step 1 of 1)\r\n"
       ]
      },
      {
       "output_type": "stream",
       "stream": "stdout",
       "text": [
        "Job launched 44236.2s ago, status RUNNING: Running step (mergeStn.ubuntu.20140611.230448.458988: Step 1 of 1)\r\n"
       ]
      },
      {
       "output_type": "stream",
       "stream": "stdout",
       "text": [
        "Job launched 44266.4s ago, status RUNNING: Running step (mergeStn.ubuntu.20140611.230448.458988: Step 1 of 1)\r\n"
       ]
      },
      {
       "output_type": "stream",
       "stream": "stdout",
       "text": [
        "Job launched 44296.6s ago, status RUNNING: Running step (mergeStn.ubuntu.20140611.230448.458988: Step 1 of 1)\r\n"
       ]
      },
      {
       "output_type": "stream",
       "stream": "stdout",
       "text": [
        "Job launched 44326.8s ago, status RUNNING: Running step (mergeStn.ubuntu.20140611.230448.458988: Step 1 of 1)\r\n"
       ]
      },
      {
       "output_type": "stream",
       "stream": "stdout",
       "text": [
        "Job launched 44357.0s ago, status RUNNING: Running step (mergeStn.ubuntu.20140611.230448.458988: Step 1 of 1)\r\n"
       ]
      },
      {
       "output_type": "stream",
       "stream": "stdout",
       "text": [
        "Job launched 44387.2s ago, status RUNNING: Running step (mergeStn.ubuntu.20140611.230448.458988: Step 1 of 1)\r\n"
       ]
      },
      {
       "output_type": "stream",
       "stream": "stdout",
       "text": [
        "Job launched 44417.5s ago, status RUNNING: Running step (mergeStn.ubuntu.20140611.230448.458988: Step 1 of 1)\r\n"
       ]
      },
      {
       "output_type": "stream",
       "stream": "stdout",
       "text": [
        "Job launched 44447.7s ago, status RUNNING: Running step (mergeStn.ubuntu.20140611.230448.458988: Step 1 of 1)\r\n"
       ]
      },
      {
       "output_type": "stream",
       "stream": "stdout",
       "text": [
        "Job launched 44477.9s ago, status RUNNING: Running step (mergeStn.ubuntu.20140611.230448.458988: Step 1 of 1)\r\n"
       ]
      },
      {
       "output_type": "stream",
       "stream": "stdout",
       "text": [
        "Job launched 44508.1s ago, status RUNNING: Running step (mergeStn.ubuntu.20140611.230448.458988: Step 1 of 1)\r\n"
       ]
      },
      {
       "output_type": "stream",
       "stream": "stdout",
       "text": [
        "Job launched 44538.3s ago, status RUNNING: Running step (mergeStn.ubuntu.20140611.230448.458988: Step 1 of 1)\r\n"
       ]
      },
      {
       "output_type": "stream",
       "stream": "stdout",
       "text": [
        "Job launched 44568.5s ago, status RUNNING: Running step (mergeStn.ubuntu.20140611.230448.458988: Step 1 of 1)\r\n"
       ]
      },
      {
       "output_type": "stream",
       "stream": "stdout",
       "text": [
        "Job launched 44598.8s ago, status RUNNING: Running step (mergeStn.ubuntu.20140611.230448.458988: Step 1 of 1)\r\n"
       ]
      },
      {
       "output_type": "stream",
       "stream": "stdout",
       "text": [
        "Job launched 44629.0s ago, status RUNNING: Running step (mergeStn.ubuntu.20140611.230448.458988: Step 1 of 1)\r\n"
       ]
      },
      {
       "output_type": "stream",
       "stream": "stdout",
       "text": [
        "Job launched 44659.1s ago, status RUNNING: Running step (mergeStn.ubuntu.20140611.230448.458988: Step 1 of 1)\r\n"
       ]
      },
      {
       "output_type": "stream",
       "stream": "stdout",
       "text": [
        "Job launched 44689.4s ago, status RUNNING: Running step (mergeStn.ubuntu.20140611.230448.458988: Step 1 of 1)\r\n"
       ]
      },
      {
       "output_type": "stream",
       "stream": "stdout",
       "text": [
        "Job launched 44719.6s ago, status RUNNING: Running step (mergeStn.ubuntu.20140611.230448.458988: Step 1 of 1)\r\n"
       ]
      },
      {
       "output_type": "stream",
       "stream": "stdout",
       "text": [
        "Job launched 44749.8s ago, status RUNNING: Running step (mergeStn.ubuntu.20140611.230448.458988: Step 1 of 1)\r\n"
       ]
      },
      {
       "output_type": "stream",
       "stream": "stdout",
       "text": [
        "Job launched 44780.0s ago, status RUNNING: Running step (mergeStn.ubuntu.20140611.230448.458988: Step 1 of 1)\r\n"
       ]
      },
      {
       "output_type": "stream",
       "stream": "stdout",
       "text": [
        "Job launched 44810.2s ago, status RUNNING: Running step (mergeStn.ubuntu.20140611.230448.458988: Step 1 of 1)\r\n"
       ]
      },
      {
       "output_type": "stream",
       "stream": "stdout",
       "text": [
        "Job launched 44840.5s ago, status RUNNING: Running step (mergeStn.ubuntu.20140611.230448.458988: Step 1 of 1)\r\n"
       ]
      },
      {
       "output_type": "stream",
       "stream": "stdout",
       "text": [
        "Job launched 44870.7s ago, status RUNNING: Running step (mergeStn.ubuntu.20140611.230448.458988: Step 1 of 1)\r\n"
       ]
      },
      {
       "output_type": "stream",
       "stream": "stdout",
       "text": [
        "Job launched 44900.9s ago, status RUNNING: Running step (mergeStn.ubuntu.20140611.230448.458988: Step 1 of 1)\r\n"
       ]
      },
      {
       "output_type": "stream",
       "stream": "stdout",
       "text": [
        "Job launched 44931.1s ago, status RUNNING: Running step (mergeStn.ubuntu.20140611.230448.458988: Step 1 of 1)\r\n"
       ]
      },
      {
       "output_type": "stream",
       "stream": "stdout",
       "text": [
        "Job launched 44961.3s ago, status RUNNING: Running step (mergeStn.ubuntu.20140611.230448.458988: Step 1 of 1)\r\n"
       ]
      },
      {
       "output_type": "stream",
       "stream": "stdout",
       "text": [
        "Job launched 44991.5s ago, status RUNNING: Running step (mergeStn.ubuntu.20140611.230448.458988: Step 1 of 1)\r\n"
       ]
      },
      {
       "output_type": "stream",
       "stream": "stdout",
       "text": [
        "Job launched 45021.7s ago, status RUNNING: Running step (mergeStn.ubuntu.20140611.230448.458988: Step 1 of 1)\r\n"
       ]
      },
      {
       "output_type": "stream",
       "stream": "stdout",
       "text": [
        "Job launched 45051.9s ago, status RUNNING: Running step (mergeStn.ubuntu.20140611.230448.458988: Step 1 of 1)\r\n"
       ]
      },
      {
       "output_type": "stream",
       "stream": "stdout",
       "text": [
        "Job launched 45082.1s ago, status RUNNING: Running step (mergeStn.ubuntu.20140611.230448.458988: Step 1 of 1)\r\n"
       ]
      },
      {
       "output_type": "stream",
       "stream": "stdout",
       "text": [
        "Job launched 45112.4s ago, status RUNNING: Running step (mergeStn.ubuntu.20140611.230448.458988: Step 1 of 1)\r\n"
       ]
      },
      {
       "output_type": "stream",
       "stream": "stdout",
       "text": [
        "Job launched 45142.6s ago, status RUNNING: Running step (mergeStn.ubuntu.20140611.230448.458988: Step 1 of 1)\r\n"
       ]
      },
      {
       "output_type": "stream",
       "stream": "stdout",
       "text": [
        "Job launched 45172.8s ago, status RUNNING: Running step (mergeStn.ubuntu.20140611.230448.458988: Step 1 of 1)\r\n"
       ]
      },
      {
       "output_type": "stream",
       "stream": "stdout",
       "text": [
        "Job launched 45203.0s ago, status RUNNING: Running step (mergeStn.ubuntu.20140611.230448.458988: Step 1 of 1)\r\n"
       ]
      },
      {
       "output_type": "stream",
       "stream": "stdout",
       "text": [
        "Job launched 45233.2s ago, status RUNNING: Running step (mergeStn.ubuntu.20140611.230448.458988: Step 1 of 1)\r\n"
       ]
      },
      {
       "output_type": "stream",
       "stream": "stdout",
       "text": [
        "Job launched 45263.4s ago, status RUNNING: Running step (mergeStn.ubuntu.20140611.230448.458988: Step 1 of 1)\r\n"
       ]
      },
      {
       "output_type": "stream",
       "stream": "stdout",
       "text": [
        "Job launched 45293.6s ago, status RUNNING: Running step (mergeStn.ubuntu.20140611.230448.458988: Step 1 of 1)\r\n"
       ]
      },
      {
       "output_type": "stream",
       "stream": "stdout",
       "text": [
        "Job launched 45323.8s ago, status RUNNING: Running step (mergeStn.ubuntu.20140611.230448.458988: Step 1 of 1)\r\n"
       ]
      },
      {
       "output_type": "stream",
       "stream": "stdout",
       "text": [
        "Job launched 45354.0s ago, status RUNNING: Running step (mergeStn.ubuntu.20140611.230448.458988: Step 1 of 1)\r\n"
       ]
      },
      {
       "output_type": "stream",
       "stream": "stdout",
       "text": [
        "Job launched 45384.3s ago, status RUNNING: Running step (mergeStn.ubuntu.20140611.230448.458988: Step 1 of 1)\r\n"
       ]
      },
      {
       "output_type": "stream",
       "stream": "stdout",
       "text": [
        "Job launched 45414.5s ago, status RUNNING: Running step (mergeStn.ubuntu.20140611.230448.458988: Step 1 of 1)\r\n"
       ]
      },
      {
       "output_type": "stream",
       "stream": "stdout",
       "text": [
        "Job launched 45444.7s ago, status RUNNING: Running step (mergeStn.ubuntu.20140611.230448.458988: Step 1 of 1)\r\n"
       ]
      },
      {
       "output_type": "stream",
       "stream": "stdout",
       "text": [
        "Job launched 45474.9s ago, status RUNNING: Running step (mergeStn.ubuntu.20140611.230448.458988: Step 1 of 1)\r\n"
       ]
      },
      {
       "output_type": "stream",
       "stream": "stdout",
       "text": [
        "Job launched 45505.1s ago, status RUNNING: Running step (mergeStn.ubuntu.20140611.230448.458988: Step 1 of 1)\r\n"
       ]
      },
      {
       "output_type": "stream",
       "stream": "stdout",
       "text": [
        "Job launched 45535.3s ago, status RUNNING: Running step (mergeStn.ubuntu.20140611.230448.458988: Step 1 of 1)\r\n"
       ]
      },
      {
       "output_type": "stream",
       "stream": "stdout",
       "text": [
        "Job launched 45565.5s ago, status RUNNING: Running step (mergeStn.ubuntu.20140611.230448.458988: Step 1 of 1)\r\n"
       ]
      },
      {
       "output_type": "stream",
       "stream": "stdout",
       "text": [
        "Job launched 45595.8s ago, status RUNNING: Running step (mergeStn.ubuntu.20140611.230448.458988: Step 1 of 1)\r\n"
       ]
      },
      {
       "output_type": "stream",
       "stream": "stdout",
       "text": [
        "Job launched 45626.0s ago, status RUNNING: Running step (mergeStn.ubuntu.20140611.230448.458988: Step 1 of 1)\r\n"
       ]
      },
      {
       "output_type": "stream",
       "stream": "stdout",
       "text": [
        "Job launched 45656.2s ago, status RUNNING: Running step (mergeStn.ubuntu.20140611.230448.458988: Step 1 of 1)\r\n"
       ]
      },
      {
       "output_type": "stream",
       "stream": "stdout",
       "text": [
        "Job launched 45686.4s ago, status RUNNING: Running step (mergeStn.ubuntu.20140611.230448.458988: Step 1 of 1)\r\n"
       ]
      },
      {
       "output_type": "stream",
       "stream": "stdout",
       "text": [
        "Job launched 45716.6s ago, status RUNNING: Running step (mergeStn.ubuntu.20140611.230448.458988: Step 1 of 1)\r\n"
       ]
      },
      {
       "output_type": "stream",
       "stream": "stdout",
       "text": [
        "Job launched 45746.8s ago, status RUNNING: Running step (mergeStn.ubuntu.20140611.230448.458988: Step 1 of 1)\r\n"
       ]
      },
      {
       "output_type": "stream",
       "stream": "stdout",
       "text": [
        "Job launched 45777.0s ago, status RUNNING: Running step (mergeStn.ubuntu.20140611.230448.458988: Step 1 of 1)\r\n"
       ]
      },
      {
       "output_type": "stream",
       "stream": "stdout",
       "text": [
        "Job launched 45807.2s ago, status RUNNING: Running step (mergeStn.ubuntu.20140611.230448.458988: Step 1 of 1)\r\n"
       ]
      },
      {
       "output_type": "stream",
       "stream": "stdout",
       "text": [
        "Job launched 45837.4s ago, status RUNNING: Running step (mergeStn.ubuntu.20140611.230448.458988: Step 1 of 1)\r\n"
       ]
      },
      {
       "output_type": "stream",
       "stream": "stdout",
       "text": [
        "Job launched 45867.7s ago, status RUNNING: Running step (mergeStn.ubuntu.20140611.230448.458988: Step 1 of 1)\r\n"
       ]
      },
      {
       "output_type": "stream",
       "stream": "stdout",
       "text": [
        "Job launched 45897.9s ago, status RUNNING: Running step (mergeStn.ubuntu.20140611.230448.458988: Step 1 of 1)\r\n"
       ]
      },
      {
       "output_type": "stream",
       "stream": "stdout",
       "text": [
        "Job launched 45928.1s ago, status RUNNING: Running step (mergeStn.ubuntu.20140611.230448.458988: Step 1 of 1)\r\n"
       ]
      },
      {
       "output_type": "stream",
       "stream": "stdout",
       "text": [
        "Job launched 45958.3s ago, status RUNNING: Running step (mergeStn.ubuntu.20140611.230448.458988: Step 1 of 1)\r\n"
       ]
      },
      {
       "output_type": "stream",
       "stream": "stdout",
       "text": [
        "Job launched 45988.5s ago, status RUNNING: Running step (mergeStn.ubuntu.20140611.230448.458988: Step 1 of 1)\r\n"
       ]
      },
      {
       "output_type": "stream",
       "stream": "stdout",
       "text": [
        "Job launched 46018.7s ago, status RUNNING: Running step (mergeStn.ubuntu.20140611.230448.458988: Step 1 of 1)\r\n"
       ]
      },
      {
       "output_type": "stream",
       "stream": "stdout",
       "text": [
        "Job launched 46048.9s ago, status RUNNING: Running step (mergeStn.ubuntu.20140611.230448.458988: Step 1 of 1)\r\n"
       ]
      },
      {
       "output_type": "stream",
       "stream": "stdout",
       "text": [
        "Job launched 46079.1s ago, status RUNNING: Running step (mergeStn.ubuntu.20140611.230448.458988: Step 1 of 1)\r\n"
       ]
      },
      {
       "output_type": "stream",
       "stream": "stdout",
       "text": [
        "Job launched 46109.3s ago, status RUNNING: Running step (mergeStn.ubuntu.20140611.230448.458988: Step 1 of 1)\r\n"
       ]
      },
      {
       "output_type": "stream",
       "stream": "stdout",
       "text": [
        "Job launched 46139.5s ago, status RUNNING: Running step (mergeStn.ubuntu.20140611.230448.458988: Step 1 of 1)\r\n"
       ]
      },
      {
       "output_type": "stream",
       "stream": "stdout",
       "text": [
        "Job launched 46169.7s ago, status RUNNING: Running step (mergeStn.ubuntu.20140611.230448.458988: Step 1 of 1)\r\n"
       ]
      },
      {
       "output_type": "stream",
       "stream": "stdout",
       "text": [
        "Job launched 46199.9s ago, status RUNNING: Running step (mergeStn.ubuntu.20140611.230448.458988: Step 1 of 1)\r\n"
       ]
      },
      {
       "output_type": "stream",
       "stream": "stdout",
       "text": [
        "Job launched 46230.2s ago, status RUNNING: Running step (mergeStn.ubuntu.20140611.230448.458988: Step 1 of 1)\r\n"
       ]
      },
      {
       "output_type": "stream",
       "stream": "stdout",
       "text": [
        "Job launched 46260.3s ago, status RUNNING: Running step (mergeStn.ubuntu.20140611.230448.458988: Step 1 of 1)\r\n"
       ]
      },
      {
       "output_type": "stream",
       "stream": "stdout",
       "text": [
        "Job launched 46290.5s ago, status RUNNING: Running step (mergeStn.ubuntu.20140611.230448.458988: Step 1 of 1)\r\n"
       ]
      },
      {
       "output_type": "stream",
       "stream": "stdout",
       "text": [
        "Job launched 46320.7s ago, status RUNNING: Running step (mergeStn.ubuntu.20140611.230448.458988: Step 1 of 1)\r\n"
       ]
      },
      {
       "output_type": "stream",
       "stream": "stdout",
       "text": [
        "Job launched 46350.9s ago, status RUNNING: Running step (mergeStn.ubuntu.20140611.230448.458988: Step 1 of 1)\r\n"
       ]
      },
      {
       "output_type": "stream",
       "stream": "stdout",
       "text": [
        "Job launched 46381.1s ago, status RUNNING: Running step (mergeStn.ubuntu.20140611.230448.458988: Step 1 of 1)\r\n"
       ]
      },
      {
       "output_type": "stream",
       "stream": "stdout",
       "text": [
        "Job launched 46411.4s ago, status RUNNING: Running step (mergeStn.ubuntu.20140611.230448.458988: Step 1 of 1)\r\n"
       ]
      },
      {
       "output_type": "stream",
       "stream": "stdout",
       "text": [
        "Job launched 46441.6s ago, status RUNNING: Running step (mergeStn.ubuntu.20140611.230448.458988: Step 1 of 1)\r\n"
       ]
      },
      {
       "output_type": "stream",
       "stream": "stdout",
       "text": [
        "Job launched 46471.8s ago, status RUNNING: Running step (mergeStn.ubuntu.20140611.230448.458988: Step 1 of 1)\r\n"
       ]
      },
      {
       "output_type": "stream",
       "stream": "stdout",
       "text": [
        "Job launched 46502.0s ago, status RUNNING: Running step (mergeStn.ubuntu.20140611.230448.458988: Step 1 of 1)\r\n"
       ]
      },
      {
       "output_type": "stream",
       "stream": "stdout",
       "text": [
        "Job launched 46532.3s ago, status RUNNING: Running step (mergeStn.ubuntu.20140611.230448.458988: Step 1 of 1)\r\n"
       ]
      },
      {
       "output_type": "stream",
       "stream": "stdout",
       "text": [
        "Job launched 46562.5s ago, status RUNNING: Running step (mergeStn.ubuntu.20140611.230448.458988: Step 1 of 1)\r\n"
       ]
      },
      {
       "output_type": "stream",
       "stream": "stdout",
       "text": [
        "Job launched 46592.7s ago, status RUNNING: Running step (mergeStn.ubuntu.20140611.230448.458988: Step 1 of 1)\r\n"
       ]
      },
      {
       "output_type": "stream",
       "stream": "stdout",
       "text": [
        "Job launched 46622.9s ago, status RUNNING: Running step (mergeStn.ubuntu.20140611.230448.458988: Step 1 of 1)\r\n"
       ]
      },
      {
       "output_type": "stream",
       "stream": "stdout",
       "text": [
        "Job launched 46653.2s ago, status RUNNING: Running step (mergeStn.ubuntu.20140611.230448.458988: Step 1 of 1)\r\n"
       ]
      },
      {
       "output_type": "stream",
       "stream": "stdout",
       "text": [
        "Job launched 46683.4s ago, status RUNNING: Running step (mergeStn.ubuntu.20140611.230448.458988: Step 1 of 1)\r\n"
       ]
      },
      {
       "output_type": "stream",
       "stream": "stdout",
       "text": [
        "Job launched 46713.6s ago, status RUNNING: Running step (mergeStn.ubuntu.20140611.230448.458988: Step 1 of 1)\r\n"
       ]
      },
      {
       "output_type": "stream",
       "stream": "stdout",
       "text": [
        "Job launched 46743.9s ago, status RUNNING: Running step (mergeStn.ubuntu.20140611.230448.458988: Step 1 of 1)\r\n"
       ]
      },
      {
       "output_type": "stream",
       "stream": "stdout",
       "text": [
        "Job launched 46774.1s ago, status RUNNING: Running step (mergeStn.ubuntu.20140611.230448.458988: Step 1 of 1)\r\n"
       ]
      },
      {
       "output_type": "stream",
       "stream": "stdout",
       "text": [
        "Job launched 46804.2s ago, status RUNNING: Running step (mergeStn.ubuntu.20140611.230448.458988: Step 1 of 1)\r\n"
       ]
      },
      {
       "output_type": "stream",
       "stream": "stdout",
       "text": [
        "Job launched 46834.5s ago, status RUNNING: Running step (mergeStn.ubuntu.20140611.230448.458988: Step 1 of 1)\r\n"
       ]
      },
      {
       "output_type": "stream",
       "stream": "stdout",
       "text": [
        "Job launched 46864.7s ago, status RUNNING: Running step (mergeStn.ubuntu.20140611.230448.458988: Step 1 of 1)\r\n"
       ]
      },
      {
       "output_type": "stream",
       "stream": "stdout",
       "text": [
        "Job launched 46894.9s ago, status RUNNING: Running step (mergeStn.ubuntu.20140611.230448.458988: Step 1 of 1)\r\n"
       ]
      },
      {
       "output_type": "stream",
       "stream": "stdout",
       "text": [
        "Job launched 46925.2s ago, status RUNNING: Running step (mergeStn.ubuntu.20140611.230448.458988: Step 1 of 1)\r\n"
       ]
      },
      {
       "output_type": "stream",
       "stream": "stdout",
       "text": [
        "Job launched 46955.4s ago, status RUNNING: Running step (mergeStn.ubuntu.20140611.230448.458988: Step 1 of 1)\r\n"
       ]
      },
      {
       "output_type": "stream",
       "stream": "stdout",
       "text": [
        "Job launched 46985.6s ago, status RUNNING: Running step (mergeStn.ubuntu.20140611.230448.458988: Step 1 of 1)\r\n"
       ]
      },
      {
       "output_type": "stream",
       "stream": "stdout",
       "text": [
        "Job launched 47015.8s ago, status RUNNING: Running step (mergeStn.ubuntu.20140611.230448.458988: Step 1 of 1)\r\n"
       ]
      },
      {
       "output_type": "stream",
       "stream": "stdout",
       "text": [
        "Job launched 47046.0s ago, status RUNNING: Running step (mergeStn.ubuntu.20140611.230448.458988: Step 1 of 1)\r\n"
       ]
      },
      {
       "output_type": "stream",
       "stream": "stdout",
       "text": [
        "Job launched 47076.2s ago, status RUNNING: Running step (mergeStn.ubuntu.20140611.230448.458988: Step 1 of 1)\r\n"
       ]
      },
      {
       "output_type": "stream",
       "stream": "stdout",
       "text": [
        "Job launched 47106.4s ago, status RUNNING: Running step (mergeStn.ubuntu.20140611.230448.458988: Step 1 of 1)\r\n"
       ]
      },
      {
       "output_type": "stream",
       "stream": "stdout",
       "text": [
        "Job launched 47136.6s ago, status RUNNING: Running step (mergeStn.ubuntu.20140611.230448.458988: Step 1 of 1)\r\n"
       ]
      },
      {
       "output_type": "stream",
       "stream": "stdout",
       "text": [
        "Job launched 47166.8s ago, status RUNNING: Running step (mergeStn.ubuntu.20140611.230448.458988: Step 1 of 1)\r\n"
       ]
      },
      {
       "output_type": "stream",
       "stream": "stdout",
       "text": [
        "Job launched 47197.0s ago, status RUNNING: Running step (mergeStn.ubuntu.20140611.230448.458988: Step 1 of 1)\r\n"
       ]
      },
      {
       "output_type": "stream",
       "stream": "stdout",
       "text": [
        "Job launched 47227.3s ago, status RUNNING: Running step (mergeStn.ubuntu.20140611.230448.458988: Step 1 of 1)\r\n"
       ]
      },
      {
       "output_type": "stream",
       "stream": "stdout",
       "text": [
        "Job launched 47257.5s ago, status RUNNING: Running step (mergeStn.ubuntu.20140611.230448.458988: Step 1 of 1)\r\n"
       ]
      },
      {
       "output_type": "stream",
       "stream": "stdout",
       "text": [
        "Job launched 47287.7s ago, status RUNNING: Running step (mergeStn.ubuntu.20140611.230448.458988: Step 1 of 1)\r\n"
       ]
      },
      {
       "output_type": "stream",
       "stream": "stdout",
       "text": [
        "Job launched 47317.9s ago, status RUNNING: Running step (mergeStn.ubuntu.20140611.230448.458988: Step 1 of 1)\r\n"
       ]
      },
      {
       "output_type": "stream",
       "stream": "stdout",
       "text": [
        "Job launched 47348.1s ago, status RUNNING: Running step (mergeStn.ubuntu.20140611.230448.458988: Step 1 of 1)\r\n"
       ]
      },
      {
       "output_type": "stream",
       "stream": "stdout",
       "text": [
        "Job launched 47378.3s ago, status RUNNING: Running step (mergeStn.ubuntu.20140611.230448.458988: Step 1 of 1)\r\n"
       ]
      },
      {
       "output_type": "stream",
       "stream": "stdout",
       "text": [
        "Job launched 47408.5s ago, status RUNNING: Running step (mergeStn.ubuntu.20140611.230448.458988: Step 1 of 1)\r\n"
       ]
      },
      {
       "output_type": "stream",
       "stream": "stdout",
       "text": [
        "Job launched 47438.8s ago, status RUNNING: Running step (mergeStn.ubuntu.20140611.230448.458988: Step 1 of 1)\r\n"
       ]
      },
      {
       "output_type": "stream",
       "stream": "stdout",
       "text": [
        "Job launched 47469.0s ago, status RUNNING: Running step (mergeStn.ubuntu.20140611.230448.458988: Step 1 of 1)\r\n"
       ]
      },
      {
       "output_type": "stream",
       "stream": "stdout",
       "text": [
        "Job launched 47499.2s ago, status RUNNING: Running step (mergeStn.ubuntu.20140611.230448.458988: Step 1 of 1)\r\n"
       ]
      },
      {
       "output_type": "stream",
       "stream": "stdout",
       "text": [
        "Job launched 47529.4s ago, status RUNNING: Running step (mergeStn.ubuntu.20140611.230448.458988: Step 1 of 1)\r\n"
       ]
      },
      {
       "output_type": "stream",
       "stream": "stdout",
       "text": [
        "Job launched 47559.6s ago, status RUNNING: Running step (mergeStn.ubuntu.20140611.230448.458988: Step 1 of 1)\r\n"
       ]
      },
      {
       "output_type": "stream",
       "stream": "stdout",
       "text": [
        "Job launched 47589.8s ago, status RUNNING: Running step (mergeStn.ubuntu.20140611.230448.458988: Step 1 of 1)\r\n"
       ]
      },
      {
       "output_type": "stream",
       "stream": "stdout",
       "text": [
        "Job launched 47620.0s ago, status RUNNING: Running step (mergeStn.ubuntu.20140611.230448.458988: Step 1 of 1)\r\n"
       ]
      },
      {
       "output_type": "stream",
       "stream": "stdout",
       "text": [
        "Job launched 47650.2s ago, status RUNNING: Running step (mergeStn.ubuntu.20140611.230448.458988: Step 1 of 1)\r\n"
       ]
      },
      {
       "output_type": "stream",
       "stream": "stdout",
       "text": [
        "Job launched 47680.5s ago, status RUNNING: Running step (mergeStn.ubuntu.20140611.230448.458988: Step 1 of 1)\r\n"
       ]
      },
      {
       "output_type": "stream",
       "stream": "stdout",
       "text": [
        "Job launched 47710.7s ago, status RUNNING: Running step (mergeStn.ubuntu.20140611.230448.458988: Step 1 of 1)\r\n"
       ]
      },
      {
       "output_type": "stream",
       "stream": "stdout",
       "text": [
        "Job launched 47740.9s ago, status RUNNING: Running step (mergeStn.ubuntu.20140611.230448.458988: Step 1 of 1)\r\n"
       ]
      },
      {
       "output_type": "stream",
       "stream": "stdout",
       "text": [
        "Job launched 47771.1s ago, status RUNNING: Running step (mergeStn.ubuntu.20140611.230448.458988: Step 1 of 1)\r\n"
       ]
      },
      {
       "output_type": "stream",
       "stream": "stdout",
       "text": [
        "Job launched 47801.3s ago, status RUNNING: Running step (mergeStn.ubuntu.20140611.230448.458988: Step 1 of 1)\r\n"
       ]
      },
      {
       "output_type": "stream",
       "stream": "stdout",
       "text": [
        "Job launched 47831.5s ago, status RUNNING: Running step (mergeStn.ubuntu.20140611.230448.458988: Step 1 of 1)\r\n"
       ]
      },
      {
       "output_type": "stream",
       "stream": "stdout",
       "text": [
        "Job launched 47861.7s ago, status RUNNING: Running step (mergeStn.ubuntu.20140611.230448.458988: Step 1 of 1)\r\n"
       ]
      },
      {
       "output_type": "stream",
       "stream": "stdout",
       "text": [
        "Job launched 47891.9s ago, status RUNNING: Running step (mergeStn.ubuntu.20140611.230448.458988: Step 1 of 1)\r\n"
       ]
      },
      {
       "output_type": "stream",
       "stream": "stdout",
       "text": [
        "Job launched 47922.2s ago, status RUNNING: Running step (mergeStn.ubuntu.20140611.230448.458988: Step 1 of 1)\r\n"
       ]
      },
      {
       "output_type": "stream",
       "stream": "stdout",
       "text": [
        "Job launched 47952.4s ago, status RUNNING: Running step (mergeStn.ubuntu.20140611.230448.458988: Step 1 of 1)\r\n"
       ]
      },
      {
       "output_type": "stream",
       "stream": "stdout",
       "text": [
        "Job launched 47982.6s ago, status RUNNING: Running step (mergeStn.ubuntu.20140611.230448.458988: Step 1 of 1)\r\n"
       ]
      },
      {
       "output_type": "stream",
       "stream": "stdout",
       "text": [
        "Job launched 48012.8s ago, status RUNNING: Running step (mergeStn.ubuntu.20140611.230448.458988: Step 1 of 1)\r\n"
       ]
      },
      {
       "output_type": "stream",
       "stream": "stdout",
       "text": [
        "Job launched 48043.0s ago, status RUNNING: Running step (mergeStn.ubuntu.20140611.230448.458988: Step 1 of 1)\r\n"
       ]
      },
      {
       "output_type": "stream",
       "stream": "stdout",
       "text": [
        "Job launched 48073.2s ago, status RUNNING: Running step (mergeStn.ubuntu.20140611.230448.458988: Step 1 of 1)\r\n"
       ]
      },
      {
       "output_type": "stream",
       "stream": "stdout",
       "text": [
        "Job launched 48103.4s ago, status RUNNING: Running step (mergeStn.ubuntu.20140611.230448.458988: Step 1 of 1)\r\n"
       ]
      },
      {
       "output_type": "stream",
       "stream": "stdout",
       "text": [
        "Job launched 48133.6s ago, status RUNNING: Running step (mergeStn.ubuntu.20140611.230448.458988: Step 1 of 1)\r\n"
       ]
      },
      {
       "output_type": "stream",
       "stream": "stdout",
       "text": [
        "Job launched 48163.9s ago, status RUNNING: Running step (mergeStn.ubuntu.20140611.230448.458988: Step 1 of 1)\r\n"
       ]
      },
      {
       "output_type": "stream",
       "stream": "stdout",
       "text": [
        "Job launched 48194.1s ago, status RUNNING: Running step (mergeStn.ubuntu.20140611.230448.458988: Step 1 of 1)\r\n"
       ]
      },
      {
       "output_type": "stream",
       "stream": "stdout",
       "text": [
        "Job launched 48224.4s ago, status RUNNING: Running step (mergeStn.ubuntu.20140611.230448.458988: Step 1 of 1)\r\n"
       ]
      },
      {
       "output_type": "stream",
       "stream": "stdout",
       "text": [
        "Job launched 48254.6s ago, status RUNNING: Running step (mergeStn.ubuntu.20140611.230448.458988: Step 1 of 1)\r\n"
       ]
      },
      {
       "output_type": "stream",
       "stream": "stdout",
       "text": [
        "Job launched 48284.9s ago, status RUNNING: Running step (mergeStn.ubuntu.20140611.230448.458988: Step 1 of 1)\r\n"
       ]
      },
      {
       "output_type": "stream",
       "stream": "stdout",
       "text": [
        "Job launched 48315.1s ago, status RUNNING: Running step (mergeStn.ubuntu.20140611.230448.458988: Step 1 of 1)\r\n"
       ]
      },
      {
       "output_type": "stream",
       "stream": "stdout",
       "text": [
        "Job launched 48345.3s ago, status RUNNING: Running step (mergeStn.ubuntu.20140611.230448.458988: Step 1 of 1)\r\n"
       ]
      },
      {
       "output_type": "stream",
       "stream": "stdout",
       "text": [
        "Job launched 48375.6s ago, status RUNNING: Running step (mergeStn.ubuntu.20140611.230448.458988: Step 1 of 1)\r\n"
       ]
      },
      {
       "output_type": "stream",
       "stream": "stdout",
       "text": [
        "Job launched 48405.8s ago, status RUNNING: Running step (mergeStn.ubuntu.20140611.230448.458988: Step 1 of 1)\r\n"
       ]
      },
      {
       "output_type": "stream",
       "stream": "stdout",
       "text": [
        "Job launched 48436.0s ago, status RUNNING: Running step (mergeStn.ubuntu.20140611.230448.458988: Step 1 of 1)\r\n"
       ]
      },
      {
       "output_type": "stream",
       "stream": "stdout",
       "text": [
        "Job launched 48466.2s ago, status RUNNING: Running step (mergeStn.ubuntu.20140611.230448.458988: Step 1 of 1)\r\n"
       ]
      },
      {
       "output_type": "stream",
       "stream": "stdout",
       "text": [
        "Job launched 48496.4s ago, status RUNNING: Running step (mergeStn.ubuntu.20140611.230448.458988: Step 1 of 1)\r\n"
       ]
      },
      {
       "output_type": "stream",
       "stream": "stdout",
       "text": [
        "Job launched 48526.6s ago, status RUNNING: Running step (mergeStn.ubuntu.20140611.230448.458988: Step 1 of 1)\r\n"
       ]
      },
      {
       "output_type": "stream",
       "stream": "stdout",
       "text": [
        "Job launched 48556.8s ago, status RUNNING: Running step (mergeStn.ubuntu.20140611.230448.458988: Step 1 of 1)\r\n"
       ]
      },
      {
       "output_type": "stream",
       "stream": "stdout",
       "text": [
        "Job launched 48587.0s ago, status RUNNING: Running step (mergeStn.ubuntu.20140611.230448.458988: Step 1 of 1)\r\n"
       ]
      },
      {
       "output_type": "stream",
       "stream": "stdout",
       "text": [
        "Job launched 48617.3s ago, status RUNNING: Running step (mergeStn.ubuntu.20140611.230448.458988: Step 1 of 1)\r\n"
       ]
      },
      {
       "output_type": "stream",
       "stream": "stdout",
       "text": [
        "Job launched 48647.5s ago, status RUNNING: Running step (mergeStn.ubuntu.20140611.230448.458988: Step 1 of 1)\r\n"
       ]
      },
      {
       "output_type": "stream",
       "stream": "stdout",
       "text": [
        "Job launched 48677.7s ago, status RUNNING: Running step (mergeStn.ubuntu.20140611.230448.458988: Step 1 of 1)\r\n"
       ]
      },
      {
       "output_type": "stream",
       "stream": "stdout",
       "text": [
        "Job launched 48707.9s ago, status RUNNING: Running step (mergeStn.ubuntu.20140611.230448.458988: Step 1 of 1)\r\n"
       ]
      },
      {
       "output_type": "stream",
       "stream": "stdout",
       "text": [
        "Job launched 48738.1s ago, status RUNNING: Running step (mergeStn.ubuntu.20140611.230448.458988: Step 1 of 1)\r\n"
       ]
      },
      {
       "output_type": "stream",
       "stream": "stdout",
       "text": [
        "Job launched 48768.3s ago, status RUNNING: Running step (mergeStn.ubuntu.20140611.230448.458988: Step 1 of 1)\r\n"
       ]
      },
      {
       "output_type": "stream",
       "stream": "stdout",
       "text": [
        "Job launched 48798.5s ago, status RUNNING: Running step (mergeStn.ubuntu.20140611.230448.458988: Step 1 of 1)\r\n"
       ]
      },
      {
       "output_type": "stream",
       "stream": "stdout",
       "text": [
        "Job launched 48828.7s ago, status RUNNING: Running step (mergeStn.ubuntu.20140611.230448.458988: Step 1 of 1)\r\n"
       ]
      },
      {
       "output_type": "stream",
       "stream": "stdout",
       "text": [
        "Job launched 48858.9s ago, status RUNNING: Running step (mergeStn.ubuntu.20140611.230448.458988: Step 1 of 1)\r\n"
       ]
      },
      {
       "output_type": "stream",
       "stream": "stdout",
       "text": [
        "Job launched 48889.1s ago, status RUNNING: Running step (mergeStn.ubuntu.20140611.230448.458988: Step 1 of 1)\r\n"
       ]
      },
      {
       "output_type": "stream",
       "stream": "stdout",
       "text": [
        "Job launched 48919.3s ago, status RUNNING: Running step (mergeStn.ubuntu.20140611.230448.458988: Step 1 of 1)\r\n"
       ]
      },
      {
       "output_type": "stream",
       "stream": "stdout",
       "text": [
        "Job launched 48949.6s ago, status RUNNING: Running step (mergeStn.ubuntu.20140611.230448.458988: Step 1 of 1)\r\n"
       ]
      },
      {
       "output_type": "stream",
       "stream": "stdout",
       "text": [
        "Job launched 48979.8s ago, status RUNNING: Running step (mergeStn.ubuntu.20140611.230448.458988: Step 1 of 1)\r\n"
       ]
      },
      {
       "output_type": "stream",
       "stream": "stdout",
       "text": [
        "Job launched 49010.0s ago, status RUNNING: Running step (mergeStn.ubuntu.20140611.230448.458988: Step 1 of 1)\r\n"
       ]
      },
      {
       "output_type": "stream",
       "stream": "stdout",
       "text": [
        "Job launched 49040.2s ago, status RUNNING: Running step (mergeStn.ubuntu.20140611.230448.458988: Step 1 of 1)\r\n"
       ]
      },
      {
       "output_type": "stream",
       "stream": "stdout",
       "text": [
        "Job launched 49070.4s ago, status RUNNING: Running step (mergeStn.ubuntu.20140611.230448.458988: Step 1 of 1)\r\n"
       ]
      },
      {
       "output_type": "stream",
       "stream": "stdout",
       "text": [
        "Job launched 49100.6s ago, status RUNNING: Running step (mergeStn.ubuntu.20140611.230448.458988: Step 1 of 1)\r\n"
       ]
      },
      {
       "output_type": "stream",
       "stream": "stdout",
       "text": [
        "Job launched 49130.8s ago, status RUNNING: Running step (mergeStn.ubuntu.20140611.230448.458988: Step 1 of 1)\r\n"
       ]
      },
      {
       "output_type": "stream",
       "stream": "stdout",
       "text": [
        "Job launched 49161.0s ago, status RUNNING: Running step (mergeStn.ubuntu.20140611.230448.458988: Step 1 of 1)\r\n"
       ]
      },
      {
       "output_type": "stream",
       "stream": "stdout",
       "text": [
        "Job launched 49191.2s ago, status RUNNING: Running step (mergeStn.ubuntu.20140611.230448.458988: Step 1 of 1)\r\n"
       ]
      },
      {
       "output_type": "stream",
       "stream": "stdout",
       "text": [
        "Job launched 49221.5s ago, status RUNNING: Running step (mergeStn.ubuntu.20140611.230448.458988: Step 1 of 1)\r\n"
       ]
      },
      {
       "output_type": "stream",
       "stream": "stdout",
       "text": [
        "Job launched 49251.7s ago, status RUNNING: Running step (mergeStn.ubuntu.20140611.230448.458988: Step 1 of 1)\r\n"
       ]
      },
      {
       "output_type": "stream",
       "stream": "stdout",
       "text": [
        "Job launched 49281.9s ago, status RUNNING: Running step (mergeStn.ubuntu.20140611.230448.458988: Step 1 of 1)\r\n"
       ]
      },
      {
       "output_type": "stream",
       "stream": "stdout",
       "text": [
        "Job launched 49312.1s ago, status RUNNING: Running step (mergeStn.ubuntu.20140611.230448.458988: Step 1 of 1)\r\n"
       ]
      },
      {
       "output_type": "stream",
       "stream": "stdout",
       "text": [
        "Job launched 49342.3s ago, status RUNNING: Running step (mergeStn.ubuntu.20140611.230448.458988: Step 1 of 1)\r\n"
       ]
      },
      {
       "output_type": "stream",
       "stream": "stdout",
       "text": [
        "Job launched 49372.5s ago, status RUNNING: Running step (mergeStn.ubuntu.20140611.230448.458988: Step 1 of 1)\r\n"
       ]
      },
      {
       "output_type": "stream",
       "stream": "stdout",
       "text": [
        "Job launched 49402.7s ago, status RUNNING: Running step (mergeStn.ubuntu.20140611.230448.458988: Step 1 of 1)\r\n"
       ]
      },
      {
       "output_type": "stream",
       "stream": "stdout",
       "text": [
        "Job launched 49432.9s ago, status RUNNING: Running step (mergeStn.ubuntu.20140611.230448.458988: Step 1 of 1)\r\n"
       ]
      },
      {
       "output_type": "stream",
       "stream": "stdout",
       "text": [
        "Job launched 49463.2s ago, status RUNNING: Running step (mergeStn.ubuntu.20140611.230448.458988: Step 1 of 1)\r\n"
       ]
      },
      {
       "output_type": "stream",
       "stream": "stdout",
       "text": [
        "Job launched 49493.4s ago, status RUNNING: Running step (mergeStn.ubuntu.20140611.230448.458988: Step 1 of 1)\r\n"
       ]
      },
      {
       "output_type": "stream",
       "stream": "stdout",
       "text": [
        "Job launched 49523.6s ago, status RUNNING: Running step (mergeStn.ubuntu.20140611.230448.458988: Step 1 of 1)\r\n"
       ]
      },
      {
       "output_type": "stream",
       "stream": "stdout",
       "text": [
        "Job launched 49553.8s ago, status RUNNING: Running step (mergeStn.ubuntu.20140611.230448.458988: Step 1 of 1)\r\n"
       ]
      },
      {
       "output_type": "stream",
       "stream": "stdout",
       "text": [
        "Job launched 49584.0s ago, status RUNNING: Running step (mergeStn.ubuntu.20140611.230448.458988: Step 1 of 1)\r\n"
       ]
      },
      {
       "output_type": "stream",
       "stream": "stdout",
       "text": [
        "Job launched 49614.2s ago, status RUNNING: Running step (mergeStn.ubuntu.20140611.230448.458988: Step 1 of 1)\r\n"
       ]
      },
      {
       "output_type": "stream",
       "stream": "stdout",
       "text": [
        "Job launched 49644.5s ago, status RUNNING: Running step (mergeStn.ubuntu.20140611.230448.458988: Step 1 of 1)\r\n"
       ]
      },
      {
       "output_type": "stream",
       "stream": "stdout",
       "text": [
        "Job launched 49674.7s ago, status RUNNING: Running step (mergeStn.ubuntu.20140611.230448.458988: Step 1 of 1)\r\n"
       ]
      },
      {
       "output_type": "stream",
       "stream": "stdout",
       "text": [
        "Job launched 49704.9s ago, status RUNNING: Running step (mergeStn.ubuntu.20140611.230448.458988: Step 1 of 1)\r\n"
       ]
      },
      {
       "output_type": "stream",
       "stream": "stdout",
       "text": [
        "Job launched 49735.1s ago, status RUNNING: Running step (mergeStn.ubuntu.20140611.230448.458988: Step 1 of 1)\r\n"
       ]
      },
      {
       "output_type": "stream",
       "stream": "stdout",
       "text": [
        "Job launched 49765.3s ago, status RUNNING: Running step (mergeStn.ubuntu.20140611.230448.458988: Step 1 of 1)\r\n"
       ]
      },
      {
       "output_type": "stream",
       "stream": "stdout",
       "text": [
        "Job launched 49795.5s ago, status RUNNING: Running step (mergeStn.ubuntu.20140611.230448.458988: Step 1 of 1)\r\n"
       ]
      },
      {
       "output_type": "stream",
       "stream": "stdout",
       "text": [
        "Job launched 49825.7s ago, status RUNNING: Running step (mergeStn.ubuntu.20140611.230448.458988: Step 1 of 1)\r\n"
       ]
      },
      {
       "output_type": "stream",
       "stream": "stdout",
       "text": [
        "Job launched 49856.0s ago, status RUNNING: Running step (mergeStn.ubuntu.20140611.230448.458988: Step 1 of 1)\r\n"
       ]
      },
      {
       "output_type": "stream",
       "stream": "stdout",
       "text": [
        "Job launched 49886.2s ago, status RUNNING: Running step (mergeStn.ubuntu.20140611.230448.458988: Step 1 of 1)\r\n"
       ]
      },
      {
       "output_type": "stream",
       "stream": "stdout",
       "text": [
        "Job launched 49916.4s ago, status RUNNING: Running step (mergeStn.ubuntu.20140611.230448.458988: Step 1 of 1)\r\n"
       ]
      },
      {
       "output_type": "stream",
       "stream": "stdout",
       "text": [
        "Job launched 49946.7s ago, status RUNNING: Running step (mergeStn.ubuntu.20140611.230448.458988: Step 1 of 1)\r\n"
       ]
      },
      {
       "output_type": "stream",
       "stream": "stdout",
       "text": [
        "Job launched 49976.9s ago, status RUNNING: Running step (mergeStn.ubuntu.20140611.230448.458988: Step 1 of 1)\r\n"
       ]
      },
      {
       "output_type": "stream",
       "stream": "stdout",
       "text": [
        "Job launched 50007.1s ago, status RUNNING: Running step (mergeStn.ubuntu.20140611.230448.458988: Step 1 of 1)\r\n"
       ]
      },
      {
       "output_type": "stream",
       "stream": "stdout",
       "text": [
        "Job launched 50037.3s ago, status RUNNING: Running step (mergeStn.ubuntu.20140611.230448.458988: Step 1 of 1)\r\n"
       ]
      },
      {
       "output_type": "stream",
       "stream": "stdout",
       "text": [
        "Job launched 50067.6s ago, status RUNNING: Running step (mergeStn.ubuntu.20140611.230448.458988: Step 1 of 1)\r\n"
       ]
      },
      {
       "output_type": "stream",
       "stream": "stdout",
       "text": [
        "Job launched 50097.8s ago, status RUNNING: Running step (mergeStn.ubuntu.20140611.230448.458988: Step 1 of 1)\r\n"
       ]
      },
      {
       "output_type": "stream",
       "stream": "stdout",
       "text": [
        "Job launched 50128.0s ago, status RUNNING: Running step (mergeStn.ubuntu.20140611.230448.458988: Step 1 of 1)\r\n"
       ]
      },
      {
       "output_type": "stream",
       "stream": "stdout",
       "text": [
        "Job launched 50158.3s ago, status RUNNING: Running step (mergeStn.ubuntu.20140611.230448.458988: Step 1 of 1)\r\n"
       ]
      },
      {
       "output_type": "stream",
       "stream": "stdout",
       "text": [
        "Job launched 50188.5s ago, status RUNNING: Running step (mergeStn.ubuntu.20140611.230448.458988: Step 1 of 1)\r\n"
       ]
      },
      {
       "output_type": "stream",
       "stream": "stdout",
       "text": [
        "Job launched 50218.7s ago, status RUNNING: Running step (mergeStn.ubuntu.20140611.230448.458988: Step 1 of 1)\r\n"
       ]
      },
      {
       "output_type": "stream",
       "stream": "stdout",
       "text": [
        "Job launched 50248.9s ago, status RUNNING: Running step (mergeStn.ubuntu.20140611.230448.458988: Step 1 of 1)\r\n"
       ]
      },
      {
       "output_type": "stream",
       "stream": "stdout",
       "text": [
        "Job launched 50279.1s ago, status RUNNING: Running step (mergeStn.ubuntu.20140611.230448.458988: Step 1 of 1)\r\n"
       ]
      },
      {
       "output_type": "stream",
       "stream": "stdout",
       "text": [
        "Job launched 50309.3s ago, status RUNNING: Running step (mergeStn.ubuntu.20140611.230448.458988: Step 1 of 1)\r\n"
       ]
      },
      {
       "output_type": "stream",
       "stream": "stdout",
       "text": [
        "Job launched 50339.5s ago, status RUNNING: Running step (mergeStn.ubuntu.20140611.230448.458988: Step 1 of 1)\r\n"
       ]
      },
      {
       "output_type": "stream",
       "stream": "stdout",
       "text": [
        "Job launched 50369.7s ago, status RUNNING: Running step (mergeStn.ubuntu.20140611.230448.458988: Step 1 of 1)\r\n"
       ]
      },
      {
       "output_type": "stream",
       "stream": "stdout",
       "text": [
        "Job launched 50399.9s ago, status RUNNING: Running step (mergeStn.ubuntu.20140611.230448.458988: Step 1 of 1)\r\n"
       ]
      },
      {
       "output_type": "stream",
       "stream": "stdout",
       "text": [
        "Job launched 50430.1s ago, status RUNNING: Running step (mergeStn.ubuntu.20140611.230448.458988: Step 1 of 1)\r\n"
       ]
      },
      {
       "output_type": "stream",
       "stream": "stdout",
       "text": [
        "Job launched 50460.3s ago, status RUNNING: Running step (mergeStn.ubuntu.20140611.230448.458988: Step 1 of 1)\r\n"
       ]
      },
      {
       "output_type": "stream",
       "stream": "stdout",
       "text": [
        "Job launched 50490.6s ago, status RUNNING: Running step (mergeStn.ubuntu.20140611.230448.458988: Step 1 of 1)\r\n"
       ]
      },
      {
       "output_type": "stream",
       "stream": "stdout",
       "text": [
        "Job launched 50520.8s ago, status RUNNING: Running step (mergeStn.ubuntu.20140611.230448.458988: Step 1 of 1)\r\n"
       ]
      },
      {
       "output_type": "stream",
       "stream": "stdout",
       "text": [
        "Job launched 50551.0s ago, status RUNNING: Running step (mergeStn.ubuntu.20140611.230448.458988: Step 1 of 1)\r\n"
       ]
      },
      {
       "output_type": "stream",
       "stream": "stdout",
       "text": [
        "Job launched 50581.2s ago, status RUNNING: Running step (mergeStn.ubuntu.20140611.230448.458988: Step 1 of 1)\r\n"
       ]
      },
      {
       "output_type": "stream",
       "stream": "stdout",
       "text": [
        "Job launched 50611.4s ago, status RUNNING: Running step (mergeStn.ubuntu.20140611.230448.458988: Step 1 of 1)\r\n"
       ]
      },
      {
       "output_type": "stream",
       "stream": "stdout",
       "text": [
        "Job launched 50641.6s ago, status RUNNING: Running step (mergeStn.ubuntu.20140611.230448.458988: Step 1 of 1)\r\n"
       ]
      },
      {
       "output_type": "stream",
       "stream": "stdout",
       "text": [
        "Job launched 50671.8s ago, status RUNNING: Running step (mergeStn.ubuntu.20140611.230448.458988: Step 1 of 1)\r\n"
       ]
      },
      {
       "output_type": "stream",
       "stream": "stdout",
       "text": [
        "Job launched 50702.0s ago, status RUNNING: Running step (mergeStn.ubuntu.20140611.230448.458988: Step 1 of 1)\r\n"
       ]
      },
      {
       "output_type": "stream",
       "stream": "stdout",
       "text": [
        "Job launched 50732.2s ago, status RUNNING: Running step (mergeStn.ubuntu.20140611.230448.458988: Step 1 of 1)\r\n"
       ]
      },
      {
       "output_type": "stream",
       "stream": "stdout",
       "text": [
        "Job launched 50762.4s ago, status RUNNING: Running step (mergeStn.ubuntu.20140611.230448.458988: Step 1 of 1)\r\n"
       ]
      },
      {
       "output_type": "stream",
       "stream": "stdout",
       "text": [
        "Job launched 50792.6s ago, status RUNNING: Running step (mergeStn.ubuntu.20140611.230448.458988: Step 1 of 1)\r\n"
       ]
      },
      {
       "output_type": "stream",
       "stream": "stdout",
       "text": [
        "Job launched 50822.9s ago, status RUNNING: Running step (mergeStn.ubuntu.20140611.230448.458988: Step 1 of 1)\r\n"
       ]
      },
      {
       "output_type": "stream",
       "stream": "stdout",
       "text": [
        "Job launched 50853.1s ago, status RUNNING: Running step (mergeStn.ubuntu.20140611.230448.458988: Step 1 of 1)\r\n"
       ]
      },
      {
       "output_type": "stream",
       "stream": "stdout",
       "text": [
        "Job launched 50883.3s ago, status RUNNING: Running step (mergeStn.ubuntu.20140611.230448.458988: Step 1 of 1)\r\n"
       ]
      },
      {
       "output_type": "stream",
       "stream": "stdout",
       "text": [
        "Job launched 50913.5s ago, status RUNNING: Running step (mergeStn.ubuntu.20140611.230448.458988: Step 1 of 1)\r\n"
       ]
      },
      {
       "output_type": "stream",
       "stream": "stdout",
       "text": [
        "Job launched 50943.7s ago, status RUNNING: Running step (mergeStn.ubuntu.20140611.230448.458988: Step 1 of 1)\r\n"
       ]
      },
      {
       "output_type": "stream",
       "stream": "stdout",
       "text": [
        "Job launched 50974.0s ago, status RUNNING: Running step (mergeStn.ubuntu.20140611.230448.458988: Step 1 of 1)\r\n"
       ]
      },
      {
       "output_type": "stream",
       "stream": "stdout",
       "text": [
        "Job launched 51004.1s ago, status RUNNING: Running step (mergeStn.ubuntu.20140611.230448.458988: Step 1 of 1)\r\n"
       ]
      },
      {
       "output_type": "stream",
       "stream": "stdout",
       "text": [
        "Job launched 51034.4s ago, status RUNNING: Running step (mergeStn.ubuntu.20140611.230448.458988: Step 1 of 1)\r\n"
       ]
      },
      {
       "output_type": "stream",
       "stream": "stdout",
       "text": [
        "Job launched 51064.6s ago, status RUNNING: Running step (mergeStn.ubuntu.20140611.230448.458988: Step 1 of 1)\r\n"
       ]
      },
      {
       "output_type": "stream",
       "stream": "stdout",
       "text": [
        "Job launched 51094.8s ago, status RUNNING: Running step (mergeStn.ubuntu.20140611.230448.458988: Step 1 of 1)\r\n"
       ]
      },
      {
       "output_type": "stream",
       "stream": "stdout",
       "text": [
        "Job launched 51125.0s ago, status RUNNING: Running step (mergeStn.ubuntu.20140611.230448.458988: Step 1 of 1)\r\n"
       ]
      },
      {
       "output_type": "stream",
       "stream": "stdout",
       "text": [
        "Job launched 51155.2s ago, status RUNNING: Running step (mergeStn.ubuntu.20140611.230448.458988: Step 1 of 1)\r\n"
       ]
      },
      {
       "output_type": "stream",
       "stream": "stdout",
       "text": [
        "Job launched 51185.4s ago, status RUNNING: Running step (mergeStn.ubuntu.20140611.230448.458988: Step 1 of 1)\r\n"
       ]
      },
      {
       "output_type": "stream",
       "stream": "stdout",
       "text": [
        "Job launched 51215.6s ago, status RUNNING: Running step (mergeStn.ubuntu.20140611.230448.458988: Step 1 of 1)\r\n"
       ]
      },
      {
       "output_type": "stream",
       "stream": "stdout",
       "text": [
        "Job launched 51245.8s ago, status RUNNING: Running step (mergeStn.ubuntu.20140611.230448.458988: Step 1 of 1)\r\n"
       ]
      },
      {
       "output_type": "stream",
       "stream": "stdout",
       "text": [
        "Job launched 51276.0s ago, status RUNNING: Running step (mergeStn.ubuntu.20140611.230448.458988: Step 1 of 1)\r\n"
       ]
      },
      {
       "output_type": "stream",
       "stream": "stdout",
       "text": [
        "Job launched 51306.2s ago, status RUNNING: Running step (mergeStn.ubuntu.20140611.230448.458988: Step 1 of 1)\r\n"
       ]
      },
      {
       "output_type": "stream",
       "stream": "stdout",
       "text": [
        "Job launched 51336.5s ago, status RUNNING: Running step (mergeStn.ubuntu.20140611.230448.458988: Step 1 of 1)\r\n"
       ]
      },
      {
       "output_type": "stream",
       "stream": "stdout",
       "text": [
        "Job launched 51366.7s ago, status RUNNING: Running step (mergeStn.ubuntu.20140611.230448.458988: Step 1 of 1)\r\n"
       ]
      },
      {
       "output_type": "stream",
       "stream": "stdout",
       "text": [
        "Job launched 51396.9s ago, status RUNNING: Running step (mergeStn.ubuntu.20140611.230448.458988: Step 1 of 1)\r\n"
       ]
      },
      {
       "output_type": "stream",
       "stream": "stdout",
       "text": [
        "Job launched 51427.1s ago, status RUNNING: Running step (mergeStn.ubuntu.20140611.230448.458988: Step 1 of 1)\r\n"
       ]
      },
      {
       "output_type": "stream",
       "stream": "stdout",
       "text": [
        "Job launched 51457.4s ago, status RUNNING: Running step (mergeStn.ubuntu.20140611.230448.458988: Step 1 of 1)\r\n"
       ]
      },
      {
       "output_type": "stream",
       "stream": "stdout",
       "text": [
        "Job launched 51487.6s ago, status RUNNING: Running step (mergeStn.ubuntu.20140611.230448.458988: Step 1 of 1)\r\n"
       ]
      },
      {
       "output_type": "stream",
       "stream": "stdout",
       "text": [
        "Job launched 51517.8s ago, status RUNNING: Running step (mergeStn.ubuntu.20140611.230448.458988: Step 1 of 1)\r\n"
       ]
      },
      {
       "output_type": "stream",
       "stream": "stdout",
       "text": [
        "Job launched 51548.0s ago, status RUNNING: Running step (mergeStn.ubuntu.20140611.230448.458988: Step 1 of 1)\r\n"
       ]
      },
      {
       "output_type": "stream",
       "stream": "stdout",
       "text": [
        "Job launched 51578.3s ago, status RUNNING: Running step (mergeStn.ubuntu.20140611.230448.458988: Step 1 of 1)\r\n"
       ]
      },
      {
       "output_type": "stream",
       "stream": "stdout",
       "text": [
        "Job launched 51608.5s ago, status RUNNING: Running step (mergeStn.ubuntu.20140611.230448.458988: Step 1 of 1)\r\n"
       ]
      },
      {
       "output_type": "stream",
       "stream": "stdout",
       "text": [
        "Job launched 51638.7s ago, status RUNNING: Running step (mergeStn.ubuntu.20140611.230448.458988: Step 1 of 1)\r\n"
       ]
      },
      {
       "output_type": "stream",
       "stream": "stdout",
       "text": [
        "Job launched 51668.9s ago, status RUNNING: Running step (mergeStn.ubuntu.20140611.230448.458988: Step 1 of 1)\r\n"
       ]
      },
      {
       "output_type": "stream",
       "stream": "stdout",
       "text": [
        "Job launched 51699.1s ago, status RUNNING: Running step (mergeStn.ubuntu.20140611.230448.458988: Step 1 of 1)\r\n"
       ]
      },
      {
       "output_type": "stream",
       "stream": "stdout",
       "text": [
        "Job launched 51729.3s ago, status RUNNING: Running step (mergeStn.ubuntu.20140611.230448.458988: Step 1 of 1)\r\n"
       ]
      },
      {
       "output_type": "stream",
       "stream": "stdout",
       "text": [
        "Job launched 51759.5s ago, status RUNNING: Running step (mergeStn.ubuntu.20140611.230448.458988: Step 1 of 1)\r\n"
       ]
      },
      {
       "output_type": "stream",
       "stream": "stdout",
       "text": [
        "Job launched 51789.7s ago, status RUNNING: Running step (mergeStn.ubuntu.20140611.230448.458988: Step 1 of 1)\r\n"
       ]
      },
      {
       "output_type": "stream",
       "stream": "stdout",
       "text": [
        "Job launched 51820.0s ago, status RUNNING: Running step (mergeStn.ubuntu.20140611.230448.458988: Step 1 of 1)\r\n"
       ]
      },
      {
       "output_type": "stream",
       "stream": "stdout",
       "text": [
        "Job launched 51850.2s ago, status RUNNING: Running step (mergeStn.ubuntu.20140611.230448.458988: Step 1 of 1)\r\n"
       ]
      },
      {
       "output_type": "stream",
       "stream": "stdout",
       "text": [
        "Job launched 51880.4s ago, status RUNNING: Running step (mergeStn.ubuntu.20140611.230448.458988: Step 1 of 1)\r\n"
       ]
      },
      {
       "output_type": "stream",
       "stream": "stdout",
       "text": [
        "Job launched 51910.6s ago, status RUNNING: Running step (mergeStn.ubuntu.20140611.230448.458988: Step 1 of 1)\r\n"
       ]
      },
      {
       "output_type": "stream",
       "stream": "stdout",
       "text": [
        "Job launched 51940.9s ago, status RUNNING: Running step (mergeStn.ubuntu.20140611.230448.458988: Step 1 of 1)\r\n"
       ]
      },
      {
       "output_type": "stream",
       "stream": "stdout",
       "text": [
        "Job launched 51971.1s ago, status RUNNING: Running step (mergeStn.ubuntu.20140611.230448.458988: Step 1 of 1)\r\n"
       ]
      },
      {
       "output_type": "stream",
       "stream": "stdout",
       "text": [
        "Job launched 52001.3s ago, status RUNNING: Running step (mergeStn.ubuntu.20140611.230448.458988: Step 1 of 1)\r\n"
       ]
      },
      {
       "output_type": "stream",
       "stream": "stdout",
       "text": [
        "Job launched 52031.4s ago, status RUNNING: Running step (mergeStn.ubuntu.20140611.230448.458988: Step 1 of 1)\r\n"
       ]
      },
      {
       "output_type": "stream",
       "stream": "stdout",
       "text": [
        "Job launched 52061.7s ago, status RUNNING: Running step (mergeStn.ubuntu.20140611.230448.458988: Step 1 of 1)\r\n"
       ]
      },
      {
       "output_type": "stream",
       "stream": "stdout",
       "text": [
        "Job launched 52091.9s ago, status RUNNING: Running step (mergeStn.ubuntu.20140611.230448.458988: Step 1 of 1)\r\n"
       ]
      },
      {
       "output_type": "stream",
       "stream": "stdout",
       "text": [
        "Job launched 52122.1s ago, status RUNNING: Running step (mergeStn.ubuntu.20140611.230448.458988: Step 1 of 1)\r\n"
       ]
      },
      {
       "output_type": "stream",
       "stream": "stdout",
       "text": [
        "Job launched 52152.3s ago, status RUNNING: Running step (mergeStn.ubuntu.20140611.230448.458988: Step 1 of 1)\r\n"
       ]
      },
      {
       "output_type": "stream",
       "stream": "stdout",
       "text": [
        "Job launched 52182.5s ago, status RUNNING: Running step (mergeStn.ubuntu.20140611.230448.458988: Step 1 of 1)\r\n"
       ]
      },
      {
       "output_type": "stream",
       "stream": "stdout",
       "text": [
        "Job launched 52212.8s ago, status RUNNING: Running step (mergeStn.ubuntu.20140611.230448.458988: Step 1 of 1)\r\n"
       ]
      },
      {
       "output_type": "stream",
       "stream": "stdout",
       "text": [
        "Job launched 52243.0s ago, status RUNNING: Running step (mergeStn.ubuntu.20140611.230448.458988: Step 1 of 1)\r\n"
       ]
      },
      {
       "output_type": "stream",
       "stream": "stdout",
       "text": [
        "Job launched 52273.2s ago, status RUNNING: Running step (mergeStn.ubuntu.20140611.230448.458988: Step 1 of 1)\r\n"
       ]
      },
      {
       "output_type": "stream",
       "stream": "stdout",
       "text": [
        "Job launched 52303.4s ago, status RUNNING: Running step (mergeStn.ubuntu.20140611.230448.458988: Step 1 of 1)\r\n"
       ]
      },
      {
       "output_type": "stream",
       "stream": "stdout",
       "text": [
        "Job launched 52333.6s ago, status RUNNING: Running step (mergeStn.ubuntu.20140611.230448.458988: Step 1 of 1)\r\n"
       ]
      },
      {
       "output_type": "stream",
       "stream": "stdout",
       "text": [
        "Job launched 52363.8s ago, status RUNNING: Running step (mergeStn.ubuntu.20140611.230448.458988: Step 1 of 1)\r\n"
       ]
      },
      {
       "output_type": "stream",
       "stream": "stdout",
       "text": [
        "Job launched 52394.1s ago, status RUNNING: Running step (mergeStn.ubuntu.20140611.230448.458988: Step 1 of 1)\r\n"
       ]
      },
      {
       "output_type": "stream",
       "stream": "stdout",
       "text": [
        "Job launched 52424.3s ago, status RUNNING: Running step (mergeStn.ubuntu.20140611.230448.458988: Step 1 of 1)\r\n"
       ]
      },
      {
       "output_type": "stream",
       "stream": "stdout",
       "text": [
        "Job launched 52454.5s ago, status RUNNING: Running step (mergeStn.ubuntu.20140611.230448.458988: Step 1 of 1)\r\n"
       ]
      },
      {
       "output_type": "stream",
       "stream": "stdout",
       "text": [
        "Job launched 52484.7s ago, status RUNNING: Running step (mergeStn.ubuntu.20140611.230448.458988: Step 1 of 1)\r\n"
       ]
      },
      {
       "output_type": "stream",
       "stream": "stdout",
       "text": [
        "Job launched 52514.9s ago, status RUNNING: Running step (mergeStn.ubuntu.20140611.230448.458988: Step 1 of 1)\r\n"
       ]
      },
      {
       "output_type": "stream",
       "stream": "stdout",
       "text": [
        "Job launched 52545.1s ago, status RUNNING: Running step (mergeStn.ubuntu.20140611.230448.458988: Step 1 of 1)\r\n"
       ]
      },
      {
       "output_type": "stream",
       "stream": "stdout",
       "text": [
        "Job launched 52575.2s ago, status RUNNING: Running step (mergeStn.ubuntu.20140611.230448.458988: Step 1 of 1)\r\n"
       ]
      },
      {
       "output_type": "stream",
       "stream": "stdout",
       "text": [
        "Job launched 52605.5s ago, status RUNNING: Running step (mergeStn.ubuntu.20140611.230448.458988: Step 1 of 1)\r\n"
       ]
      },
      {
       "output_type": "stream",
       "stream": "stdout",
       "text": [
        "Job launched 52635.7s ago, status RUNNING: Running step (mergeStn.ubuntu.20140611.230448.458988: Step 1 of 1)\r\n"
       ]
      },
      {
       "output_type": "stream",
       "stream": "stdout",
       "text": [
        "Job launched 52665.9s ago, status RUNNING: Running step (mergeStn.ubuntu.20140611.230448.458988: Step 1 of 1)\r\n"
       ]
      },
      {
       "output_type": "stream",
       "stream": "stdout",
       "text": [
        "Job launched 52696.1s ago, status RUNNING: Running step (mergeStn.ubuntu.20140611.230448.458988: Step 1 of 1)\r\n"
       ]
      },
      {
       "output_type": "stream",
       "stream": "stdout",
       "text": [
        "Job launched 52726.3s ago, status RUNNING: Running step (mergeStn.ubuntu.20140611.230448.458988: Step 1 of 1)\r\n"
       ]
      },
      {
       "output_type": "stream",
       "stream": "stdout",
       "text": [
        "Job launched 52756.5s ago, status RUNNING: Running step (mergeStn.ubuntu.20140611.230448.458988: Step 1 of 1)\r\n"
       ]
      },
      {
       "output_type": "stream",
       "stream": "stdout",
       "text": [
        "Job launched 52786.7s ago, status RUNNING: Running step (mergeStn.ubuntu.20140611.230448.458988: Step 1 of 1)\r\n"
       ]
      },
      {
       "output_type": "stream",
       "stream": "stdout",
       "text": [
        "Job launched 52816.9s ago, status RUNNING: Running step (mergeStn.ubuntu.20140611.230448.458988: Step 1 of 1)\r\n"
       ]
      },
      {
       "output_type": "stream",
       "stream": "stdout",
       "text": [
        "Job launched 52847.1s ago, status RUNNING: Running step (mergeStn.ubuntu.20140611.230448.458988: Step 1 of 1)\r\n"
       ]
      },
      {
       "output_type": "stream",
       "stream": "stdout",
       "text": [
        "Job launched 52877.3s ago, status RUNNING: Running step (mergeStn.ubuntu.20140611.230448.458988: Step 1 of 1)\r\n"
       ]
      },
      {
       "output_type": "stream",
       "stream": "stdout",
       "text": [
        "Job launched 52907.5s ago, status RUNNING: Running step (mergeStn.ubuntu.20140611.230448.458988: Step 1 of 1)\r\n"
       ]
      },
      {
       "output_type": "stream",
       "stream": "stdout",
       "text": [
        "Job launched 52937.8s ago, status RUNNING: Running step (mergeStn.ubuntu.20140611.230448.458988: Step 1 of 1)\r\n"
       ]
      },
      {
       "output_type": "stream",
       "stream": "stdout",
       "text": [
        "Job launched 52967.9s ago, status RUNNING: Running step (mergeStn.ubuntu.20140611.230448.458988: Step 1 of 1)\r\n"
       ]
      },
      {
       "output_type": "stream",
       "stream": "stdout",
       "text": [
        "Job launched 52998.2s ago, status RUNNING: Running step (mergeStn.ubuntu.20140611.230448.458988: Step 1 of 1)\r\n"
       ]
      },
      {
       "output_type": "stream",
       "stream": "stdout",
       "text": [
        "Job launched 53028.4s ago, status RUNNING: Running step (mergeStn.ubuntu.20140611.230448.458988: Step 1 of 1)\r\n"
       ]
      },
      {
       "output_type": "stream",
       "stream": "stdout",
       "text": [
        "Job launched 53058.6s ago, status RUNNING: Running step (mergeStn.ubuntu.20140611.230448.458988: Step 1 of 1)\r\n"
       ]
      },
      {
       "output_type": "stream",
       "stream": "stdout",
       "text": [
        "Job launched 53088.8s ago, status RUNNING: Running step (mergeStn.ubuntu.20140611.230448.458988: Step 1 of 1)\r\n"
       ]
      },
      {
       "output_type": "stream",
       "stream": "stdout",
       "text": [
        "Job launched 53119.0s ago, status RUNNING: Running step (mergeStn.ubuntu.20140611.230448.458988: Step 1 of 1)\r\n"
       ]
      },
      {
       "output_type": "stream",
       "stream": "stdout",
       "text": [
        "Job launched 53149.3s ago, status RUNNING: Running step (mergeStn.ubuntu.20140611.230448.458988: Step 1 of 1)\r\n"
       ]
      },
      {
       "output_type": "stream",
       "stream": "stdout",
       "text": [
        "Job launched 53179.5s ago, status RUNNING: Running step (mergeStn.ubuntu.20140611.230448.458988: Step 1 of 1)\r\n"
       ]
      },
      {
       "output_type": "stream",
       "stream": "stdout",
       "text": [
        "Job launched 53209.7s ago, status RUNNING: Running step (mergeStn.ubuntu.20140611.230448.458988: Step 1 of 1)\r\n"
       ]
      },
      {
       "output_type": "stream",
       "stream": "stdout",
       "text": [
        "Job launched 53239.8s ago, status RUNNING: Running step (mergeStn.ubuntu.20140611.230448.458988: Step 1 of 1)\r\n"
       ]
      },
      {
       "output_type": "stream",
       "stream": "stdout",
       "text": [
        "Job launched 53270.1s ago, status RUNNING: Running step (mergeStn.ubuntu.20140611.230448.458988: Step 1 of 1)\r\n"
       ]
      },
      {
       "output_type": "stream",
       "stream": "stdout",
       "text": [
        "Job launched 53300.3s ago, status RUNNING: Running step (mergeStn.ubuntu.20140611.230448.458988: Step 1 of 1)\r\n"
       ]
      },
      {
       "output_type": "stream",
       "stream": "stdout",
       "text": [
        "Job launched 53330.5s ago, status RUNNING: Running step (mergeStn.ubuntu.20140611.230448.458988: Step 1 of 1)\r\n"
       ]
      },
      {
       "output_type": "stream",
       "stream": "stdout",
       "text": [
        "Job launched 53360.8s ago, status RUNNING: Running step (mergeStn.ubuntu.20140611.230448.458988: Step 1 of 1)\r\n"
       ]
      },
      {
       "output_type": "stream",
       "stream": "stdout",
       "text": [
        "Job on job flow j-3QZOHADZF9KY1 failed with status WAITING: Waiting after step failed\r\n",
        "Logs are in s3://yoav.hadoop/log/j-3QZOHADZF9KY1/\r\n",
        "ec2_key_pair_file not specified, going to S3\r\n",
        "Scanning S3 logs for probable cause of failure\r\n",
        "Waiting 5.0s for S3 eventual consistency\r\n"
       ]
      },
      {
       "output_type": "stream",
       "stream": "stdout",
       "text": [
        "Attempting to terminate job...\r\n"
       ]
      },
      {
       "output_type": "stream",
       "stream": "stdout",
       "text": [
        "Traceback (most recent call last):\r\n",
        "  File \"mergeStn.py\", line 97, in <module>\r\n",
        "    mergeStn.run()\r\n",
        "  File \"/usr/local/lib/python2.7/dist-packages/mrjob/job.py\", line 494, in run\r\n",
        "    mr_job.execute()\r\n",
        "  File \"/usr/local/lib/python2.7/dist-packages/mrjob/job.py\", line 512, in execute\r\n",
        "    super(MRJob, self).execute()\r\n",
        "  File \"/usr/local/lib/python2.7/dist-packages/mrjob/launch.py\", line 147, in execute\r\n",
        "    self.run_job()\r\n",
        "  File \"/usr/local/lib/python2.7/dist-packages/mrjob/launch.py\", line 213, in run_job\r\n",
        "    self.stdout.flush()\r\n",
        "  File \"/usr/local/lib/python2.7/dist-packages/mrjob/runner.py\", line 614, in __exit__\r\n",
        "    self.cleanup()\r\n",
        "  File \"/usr/local/lib/python2.7/dist-packages/mrjob/emr.py\", line 1010, in cleanup\r\n",
        "    super(EMRJobRunner, self).cleanup(mode=mode)\r\n",
        "  File \"/usr/local/lib/python2.7/dist-packages/mrjob/runner.py\", line 560, in cleanup\r\n",
        "    self._cleanup_job()\r\n",
        "  File \"/usr/local/lib/python2.7/dist-packages/mrjob/emr.py\", line 1084, in _cleanup_job\r\n",
        "    self._opts['ec2_key_pair_file'])\r\n",
        "  File \"/usr/local/lib/python2.7/dist-packages/mrjob/ssh.py\", line 200, in ssh_terminate_single_job\r\n",
        "    ssh_bin, address, ec2_key_pair_file, ['hadoop', 'job', '-list']))\r\n",
        "  File \"/usr/local/lib/python2.7/dist-packages/mrjob/ssh.py\", line 82, in ssh_run\r\n",
        "    p = Popen(args, stdout=PIPE, stderr=PIPE, stdin=PIPE)\r\n",
        "  File \"/home/ubuntu/anaconda/lib/python2.7/subprocess.py\", line 709, in __init__\r\n",
        "    errread, errwrite)\r\n",
        "  File \"/home/ubuntu/anaconda/lib/python2.7/subprocess.py\", line 1326, in _execute_child\r\n",
        "    raise child_exception\r\n",
        "TypeError: execv() arg 2 must contain only strings\r\n"
       ]
      }
     ],
     "prompt_number": 75
    },
    {
     "cell_type": "code",
     "collapsed": false,
     "input": [
      "%%writefile nodeDatPrep.py\n",
      "#!/usr/bin/python\n",
      "# Li's intermediate data\n",
      "# Input Format: station:year,[tmin,tmax]\n",
      "# Output Format: station:meas,[mean values]\n",
      "\n",
      "import sys\n",
      "sys.path.append('/usr/lib/python2.6/dist-packages')\n",
      "from mrjob.job import MRJob\n",
      "import mrjob\n",
      "from sys import stderr\n",
      "import re,pickle,base64,zlib\n",
      "import numpy as np\n",
      "from scipy import stats\n",
      "\n",
      "def NN(vec):\n",
      "    \"\"\"nearest neighbor method to substitute missing values in record the nearest left neighbor\"\"\"\n",
      "    # if there is None\n",
      "    if not None in vec: # None is the only representation of missing value\n",
      "        return vec\n",
      "    else:\n",
      "        for i in xrange(len(vec)):\n",
      "            if vec[i]==None:\n",
      "                if i>0: # if vec[i] is not the first item, make it equal to its left neighbor\n",
      "                    vec[i]=vec[i-1]\n",
      "                else:  # if vec[i] is the first item, make it equal to the first valid value in this list\n",
      "                    vec[i]=filter(None,vec)[0]\n",
      "        return vec\n",
      "\n",
      "def str2flt(vec):\n",
      "    \"\"\"convert string elements to float; missing values are replaced with None\"\"\"\n",
      "    newvec=[]\n",
      "    for v in vec:\n",
      "        try:\n",
      "            newv=float(v)\n",
      "        except:\n",
      "            newv=None\n",
      "        finally:\n",
      "            newvec.append(newv)\n",
      "    return newvec\n",
      "\n",
      "\n",
      "class BasicProtocolJob(MRJob):\n",
      "\n",
      "    # get input as raw strings\n",
      "    INPUT_PROTOCOL = mrjob.protocol.RawValueProtocol\n",
      "    # pass data internally with pickle\n",
      "    INTERNAL_PROTOCOL = mrjob.protocol.PickleProtocol\n",
      "    # write output as JSON\n",
      "    OUTPUT_PROTOCOL = mrjob.protocol.JSONProtocol\n",
      "\n",
      "class nodeDatPrep(MRJob):\n",
      "    def sortbymeas_mapper(self,_,line):\n",
      "        try:\n",
      "            rec = line.split(\"\\t\")\n",
      "            stderr.write(\"rec:\\t\"+str(len(rec))+\"\\n\")\n",
      "            yield 1,1\n",
      "#             stn,meas,year = rec[:3]\n",
      "#             if len(filter(None,rec[3:]))>300: # measurements > 300 days of the year\n",
      "#                 stderr.write(\"sortbymeas_mapper:\\t\"+meas+\"\\t\"+str(len(NN(str2flt(rec[3:]))))+\"\\n\")\n",
      "#                 yield meas,(stn,np.mean(str2flt(filter(None,rec[3:])))) #stn+\":\"+ # redo this mean\n",
      "        except Exception, e:\n",
      "            stderr.write('Error in line:\\n'+str(line[:5]))\n",
      "            stderr.write(str(e))\n",
      "    \n",
      "#     def KStest_reducer(self, key, value):\n",
      "#         try:\n",
      "#             meas = key\n",
      "#             rec = list(value)\n",
      "#             stns = list(set([r[0] for r in rec]))\n",
      "#             stnDict = {}\n",
      "#             for r in rec:\n",
      "#                 if r[0] not in stnDict.keys():\n",
      "#                     stnDict[r[0]]=[r[1]]\n",
      "#                 else:\n",
      "#                     stnDict[r[0]].append(r[1])\n",
      "#             for stn1 in stnDict.keys():\n",
      "#                 for stn2 in stnDict.keys():\n",
      "#                     if stn2!=stn1:\n",
      "#                         kst,p = stats.ks_2samp(stnDict[stn1],stnDict[stn2]) # Kolmogorov-Smirnov test, returns KS statistic and p-value\n",
      "#                         if p>0.05: # if p>0.05, accept null hypothesis that two distributions are the same\n",
      "#                             yield (meas,stn1,stn2),([kst,p],stnDict[stn1],stnDict[stn2])\n",
      "#         except Exception as e:\n",
      "#             stderr.write('Error:')\n",
      "#             stderr.write(str(e)+\"\\t\")            \n",
      "    \n",
      "\n",
      "    def steps(self):\n",
      "        return [\n",
      "            self.mr(mapper=self.sortbymeas_mapper),\n",
      "#                     reducer=self.KStest_reducer),\n",
      "#             self.mr(reducer=self.aggregateStn_reducer),\n",
      "#                     reducer=self.ksTest_reducer),\n",
      "#             self.mr(mapper=self.ksTest_mapper)\n",
      "        ]\n",
      "\n",
      "if __name__ == '__main__':\n",
      "    nodeDatPrep.run()"
     ],
     "language": "python",
     "metadata": {},
     "outputs": [
      {
       "output_type": "stream",
       "stream": "stdout",
       "text": [
        "j-31PKW9W4C2YQK\r\n"
       ]
      }
     ],
     "prompt_number": 192
    },
    {
     "cell_type": "code",
     "collapsed": false,
     "input": [
      "%%writefile nodeDatPrep.py\n",
      "#!/usr/bin/python\n",
      "# Li's intermediate data\n",
      "# Input Format: station:year,[tmin,tmax]\n",
      "# Output Format: station:meas,[mean values]\n",
      "\n",
      "import sys\n",
      "sys.path.append('/usr/lib/python2.6/dist-packages')\n",
      "from mrjob.job import MRJob\n",
      "import mrjob\n",
      "from sys import stderr\n",
      "import re,pickle,base64,zlib\n",
      "import numpy as np\n",
      "from scipy import stats\n",
      "import pickle\n",
      "\n",
      "def NN(vec):\n",
      "    \"\"\"nearest neighbor method to substitute missing values in record the nearest left neighbor\"\"\"\n",
      "    # if there is None\n",
      "    if not None in vec: # None is the only representation of missing value\n",
      "        return vec\n",
      "    else:\n",
      "        for i in xrange(len(vec)):\n",
      "            if vec[i]==None:\n",
      "                if i>0: # if vec[i] is not the first item, make it equal to its left neighbor\n",
      "                    vec[i]=vec[i-1]\n",
      "                else:  # if vec[i] is the first item, make it equal to the first valid value in this list\n",
      "                    vec[i]=filter(None,vec)[0]\n",
      "        return vec\n",
      "\n",
      "def str2flt(vec):\n",
      "    \"\"\"convert string elements to float; missing values are replaced with None\"\"\"\n",
      "    newvec=[]\n",
      "    for v in vec:\n",
      "        try:\n",
      "            newv=float(v)\n",
      "        except:\n",
      "            newv=None\n",
      "        finally:\n",
      "            newvec.append(newv)\n",
      "    return newvec\n",
      "\n",
      "class BasicProtocolJob(MRJob):\n",
      "\n",
      "    # get input as raw strings\n",
      "    INPUT_PROTOCOL = mrjob.protocol.RawValueProtocol\n",
      "    # pass data internally with pickle\n",
      "    INTERNAL_PROTOCOL = mrjob.protocol.PickleProtocol\n",
      "    # write output as JSON\n",
      "    OUTPUT_PROTOCOL = mrjob.protocol.JSONProtocol\n",
      "\n",
      "class nodeDatPrep(MRJob):\n",
      "    def __init__(self, *args, **kwargs):\n",
      "        super(nodeDatPrep, self).__init__(*args, **kwargs)\n",
      "        self.tree=pickle.load(open('/home/ubuntu/UCSD_BigData/data/weather/tree.pkl'))\n",
      "        \n",
      "    def sortbymeasstn_mapper(self,_,line):\n",
      "        try:\n",
      "            rec = line.split(\"\\t\")\n",
      "            stn,year = rec[0].strip('\"').split(\":\")\n",
      "            dat = rec[1].strip(\"[|]\").split(\",\")\n",
      "            dat = [np.float(d.strip(\" \")) for d in dat]\n",
      "            tmin = dat[:365]\n",
      "            tmax = dat[365:]\n",
      "            stnDF = self.tree['Partitioned_Stations']\n",
      "            node=stnDF.ix[stn,'Node']\n",
      "            yield (\"TMIN\",node),np.mean(tmin)\n",
      "#             yield (\"TMAX\",node),np.mean(tmax)\n",
      "        except Exception, e:\n",
      "            stderr.write('Error in line:\\n'+str(line[:5]))\n",
      "            stderr.write(str(e))\n",
      "\n",
      "    def sortbymeasstn_reducer(self,key,value):\n",
      "        try:\n",
      "            meas,node=key\n",
      "            vals = list(value)\n",
      "#             leftChild=\n",
      "#             stats.ks_2samp()\n",
      "            if len(vals)>30:\n",
      "                yield node,vals\n",
      "        except Exception, e:\n",
      "            stderr.write(str(e))\n",
      "    def steps(self):\n",
      "        return [\n",
      "            self.mr(mapper=self.sortbymeasstn_mapper,\n",
      "                    reducer=self.sortbymeasstn_reducer),\n",
      "#             self.mr(reducer=self.aggregateStn_reducer),\n",
      "#                     reducer=self.ksTest_reducer),\n",
      "#             self.mr(mapper=self.ksTest_mapper)\n",
      "        ]\n",
      "\n",
      "if __name__ == '__main__':\n",
      "    nodeDatPrep.run()"
     ],
     "language": "python",
     "metadata": {},
     "outputs": [],
     "prompt_number": 147
    },
    {
     "cell_type": "code",
     "collapsed": false,
     "input": [
      "#run_featureStat.py\n",
      "# !python nodeDatPrep.py -r local /home/ubuntu/UCSD_BigData/data/weather/weather_test > nodeDatPrep.out\n",
      "# !python nodeDatPrep.py -r emr --emr-job-flow-id  j-3MR2RR5OEXRQ7  s3://lge.bucket/weather/weather-tminmax/part-00000 --output-dir=s3://weiwei.bucket/data/node_tmin_part00000/ --no-output   "
     ],
     "language": "python",
     "metadata": {},
     "outputs": [],
     "prompt_number": 77
    },
    {
     "cell_type": "code",
     "collapsed": false,
     "input": [
      "%%writefile ksTest.py\n",
      "#!/usr/bin/python\n",
      "# Li's intermediate data\n",
      "# Input Format: station:year,[tmin,tmax]\n",
      "# Output Format: station:meas,[mean values]\n",
      "\n",
      "import sys\n",
      "sys.path.append('/usr/lib/python2.6/dist-packages')\n",
      "from mrjob.job import MRJob\n",
      "import mrjob\n",
      "from sys import stderr\n",
      "import re,pickle,base64,zlib\n",
      "import numpy as np\n",
      "from scipy import stats\n",
      "import pickle\n",
      "\n",
      "def NN(vec):\n",
      "    \"\"\"nearest neighbor method to substitute missing values in record the nearest left neighbor\"\"\"\n",
      "    # if there is None\n",
      "    if not None in vec: # None is the only representation of missing value\n",
      "        return vec\n",
      "    else:\n",
      "        for i in xrange(len(vec)):\n",
      "            if vec[i]==None:\n",
      "                if i>0: # if vec[i] is not the first item, make it equal to its left neighbor\n",
      "                    vec[i]=vec[i-1]\n",
      "                else:  # if vec[i] is the first item, make it equal to the first valid value in this list\n",
      "                    vec[i]=filter(None,vec)[0]\n",
      "        return vec\n",
      "\n",
      "def str2flt(vec):\n",
      "    \"\"\"convert string elements to float; missing values are replaced with None\"\"\"\n",
      "    newvec=[]\n",
      "    for v in vec:\n",
      "        try:\n",
      "            newv=float(v)\n",
      "        except:\n",
      "            newv=None\n",
      "        finally:\n",
      "            newvec.append(newv)\n",
      "    return newvec\n",
      "\n",
      "class ksTest(MRJob):\n",
      "    INPUT_PROTOCOL = mrjob.protocol.RawValueProtocol\n",
      "    INTERNAL_PROTOCOL = mrjob.protocol.PickleProtocol\n",
      "    OUTPUT_PROTOCOL = mrjob.protocol.JSONProtocol\n",
      "    \n",
      "    def datasplit_mapper(self,_,line):\n",
      "        try:\n",
      "            rec = line.split(\",\")\n",
      "            node=rec[0] # exisits a root node with node id ''\n",
      "            tminLen=int(rec[1])\n",
      "            tmaxLen=int(rec[2])\n",
      "            tmin = rec[3:3+tminLen]\n",
      "            tmin = [np.float(t) for t in tmin]\n",
      "            tmax = rec[3+tminLen:]\n",
      "            tmax = [np.float(t) for t in tmax]\n",
      "#             stderr.write(node+\"\\t\"+str(tmin[:3])+\"\\t\"+str(tmax[:3])+\"\\n\"\n",
      "            yield \"TMIN\",(node,tmin)\n",
      "#             yield (\"TMAX\",node),tmax\n",
      "        except Exception, e:\n",
      "            stderr.write(str(e))\n",
      "\n",
      "    def ksTest_reducer(self,key,value):\n",
      "        try:\n",
      "            meas=key\n",
      "            vals = list(value)\n",
      "            rec = {}\n",
      "            for v in vals:\n",
      "                if v[0]!='': # filter out the root node\n",
      "                    rec[v[0]]=v[1]\n",
      "            nodeList=rec.keys()\n",
      "#             stderr.write(\"len of nodeList:\\t\"+str(len(nodeList))+\"\\n\")\n",
      "            for key in nodeList:\n",
      "                sib = key[:-1]+str(1-int(key[-1]))\n",
      "                if sib in nodeList:\n",
      "#                     stderr.write(\"sid in nodeList:\\t\"+key+'\\t'+sib+'\\n')\n",
      "                    kst,p = stats.ks_2samp(rec[key],rec[sib])\n",
      "                    if p>0.01:\n",
      "                        yield (key,sib),p\n",
      "        except Exception, e:\n",
      "            stderr.write(str(e))\n",
      "\n",
      "    def steps(self):\n",
      "        return [\n",
      "            self.mr(mapper=self.datasplit_mapper,\n",
      "                    reducer=self.ksTest_reducer),\n",
      "        ]\n",
      "\n",
      "if __name__ == '__main__':\n",
      "    ksTest.run()"
     ],
     "language": "python",
     "metadata": {},
     "outputs": [
      {
       "output_type": "stream",
       "stream": "stdout",
       "text": [
        "Overwriting ksTest.py\n"
       ]
      }
     ],
     "prompt_number": 113
    },
    {
     "cell_type": "code",
     "collapsed": false,
     "input": [
      "!python ksTest.py -r local /home/ubuntu/UCSD_BigData/data/weather/node-daily-avg-tminmax-all.csv > ksTest.out\n",
      "# !python ksTest.py -r emr --emr-job-flow-id  j-2S5LTMBIWD2WB s3://lge.bucket/weather/node-daily-avg-tminmax-all.csv > ksTest.out\n",
      "#     --output-dir=s3://weiwei.bucket/data/ksTest_2/ --no-output  "
     ],
     "language": "python",
     "metadata": {},
     "outputs": [
      {
       "output_type": "stream",
       "stream": "stdout",
       "text": [
        "using configs in /home/ubuntu/.mrjob.conf\r\n",
        "creating tmp directory /tmp/ksTest.ubuntu.20140612.223758.806591\r\n"
       ]
      },
      {
       "output_type": "stream",
       "stream": "stdout",
       "text": [
        "writing to /tmp/ksTest.ubuntu.20140612.223758.806591/step-0-mapper_part-00000\r\n",
        "> /home/ubuntu/anaconda/bin/python ksTest.py --step-num=0 --mapper /tmp/ksTest.ubuntu.20140612.223758.806591/input_part-00000 > /tmp/ksTest.ubuntu.20140612.223758.806591/step-0-mapper_part-00000\r\n"
       ]
      },
      {
       "output_type": "stream",
       "stream": "stdout",
       "text": [
        "writing to /tmp/ksTest.ubuntu.20140612.223758.806591/step-0-mapper_part-00001\r\n",
        "> /home/ubuntu/anaconda/bin/python ksTest.py --step-num=0 --mapper /tmp/ksTest.ubuntu.20140612.223758.806591/input_part-00001 > /tmp/ksTest.ubuntu.20140612.223758.806591/step-0-mapper_part-00001\r\n"
       ]
      },
      {
       "output_type": "stream",
       "stream": "stdout",
       "text": [
        "Counters from step 1:\r\n",
        "  (no counters found)\r\n",
        "writing to /tmp/ksTest.ubuntu.20140612.223758.806591/step-0-mapper-sorted\r\n",
        "> sort /tmp/ksTest.ubuntu.20140612.223758.806591/step-0-mapper_part-00000 /tmp/ksTest.ubuntu.20140612.223758.806591/step-0-mapper_part-00001\r\n"
       ]
      },
      {
       "output_type": "stream",
       "stream": "stdout",
       "text": [
        "writing to /tmp/ksTest.ubuntu.20140612.223758.806591/step-0-reducer_part-00000\r\n",
        "> /home/ubuntu/anaconda/bin/python ksTest.py --step-num=0 --reducer /tmp/ksTest.ubuntu.20140612.223758.806591/input_part-00000 > /tmp/ksTest.ubuntu.20140612.223758.806591/step-0-reducer_part-00000\r\n"
       ]
      },
      {
       "output_type": "stream",
       "stream": "stdout",
       "text": [
        "Counters from step 1:\r\n",
        "  (no counters found)\r\n",
        "Moving /tmp/ksTest.ubuntu.20140612.223758.806591/step-0-reducer_part-00000 -> /tmp/ksTest.ubuntu.20140612.223758.806591/output/part-00000\r\n",
        "Streaming final output from /tmp/ksTest.ubuntu.20140612.223758.806591/output\r\n",
        "removing tmp directory /tmp/ksTest.ubuntu.20140612.223758.806591\r\n"
       ]
      }
     ],
     "prompt_number": 114
    },
    {
     "cell_type": "code",
     "collapsed": false,
     "input": [
      "from boto.s3.connection import S3Connection,OrdinaryCallingFormat\n",
      "from boto.s3.key import Key\n",
      "conn = S3Connection(key_id, secret_key,calling_format = OrdinaryCallingFormat())\n",
      "dat = conn.get_bucket('lge.bucket')\n",
      "key = dat.get_key('weather/node-daily-avg-tminmax-all.csv')\n",
      "key.get_contents_to_filename('/home/ubuntu/UCSD_BigData/data/weather/node-daily-avg-tminmax-all.csv')"
     ],
     "language": "python",
     "metadata": {},
     "outputs": [],
     "prompt_number": 79
    },
    {
     "cell_type": "code",
     "collapsed": false,
     "input": [
      "# label stations\n",
      "import pickle\n",
      "# get all the stations\n",
      "treeDir = \"/home/ubuntu/UCSD_BigData/data/weather/tree.pkl\"\n",
      "tree = pickle.load(file(treeDir)) # Partitioned_Stations\n",
      "stns = tree['Partitioned_Stations']\n"
     ],
     "language": "python",
     "metadata": {},
     "outputs": [],
     "prompt_number": 4
    },
    {
     "cell_type": "code",
     "collapsed": false,
     "input": [
      "import re\n",
      "import pickle\n",
      "fin = file(\"/home/ubuntu/UCSD_BigData/data/weather/usmapcoord.txt\")\n",
      "lines = fin.readlines()\n",
      "states=[]\n",
      "res={}\n",
      "lat=[]\n",
      "lon=[]\n",
      "for ln in lines:\n",
      "    if ln.startswith(\"<state name\"): #begining of a state\n",
      "        stateName = re.findall('name=\"([a-z A-Z]*)\" colour',ln)[0]\n",
      "        res[stateName]=[]\n",
      "    elif ln.startswith('</state>'): # end of a state\n",
      "        res[stateName]=[max(lat),min(lat),max(lon),min(lon)]\n",
      "        lat=[]\n",
      "        lon=[]        \n",
      "    else:\n",
      "        lalo=re.findall('\"([-.\\d]*)\"?',ln)\n",
      "        lalo=[float(x) for x in lalo]\n",
      "        lat.append(lalo[0])\n",
      "        lon.append(lalo[1])\n",
      "\n",
      "print res\n",
      "fout=file(\"/home/ubuntu/UCSD_BigData/data/weather/boundary.pkl\",\"w\")\n",
      "pickle.dump(res,fout)"
     ],
     "language": "python",
     "metadata": {},
     "outputs": [
      {
       "output_type": "stream",
       "stream": "stdout",
       "text": [
        "{'Mississippi': [35.0075, 30.0905, -88.0994, -91.6589], 'Oklahoma': [37.0015, 33.6386, -94.4357, -103.0064], 'Delaware': [39.8296, 38.4482, -74.8526, -75.7919], 'Minnesota': [49.3877, 43.5008, -89.4919, -97.2304], 'Illinois': [42.5116, 36.9894, -87.0213, -91.512], 'Arkansas': [36.4997, 33.0075, -89.6594, -94.6198], 'New Mexico': [36.9982, 31.3337, -103.0023, -109.0489], 'Indiana': [41.7611, 37.7718, -84.809, -88.098], 'Maryland': [39.722, 37.8889, -74.8581, -79.4861], 'Louisiana': [33.0225, 28.8832, -88.7421, -94.043], 'Idaho': [49.0018, 41.9871, -111.0471, -117.2372], 'Wyoming': [44.9998, 40.9986, -104.0556, -111.0539], 'Tennessee': [36.6871, 34.9884, -81.6518, -90.3131], 'Arizona': [37.0004, 31.3325, -109.0475, -114.8126], 'Iowa': [43.5008, 40.3622, -90.1538, -96.6357], 'Michigan': [48.3042, 41.6965, -82.1221, -90.4175], 'Kansas': [40.0087, 36.9927, -94.6046, -102.0506], 'Utah': [41.9993, 36.9982, -109.0462, -114.0504], 'Virginia': [39.4659, 36.5427, -74.9707, -83.6753], 'Oregon': [46.2891, 41.9952, -116.4606, -124.7305], 'Connecticut': [42.0511, 40.9509, -71.7874, -73.7272], 'Montana': [48.9991, 44.3563, -104.0186, -116.0458], 'California': [42.0126, 32.5121, -114.1315, -124.6509], 'Massachusetts': [42.889, 41.159, -69.7398, -73.5081], 'West Virginia': [40.6338, 37.1953, -77.731, -82.6392], 'South Carolina': [35.2075, 32.0453, -78.4836, -83.3588], 'New Hampshire': [45.3058, 42.6986, -70.5583, -72.5592], 'Wisconsin': [47.31, 42.4954, -86.2523, -92.8564], 'Vermont': [45.0153, 42.7289, -71.4949, -73.4381], 'Georgia': [34.9996, 30.3575, -80.696, -85.6082], 'North Dakota': [48.9982, 45.934, -96.5671, -104.0501], 'Pennsylvania': [42.5167, 39.7199, -74.707, -80.5243], 'Florida': [31.0035, 24.3959, -79.8198, -87.6256], 'Alaska': [71.5232, 52.5964, -129.993, -169.9146], 'Kentucky': [39.1439, 36.4931, -82.0308, -89.5372], 'Hawaii': [22.3386, 18.71, -154.6271, -160.3922], 'Nebraska': [43.0006, 39.9992, -95.3091, -104.0543], 'Missouri': [40.6181, 35.9958, -89.1005, -95.7527], 'Ohio': [42.321, 38.3761, -80.5188, -84.8172], 'Alabama': [35.0041, 30.1463, -84.8927, -88.4743], 'Rhode Island': [42.0156, 41.1849, -71.0541, -71.9041], 'South Dakota': [45.9435, 42.4772, -96.438, -104.0529], 'Colorado': [41.0006, 36.9949, -102.0424, -109.0489], 'New Jersey': [41.3593, 38.8472, -73.8885, -75.5708], 'Washington': [49.0027, 45.5439, -116.9165, -124.8679], 'North Carolina': [36.588, 33.7666, -75.4129, -84.3201], 'New York': [45.0153, 40.4772, -71.7517, -79.7624], 'Texas': [36.5008, 25.8419, -93.5074, -106.6168], 'Nevada': [42.0003, 35.003, -114.0436, -120.0037], 'Maine': [47.455, 42.9182, -66.8628, -71.0829]}\n"
       ]
      }
     ],
     "prompt_number": 142
    },
    {
     "cell_type": "markdown",
     "metadata": {},
     "source": [
      "Map information\n",
      "Climate zone map is from http://www.ncdc.noaa.gov/monitoring-references/maps/us-climate-regions.php\n",
      "Interative map is from http://itouchmap.com/latlong.html\n",
      "Boundary of states /home/ubuntu/UCSD_BigData/data/weather/boundary.pkl\n"
     ]
    },
    {
     "cell_type": "code",
     "collapsed": false,
     "input": [
      "#Map climate regions and states\n",
      "import pickle\n",
      "f=file(\"/home/ubuntu/UCSD_BigData/data/weather/boundary.pkl\",'r')\n",
      "boundary = pickle.load(f)\n",
      "\n",
      "regionDict= {'Mississippi': 'South', 'Oklahoma': 'South', 'Wyoming': 'WestNorthCentral', 'Minnesota': 'EastNorthCentral',\\\n",
      "             'Illinois': 'Central', 'Arkansas': 'South', 'New Mexico': 'Southwest', 'Indiana': 'Central', 'Maryland': 'Northeast',\\\n",
      "             'Louisiana': 'South', 'Idaho': 'Northwest', 'Tennessee': 'Central', 'Arizona': 'Southwest', 'Iowa': 'EastNorthCentral',\\\n",
      "             'Michigan': 'EastNorthCentral', 'Kansas': 'South', 'Utah': 'Southwest', 'Virginia': 'Southeast', 'Oregon': 'Northwest',\\\n",
      "             'Connecticut': 'Northeast', 'Montana': 'WestNorthCentral', 'California': 'West', 'Massachusetts': 'Northeast', \\\n",
      "             'West Virginia': 'Central', 'South Carolina': 'Southeast', 'New Hampshire': 'Northeast', 'Wisconsin': 'EastNorthCentral',\\\n",
      "             'Vermont': 'Northeast', 'Georgia': 'Southeast', 'North Dakota': 'WestNorthCentral', 'Pennsylvania': 'Northeast',\\\n",
      "             'Florida': 'Southeast', 'Alaska': 'Alaska', 'Kentucky': 'Central', 'Hawaii': 'Hawaii', 'Nebraska': 'WestNorthCentral',\\\n",
      "             'Missouri': 'Central', 'Ohio': 'Central', 'Alabama': 'Southeast', 'Rhode Island': 'Northeast', 'South Dakota': 'WestNorthCentral',\\\n",
      "             'Colorado': 'Southwest', 'New Jersey': 'Northeast', 'Washington': 'Northwest', 'North Carolina': 'Southeast', \\\n",
      "             'New York': 'Northeast', 'Texas': 'South', 'Nevada': 'West', 'Delaware': 'Northeast', 'Maine': 'Northeast'}\n"
     ],
     "language": "python",
     "metadata": {},
     "outputs": [],
     "prompt_number": 5
    },
    {
     "cell_type": "code",
     "collapsed": false,
     "input": [
      "print stns.head()"
     ],
     "language": "python",
     "metadata": {},
     "outputs": [
      {
       "output_type": "stream",
       "stream": "stdout",
       "text": [
        "             latitude  longitude  elevation state                   name  \\\n",
        "USC00515000   20.7583  -156.3211      944.9     I  KULA BRANCH STN 324.5   \n",
        "KRC00914101   -2.7667  -171.7167        3.0   NaN          CANTON ISLAND   \n",
        "USC00514725   20.7167  -156.2667     3055.9     I              KOLE KOLE   \n",
        "AQC00914822  -11.0500  -171.0833        3.0     S           SWAIN ISLAND   \n",
        "USC00511008   20.7167  -156.2667     3037.0     I   HALEAKALA SUMMIT 338   \n",
        "\n",
        "            GSNFLAG HCNFLAG  WMOID  weight       Node  \n",
        "USC00515000     NaN     NaN  91198   23830  000000000  \n",
        "KRC00914101     NaN     NaN    NaN   13113  000000000  \n",
        "USC00514725     NaN     NaN    NaN     728  000000000  \n",
        "AQC00914822     NaN     NaN    NaN     612  000000000  \n",
        "USC00511008     NaN     NaN    NaN    5398  000000000  \n",
        "\n",
        "[5 rows x 10 columns]\n"
       ]
      }
     ],
     "prompt_number": 6
    },
    {
     "cell_type": "code",
     "collapsed": false,
     "input": [
      "print boundary"
     ],
     "language": "python",
     "metadata": {},
     "outputs": [
      {
       "output_type": "stream",
       "stream": "stdout",
       "text": [
        "{'Mississippi': [35.0075, 30.0905, -88.0994, -91.6589], 'Oklahoma': [37.0015, 33.6386, -94.4357, -103.0064], 'Wyoming': [44.9998, 40.9986, -104.0556, -111.0539], 'Minnesota': [49.3877, 43.5008, -89.4919, -97.2304], 'Illinois': [42.5116, 36.9894, -87.0213, -91.512], 'Georgia': [34.9996, 30.3575, -80.696, -85.6082], 'Arkansas': [36.4997, 33.0075, -89.6594, -94.6198], 'New Mexico': [36.9982, 31.3337, -103.0023, -109.0489], 'Ohio': [42.321, 38.3761, -80.5188, -84.8172], 'Indiana': [41.7611, 37.7718, -84.809, -88.098], 'Maryland': [39.722, 37.8889, -74.8581, -79.4861], 'Louisiana': [33.0225, 28.8832, -88.7421, -94.043], 'Idaho': [49.0018, 41.9871, -111.0471, -117.2372], 'Arizona': [37.0004, 31.3325, -109.0475, -114.8126], 'Iowa': [43.5008, 40.3622, -90.1538, -96.6357], 'New York': [45.0153, 40.4772, -71.7517, -79.7624], 'Michigan': [48.3042, 41.6965, -82.1221, -90.4175], 'Kansas': [40.0087, 36.9927, -94.6046, -102.0506], 'Utah': [41.9993, 36.9982, -109.0462, -114.0504], 'Virginia': [39.4659, 36.5427, -74.9707, -83.6753], 'Oregon': [46.2891, 41.9952, -116.4606, -124.7305], 'Connecticut': [42.0511, 40.9509, -71.7874, -73.7272], 'Montana': [48.9991, 44.3563, -104.0186, -116.0458], 'California': [42.0126, 32.5121, -114.1315, -124.6509], 'Massachusetts': [42.889, 41.159, -69.7398, -73.5081], 'West Virginia': [40.6338, 37.1953, -77.731, -82.6392], 'South Carolina': [35.2075, 32.0453, -78.4836, -83.3588], 'New Hampshire': [45.3058, 42.6986, -70.5583, -72.5592], 'Vermont': [45.0153, 42.7289, -71.4949, -73.4381], 'Delaware': [39.8296, 38.4482, -74.8526, -75.7919], 'North Dakota': [48.9982, 45.934, -96.5671, -104.0501], 'Pennsylvania': [42.5167, 39.7199, -74.707, -80.5243], 'Florida': [31.0035, 24.3959, -79.8198, -87.6256], 'Alaska': [71.5232, 52.5964, -129.993, -169.9146], 'Kentucky': [39.1439, 36.4931, -82.0308, -89.5372], 'Hawaii': [22.3386, 18.71, -154.6271, -160.3922], 'Nebraska': [43.0006, 39.9992, -95.3091, -104.0543], 'Missouri': [40.6181, 35.9958, -89.1005, -95.7527], 'Wisconsin': [47.31, 42.4954, -86.2523, -92.8564], 'Alabama': [35.0041, 30.1463, -84.8927, -88.4743], 'Rhode Island': [42.0156, 41.1849, -71.0541, -71.9041], 'South Dakota': [45.9435, 42.4772, -96.438, -104.0529], 'Colorado': [41.0006, 36.9949, -102.0424, -109.0489], 'New Jersey': [41.3593, 38.8472, -73.8885, -75.5708], 'Washington': [49.0027, 45.5439, -116.9165, -124.8679], 'North Carolina': [36.588, 33.7666, -75.4129, -84.3201], 'Tennessee': [36.6871, 34.9884, -81.6518, -90.3131], 'Texas': [36.5008, 25.8419, -93.5074, -106.6168], 'Nevada': [42.0003, 35.003, -114.0436, -120.0037], 'Maine': [47.455, 42.9182, -66.8628, -71.0829]}\n"
       ]
      }
     ],
     "prompt_number": 7
    },
    {
     "cell_type": "code",
     "collapsed": false,
     "input": [
      "stns['st'] = pd.Series(['st']*stns.shape[0], index=stns.index)\n",
      "stns['region'] = pd.Series(['region']*stns.shape[0], index=stns.index)"
     ],
     "language": "python",
     "metadata": {},
     "outputs": [],
     "prompt_number": 8
    },
    {
     "cell_type": "code",
     "collapsed": false,
     "input": [
      "\n",
      "for i in xrange(stns.shape[0]):\n",
      "    index = stns.index[i]\n",
      "    lat=stns.ix[index][\"latitude\"]\n",
      "    lon=stns.ix[index][\"longitude\"]\n",
      "    for key in boundary.keys():\n",
      "        latMax,latMin,lonMax,lonMin=boundary[key]\n",
      "        if latMin<lat<latMax and lonMin<lon<lonMax:\n",
      "            stns.loc[index,'st']=key\n",
      "            stns.loc[index,'region']=regionDict[key]\n",
      "with file(\"updateSTN\",\"w\") as f:\n",
      "    pickle.dump(stns,f)"
     ],
     "language": "python",
     "metadata": {},
     "outputs": [],
     "prompt_number": 104
    },
    {
     "cell_type": "code",
     "collapsed": false,
     "input": [
      "stns=pickle.load(file(\"updateSTN\",\"r\"))\n",
      "print stns.head()"
     ],
     "language": "python",
     "metadata": {},
     "outputs": [
      {
       "output_type": "stream",
       "stream": "stdout",
       "text": [
        "             latitude  longitude  elevation state                   name  \\\n",
        "USC00515000   20.7583  -156.3211      944.9     I  KULA BRANCH STN 324.5   \n",
        "KRC00914101   -2.7667  -171.7167        3.0   NaN          CANTON ISLAND   \n",
        "USC00514725   20.7167  -156.2667     3055.9     I              KOLE KOLE   \n",
        "AQC00914822  -11.0500  -171.0833        3.0     S           SWAIN ISLAND   \n",
        "USC00511008   20.7167  -156.2667     3037.0     I   HALEAKALA SUMMIT 338   \n",
        "\n",
        "            GSNFLAG HCNFLAG  WMOID  weight       Node      st  region  \n",
        "USC00515000     NaN     NaN  91198   23830  000000000  Hawaii  Hawaii  \n",
        "KRC00914101     NaN     NaN    NaN   13113  000000000      st  region  \n",
        "USC00514725     NaN     NaN    NaN     728  000000000  Hawaii  Hawaii  \n",
        "AQC00914822     NaN     NaN    NaN     612  000000000      st  region  \n",
        "USC00511008     NaN     NaN    NaN    5398  000000000  Hawaii  Hawaii  \n",
        "\n",
        "[5 rows x 12 columns]\n"
       ]
      }
     ],
     "prompt_number": 10
    },
    {
     "cell_type": "code",
     "collapsed": false,
     "input": [
      "mdl=\"/home/ubuntu/lge_bigdata/UCSD_BigData/notebooks/lge-hw2/data/node-pairs-should-merge-using-mdl.csv\"\n",
      "mdlRes=file(mdl).read().split(\"\\n\")\n",
      "mdlRes=[mr.split(\",\") for mr in mdlRes]\n",
      "mdlTestPos = filter(lambda x:len(x[0])==9,mdlRes) # only keep stations\n",
      "print \"Num of test positive \",len(mdlTestPos)"
     ],
     "language": "python",
     "metadata": {},
     "outputs": [
      {
       "output_type": "stream",
       "stream": "stdout",
       "text": [
        "Num of test positive  120\n"
       ]
      }
     ],
     "prompt_number": 41
    },
    {
     "cell_type": "code",
     "collapsed": false,
     "input": [
      "# count all US stations\n",
      "stnCount=0\n",
      "for state in boundary.keys():\n",
      "    stnCount+=stns[stns['st']==state].shape[0]\n",
      "print stnCount"
     ],
     "language": "python",
     "metadata": {},
     "outputs": [
      {
       "output_type": "stream",
       "stream": "stdout",
       "text": [
        "17356\n"
       ]
      }
     ],
     "prompt_number": 13
    },
    {
     "cell_type": "code",
     "collapsed": false,
     "input": [
      "# Num of pairs according to gold standard\n",
      "regionList = list(set(regionDict.values()))\n",
      "allPairs = 0\n",
      "\n",
      "for region in regionList:\n",
      "    area = stns[stns['region']==region]\n",
      "    uniqueNodes = list(set(area['Node']))\n",
      "    print region,len(uniqueNodes)\n",
      "    numPair = len(uniqueNodes)*(len(uniqueNodes)-1)/2\n",
      "    allPairs+=numPair\n",
      "print \"num of condition positive pairs \",allPairs"
     ],
     "language": "python",
     "metadata": {},
     "outputs": [
      {
       "output_type": "stream",
       "stream": "stdout",
       "text": [
        "Northeast 46\n",
        "Central 66\n",
        "West 36\n",
        "Hawaii 4\n",
        "Alaska 11\n",
        "EastNorthCentral 47\n",
        "Southeast 44\n",
        "Northwest 38\n",
        "WestNorthCentral 65\n",
        "South 64\n",
        "Southwest"
       ]
      },
      {
       "output_type": "stream",
       "stream": "stdout",
       "text": [
        " 48\n",
        "num of condition positive pairs  11825\n"
       ]
      }
     ],
     "prompt_number": 29
    },
    {
     "cell_type": "code",
     "collapsed": false,
     "input": [
      "# All positive pairs according to gold standard\n",
      "regionList = list(set(regionDict.values()))\n",
      "allPosPairList=[]\n",
      "for region in regionList:\n",
      "    regionPair=[]\n",
      "    area = stns[stns['region']==region]\n",
      "    uniqueNodes = list(set(area['Node']))\n",
      "    for i in range(len(uniqueNodes)):\n",
      "        for j in range(i+1,len(uniqueNodes)):\n",
      "            regionPair.append((uniqueNodes[i],uniqueNodes[j]))\n",
      "    print len(regionPair)\n",
      "    allPosPairList+=regionPair\n",
      "print \"num of condition positive pairs \",len(allPosPairList)"
     ],
     "language": "python",
     "metadata": {},
     "outputs": [
      {
       "output_type": "stream",
       "stream": "stdout",
       "text": [
        "1035\n",
        "2145\n",
        "630\n",
        "6\n",
        "55\n",
        "1081\n",
        "946\n",
        "703\n",
        "2080\n",
        "2016"
       ]
      },
      {
       "output_type": "stream",
       "stream": "stdout",
       "text": [
        "\n",
        "1128\n",
        "num of condition positive pairs  11825\n"
       ]
      }
     ],
     "prompt_number": 59
    },
    {
     "cell_type": "code",
     "collapsed": false,
     "input": [
      "# count true positive pairs \n",
      "truePosNum = 0\n",
      "for pair in mdlTestPos:\n",
      "    if tuple(pair) in allPosPairList:\n",
      "        truePosNum+=1\n",
      "print truePosNum"
     ],
     "language": "python",
     "metadata": {},
     "outputs": [
      {
       "output_type": "stream",
       "stream": "stdout",
       "text": [
        "47\n"
       ]
      }
     ],
     "prompt_number": 40
    },
    {
     "cell_type": "code",
     "collapsed": false,
     "input": [
      "# False positive number is 73\n",
      "120-47\n",
      "# False negative number is 11778\n",
      "11825-47\n",
      "# True negative number is 97921\n",
      "regionList = list(set(regionDict.values()))\n",
      "regionNodeNumList=[] #  a list of unique nodes in every region\n",
      "for region in regionList:\n",
      "    regionPair=[]\n",
      "    area = stns[stns['region']==region]\n",
      "    uniqueNodes = list(set(area['Node']))\n",
      "    regionNodeNumList.append(len(uniqueNodes))\n",
      "print \"num of nodes in every region \",regionNodeNumList\n",
      "# negative pairs\n",
      "negPairNum=0\n",
      "for i in range(len(regionNodeNumList)):\n",
      "    for j in range(i+1,len(regionNodeNumList)):\n",
      "        count+=1\n",
      "        negPairNum+=regionNodeNumList[i]*regionNodeNumList[j]\n",
      "print \"negPairNum: \",negPairNum"
     ],
     "language": "python",
     "metadata": {},
     "outputs": [
      {
       "output_type": "stream",
       "stream": "stdout",
       "text": [
        "num of nodes in every region  [46, 66, 36, 4, 11, 47, 44, 38, 65, 64, 48]\n",
        "negPairNum:  97921\n"
       ]
      }
     ],
     "prompt_number": 65
    },
    {
     "cell_type": "markdown",
     "metadata": {},
     "source": []
    }
   ],
   "metadata": {}
  }
 ]
}