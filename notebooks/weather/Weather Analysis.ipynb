{
 "metadata": {
  "name": ""
 },
 "nbformat": 3,
 "nbformat_minor": 0,
 "worksheets": [
  {
   "cells": [
    {
     "cell_type": "markdown",
     "metadata": {
      "slideshow": {
       "slide_type": "slide"
      }
     },
     "source": [
      "### Some Analysis of the NOAA weather dataset ###\n",
      "\n",
      "In this notebook we are analyzing a sample out of data that was downloaded from http://www1.ncdc.noaa.gov/pub/data/ghcn/daily/, the main file is ghcnd_all.tar.gz which is about 2.4 GB which becomes around 20GB when uncompressed.\n",
      "\n",
      "The data contains about 1 million station-year recordings. That is too much to analyzer on single core machine, so we start by taking a sample of 20,000 recordings of the maximal daily temperatures for a period of a 365 days starting on January 1st (the last day of leap years is discarded)."
     ]
    },
    {
     "cell_type": "markdown",
     "metadata": {
      "slideshow": {
       "slide_type": "slide"
      }
     },
     "source": [
      "### Checking the versions of some important packages ###"
     ]
    },
    {
     "cell_type": "code",
     "collapsed": false,
     "input": [
      "import pandas as pd\n",
      "import numpy as np\n",
      "import sklearn as sk\n",
      "print 'pandas version: ',pd.__version__\n",
      "print 'numpy version:',np.__version__\n",
      "print 'sklearn version:',sk.__version__"
     ],
     "language": "python",
     "metadata": {
      "slideshow": {
       "slide_type": "fragment"
      }
     },
     "outputs": [
      {
       "output_type": "stream",
       "stream": "stdout",
       "text": [
        "pandas version:  0.13.1\n",
        "numpy version: 1.8.1\n",
        "sklearn version: 0.14.1\n"
       ]
      }
     ],
     "prompt_number": 3
    },
    {
     "cell_type": "markdown",
     "metadata": {
      "slideshow": {
       "slide_type": "slide"
      }
     },
     "source": [
      "Switch to the data directory and check it's contents"
     ]
    },
    {
     "cell_type": "code",
     "collapsed": false,
     "input": [
      "%cd ~/data/weather\n",
      "!ls -l"
     ],
     "language": "python",
     "metadata": {
      "slideshow": {
       "slide_type": "fragment"
      }
     },
     "outputs": [
      {
       "output_type": "stream",
       "stream": "stdout",
       "text": [
        "/home/ubuntu/UCSD_BigData/data/weather\n",
        "total 41556\r\n",
        "-rw-r--r-- 1 ubuntu ubuntu      218 Mar 14 03:31 data-source.txt\r\n",
        "-rw-r--r-- 1 ubuntu ubuntu    22422 Mar 14 03:31 ghcnd-readme.txt\r\n",
        "-rw-rw-r-- 1 ubuntu ubuntu  7760844 Apr 15 07:27 ghcnd-stations_buffered.txt\r\n",
        "-rw-r--r-- 1 ubuntu ubuntu  7334424 Mar 14 03:31 ghcnd-stations.txt\r\n",
        "-rw-r--r-- 1 ubuntu ubuntu      270 Mar 14 03:31 ghcnd-version.txt\r\n",
        "-rw-rw-r-- 1 ubuntu ubuntu  1304569 Apr 15 07:37 SAMPLE_TMAX_1000.csv\r\n",
        "-rw-r--r-- 1 ubuntu ubuntu 26114979 Apr  7 21:24 SAMPLE_TMAX.csv\r\n"
       ]
      }
     ],
     "prompt_number": 4
    },
    {
     "cell_type": "code",
     "collapsed": false,
     "input": [
      "!cat data-source.txt"
     ],
     "language": "python",
     "metadata": {
      "slideshow": {
       "slide_type": "slide"
      }
     },
     "outputs": [
      {
       "output_type": "stream",
       "stream": "stdout",
       "text": [
        "I got the data from this ftp site:\r\n",
        "\r\n",
        "ftp://ftp.ncdc.noaa.gov/pub/data/ghcn/daily/\r\n",
        "\r\n",
        "Opening the ftp site in a browser is helpful: you can easily browse the directory structure and look at txt and\r\n",
        "pdf files.\r\n",
        "\r\n",
        "Yoav Freund\r\n"
       ]
      }
     ],
     "prompt_number": 5
    },
    {
     "cell_type": "markdown",
     "metadata": {
      "slideshow": {
       "slide_type": "slide"
      }
     },
     "source": [
      "- *data-source.txt* - information about downloading the data from NOAA\n",
      "- *ghcnd-readme.txt* - A readme file describing the content of all of the files from ghcnd, in particular:\n",
      "- *ghcnd-stations.txt* - information about each of the meteorological stations.\n",
      "- *Sample_TMAX_By_Year* - a file with 10,000 randomly selected one-year-long TMAX measurements"
     ]
    },
    {
     "cell_type": "code",
     "collapsed": false,
     "input": [
      "!head -2 SAMPLE_TMAX.csv\n",
      "# a Typical single line in the data file"
     ],
     "language": "python",
     "metadata": {
      "slideshow": {
       "slide_type": "slide"
      }
     },
     "outputs": [
      {
       "output_type": "stream",
       "stream": "stdout",
       "text": [
        "USC00507570,TMAX,2005,67,44,61,17,-17,-22,-39,-44,-44,-78,-156,-156,-33,28,39,22,-89,-139,-156,44,61,50,-39,17,67,61,-61,-61,11,33,-72,-100,-150,-178,-150,-33,39,28,22,11,-150,-156,-150,50,44,28,39,50,56,39,67,50,39,56,50,56,44,22,6,17,17,61,83,67,67,89,78,61,61,83,56,44,67,89,67,89,100,83,56,17,22,50,39,28,-6,28,-6,-28,-50,-44,-33,-22,-22,-22,17,67,67,78,94,89,72,56,89,111,94,83,56,11,28,56,89,133,133,128,178,167,194,211,189,178,161,172,144,133,128,117,183,200,211,211,178,172,133,150,128,133,150,150,178,211,200,133,172,144,161,156,139,150,133,144,161,150,161,200,183,228,222,183,144,150,178,167,183,239,239,267,244,222,222,117,189,233,194,206,261,228,211,222,261,228,228,200,194,183,233,244,217,267,250,217,161,200,200,194,250,261,222,194,183,161,206,228,228,222,206,200,167,183,194,172,200,189,167,183,194,200,206,217,206,244,267,256,278,294,278,256,228,228,189,206,211,211,161,156,144,156,161,156,167,139,122,144,139,156,150,144,128,144,128,150,150,133,144,172,156,106,161,161,122,122,133,117,133,117,133,150,117,89,122,106,117,100,106,89,67,122,111,106,89,106,89,44,50,61,28,33,44,89,61,72,61,89,100,94,22,0,17,6,6,11,0,-22,-28,-44,-50,-33,-39,-89,-67,-22,-56,-100,-100,-56,-83,-56,-117,33,33,56,56,56,50,-17,-33,-100,-144,-178,-167,-161,-172,-67,-44,-28,-61,-106,-156,-133,33,67,78,67,72,22,6,-78,11,61,78,78,11,67,89,44,-28,-39,-33,-17,39,61,50,61,61,44,61\r\n",
        "NOE00135018,TMAX,1959,,,,,,,,,,,,,,,,,,,,,,,,,,,,,,,,,,,,,,,,,,,,,,,,,,,,,,,,,,,,,,,,,,,,,,,,,,,,,,,,,,,,,,,,,,,72,123,95,121,94,50,69,95,55,52,12,65,52,110,129,131,170,166,69,84,93,82,110,111,92,95,95,148,102,135,142,120,100,100,106,120,142,134,172,180,201,190,242,223,245,225,142,125,205,166,165,155,167,213,201,190,156,170,186,172,165,151,189,196,191,187,205,189,160,160,166,214,231,230,228,218,149,189,180,174,175,196,215,252,245,257,264,286,261,208,226,222,205,202,205,236,215,220,225,220,243,234,221,181,206,196,220,212,240,250,266,248,255,280,260,260,273,265,252,230,220,235,250,240,239,235,220,265,252,223,234,242,255,253,215,246,228,250,234,236,261,230,230,218,244,232,260,232,202,182,166,161,196,215,202,205,220,206,200,218,215,212,225,250,231,199,170,206,190,159,210,185,177,162,150,164,171,142,90,111,106,149,128,117,125,126,116,132,114,109,83,115,81,89,125,105,112,149,149,112,65,100,119,140,90,79,136,120,91,100,114,103,71,81,81,50,105,96,55,50,24,28,84,90,72,70,63,72,86,72,48,-5,-25,9,28,69,90,101,90,82,61,40,4,80,60,59,56,35,28,-1,-30,-46,-46,-40,-40,-35,-35,-50,18,26,44,58,65,65,80,58,31,45,42,32,16,20,22,39,61\r\n"
       ]
      }
     ],
     "prompt_number": 6
    },
    {
     "cell_type": "markdown",
     "metadata": {
      "slideshow": {
       "slide_type": "slide"
      }
     },
     "source": [
      "### read data into a Pandas Dataframe ##\n",
      "* Read the data into a DataFrame\n",
      "* Read the data vectors in G\n",
      "* Divide by 10.0 to get the temperatude in degrees celsius\n",
      "* Replace values outside the range [-400,500]  ([-40,50] degrees celsius) with nan  \n",
      "* Paste fixed matrix back into Dout\n",
      "* Show the first few lines of DDout"
     ]
    },
    {
     "cell_type": "code",
     "collapsed": false,
     "input": [
      "header=['station','measurement','year']+range(1,366)\n",
      "# D=pandas.DataFrame(columns=header)\n",
      "Data = pd.read_csv('SAMPLE_TMAX_1000.csv',header=None,names=header)\n",
      "G=Data.ix[:,1:365]\n",
      "G[G<-400]=nan\n",
      "G[G>500]=nan\n",
      "G=G/10\n",
      "Data.ix[:,1:365]=G\n",
      "G=G.transpose()\n",
      "Data.head()"
     ],
     "language": "python",
     "metadata": {
      "slideshow": {
       "slide_type": "slide"
      }
     },
     "outputs": [
      {
       "html": [
        "<div style=\"max-height:1000px;max-width:1500px;overflow:auto;\">\n",
        "<table border=\"1\" class=\"dataframe\">\n",
        "  <thead>\n",
        "    <tr style=\"text-align: right;\">\n",
        "      <th></th>\n",
        "      <th>station</th>\n",
        "      <th>measurement</th>\n",
        "      <th>year</th>\n",
        "      <th>1</th>\n",
        "      <th>2</th>\n",
        "      <th>3</th>\n",
        "      <th>4</th>\n",
        "      <th>5</th>\n",
        "      <th>6</th>\n",
        "      <th>7</th>\n",
        "      <th>8</th>\n",
        "      <th>9</th>\n",
        "      <th>10</th>\n",
        "      <th>11</th>\n",
        "      <th>12</th>\n",
        "      <th>13</th>\n",
        "      <th>14</th>\n",
        "      <th>15</th>\n",
        "      <th>16</th>\n",
        "      <th>17</th>\n",
        "      <th></th>\n",
        "    </tr>\n",
        "  </thead>\n",
        "  <tbody>\n",
        "    <tr>\n",
        "      <th>0</th>\n",
        "      <td> USC00507570</td>\n",
        "      <td> TMAX</td>\n",
        "      <td> 2005</td>\n",
        "      <td>  6.7</td>\n",
        "      <td>  4.4</td>\n",
        "      <td>  6.1</td>\n",
        "      <td>  1.7</td>\n",
        "      <td> -1.7</td>\n",
        "      <td> -2.2</td>\n",
        "      <td> -3.9</td>\n",
        "      <td> -4.4</td>\n",
        "      <td> -4.4</td>\n",
        "      <td> -7.8</td>\n",
        "      <td>-15.6</td>\n",
        "      <td>-15.6</td>\n",
        "      <td> -3.3</td>\n",
        "      <td>  2.8</td>\n",
        "      <td>  3.9</td>\n",
        "      <td>  2.2</td>\n",
        "      <td> -8.9</td>\n",
        "      <td>...</td>\n",
        "    </tr>\n",
        "    <tr>\n",
        "      <th>1</th>\n",
        "      <td> NOE00135018</td>\n",
        "      <td> TMAX</td>\n",
        "      <td> 1959</td>\n",
        "      <td>  NaN</td>\n",
        "      <td>  NaN</td>\n",
        "      <td>  NaN</td>\n",
        "      <td>  NaN</td>\n",
        "      <td>  NaN</td>\n",
        "      <td>  NaN</td>\n",
        "      <td>  NaN</td>\n",
        "      <td>  NaN</td>\n",
        "      <td>  NaN</td>\n",
        "      <td>  NaN</td>\n",
        "      <td>  NaN</td>\n",
        "      <td>  NaN</td>\n",
        "      <td>  NaN</td>\n",
        "      <td>  NaN</td>\n",
        "      <td>  NaN</td>\n",
        "      <td>  NaN</td>\n",
        "      <td>  NaN</td>\n",
        "      <td>...</td>\n",
        "    </tr>\n",
        "    <tr>\n",
        "      <th>2</th>\n",
        "      <td> KZ000036546</td>\n",
        "      <td> TMAX</td>\n",
        "      <td> 1982</td>\n",
        "      <td>  NaN</td>\n",
        "      <td>  NaN</td>\n",
        "      <td>-13.9</td>\n",
        "      <td>  NaN</td>\n",
        "      <td>  NaN</td>\n",
        "      <td> -4.5</td>\n",
        "      <td>  NaN</td>\n",
        "      <td>  NaN</td>\n",
        "      <td> -2.8</td>\n",
        "      <td>  NaN</td>\n",
        "      <td> -5.5</td>\n",
        "      <td>  NaN</td>\n",
        "      <td> -6.3</td>\n",
        "      <td>  NaN</td>\n",
        "      <td>  NaN</td>\n",
        "      <td>  NaN</td>\n",
        "      <td>  NaN</td>\n",
        "      <td>...</td>\n",
        "    </tr>\n",
        "    <tr>\n",
        "      <th>3</th>\n",
        "      <td> USC00054664</td>\n",
        "      <td> TMAX</td>\n",
        "      <td> 1964</td>\n",
        "      <td>  NaN</td>\n",
        "      <td>  NaN</td>\n",
        "      <td>  NaN</td>\n",
        "      <td>  NaN</td>\n",
        "      <td>  NaN</td>\n",
        "      <td>  NaN</td>\n",
        "      <td>  NaN</td>\n",
        "      <td>  NaN</td>\n",
        "      <td>  NaN</td>\n",
        "      <td>  NaN</td>\n",
        "      <td>  NaN</td>\n",
        "      <td>  NaN</td>\n",
        "      <td>  NaN</td>\n",
        "      <td>  NaN</td>\n",
        "      <td>  NaN</td>\n",
        "      <td>  NaN</td>\n",
        "      <td>  NaN</td>\n",
        "      <td>...</td>\n",
        "    </tr>\n",
        "    <tr>\n",
        "      <th>4</th>\n",
        "      <td> CUW00011706</td>\n",
        "      <td> TMAX</td>\n",
        "      <td> 1981</td>\n",
        "      <td> 30.0</td>\n",
        "      <td> 28.3</td>\n",
        "      <td> 30.0</td>\n",
        "      <td> 30.0</td>\n",
        "      <td> 28.3</td>\n",
        "      <td> 28.9</td>\n",
        "      <td> 28.9</td>\n",
        "      <td> 31.1</td>\n",
        "      <td> 30.0</td>\n",
        "      <td> 29.4</td>\n",
        "      <td> 30.6</td>\n",
        "      <td> 25.6</td>\n",
        "      <td> 23.3</td>\n",
        "      <td> 28.3</td>\n",
        "      <td> 28.9</td>\n",
        "      <td> 30.0</td>\n",
        "      <td> 29.4</td>\n",
        "      <td>...</td>\n",
        "    </tr>\n",
        "  </tbody>\n",
        "</table>\n",
        "<p>5 rows \u00d7 368 columns</p>\n",
        "</div>"
       ],
       "metadata": {},
       "output_type": "pyout",
       "prompt_number": 7,
       "text": [
        "       station measurement  year     1     2     3     4     5     6     7  \\\n",
        "0  USC00507570        TMAX  2005   6.7   4.4   6.1   1.7  -1.7  -2.2  -3.9   \n",
        "1  NOE00135018        TMAX  1959   NaN   NaN   NaN   NaN   NaN   NaN   NaN   \n",
        "2  KZ000036546        TMAX  1982   NaN   NaN -13.9   NaN   NaN  -4.5   NaN   \n",
        "3  USC00054664        TMAX  1964   NaN   NaN   NaN   NaN   NaN   NaN   NaN   \n",
        "4  CUW00011706        TMAX  1981  30.0  28.3  30.0  30.0  28.3  28.9  28.9   \n",
        "\n",
        "      8     9    10    11    12    13    14    15    16    17      \n",
        "0  -4.4  -4.4  -7.8 -15.6 -15.6  -3.3   2.8   3.9   2.2  -8.9 ...  \n",
        "1   NaN   NaN   NaN   NaN   NaN   NaN   NaN   NaN   NaN   NaN ...  \n",
        "2   NaN  -2.8   NaN  -5.5   NaN  -6.3   NaN   NaN   NaN   NaN ...  \n",
        "3   NaN   NaN   NaN   NaN   NaN   NaN   NaN   NaN   NaN   NaN ...  \n",
        "4  31.1  30.0  29.4  30.6  25.6  23.3  28.3  28.9  30.0  29.4 ...  \n",
        "\n",
        "[5 rows x 368 columns]"
       ]
      }
     ],
     "prompt_number": 7
    },
    {
     "cell_type": "code",
     "collapsed": false,
     "input": [
      "tmp=G.ix[:,:].unstack()\n",
      "print shape(tmp), type(tmp)\n",
      "tmp.hist(bins=50);\n",
      "title('overall distribution of temperatures')\n",
      "print tmp.min(),tmp.max()"
     ],
     "language": "python",
     "metadata": {
      "slideshow": {
       "slide_type": "slide"
      }
     },
     "outputs": [
      {
       "output_type": "stream",
       "stream": "stdout",
       "text": [
        "(365000,) <class 'pandas.core.series.Series'>\n",
        "-40.0"
       ]
      },
      {
       "output_type": "stream",
       "stream": "stdout",
       "text": [
        " 49.8\n"
       ]
      },
      {
       "metadata": {},
       "output_type": "display_data",
       "png": "[encoded data removed]",
       "text": [
        "<matplotlib.figure.Figure at 0x3746090>"
       ]
      }
     ],
     "prompt_number": 8
    },
    {
     "cell_type": "markdown",
     "metadata": {
      "slideshow": {
       "slide_type": "slide"
      }
     },
     "source": [
      "### Script for plotting yearly plots ###"
     ]
    },
    {
     "cell_type": "code",
     "collapsed": false,
     "input": [
      "from datetime import date\n",
      "dates=[date.fromordinal(i) for i in range(1,366)]\n",
      "def YearlyPlots(T,ttl='',size=(10,7)):\n",
      "    fig=plt.figure(1,figsize=size,dpi=300)\n",
      "    #fig, ax = plt.subplots(1)\n",
      "    if shape(T)[0] != 365:\n",
      "        raise ValueError(\"First dimension of T should be 365. Shape(T)=\"+str(shape(T)))\n",
      "    plot(dates,T);\n",
      "    # rotate and align the tick labels so they look better\n",
      "    fig.autofmt_xdate()\n",
      "    ylabel('temperature')\n",
      "    grid()\n",
      "    title(ttl)\n",
      "YearlyPlots(Data.ix[20:30,1:365].transpose(),ttl='A sample of yearly plots')"
     ],
     "language": "python",
     "metadata": {
      "slideshow": {
       "slide_type": "subslide"
      }
     },
     "outputs": [
      {
       "metadata": {},
       "output_type": "display_data",
       "png": "[encoded data removed]",
       "text": [
        "<matplotlib.figure.Figure at 0x3aec650>"
       ]
      }
     ],
     "prompt_number": 9
    },
    {
     "cell_type": "markdown",
     "metadata": {
      "slideshow": {
       "slide_type": "slide"
      }
     },
     "source": [
      "### Plots for sydney, Australia ###"
     ]
    },
    {
     "cell_type": "code",
     "collapsed": false,
     "input": [
      "sydneyStations=['ASN00066' in station for station in Data['station']]\n",
      "print Data[sydneyStations]['station'].values\n",
      "#for station in sydneyStations:\n",
      "#    print station,sum(Data['station']==station)\n",
      "tmp=Data[sydneyStations].transpose()\n",
      "YearlyPlots(tmp.ix[1:365,:],ttl='Sydney Stations')\n",
      "#tmp.ix[:,tmp.columns[7]]\n",
      "#Data[sydneyStations][['station','year']]"
     ],
     "language": "python",
     "metadata": {
      "slideshow": {
       "slide_type": "subslide"
      }
     },
     "outputs": [
      {
       "ename": "AttributeError",
       "evalue": "'DataFrame' object has no attribute 'find'",
       "output_type": "pyerr",
       "traceback": [
        "\u001b[1;31m---------------------------------------------------------------------------\u001b[0m\n\u001b[1;31mAttributeError\u001b[0m                            Traceback (most recent call last)",
        "\u001b[1;32m<ipython-input-10-782d5b5659db>\u001b[0m in \u001b[0;36m<module>\u001b[1;34m()\u001b[0m\n\u001b[0;32m      4\u001b[0m \u001b[1;31m#    print station,sum(Data['station']==station)\u001b[0m\u001b[1;33m\u001b[0m\u001b[1;33m\u001b[0m\u001b[0m\n\u001b[0;32m      5\u001b[0m \u001b[0mtmp\u001b[0m\u001b[1;33m=\u001b[0m\u001b[0mData\u001b[0m\u001b[1;33m[\u001b[0m\u001b[0msydneyStations\u001b[0m\u001b[1;33m]\u001b[0m\u001b[1;33m.\u001b[0m\u001b[0mtranspose\u001b[0m\u001b[1;33m(\u001b[0m\u001b[1;33m)\u001b[0m\u001b[1;33m\u001b[0m\u001b[0m\n\u001b[1;32m----> 6\u001b[1;33m \u001b[0mYearlyPlots\u001b[0m\u001b[1;33m(\u001b[0m\u001b[0mtmp\u001b[0m\u001b[1;33m.\u001b[0m\u001b[0mix\u001b[0m\u001b[1;33m[\u001b[0m\u001b[1;36m1\u001b[0m\u001b[1;33m:\u001b[0m\u001b[1;36m365\u001b[0m\u001b[1;33m,\u001b[0m\u001b[1;33m:\u001b[0m\u001b[1;33m]\u001b[0m\u001b[1;33m,\u001b[0m\u001b[0mttl\u001b[0m\u001b[1;33m=\u001b[0m\u001b[1;34m'Sydney Stations'\u001b[0m\u001b[1;33m)\u001b[0m\u001b[1;33m\u001b[0m\u001b[0m\n\u001b[0m\u001b[0;32m      7\u001b[0m \u001b[1;31m#tmp.ix[:,tmp.columns[7]]\u001b[0m\u001b[1;33m\u001b[0m\u001b[1;33m\u001b[0m\u001b[0m\n\u001b[0;32m      8\u001b[0m \u001b[1;31m#Data[sydneyStations][['station','year']]\u001b[0m\u001b[1;33m\u001b[0m\u001b[1;33m\u001b[0m\u001b[0m\n",
        "\u001b[1;32m<ipython-input-9-d7bf8acbd1ff>\u001b[0m in \u001b[0;36mYearlyPlots\u001b[1;34m(T, ttl, size)\u001b[0m\n\u001b[0;32m      6\u001b[0m     \u001b[1;32mif\u001b[0m \u001b[0mshape\u001b[0m\u001b[1;33m(\u001b[0m\u001b[0mT\u001b[0m\u001b[1;33m)\u001b[0m\u001b[1;33m[\u001b[0m\u001b[1;36m0\u001b[0m\u001b[1;33m]\u001b[0m \u001b[1;33m!=\u001b[0m \u001b[1;36m365\u001b[0m\u001b[1;33m:\u001b[0m\u001b[1;33m\u001b[0m\u001b[0m\n\u001b[0;32m      7\u001b[0m         \u001b[1;32mraise\u001b[0m \u001b[0mValueError\u001b[0m\u001b[1;33m(\u001b[0m\u001b[1;34m\"First dimension of T should be 365. Shape(T)=\"\u001b[0m\u001b[1;33m+\u001b[0m\u001b[0mstr\u001b[0m\u001b[1;33m(\u001b[0m\u001b[0mshape\u001b[0m\u001b[1;33m(\u001b[0m\u001b[0mT\u001b[0m\u001b[1;33m)\u001b[0m\u001b[1;33m)\u001b[0m\u001b[1;33m)\u001b[0m\u001b[1;33m\u001b[0m\u001b[0m\n\u001b[1;32m----> 8\u001b[1;33m     \u001b[0mplot\u001b[0m\u001b[1;33m(\u001b[0m\u001b[0mdates\u001b[0m\u001b[1;33m,\u001b[0m\u001b[0mT\u001b[0m\u001b[1;33m)\u001b[0m\u001b[1;33m;\u001b[0m\u001b[1;33m\u001b[0m\u001b[0m\n\u001b[0m\u001b[0;32m      9\u001b[0m     \u001b[1;31m# rotate and align the tick labels so they look better\u001b[0m\u001b[1;33m\u001b[0m\u001b[1;33m\u001b[0m\u001b[0m\n\u001b[0;32m     10\u001b[0m     \u001b[0mfig\u001b[0m\u001b[1;33m.\u001b[0m\u001b[0mautofmt_xdate\u001b[0m\u001b[1;33m(\u001b[0m\u001b[1;33m)\u001b[0m\u001b[1;33m\u001b[0m\u001b[0m\n",
        "\u001b[1;32m/usr/local/lib/python2.7/dist-packages/matplotlib/pyplot.pyc\u001b[0m in \u001b[0;36mplot\u001b[1;34m(*args, **kwargs)\u001b[0m\n\u001b[0;32m   2815\u001b[0m         \u001b[0max\u001b[0m\u001b[1;33m.\u001b[0m\u001b[0mhold\u001b[0m\u001b[1;33m(\u001b[0m\u001b[0mhold\u001b[0m\u001b[1;33m)\u001b[0m\u001b[1;33m\u001b[0m\u001b[0m\n\u001b[0;32m   2816\u001b[0m     \u001b[1;32mtry\u001b[0m\u001b[1;33m:\u001b[0m\u001b[1;33m\u001b[0m\u001b[0m\n\u001b[1;32m-> 2817\u001b[1;33m         \u001b[0mret\u001b[0m \u001b[1;33m=\u001b[0m \u001b[0max\u001b[0m\u001b[1;33m.\u001b[0m\u001b[0mplot\u001b[0m\u001b[1;33m(\u001b[0m\u001b[1;33m*\u001b[0m\u001b[0margs\u001b[0m\u001b[1;33m,\u001b[0m \u001b[1;33m**\u001b[0m\u001b[0mkwargs\u001b[0m\u001b[1;33m)\u001b[0m\u001b[1;33m\u001b[0m\u001b[0m\n\u001b[0m\u001b[0;32m   2818\u001b[0m         \u001b[0mdraw_if_interactive\u001b[0m\u001b[1;33m(\u001b[0m\u001b[1;33m)\u001b[0m\u001b[1;33m\u001b[0m\u001b[0m\n\u001b[0;32m   2819\u001b[0m     \u001b[1;32mfinally\u001b[0m\u001b[1;33m:\u001b[0m\u001b[1;33m\u001b[0m\u001b[0m\n",
        "\u001b[1;32m/usr/local/lib/python2.7/dist-packages/matplotlib/axes.pyc\u001b[0m in \u001b[0;36mplot\u001b[1;34m(self, *args, **kwargs)\u001b[0m\n\u001b[0;32m   3994\u001b[0m         \u001b[0mlines\u001b[0m \u001b[1;33m=\u001b[0m \u001b[1;33m[\u001b[0m\u001b[1;33m]\u001b[0m\u001b[1;33m\u001b[0m\u001b[0m\n\u001b[0;32m   3995\u001b[0m \u001b[1;33m\u001b[0m\u001b[0m\n\u001b[1;32m-> 3996\u001b[1;33m         \u001b[1;32mfor\u001b[0m \u001b[0mline\u001b[0m \u001b[1;32min\u001b[0m \u001b[0mself\u001b[0m\u001b[1;33m.\u001b[0m\u001b[0m_get_lines\u001b[0m\u001b[1;33m(\u001b[0m\u001b[1;33m*\u001b[0m\u001b[0margs\u001b[0m\u001b[1;33m,\u001b[0m \u001b[1;33m**\u001b[0m\u001b[0mkwargs\u001b[0m\u001b[1;33m)\u001b[0m\u001b[1;33m:\u001b[0m\u001b[1;33m\u001b[0m\u001b[0m\n\u001b[0m\u001b[0;32m   3997\u001b[0m             \u001b[0mself\u001b[0m\u001b[1;33m.\u001b[0m\u001b[0madd_line\u001b[0m\u001b[1;33m(\u001b[0m\u001b[0mline\u001b[0m\u001b[1;33m)\u001b[0m\u001b[1;33m\u001b[0m\u001b[0m\n\u001b[0;32m   3998\u001b[0m             \u001b[0mlines\u001b[0m\u001b[1;33m.\u001b[0m\u001b[0mappend\u001b[0m\u001b[1;33m(\u001b[0m\u001b[0mline\u001b[0m\u001b[1;33m)\u001b[0m\u001b[1;33m\u001b[0m\u001b[0m\n",
        "\u001b[1;32m/usr/local/lib/python2.7/dist-packages/matplotlib/axes.pyc\u001b[0m in \u001b[0;36m_grab_next_args\u001b[1;34m(self, *args, **kwargs)\u001b[0m\n\u001b[0;32m    328\u001b[0m                 \u001b[1;32mreturn\u001b[0m\u001b[1;33m\u001b[0m\u001b[0m\n\u001b[0;32m    329\u001b[0m             \u001b[1;32mif\u001b[0m \u001b[0mlen\u001b[0m\u001b[1;33m(\u001b[0m\u001b[0mremaining\u001b[0m\u001b[1;33m)\u001b[0m \u001b[1;33m<=\u001b[0m \u001b[1;36m3\u001b[0m\u001b[1;33m:\u001b[0m\u001b[1;33m\u001b[0m\u001b[0m\n\u001b[1;32m--> 330\u001b[1;33m                 \u001b[1;32mfor\u001b[0m \u001b[0mseg\u001b[0m \u001b[1;32min\u001b[0m \u001b[0mself\u001b[0m\u001b[1;33m.\u001b[0m\u001b[0m_plot_args\u001b[0m\u001b[1;33m(\u001b[0m\u001b[0mremaining\u001b[0m\u001b[1;33m,\u001b[0m \u001b[0mkwargs\u001b[0m\u001b[1;33m)\u001b[0m\u001b[1;33m:\u001b[0m\u001b[1;33m\u001b[0m\u001b[0m\n\u001b[0m\u001b[0;32m    331\u001b[0m                     \u001b[1;32myield\u001b[0m \u001b[0mseg\u001b[0m\u001b[1;33m\u001b[0m\u001b[0m\n\u001b[0;32m    332\u001b[0m                 \u001b[1;32mreturn\u001b[0m\u001b[1;33m\u001b[0m\u001b[0m\n",
        "\u001b[1;32m/usr/local/lib/python2.7/dist-packages/matplotlib/axes.pyc\u001b[0m in \u001b[0;36m_plot_args\u001b[1;34m(self, tup, kwargs)\u001b[0m\n\u001b[0;32m    287\u001b[0m         \u001b[0mret\u001b[0m \u001b[1;33m=\u001b[0m \u001b[1;33m[\u001b[0m\u001b[1;33m]\u001b[0m\u001b[1;33m\u001b[0m\u001b[0m\n\u001b[0;32m    288\u001b[0m         \u001b[1;32mif\u001b[0m \u001b[0mlen\u001b[0m\u001b[1;33m(\u001b[0m\u001b[0mtup\u001b[0m\u001b[1;33m)\u001b[0m \u001b[1;33m>\u001b[0m \u001b[1;36m1\u001b[0m \u001b[1;32mand\u001b[0m \u001b[0mis_string_like\u001b[0m\u001b[1;33m(\u001b[0m\u001b[0mtup\u001b[0m\u001b[1;33m[\u001b[0m\u001b[1;33m-\u001b[0m\u001b[1;36m1\u001b[0m\u001b[1;33m]\u001b[0m\u001b[1;33m)\u001b[0m\u001b[1;33m:\u001b[0m\u001b[1;33m\u001b[0m\u001b[0m\n\u001b[1;32m--> 289\u001b[1;33m             \u001b[0mlinestyle\u001b[0m\u001b[1;33m,\u001b[0m \u001b[0mmarker\u001b[0m\u001b[1;33m,\u001b[0m \u001b[0mcolor\u001b[0m \u001b[1;33m=\u001b[0m \u001b[0m_process_plot_format\u001b[0m\u001b[1;33m(\u001b[0m\u001b[0mtup\u001b[0m\u001b[1;33m[\u001b[0m\u001b[1;33m-\u001b[0m\u001b[1;36m1\u001b[0m\u001b[1;33m]\u001b[0m\u001b[1;33m)\u001b[0m\u001b[1;33m\u001b[0m\u001b[0m\n\u001b[0m\u001b[0;32m    290\u001b[0m             \u001b[0mtup\u001b[0m \u001b[1;33m=\u001b[0m \u001b[0mtup\u001b[0m\u001b[1;33m[\u001b[0m\u001b[1;33m:\u001b[0m\u001b[1;33m-\u001b[0m\u001b[1;36m1\u001b[0m\u001b[1;33m]\u001b[0m\u001b[1;33m\u001b[0m\u001b[0m\n\u001b[0;32m    291\u001b[0m         \u001b[1;32melif\u001b[0m \u001b[0mlen\u001b[0m\u001b[1;33m(\u001b[0m\u001b[0mtup\u001b[0m\u001b[1;33m)\u001b[0m \u001b[1;33m==\u001b[0m \u001b[1;36m3\u001b[0m\u001b[1;33m:\u001b[0m\u001b[1;33m\u001b[0m\u001b[0m\n",
        "\u001b[1;32m/usr/local/lib/python2.7/dist-packages/matplotlib/axes.pyc\u001b[0m in \u001b[0;36m_process_plot_format\u001b[1;34m(fmt)\u001b[0m\n\u001b[0;32m     94\u001b[0m     \u001b[1;31m# handle the multi char special cases and strip them from the\u001b[0m\u001b[1;33m\u001b[0m\u001b[1;33m\u001b[0m\u001b[0m\n\u001b[0;32m     95\u001b[0m     \u001b[1;31m# string\u001b[0m\u001b[1;33m\u001b[0m\u001b[1;33m\u001b[0m\u001b[0m\n\u001b[1;32m---> 96\u001b[1;33m     \u001b[1;32mif\u001b[0m \u001b[0mfmt\u001b[0m\u001b[1;33m.\u001b[0m\u001b[0mfind\u001b[0m\u001b[1;33m(\u001b[0m\u001b[1;34m'--'\u001b[0m\u001b[1;33m)\u001b[0m\u001b[1;33m>=\u001b[0m\u001b[1;36m0\u001b[0m\u001b[1;33m:\u001b[0m\u001b[1;33m\u001b[0m\u001b[0m\n\u001b[0m\u001b[0;32m     97\u001b[0m         \u001b[0mlinestyle\u001b[0m \u001b[1;33m=\u001b[0m \u001b[1;34m'--'\u001b[0m\u001b[1;33m\u001b[0m\u001b[0m\n\u001b[0;32m     98\u001b[0m         \u001b[0mfmt\u001b[0m \u001b[1;33m=\u001b[0m \u001b[0mfmt\u001b[0m\u001b[1;33m.\u001b[0m\u001b[0mreplace\u001b[0m\u001b[1;33m(\u001b[0m\u001b[1;34m'--'\u001b[0m\u001b[1;33m,\u001b[0m \u001b[1;34m''\u001b[0m\u001b[1;33m)\u001b[0m\u001b[1;33m\u001b[0m\u001b[0m\n",
        "\u001b[1;32m/home/ubuntu/anaconda/lib/python2.7/site-packages/pandas/core/generic.pyc\u001b[0m in \u001b[0;36m__getattr__\u001b[1;34m(self, name)\u001b[0m\n\u001b[0;32m   1813\u001b[0m                 \u001b[1;32mreturn\u001b[0m \u001b[0mself\u001b[0m\u001b[1;33m[\u001b[0m\u001b[0mname\u001b[0m\u001b[1;33m]\u001b[0m\u001b[1;33m\u001b[0m\u001b[0m\n\u001b[0;32m   1814\u001b[0m             raise AttributeError(\"'%s' object has no attribute '%s'\" %\n\u001b[1;32m-> 1815\u001b[1;33m                                  (type(self).__name__, name))\n\u001b[0m\u001b[0;32m   1816\u001b[0m \u001b[1;33m\u001b[0m\u001b[0m\n\u001b[0;32m   1817\u001b[0m     \u001b[1;32mdef\u001b[0m \u001b[0m__setattr__\u001b[0m\u001b[1;33m(\u001b[0m\u001b[0mself\u001b[0m\u001b[1;33m,\u001b[0m \u001b[0mname\u001b[0m\u001b[1;33m,\u001b[0m \u001b[0mvalue\u001b[0m\u001b[1;33m)\u001b[0m\u001b[1;33m:\u001b[0m\u001b[1;33m\u001b[0m\u001b[0m\n",
        "\u001b[1;31mAttributeError\u001b[0m: 'DataFrame' object has no attribute 'find'"
       ]
      },
      {
       "output_type": "stream",
       "stream": "stdout",
       "text": [
        "[]\n"
       ]
      },
      {
       "metadata": {},
       "output_type": "display_data",
       "png": "[encoded data removed]",
       "text": [
        "<matplotlib.figure.Figure at 0x44b9c50>"
       ]
      }
     ],
     "prompt_number": 10
    },
    {
     "cell_type": "markdown",
     "metadata": {
      "slideshow": {
       "slide_type": "slide"
      }
     },
     "source": [
      "### Computing mean and std for each station/year ###\n",
      "And calculating the standard deviation. In this case we are not divi"
     ]
    },
    {
     "cell_type": "code",
     "collapsed": false,
     "input": [
      "# a simple scale function to normalize the data-frame row-by-row\n",
      "from numpy import mean, std\n",
      "def scale_temps(Din):\n",
      "    matrix=Din.iloc[:,3:]\n",
      "    Dout=Din.loc[:,['station','year']+range(1,366)]\n",
      "    Mean=mean(matrix, axis=1).values\n",
      "    Dout['Mean']=Mean\n",
      "    Std= std(matrix, axis=1).values\n",
      "    Dout['Std']=Std\n",
      "    # Decided not to normalize each year to have mean zero and std 1\n",
      "    # tmp = pd.DataFrame((matrix.values - Mean[:,np.newaxis])/Std[:,newaxis],columns=range(1,366))\n",
      "    # print tmp.head()\n",
      "    Dout.loc[:,1:365]=matrix.values\n",
      "    return Dout\n",
      "Dout=scale_temps(Data)\n",
      "#reorder the columns\n",
      "Dout=Dout[['station','year','Mean','Std']+range(1,366)]\n",
      "Dout.head()"
     ],
     "language": "python",
     "metadata": {
      "slideshow": {
       "slide_type": "subslide"
      }
     },
     "outputs": []
    },
    {
     "cell_type": "markdown",
     "metadata": {
      "slideshow": {
       "slide_type": "slide"
      }
     },
     "source": [
      "### Compute average temperature for each day of the year. ###"
     ]
    },
    {
     "cell_type": "code",
     "collapsed": false,
     "input": [
      "Mean=mean(Dout.ix[:,1:365], axis=0)\n",
      "YearlyPlots(Mean,ttl='The global mean temperature for each day of the year')\n"
     ],
     "language": "python",
     "metadata": {
      "slideshow": {
       "slide_type": "fragment"
      }
     },
     "outputs": []
    },
    {
     "cell_type": "markdown",
     "metadata": {
      "slideshow": {
       "slide_type": "skip"
      }
     },
     "source": [
      "### SVD ###\n",
      "Using a sparse svd solver directly, using https://pypi.python.org/pypi/sparsesvd/"
     ]
    },
    {
     "cell_type": "code",
     "collapsed": false,
     "input": [
      "#import numpy, scipy.sparse\n",
      "#from sparsesvd import sparsesvd\n",
      "#smat = scipy.sparse.csc_matrix(Data.loc[:,1:365]) # convert to sparse CSC format\n",
      "#ut, s, vt = sparsesvd(smat, 10) # do SVD, asking for 10 factors\n",
      "#print shape(ut),shape(s),shape(vt)"
     ],
     "language": "python",
     "metadata": {},
     "outputs": []
    },
    {
     "cell_type": "markdown",
     "metadata": {
      "slideshow": {
       "slide_type": "slide"
      }
     },
     "source": [
      "### Missing Values ###\n",
      "We find the distribution of missing values and decide how to deal with them. From the analysis below we see that most rows have some\n",
      "missing values. We therefor choose to perform the average more carefully, rather than discard rows with many missing values"
     ]
    },
    {
     "cell_type": "code",
     "collapsed": false,
     "input": [
      "nan_per_row=sum(isnan(Dout.ix[:,1:365]),axis=1)\n",
      "nan_per_row.hist(bins=100)\n",
      "sum(nan_per_row>50)"
     ],
     "language": "python",
     "metadata": {
      "slideshow": {
       "slide_type": "subslide"
      }
     },
     "outputs": []
    },
    {
     "cell_type": "markdown",
     "metadata": {
      "slideshow": {
       "slide_type": "slide"
      }
     },
     "source": [
      "### NaN-tolerant averaging  ###\n",
      "We compute the empirical covariance matrix in a way that tolerates NaN values.\n",
      "\n",
      "<span style=\"color:red\"> In the code below I remove all rows that have a nan in them. If you remve the command **M.dropna(...** then all rows are used. Can you get better results without removing the rows? </span>"
     ]
    },
    {
     "cell_type": "code",
     "collapsed": false,
     "input": [
      "# demonstrating the use of the cell magic %%time, which measures the run-time of the cell.\n",
      "M=Dout.loc[:,1:365].transpose()\n",
      "M=M.dropna(axis=1)\n",
      "(columns,rows)=shape(M)\n",
      "Mean=mean(M, axis=1).values\n",
      "\n",
      "print (columns,rows), shape(Mean)\n",
      "C=np.zeros([columns,columns])   # Sum\n",
      "N=np.zeros([columns,columns])   # Counter of non-nan entries"
     ],
     "language": "python",
     "metadata": {
      "slideshow": {
       "slide_type": "subslide"
      }
     },
     "outputs": []
    },
    {
     "cell_type": "code",
     "collapsed": false,
     "input": [
      "%%time\n",
      "for i in range(rows):\n",
      "    if i % 1000==0: \n",
      "        print i\n",
      "    row=M.iloc[:,i]-Mean;\n",
      "    outer=np.outer(row,row)\n",
      "    valid=isnan(outer)==False\n",
      "    C[valid]=C[valid]+outer[valid]  # update C with the valid location in outer\n",
      "    N[valid]=N[valid]+1\n",
      "valid_outer=np.multiply(1-isnan(N),N>0)\n",
      "cov=np.divide(C,N)"
     ],
     "language": "python",
     "metadata": {
      "slideshow": {
       "slide_type": "subslide"
      }
     },
     "outputs": []
    },
    {
     "cell_type": "code",
     "collapsed": false,
     "input": [
      "shape(cov)"
     ],
     "language": "python",
     "metadata": {
      "slideshow": {
       "slide_type": "slide"
      }
     },
     "outputs": []
    },
    {
     "cell_type": "code",
     "collapsed": false,
     "input": [
      "U,D,V=np.linalg.svd(cov)"
     ],
     "language": "python",
     "metadata": {
      "slideshow": {
       "slide_type": "slide"
      }
     },
     "outputs": []
    },
    {
     "cell_type": "code",
     "collapsed": false,
     "input": [
      "shape(U),shape(D),shape(V)"
     ],
     "language": "python",
     "metadata": {
      "slideshow": {
       "slide_type": "fragment"
      }
     },
     "outputs": []
    },
    {
     "cell_type": "markdown",
     "metadata": {
      "slideshow": {
       "slide_type": "slide"
      }
     },
     "source": [
      "### Percentage of variance Explained ###"
     ]
    },
    {
     "cell_type": "code",
     "collapsed": false,
     "input": [
      "plot(cumsum(D[:])/sum(D))\n",
      "xlim([0,365])\n",
      "grid()"
     ],
     "language": "python",
     "metadata": {
      "slideshow": {
       "slide_type": "fragment"
      }
     },
     "outputs": []
    },
    {
     "cell_type": "code",
     "collapsed": false,
     "input": [
      "k=6 # number of components to show.\n",
      "YearlyPlots((U[:,:k]),ttl='The most significant eigen-vectors')\n",
      "legend(range(0,k));"
     ],
     "language": "python",
     "metadata": {
      "slideshow": {
       "slide_type": "slide"
      }
     },
     "outputs": [],
     "prompt_number": 19
    },
    {
     "cell_type": "code",
     "collapsed": false,
     "input": [
      "# U1,D1,V1=np.linalg.svd(matrix[:100,:])  # running the svd on the whole matrix seems to crash because of NaN entries"
     ],
     "language": "python",
     "metadata": {
      "slideshow": {
       "slide_type": "skip"
      }
     },
     "outputs": [],
     "prompt_number": "*"
    },
    {
     "cell_type": "code",
     "collapsed": false,
     "input": [
      "k=50\n",
      "Eig=np.matrix(U[:,:k])\n",
      "print [np.linalg.norm(U[:,i]) for i in range(k)]\n",
      "matrix=np.matrix(Dout.ix[:,1:365])-Mean\n",
      "matrix[isnan(matrix)]=0\n",
      "print shape(Eig),shape(matrix)\n",
      "Prod=matrix*Eig;\n",
      "print shape(Prod)"
     ],
     "language": "python",
     "metadata": {
      "slideshow": {
       "slide_type": "slide"
      }
     },
     "outputs": [
      {
       "ename": "NameError",
       "evalue": "name 'U' is not defined",
       "output_type": "pyerr",
       "traceback": [
        "\u001b[1;31m---------------------------------------------------------------------------\u001b[0m\n\u001b[1;31mNameError\u001b[0m                                 Traceback (most recent call last)",
        "\u001b[1;32m<ipython-input-11-59c17aec5e76>\u001b[0m in \u001b[0;36m<module>\u001b[1;34m()\u001b[0m\n\u001b[0;32m      1\u001b[0m \u001b[0mk\u001b[0m\u001b[1;33m=\u001b[0m\u001b[1;36m50\u001b[0m\u001b[1;33m\u001b[0m\u001b[0m\n\u001b[1;32m----> 2\u001b[1;33m \u001b[0mEig\u001b[0m\u001b[1;33m=\u001b[0m\u001b[0mnp\u001b[0m\u001b[1;33m.\u001b[0m\u001b[0mmatrix\u001b[0m\u001b[1;33m(\u001b[0m\u001b[0mU\u001b[0m\u001b[1;33m[\u001b[0m\u001b[1;33m:\u001b[0m\u001b[1;33m,\u001b[0m\u001b[1;33m:\u001b[0m\u001b[0mk\u001b[0m\u001b[1;33m]\u001b[0m\u001b[1;33m)\u001b[0m\u001b[1;33m\u001b[0m\u001b[0m\n\u001b[0m\u001b[0;32m      3\u001b[0m \u001b[1;32mprint\u001b[0m \u001b[1;33m[\u001b[0m\u001b[0mnp\u001b[0m\u001b[1;33m.\u001b[0m\u001b[0mlinalg\u001b[0m\u001b[1;33m.\u001b[0m\u001b[0mnorm\u001b[0m\u001b[1;33m(\u001b[0m\u001b[0mU\u001b[0m\u001b[1;33m[\u001b[0m\u001b[1;33m:\u001b[0m\u001b[1;33m,\u001b[0m\u001b[0mi\u001b[0m\u001b[1;33m]\u001b[0m\u001b[1;33m)\u001b[0m \u001b[1;32mfor\u001b[0m \u001b[0mi\u001b[0m \u001b[1;32min\u001b[0m \u001b[0mrange\u001b[0m\u001b[1;33m(\u001b[0m\u001b[0mk\u001b[0m\u001b[1;33m)\u001b[0m\u001b[1;33m]\u001b[0m\u001b[1;33m\u001b[0m\u001b[0m\n\u001b[0;32m      4\u001b[0m \u001b[0mmatrix\u001b[0m\u001b[1;33m=\u001b[0m\u001b[0mnp\u001b[0m\u001b[1;33m.\u001b[0m\u001b[0mmatrix\u001b[0m\u001b[1;33m(\u001b[0m\u001b[0mDout\u001b[0m\u001b[1;33m.\u001b[0m\u001b[0mix\u001b[0m\u001b[1;33m[\u001b[0m\u001b[1;33m:\u001b[0m\u001b[1;33m,\u001b[0m\u001b[1;36m1\u001b[0m\u001b[1;33m:\u001b[0m\u001b[1;36m365\u001b[0m\u001b[1;33m]\u001b[0m\u001b[1;33m)\u001b[0m\u001b[1;33m-\u001b[0m\u001b[0mMean\u001b[0m\u001b[1;33m\u001b[0m\u001b[0m\n\u001b[0;32m      5\u001b[0m \u001b[0mmatrix\u001b[0m\u001b[1;33m[\u001b[0m\u001b[0misnan\u001b[0m\u001b[1;33m(\u001b[0m\u001b[0mmatrix\u001b[0m\u001b[1;33m)\u001b[0m\u001b[1;33m]\u001b[0m\u001b[1;33m=\u001b[0m\u001b[1;36m0\u001b[0m\u001b[1;33m\u001b[0m\u001b[0m\n",
        "\u001b[1;31mNameError\u001b[0m: name 'U' is not defined"
       ]
      }
     ],
     "prompt_number": 11
    },
    {
     "cell_type": "markdown",
     "metadata": {
      "slideshow": {
       "slide_type": "slide"
      }
     },
     "source": [
      "Insert coefficients for k top eigenvectors into the dataframe **Dout**"
     ]
    },
    {
     "cell_type": "code",
     "collapsed": false,
     "input": [
      "for i in range(k-1,-1,-1):\n",
      "    Ser=pd.Series(np.array(Prod)[:,i],index=Dout.index)\n",
      "    Dout.insert(4,'V'+str(i),Ser)\n",
      "Dout.head()"
     ],
     "language": "python",
     "metadata": {
      "slideshow": {
       "slide_type": "fragment"
      }
     },
     "outputs": [],
     "prompt_number": "*"
    },
    {
     "cell_type": "markdown",
     "metadata": {
      "slideshow": {
       "slide_type": "slide"
      }
     },
     "source": [
      "### Longitude,Latitude information ###\n",
      "Loading the station longitude/latitude and merging it into the Table"
     ]
    },
    {
     "cell_type": "code",
     "collapsed": false,
     "input": [
      "!ls"
     ],
     "language": "python",
     "metadata": {
      "slideshow": {
       "slide_type": "slide"
      }
     },
     "outputs": [],
     "prompt_number": "*"
    },
    {
     "cell_type": "code",
     "collapsed": false,
     "input": [
      "!cat ghcnd-readme.txt   # uncomment to read the readme file."
     ],
     "language": "python",
     "metadata": {
      "slideshow": {
       "slide_type": "slide"
      }
     },
     "outputs": [],
     "prompt_number": "*"
    },
    {
     "cell_type": "raw",
     "metadata": {
      "slideshow": {
       "slide_type": "slide"
      }
     },
     "source": [
      "------------------------------\n",
      "Variable   Columns   Type\n",
      "------------------------------\n",
      "ID            1-11   Character\n",
      "LATITUDE     13-20   Real\n",
      "LONGITUDE    22-30   Real\n",
      "ELEVATION    32-37   Real\n",
      "STATE        39-40   Character\n",
      "NAME         42-71   Character\n",
      "GSNFLAG      73-75   Character\n",
      "HCNFLAG      77-79   Character\n",
      "WMOID        81-85   Character\n",
      "------------------------------"
     ]
    },
    {
     "cell_type": "code",
     "collapsed": false,
     "input": [
      "# Make all lines be of length 90 to solve problem wilth read_fwf\n",
      "out=open('ghcnd-stations_buffered.txt','w')\n",
      "for line in open('ghcnd-stations.txt','r').readlines():\n",
      "    line=line.rstrip()\n",
      "    string=line+' '*(90-len(line))+'\\n'\n",
      "    out.write(string)\n",
      "out.close()"
     ],
     "language": "python",
     "metadata": {
      "slideshow": {
       "slide_type": "slide"
      }
     },
     "outputs": [],
     "prompt_number": "*"
    },
    {
     "cell_type": "raw",
     "metadata": {
      "slideshow": {
       "slide_type": "slide"
      }
     },
     "source": [
      "A grid to define the character locations of the fields\n",
      "\n",
      "AE000041196  25.3330   55.5170   34.0    SHARJAH INTER. AIRP            GSN     41196\n",
      "0123456789012345678901234567890123456789012345678901234567890123456789012345678901234567890\n",
      "0         1         2         3         4         5         6         7         8         9"
     ]
    },
    {
     "cell_type": "code",
     "collapsed": false,
     "input": [
      "colspecs = [(0, 11), (11, 21), (21, 31), (31, 38),(39,41),(41,72),(72,76),(76,80),(80,86)]\n",
      "stations = pd.read_fwf('ghcnd-stations_buffered.txt', colspecs=colspecs, header=None, index_col=0,\n",
      "                       names=['latitude','longitude','elevation','state','name','GSNFLAG','HCNFLAG','WMOID'])"
     ],
     "language": "python",
     "metadata": {
      "slideshow": {
       "slide_type": "fragment"
      }
     },
     "outputs": [],
     "prompt_number": "*"
    },
    {
     "cell_type": "code",
     "collapsed": false,
     "input": [
      "#stations['elevation'][stations['elevation']==-999.9]=0  # decided not to remove -999.9 because this confuses hist"
     ],
     "language": "python",
     "metadata": {
      "slideshow": {
       "slide_type": "skip"
      }
     },
     "outputs": [],
     "prompt_number": "*"
    },
    {
     "cell_type": "code",
     "collapsed": false,
     "input": [
      "stations.head()"
     ],
     "language": "python",
     "metadata": {
      "slideshow": {
       "slide_type": "slide"
      }
     },
     "outputs": [],
     "prompt_number": "*"
    },
    {
     "cell_type": "markdown",
     "metadata": {
      "slideshow": {
       "slide_type": "slide"
      }
     },
     "source": [
      "### perform a **JOIN** ###\n",
      "Join the geographical information into **Dout**, creating a new dataframe called **Djoined**"
     ]
    },
    {
     "cell_type": "code",
     "collapsed": false,
     "input": [
      "Djoined=Dout.join(stations,on='station')"
     ],
     "language": "python",
     "metadata": {
      "slideshow": {
       "slide_type": "fragment"
      }
     },
     "outputs": [],
     "prompt_number": "*"
    },
    {
     "cell_type": "code",
     "collapsed": false,
     "input": [
      "Djoined.columns[-10:]"
     ],
     "language": "python",
     "metadata": {
      "slideshow": {
       "slide_type": "fragment"
      }
     },
     "outputs": [],
     "prompt_number": "*"
    },
    {
     "cell_type": "code",
     "collapsed": false,
     "input": [
      "Djoined['AbsLatitude']=abs(Djoined['latitude'].values)"
     ],
     "language": "python",
     "metadata": {
      "slideshow": {
       "slide_type": "slide"
      }
     },
     "outputs": [],
     "prompt_number": "*"
    },
    {
     "cell_type": "code",
     "collapsed": false,
     "input": [
      "Djoined.ix[:5,['station',u'longitude','latitude',u'AbsLatitude','Mean','Std','V0','V1','V2']]"
     ],
     "language": "python",
     "metadata": {
      "slideshow": {
       "slide_type": "slide"
      }
     },
     "outputs": [],
     "prompt_number": "*"
    },
    {
     "cell_type": "markdown",
     "metadata": {
      "slideshow": {
       "slide_type": "slide"
      }
     },
     "source": [
      "### Looking for significant correlations and dependencies ###"
     ]
    },
    {
     "cell_type": "code",
     "collapsed": false,
     "input": [
      "Djoined[['latitude','elevation','Mean','Std','V0','V1','V2','V3','V4','V5']].cov()"
     ],
     "language": "python",
     "metadata": {
      "slideshow": {
       "slide_type": "slide"
      }
     },
     "outputs": [],
     "prompt_number": "*"
    },
    {
     "cell_type": "markdown",
     "metadata": {
      "slideshow": {
       "slide_type": "fragment"
      }
     },
     "source": [
      "<span style=\"color:red\"> The correlations between different $V_i$ components should be zero, which it isn't.\n",
      "Is this due to numerical roundoff errors? Are the correlations statistically significant for this sample size? </span>"
     ]
    },
    {
     "cell_type": "code",
     "collapsed": false,
     "input": [
      "Djoined[['latitude','elevation','Mean','Std','V0','V1','V2','V3','V4','V5']].corr()"
     ],
     "language": "python",
     "metadata": {
      "slideshow": {
       "slide_type": "slide"
      }
     },
     "outputs": [],
     "prompt_number": "*"
    },
    {
     "cell_type": "code",
     "collapsed": false,
     "input": [
      "# Choosing significance threshold so that none of the correlations between the Vi-s are significant.\n",
      "abs(Djoined[['latitude','elevation','Mean','Std','V0','V1','V2','V3','V4','V5']].corr())>0.2"
     ],
     "language": "python",
     "metadata": {
      "slideshow": {
       "slide_type": "slide"
      }
     },
     "outputs": [],
     "prompt_number": "*"
    },
    {
     "cell_type": "code",
     "collapsed": false,
     "input": [
      "#from pandas.tools.plotting import scatter_matrix\n",
      "#df = Djoined.ix[:,['latitude','elevation','Mean','Std','V0','V1','V2','V3','V4','V5']]\n",
      "#scatter_matrix(df, alpha=0.03, figsize=(20, 20), diagonal='kde');"
     ],
     "language": "python",
     "metadata": {
      "slideshow": {
       "slide_type": "slide"
      }
     },
     "outputs": [],
     "prompt_number": "*"
    },
    {
     "cell_type": "code",
     "collapsed": false,
     "input": [
      "X='latitude'\n",
      "Djoined.ix[:,X].hist(bins=100);"
     ],
     "language": "python",
     "metadata": {
      "slideshow": {
       "slide_type": "slide"
      }
     },
     "outputs": [],
     "prompt_number": "*"
    },
    {
     "cell_type": "markdown",
     "metadata": {
      "slideshow": {
       "slide_type": "slide"
      }
     },
     "source": [
      "### Experimenting with RPlot scatter plots ###\n",
      "The advantage is that you can get both the scatter points and the topographic density estimate, which is useful when you have a large number of data points. However, \n",
      "I don't know how to increase the number of topo-lines to see the lower density areas. <span style=\"color:red\">Can you fix this problem? Can you write code to create a Scatter matrix using rplot? </span>"
     ]
    },
    {
     "cell_type": "code",
     "collapsed": false,
     "input": [
      "# Taken from http://pandasplotting.blogspot.com/\n",
      "import matplotlib.pyplot as plt\n",
      "from pandas.tools import rplot\n",
      "#plt.figure()\n",
      "X='latitude';Y='Mean'\n",
      "dfTmp=Djoined[[X,Y]].dropna()\n",
      "dfTmp=dfTmp.iloc[:,:]\n",
      "p = rplot.RPlot(dfTmp,x=X,y=Y)\n",
      "p.add(rplot.GeomPoint())\n",
      "p.add(rplot.GeomDensity2D())\n",
      "p.render();"
     ],
     "language": "python",
     "metadata": {},
     "outputs": [],
     "prompt_number": "*"
    },
    {
     "cell_type": "code",
     "collapsed": false,
     "input": [
      "# To see the source of a method use ??\n",
      "rplot.GeomDensity2D??"
     ],
     "language": "python",
     "metadata": {
      "slideshow": {
       "slide_type": "slide"
      }
     },
     "outputs": [],
     "prompt_number": "*"
    },
    {
     "cell_type": "code",
     "collapsed": false,
     "input": [
      "X='latitude';Y='Mean'\n",
      "scatter(Djoined.loc[:,X],Djoined.loc[:,Y],alpha=0.05)\n",
      "xlabel(X)\n",
      "ylabel(Y)"
     ],
     "language": "python",
     "metadata": {
      "slideshow": {
       "slide_type": "slide"
      }
     },
     "outputs": [],
     "prompt_number": "*"
    },
    {
     "cell_type": "code",
     "collapsed": false,
     "input": [
      "#checking for an anomaly in the elevations of stations\n",
      "Djoined[['station','elevation']][Djoined['elevation']<-500].head()"
     ],
     "language": "python",
     "metadata": {
      "slideshow": {
       "slide_type": "skip"
      }
     },
     "outputs": [],
     "prompt_number": "*"
    },
    {
     "cell_type": "code",
     "collapsed": false,
     "input": [
      "!grep ASN00010865 ghcnd-stations.txt"
     ],
     "language": "python",
     "metadata": {
      "slideshow": {
       "slide_type": "slide"
      }
     },
     "outputs": [],
     "prompt_number": "*"
    },
    {
     "cell_type": "markdown",
     "metadata": {
      "slideshow": {
       "slide_type": "slide"
      }
     },
     "source": [
      "### Plotting maps ###\n",
      "Working through http://matplotlib.org/basemap/\n",
      "\n",
      "* http://en.wikipedia.org/wiki/Map_projection\n",
      "* http://matplotlib.org/basemap/users/mapsetup.html"
     ]
    },
    {
     "cell_type": "code",
     "collapsed": false,
     "input": [
      "lons=stations.ix[:,'longitude'].values\n",
      "lats=stations.ix[:,'latitude'].values\n",
      "station_names=stations.index.values\n",
      "ll=len(lons)\n",
      "lonmin=-180;lonmax=180;latsmin=-80;latsmax=80;\n",
      "select=(lons>lonmin) * (lons<lonmax)*(lats>latsmin)*(lats<latsmax)\n",
      "print sum(select)\n",
      "station_names=station_names[select]\n",
      "lons=lons[select]\n",
      "lats=lats[select]\n",
      "print len(lons),len(lats),len(station_names)"
     ],
     "language": "python",
     "metadata": {
      "slideshow": {
       "slide_type": "slide"
      }
     },
     "outputs": [],
     "prompt_number": "*"
    },
    {
     "cell_type": "code",
     "collapsed": false,
     "input": [
      "# http://matplotlib.org/basemap/users/merc.html\n",
      "\n",
      "from mpl_toolkits.basemap import Basemap\n",
      "import numpy as np\n",
      "import matplotlib.pyplot as plt\n",
      "# llcrnrlat,llcrnrlon,urcrnrlat,urcrnrlon\n",
      "# are the lat/lon values of the lower left and upper right corners\n",
      "# of the map.\n",
      "# lat_ts is the latitude of true scale.\n",
      "# resolution = 'i' means use intermediate resolution coastlines.\n",
      "plt.figure(figsize=(15,10),dpi=300)\n",
      "m = Basemap(projection='merc',llcrnrlat=latsmin,urcrnrlat=latsmax,\\\n",
      "            llcrnrlon=lonmin,urcrnrlon=lonmax,lat_ts=20,resolution='i')\n",
      "m.drawcoastlines()\n",
      "m.fillcontinents(color='coral',lake_color='aqua')\n",
      "\n",
      "# draw parallels and meridians.\n",
      "parallels = np.arange(-80,81,10.)\n",
      "# labels = [left,right,top,bottom]\n",
      "m.drawparallels(parallels,labels=[False,True,True,False])\n",
      "meridians = np.arange(10.,351.,20.)\n",
      "m.drawmeridians(meridians,labels=[True,False,False,True])\n",
      "\n",
      "#m.drawparallels(np.arange(-90.,91.,30.))\n",
      "#m.drawmeridians(np.arange(-180.,181.,60.))\n",
      "m.drawmapboundary(fill_color='aqua')\n",
      "\n",
      "# draw map with markers for locations\n",
      "x, y = m(lons,lats)\n",
      "m.plot(x,y,'g.')\n",
      "\n",
      "plt.title('weather stations')\n",
      "plt.show()\n"
     ],
     "language": "python",
     "metadata": {
      "slideshow": {
       "slide_type": "slide"
      }
     },
     "outputs": []
    },
    {
     "cell_type": "markdown",
     "metadata": {},
     "source": [
      "To get to these coordinate on Google Maps, type the latitude and longitude in decimal in the search box or use:\n",
      "https://www.google.com/maps/place/72%C2%B018'00.0%22S+170%C2%B013'00.1%22E/@-72.3,170.216694,17z/data=!3m1!4b1!4m2!3m1!1s0x0:0x0\n",
      "\n",
      "<span style=\"color:red\">HW questions</span>\n",
      "\n",
      "1. Waiting for somebody to write a script that will do that automatically from python\n",
      "2. Can you create a map where the denity of points is represented as a density map (topographical map)?\n",
      "3. Can you create a map that would represent, using color, the values of a chosen column (Mean, Std, V0,V1 etc.)? What conclusions can you draw from this map?\n"
     ]
    },
    {
     "cell_type": "markdown",
     "metadata": {
      "slideshow": {
       "slide_type": "slide"
      }
     },
     "source": [
      "### Reconstruction ###"
     ]
    },
    {
     "cell_type": "code",
     "collapsed": false,
     "input": [
      "def plot_reconstructions(selection,rows=2,columns=7):\n",
      "    Recon=Eig*Prod.transpose()+Mean[:,np.newaxis]\n",
      "    plt.figure(figsize=(columns*3,rows*3),dpi=300)\n",
      "    j=0;\n",
      "    for i in selection:\n",
      "        subplot(rows,columns,j); \n",
      "        j += 1; \n",
      "        if j>=rows*columns: break\n",
      "        plot(Recon[:,i])\n",
      "        plot(Djoined.ix[i,1:365]);\n",
      "        title(Djoined.ix[i,'station']+' / '+str(Djoined.ix[i,'year']))\n",
      "        xlim([0,365])"
     ],
     "language": "python",
     "metadata": {
      "slideshow": {
       "slide_type": "fragment"
      }
     },
     "outputs": []
    },
    {
     "cell_type": "markdown",
     "metadata": {
      "slideshow": {
       "slide_type": "slide"
      }
     },
     "source": [
      "Observe in the reconstructions below that the bloue line fills in (extrapolation/interpolation) the places where the measurements are not available. It also reduces the fluctuations in the relative to the original line. Recall the we are using the k top eigenvectors which explain about 88% of the variance."
     ]
    },
    {
     "cell_type": "code",
     "collapsed": false,
     "input": [
      "plot_reconstructions(range(50,100),rows=7,columns=3)"
     ],
     "language": "python",
     "metadata": {
      "slideshow": {
       "slide_type": "slide"
      }
     },
     "outputs": []
    },
    {
     "cell_type": "markdown",
     "metadata": {},
     "source": [
      "<span style=\"color:red\"> Check how the approximations change/improve as you increase the number of coefficients</span>"
     ]
    },
    {
     "cell_type": "code",
     "collapsed": false,
     "input": [
      "hist(Djoined.ix[:,'V0'],bins=100);"
     ],
     "language": "python",
     "metadata": {
      "slideshow": {
       "slide_type": "slide"
      }
     },
     "outputs": []
    },
    {
     "cell_type": "code",
     "collapsed": false,
     "input": [
      "selection= [i for i in range(shape(Djoined)[0]) if Djoined.ix[i,'latitude']<-10]\n",
      "plot_reconstructions(selection,rows=7,columns=3)\n",
      "shape(selection)"
     ],
     "language": "python",
     "metadata": {
      "slideshow": {
       "slide_type": "slide"
      }
     },
     "outputs": []
    },
    {
     "cell_type": "markdown",
     "metadata": {},
     "source": [
      "<span style=\"color:red\">Can you reduce the reconstruction error (using a fixed number of eigenvectors) by splitting the stations according to region (for example country, state, latitudal range). Note that having a regions with very few readings defeats the purpose."
     ]
    },
    {
     "cell_type": "code",
     "collapsed": false,
     "input": [],
     "language": "python",
     "metadata": {},
     "outputs": []
    }
   ],
   "metadata": {}
  }
 ]
}